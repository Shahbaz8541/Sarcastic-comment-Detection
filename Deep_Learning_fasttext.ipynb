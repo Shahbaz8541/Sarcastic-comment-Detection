{
  "nbformat": 4,
  "nbformat_minor": 5,
  "metadata": {
    "accelerator": "GPU",
    "colab": {
      "name": "Deep_Learning.ipynb",
      "provenance": [],
      "machine_shape": "hm"
    },
    "kernelspec": {
      "display_name": "Python 3.8 (tensorflow)",
      "language": "python",
      "name": "tensorflow"
    },
    "language_info": {
      "codemirror_mode": {
        "name": "ipython",
        "version": 3
      },
      "file_extension": ".py",
      "mimetype": "text/x-python",
      "name": "python",
      "nbconvert_exporter": "python",
      "pygments_lexer": "ipython3",
      "version": "3.8.10"
    }
  },
  "cells": [
    {
      "cell_type": "markdown",
      "metadata": {
        "id": "f021b67e"
      },
      "source": [
        "## Deep Learning"
      ],
      "id": "f021b67e"
    },
    {
      "cell_type": "code",
      "metadata": {
        "id": "4cebb9e8"
      },
      "source": [
        "import warnings\n",
        "\n",
        "warnings.filterwarnings(\"ignore\")\n",
        "# Libraries to help with reading and manipulating data\n",
        "import pandas as pd\n",
        "import numpy as np\n",
        "\n",
        "# libaries to help with data visualization\n",
        "import matplotlib.pyplot as plt\n",
        "import seaborn as sns\n",
        "\n",
        "# Libraries to tune model, get different metric scores, and split data.\n",
        "from sklearn import metrics\n",
        "from sklearn.model_selection import train_test_split, StratifiedKFold, cross_val_score\n",
        "from sklearn.preprocessing import StandardScaler\n",
        "from sklearn.model_selection import GridSearchCV, RandomizedSearchCV\n",
        "\n",
        "#libraries to help with model building\n",
        "from sklearn.ensemble import (\n",
        "    AdaBoostRegressor,\n",
        "    GradientBoostingRegressor,\n",
        "    RandomForestRegressor,\n",
        "    BaggingRegressor)\n",
        "from xgboost import XGBRegressor\n",
        "from sklearn.tree import DecisionTreeRegressor\n",
        "from collections import Counter\n",
        "from wordcloud import WordCloud, STOPWORDS\n",
        "from sklearn.linear_model import LogisticRegression\n",
        "from sklearn.ensemble import RandomForestClassifier\n",
        "from sklearn.tree import DecisionTreeClassifier, export_graphviz\n",
        "from sklearn import metrics\n",
        "warnings.filterwarnings(\"ignore\")\n",
        "# Libraries to help with reading and manipulating data\n",
        "import pandas as pd\n",
        "import numpy as np\n",
        "\n",
        "# libaries to help with data visualization\n",
        "import matplotlib.pyplot as plt\n",
        "import seaborn as sns\n",
        "\n",
        "# Libraries to tune model, get different metric scores, and split data\n",
        "from sklearn import metrics\n",
        "from sklearn.model_selection import train_test_split, StratifiedKFold, cross_val_score\n",
        "from sklearn.preprocessing import StandardScaler\n",
        "from sklearn.model_selection import GridSearchCV, RandomizedSearchCV\n",
        "\n",
        "from sklearn.impute import KNNImputer\n",
        "from sklearn.pipeline import Pipeline, make_pipeline\n",
        "\n",
        "#libraries to help with model building\n",
        "from sklearn.linear_model import LogisticRegression\n",
        "from sklearn.tree import DecisionTreeClassifier\n",
        "from sklearn.ensemble import (\n",
        "    AdaBoostClassifier,\n",
        "    GradientBoostingClassifier,\n",
        "    RandomForestClassifier,\n",
        "    BaggingClassifier)\n",
        "from xgboost import XGBClassifier\n",
        "\n",
        "# to suppress scientifiv notations\n",
        "pd.set_option('display.float_format', lambda x: '%.3f' % x)"
      ],
      "id": "4cebb9e8",
      "execution_count": 1,
      "outputs": []
    },
    {
      "cell_type": "code",
      "metadata": {
        "colab": {
          "base_uri": "https://localhost:8080/"
        },
        "id": "oMppRTPvX9EZ",
        "outputId": "2c254471-b8d7-4662-8843-d136092b8a30"
      },
      "source": [
        "from google.colab import drive\n",
        "drive.mount('/content/gdrive')"
      ],
      "id": "oMppRTPvX9EZ",
      "execution_count": 2,
      "outputs": [
        {
          "output_type": "stream",
          "name": "stdout",
          "text": [
            "Mounted at /content/gdrive\n"
          ]
        }
      ]
    },
    {
      "cell_type": "code",
      "metadata": {
        "colab": {
          "base_uri": "https://localhost:8080/",
          "height": 202
        },
        "id": "d4517a18",
        "outputId": "5ad8b5a6-b76b-4f58-b561-c9bd2289427c"
      },
      "source": [
        "import pandas as pd\n",
        "data=pd.read_csv('/content/gdrive/MyDrive/train-balanced-sarcasm.csv')\n",
        "data.head()"
      ],
      "id": "d4517a18",
      "execution_count": 3,
      "outputs": [
        {
          "output_type": "execute_result",
          "data": {
            "text/html": [
              "<div>\n",
              "<style scoped>\n",
              "    .dataframe tbody tr th:only-of-type {\n",
              "        vertical-align: middle;\n",
              "    }\n",
              "\n",
              "    .dataframe tbody tr th {\n",
              "        vertical-align: top;\n",
              "    }\n",
              "\n",
              "    .dataframe thead th {\n",
              "        text-align: right;\n",
              "    }\n",
              "</style>\n",
              "<table border=\"1\" class=\"dataframe\">\n",
              "  <thead>\n",
              "    <tr style=\"text-align: right;\">\n",
              "      <th></th>\n",
              "      <th>label</th>\n",
              "      <th>comment</th>\n",
              "      <th>author</th>\n",
              "      <th>subreddit</th>\n",
              "      <th>score</th>\n",
              "      <th>ups</th>\n",
              "      <th>downs</th>\n",
              "      <th>date</th>\n",
              "      <th>created_utc</th>\n",
              "      <th>parent_comment</th>\n",
              "    </tr>\n",
              "  </thead>\n",
              "  <tbody>\n",
              "    <tr>\n",
              "      <th>0</th>\n",
              "      <td>0</td>\n",
              "      <td>NC and NH.</td>\n",
              "      <td>Trumpbart</td>\n",
              "      <td>politics</td>\n",
              "      <td>2</td>\n",
              "      <td>-1</td>\n",
              "      <td>-1</td>\n",
              "      <td>2016-10</td>\n",
              "      <td>2016-10-16 23:55:23</td>\n",
              "      <td>Yeah, I get that argument. At this point, I'd ...</td>\n",
              "    </tr>\n",
              "    <tr>\n",
              "      <th>1</th>\n",
              "      <td>0</td>\n",
              "      <td>You do know west teams play against west teams...</td>\n",
              "      <td>Shbshb906</td>\n",
              "      <td>nba</td>\n",
              "      <td>-4</td>\n",
              "      <td>-1</td>\n",
              "      <td>-1</td>\n",
              "      <td>2016-11</td>\n",
              "      <td>2016-11-01 00:24:10</td>\n",
              "      <td>The blazers and Mavericks (The wests 5 and 6 s...</td>\n",
              "    </tr>\n",
              "    <tr>\n",
              "      <th>2</th>\n",
              "      <td>0</td>\n",
              "      <td>They were underdogs earlier today, but since G...</td>\n",
              "      <td>Creepeth</td>\n",
              "      <td>nfl</td>\n",
              "      <td>3</td>\n",
              "      <td>3</td>\n",
              "      <td>0</td>\n",
              "      <td>2016-09</td>\n",
              "      <td>2016-09-22 21:45:37</td>\n",
              "      <td>They're favored to win.</td>\n",
              "    </tr>\n",
              "    <tr>\n",
              "      <th>3</th>\n",
              "      <td>0</td>\n",
              "      <td>This meme isn't funny none of the \"new york ni...</td>\n",
              "      <td>icebrotha</td>\n",
              "      <td>BlackPeopleTwitter</td>\n",
              "      <td>-8</td>\n",
              "      <td>-1</td>\n",
              "      <td>-1</td>\n",
              "      <td>2016-10</td>\n",
              "      <td>2016-10-18 21:03:47</td>\n",
              "      <td>deadass don't kill my buzz</td>\n",
              "    </tr>\n",
              "    <tr>\n",
              "      <th>4</th>\n",
              "      <td>0</td>\n",
              "      <td>I could use one of those tools.</td>\n",
              "      <td>cush2push</td>\n",
              "      <td>MaddenUltimateTeam</td>\n",
              "      <td>6</td>\n",
              "      <td>-1</td>\n",
              "      <td>-1</td>\n",
              "      <td>2016-12</td>\n",
              "      <td>2016-12-30 17:00:13</td>\n",
              "      <td>Yep can confirm I saw the tool they use for th...</td>\n",
              "    </tr>\n",
              "  </tbody>\n",
              "</table>\n",
              "</div>"
            ],
            "text/plain": [
              "   label  ...                                     parent_comment\n",
              "0      0  ...  Yeah, I get that argument. At this point, I'd ...\n",
              "1      0  ...  The blazers and Mavericks (The wests 5 and 6 s...\n",
              "2      0  ...                            They're favored to win.\n",
              "3      0  ...                         deadass don't kill my buzz\n",
              "4      0  ...  Yep can confirm I saw the tool they use for th...\n",
              "\n",
              "[5 rows x 10 columns]"
            ]
          },
          "metadata": {},
          "execution_count": 3
        }
      ]
    },
    {
      "cell_type": "code",
      "metadata": {
        "colab": {
          "base_uri": "https://localhost:8080/"
        },
        "id": "92cf57b9",
        "outputId": "e1a72bbe-cc66-4afe-8ff8-efd056aa51ec"
      },
      "source": [
        "data.isnull().sum()"
      ],
      "id": "92cf57b9",
      "execution_count": 4,
      "outputs": [
        {
          "output_type": "execute_result",
          "data": {
            "text/plain": [
              "label              0\n",
              "comment           53\n",
              "author             0\n",
              "subreddit          0\n",
              "score              0\n",
              "ups                0\n",
              "downs              0\n",
              "date               0\n",
              "created_utc        0\n",
              "parent_comment     0\n",
              "dtype: int64"
            ]
          },
          "metadata": {},
          "execution_count": 4
        }
      ]
    },
    {
      "cell_type": "code",
      "metadata": {
        "id": "93f31ddc"
      },
      "source": [
        "data['comment']=data['comment'].fillna('No Comment')"
      ],
      "id": "93f31ddc",
      "execution_count": 5,
      "outputs": []
    },
    {
      "cell_type": "code",
      "metadata": {
        "id": "79af9648"
      },
      "source": [
        "# Remove Emoji\n",
        "def deEmojify(text):\n",
        "    regrex_pattern = re.compile(pattern = \"[\"\n",
        "        u\"\\U0001F600-\\U0001F64F\"  # emoticons\n",
        "        u\"\\U0001F300-\\U0001F5FF\"  # symbols & pictographs\n",
        "        u\"\\U0001F680-\\U0001F6FF\"  # transport & map symbols\n",
        "        u\"\\U0001F1E0-\\U0001F1FF\"  # flags (iOS)\n",
        "                           \"]+\", flags = re.UNICODE)\n",
        "    return regrex_pattern.sub(r'',text)"
      ],
      "id": "79af9648",
      "execution_count": 6,
      "outputs": []
    },
    {
      "cell_type": "code",
      "metadata": {
        "id": "6ff6919c"
      },
      "source": [
        "def decontractions(phrase):\n",
        "    \"\"\"decontracted takes text and convert contractions into natural form.\n",
        "     ref: https://stackoverflow.com/questions/19790188/expanding-english-language-contractions-in-python/47091490#47091490\"\"\"\n",
        "    # specific\n",
        "    phrase = re.sub(r\"won\\'t\", \"will not\", phrase)\n",
        "    phrase = re.sub(r\"can\\'t\", \"can not\", phrase)\n",
        "    phrase = re.sub(r\"won\\’t\", \"will not\", phrase)\n",
        "    phrase = re.sub(r\"can\\’t\", \"can not\", phrase)\n",
        "\n",
        "    # general\n",
        "    phrase = re.sub(r\"n\\'t\", \" not\", phrase)\n",
        "    phrase = re.sub(r\"\\'re\", \" are\", phrase)\n",
        "    phrase = re.sub(r\"\\'s\", \" is\", phrase)\n",
        "    phrase = re.sub(r\"\\'d\", \" would\", phrase)\n",
        "    phrase = re.sub(r\"\\'ll\", \" will\", phrase)\n",
        "    phrase = re.sub(r\"\\'t\", \" not\", phrase)\n",
        "    phrase = re.sub(r\"\\'ve\", \" have\", phrase)\n",
        "    phrase = re.sub(r\"\\'m\", \" am\", phrase)\n",
        "\n",
        "    phrase = re.sub(r\"n\\’t\", \" not\", phrase)\n",
        "    phrase = re.sub(r\"\\’re\", \" are\", phrase)\n",
        "    phrase = re.sub(r\"\\’s\", \" is\", phrase)\n",
        "    phrase = re.sub(r\"\\’d\", \" would\", phrase)\n",
        "    phrase = re.sub(r\"\\’ll\", \" will\", phrase)\n",
        "    phrase = re.sub(r\"\\’t\", \" not\", phrase)\n",
        "    phrase = re.sub(r\"\\’ve\", \" have\", phrase)\n",
        "    phrase = re.sub(r\"\\’m\", \" am\", phrase)\n",
        "\n",
        "    return phrase"
      ],
      "id": "6ff6919c",
      "execution_count": 7,
      "outputs": []
    },
    {
      "cell_type": "code",
      "metadata": {
        "colab": {
          "base_uri": "https://localhost:8080/"
        },
        "id": "Zk8aWj1KYb8L",
        "outputId": "9a291dc8-a987-46ed-d7ab-810230a63825"
      },
      "source": [
        "import nltk\n",
        "nltk.download('stopwords')"
      ],
      "id": "Zk8aWj1KYb8L",
      "execution_count": 8,
      "outputs": [
        {
          "output_type": "stream",
          "name": "stdout",
          "text": [
            "[nltk_data] Downloading package stopwords to /root/nltk_data...\n",
            "[nltk_data]   Unzipping corpora/stopwords.zip.\n"
          ]
        },
        {
          "output_type": "execute_result",
          "data": {
            "text/plain": [
              "True"
            ]
          },
          "metadata": {},
          "execution_count": 8
        }
      ]
    },
    {
      "cell_type": "code",
      "metadata": {
        "id": "d1832119"
      },
      "source": [
        "from nltk.corpus import stopwords\n",
        "from tqdm import tqdm\n",
        "import re\n",
        "stopwords = stopwords.words('english')\n",
        "def preprocess(text_col,stopword):\n",
        "    preprocessed = []\n",
        "    for sentence in tqdm(text_col.values):\n",
        "        # Replace \"carriage return\" with \"space\".\n",
        "        sentence=str(sentence)\n",
        "        sent = sentence.replace('\\\\r', ' ')\n",
        "        # Replace \"quotes\" with \"space\".\n",
        "        sent = sent.replace('\\\\\"', ' ')\n",
        "        # Replace \"line feed\" with \"space\".\n",
        "        sent = sent.replace('\\\\n', ' ')\n",
        "        # Replace characters between words with \"space\".\n",
        "        sent = re.sub('[^A-Za-z0-9]+', ' ', sent)\n",
        "        #remove stop words\n",
        "        #decontraction\n",
        "        sent=decontractions(sent)\n",
        "        #Remove emoji\n",
        "        sent=deEmojify(sent)\n",
        "        if stopword:\n",
        "            sent = ' '.join(e for e in sent.split() if e not in stopwords)\n",
        "        else:\n",
        "           sent = ' '.join(e for e in sent.split())\n",
        "        # to lowercase\n",
        "        preprocessed.append(sent.lower().strip())\n",
        "    return preprocessed"
      ],
      "id": "d1832119",
      "execution_count": 9,
      "outputs": []
    },
    {
      "cell_type": "code",
      "metadata": {
        "colab": {
          "base_uri": "https://localhost:8080/"
        },
        "id": "7c7a5327",
        "outputId": "3ef88dc6-b334-44af-c0de-34078f42d883"
      },
      "source": [
        "data['comment']=preprocess(data['comment'],stopword=False)"
      ],
      "id": "7c7a5327",
      "execution_count": 10,
      "outputs": [
        {
          "output_type": "stream",
          "name": "stderr",
          "text": [
            "100%|██████████| 1010826/1010826 [00:27<00:00, 36619.45it/s]\n"
          ]
        }
      ]
    },
    {
      "cell_type": "code",
      "metadata": {
        "colab": {
          "base_uri": "https://localhost:8080/"
        },
        "id": "317c0268",
        "outputId": "c8186c48-6fc9-4e75-8088-e295c05716d9"
      },
      "source": [
        "data['parent_comment']=preprocess(data['parent_comment'],stopword=False)"
      ],
      "id": "317c0268",
      "execution_count": 11,
      "outputs": [
        {
          "output_type": "stream",
          "name": "stderr",
          "text": [
            "100%|██████████| 1010826/1010826 [00:34<00:00, 29121.18it/s]\n"
          ]
        }
      ]
    },
    {
      "cell_type": "code",
      "metadata": {
        "colab": {
          "base_uri": "https://localhost:8080/"
        },
        "id": "2eba4c80",
        "outputId": "5a4ec49f-709c-4796-c96b-47b182c966ee"
      },
      "source": [
        "data.isnull().sum()"
      ],
      "id": "2eba4c80",
      "execution_count": 12,
      "outputs": [
        {
          "output_type": "execute_result",
          "data": {
            "text/plain": [
              "label             0\n",
              "comment           0\n",
              "author            0\n",
              "subreddit         0\n",
              "score             0\n",
              "ups               0\n",
              "downs             0\n",
              "date              0\n",
              "created_utc       0\n",
              "parent_comment    0\n",
              "dtype: int64"
            ]
          },
          "metadata": {},
          "execution_count": 12
        }
      ]
    },
    {
      "cell_type": "code",
      "metadata": {
        "colab": {
          "base_uri": "https://localhost:8080/"
        },
        "id": "bfgb3ize9dyl",
        "outputId": "1c5bc16f-e15c-4839-c9f8-86a3befc7ddc"
      },
      "source": [
        "import nltk\n",
        "nltk.download('vader_lexicon')"
      ],
      "id": "bfgb3ize9dyl",
      "execution_count": 13,
      "outputs": [
        {
          "output_type": "stream",
          "name": "stdout",
          "text": [
            "[nltk_data] Downloading package vader_lexicon to /root/nltk_data...\n"
          ]
        },
        {
          "output_type": "execute_result",
          "data": {
            "text/plain": [
              "True"
            ]
          },
          "metadata": {},
          "execution_count": 13
        }
      ]
    },
    {
      "cell_type": "markdown",
      "metadata": {
        "id": "uUr78WCH97Vi"
      },
      "source": [
        "Polarity Score"
      ],
      "id": "uUr78WCH97Vi"
    },
    {
      "cell_type": "code",
      "metadata": {
        "id": "xdXUDWG08mt2"
      },
      "source": [
        "import nltk\n",
        "from tqdm import tqdm\n",
        "from nltk.sentiment.vader import SentimentIntensityAnalyzer\n",
        "def generate_sentiment_scores(data):\n",
        "    sid = SentimentIntensityAnalyzer()\n",
        "    neg=[]\n",
        "    pos=[]\n",
        "    neu=[]\n",
        "    comp=[]\n",
        "    for sentence in tqdm(data['parent_comment'].values): \n",
        "        sentence_sentiment_score = sid.polarity_scores(sentence)\n",
        "        comp.append(sentence_sentiment_score['compound'])\n",
        "        neg.append(sentence_sentiment_score['neg'])\n",
        "        pos.append(sentence_sentiment_score['pos'])\n",
        "        neu.append(sentence_sentiment_score['neu'])\n",
        "    return comp,neg,pos,neu"
      ],
      "id": "xdXUDWG08mt2",
      "execution_count": 14,
      "outputs": []
    },
    {
      "cell_type": "code",
      "metadata": {
        "colab": {
          "base_uri": "https://localhost:8080/"
        },
        "id": "0YNG6kBJ9Lt3",
        "outputId": "db1b1053-81fb-48e5-cfb3-a464baa9420f"
      },
      "source": [
        "data['compound'],data['negative'],data['positive'],data['neutral']=generate_sentiment_scores(data)"
      ],
      "id": "0YNG6kBJ9Lt3",
      "execution_count": 15,
      "outputs": [
        {
          "output_type": "stream",
          "name": "stderr",
          "text": [
            "100%|██████████| 1010826/1010826 [04:44<00:00, 3553.36it/s]\n"
          ]
        }
      ]
    },
    {
      "cell_type": "code",
      "metadata": {
        "id": "xytZ-DUM9ng5"
      },
      "source": [
        "data['com_len']=data['comment'].apply(lambda x:len(x.split()))"
      ],
      "id": "xytZ-DUM9ng5",
      "execution_count": 16,
      "outputs": []
    },
    {
      "cell_type": "code",
      "metadata": {
        "id": "pQH7iiAd90XH"
      },
      "source": [
        "data['parent_com_len']=data['parent_comment'].apply(lambda x:len(x.split()))"
      ],
      "id": "pQH7iiAd90XH",
      "execution_count": 17,
      "outputs": []
    },
    {
      "cell_type": "code",
      "metadata": {
        "id": "sCXSYYnnwyuM"
      },
      "source": [
        "import tensorflow as tf\n",
        "from tensorflow.keras.preprocessing import sequence\n",
        "from tensorflow.keras.models import Sequential\n",
        "from tensorflow.keras.layers import Dense, Activation,Flatten,Reshape\n",
        "from tensorflow.keras.layers import Embedding\n",
        "from tensorflow.keras.layers import LSTM\n",
        "from tensorflow.keras.preprocessing.text import Tokenizer\n",
        "import csv\n",
        "from tensorflow.keras.models import Model\n",
        "#import keras\n",
        "from tensorflow.keras import backend as k\n",
        "from tensorflow.keras.layers import Input,Concatenate,Dropout,Dense,BatchNormalization,Conv1D\n",
        "from tensorflow.keras.layers import Input\n",
        "from sklearn.preprocessing import LabelEncoder,OneHotEncoder\n",
        "#from tensorflow.keras.merge import concatenate\n",
        "#import tensorflow as tf\n",
        "from tensorflow.keras.preprocessing.sequence import pad_sequences\n",
        "import scipy\n",
        "from tensorflow.keras.initializers import he_normal,glorot_normal\n",
        "from tensorflow.keras.regularizers import l1,l2\n",
        "from tensorflow.python.keras.callbacks import TensorBoard\n",
        "from tensorflow.keras.callbacks import Callback, EarlyStopping, ModelCheckpoint,LearningRateScheduler,ReduceLROnPlateau\n",
        "from time import time\n",
        "from tensorflow.keras.utils import plot_model"
      ],
      "id": "sCXSYYnnwyuM",
      "execution_count": 18,
      "outputs": []
    },
    {
      "cell_type": "code",
      "metadata": {
        "colab": {
          "base_uri": "https://localhost:8080/"
        },
        "id": "t-4dI4NVjSCv",
        "outputId": "927ad0fa-d29f-4f70-f3d0-f8c492cd5e32"
      },
      "source": [
        "labels=tf.keras.utils.to_categorical(data['label'].values,num_classes=2)\n",
        "labels.shape"
      ],
      "id": "t-4dI4NVjSCv",
      "execution_count": 19,
      "outputs": [
        {
          "output_type": "execute_result",
          "data": {
            "text/plain": [
              "(1010826, 2)"
            ]
          },
          "metadata": {},
          "execution_count": 19
        }
      ]
    },
    {
      "cell_type": "code",
      "metadata": {
        "id": "logPOLKWaQhG"
      },
      "source": [
        "data['comment']=data['comment']+\" \"+data['author']+\" \"+data['subreddit']+\" \"+data['parent_comment']"
      ],
      "id": "logPOLKWaQhG",
      "execution_count": 20,
      "outputs": []
    },
    {
      "cell_type": "code",
      "metadata": {
        "colab": {
          "base_uri": "https://localhost:8080/"
        },
        "id": "iwofA3G7rXhw",
        "outputId": "5273418b-ec9b-4d38-ed10-493ef0ad70db"
      },
      "source": [
        "word_tokenizer = nltk.WordPunctTokenizer()\n",
        "word_tokens = [word_tokenizer.tokenize(sent) for sent in tqdm(data['comment'].values)]"
      ],
      "id": "iwofA3G7rXhw",
      "execution_count": 21,
      "outputs": [
        {
          "output_type": "stream",
          "name": "stderr",
          "text": [
            "100%|██████████| 1010826/1010826 [00:13<00:00, 73900.31it/s]\n"
          ]
        }
      ]
    },
    {
      "cell_type": "code",
      "metadata": {
        "colab": {
          "base_uri": "https://localhost:8080/"
        },
        "id": "hOMNkPMvC6bk",
        "outputId": "30079981-2344-4abf-b403-977ce6b81bc9"
      },
      "source": [
        "%%time\n",
        "from gensim.models.fasttext import FastText\n",
        "embedding_size = 100\n",
        "window_size = 5\n",
        "min_word = 5\n",
        "down_sampling = 1e-2\n",
        " \n",
        "\n",
        "fast_Text_model = FastText(word_tokens,\n",
        "                      size=embedding_size,\n",
        "                      window=window_size,\n",
        "                      min_count=min_word,\n",
        "                      sample=down_sampling,\n",
        "                      workers = 4,\n",
        "                      sg=1,\n",
        "                      iter=10)"
      ],
      "id": "hOMNkPMvC6bk",
      "execution_count": 22,
      "outputs": [
        {
          "output_type": "stream",
          "name": "stdout",
          "text": [
            "CPU times: user 1h 47min 13s, sys: 8.2 s, total: 1h 47min 21s\n",
            "Wall time: 29min 21s\n"
          ]
        }
      ]
    },
    {
      "cell_type": "code",
      "metadata": {
        "colab": {
          "base_uri": "https://localhost:8080/"
        },
        "id": "2q0odPSqFOFn",
        "outputId": "e1fd4bf3-89ad-4b0c-a58c-72bae3c51d4e"
      },
      "source": [
        "fast_Text_model.wv.most_similar(positive=\"dinner\")"
      ],
      "id": "2q0odPSqFOFn",
      "execution_count": 23,
      "outputs": [
        {
          "output_type": "execute_result",
          "data": {
            "text/plain": [
              "[('dinners', 0.8457483053207397),\n",
              " ('breakfast', 0.8234816789627075),\n",
              " ('lunch', 0.7972872853279114),\n",
              " ('meal', 0.7750804424285889),\n",
              " ('breakfasts', 0.7631750106811523),\n",
              " ('tonightsdinner', 0.7618111371994019),\n",
              " ('thanksgiving', 0.7339950203895569),\n",
              " ('meals', 0.714142918586731),\n",
              " ('sandwiches', 0.7107149362564087),\n",
              " ('amishbreakfast', 0.7032543420791626)]"
            ]
          },
          "metadata": {},
          "execution_count": 23
        }
      ]
    },
    {
      "cell_type": "code",
      "metadata": {
        "id": "fPJmBVDdFWrj"
      },
      "source": [
        "def word_vector(tokens, size):\n",
        "    vec = np.zeros(size).reshape((1, size))\n",
        "    count = 0\n",
        "    for word in tokens:\n",
        "        try:\n",
        "            vec += fast_Text_model[word].reshape((1, size))\n",
        "            count += 1.\n",
        "        except KeyError:  # handling the case where the token is not in vocabulary\n",
        "            continue\n",
        "    if count != 0:\n",
        "        vec /= count\n",
        "    return vec"
      ],
      "id": "fPJmBVDdFWrj",
      "execution_count": 24,
      "outputs": []
    },
    {
      "cell_type": "code",
      "metadata": {
        "colab": {
          "base_uri": "https://localhost:8080/"
        },
        "id": "wqe7SvsqFWgO",
        "outputId": "b06c5dde-9676-4528-ce32-c212d8c14941"
      },
      "source": [
        "wordvec_arrays = np.zeros((len(data['comment']), 100)) \n",
        "for i in tqdm(range(len(data['comment']))):\n",
        "    wordvec_arrays[i,:] = word_vector(data['comment'].iloc[i], 100)"
      ],
      "id": "wqe7SvsqFWgO",
      "execution_count": 26,
      "outputs": [
        {
          "output_type": "stream",
          "name": "stderr",
          "text": [
            "100%|██████████| 1010826/1010826 [28:46<00:00, 585.43it/s]\n"
          ]
        }
      ]
    },
    {
      "cell_type": "code",
      "metadata": {
        "id": "KlKKSjLiId7O"
      },
      "source": [
        "wordvec_df=pd.DataFrame(wordvec_arrays)"
      ],
      "id": "KlKKSjLiId7O",
      "execution_count": 27,
      "outputs": []
    },
    {
      "cell_type": "code",
      "metadata": {
        "colab": {
          "base_uri": "https://localhost:8080/"
        },
        "id": "567f61bd",
        "outputId": "153d762f-8b16-4625-ceb4-4dbc99f371d1"
      },
      "source": [
        "%%time\n",
        "from sklearn.preprocessing import Normalizer\n",
        "trans = Normalizer()\n",
        "X_train_score=trans.fit_transform(data['score'].values.reshape(-1,1))\n",
        "X_test_score=trans.transform(data['score'].values.reshape(-1,1))"
      ],
      "id": "567f61bd",
      "execution_count": 28,
      "outputs": [
        {
          "output_type": "stream",
          "name": "stdout",
          "text": [
            "CPU times: user 26.7 ms, sys: 0 ns, total: 26.7 ms\n",
            "Wall time: 26.2 ms\n"
          ]
        }
      ]
    },
    {
      "cell_type": "code",
      "metadata": {
        "colab": {
          "base_uri": "https://localhost:8080/"
        },
        "id": "3bf9e765",
        "outputId": "fd7eada0-a7eb-472f-898d-043b46a2f50c"
      },
      "source": [
        "%%time\n",
        "trans = Normalizer()\n",
        "X_train_ups=trans.fit_transform(data['ups'].values.reshape(-1,1))\n",
        "#X_test_ups=trans.transform(X_test['ups'].values.reshape(-1,1))"
      ],
      "id": "3bf9e765",
      "execution_count": 29,
      "outputs": [
        {
          "output_type": "stream",
          "name": "stdout",
          "text": [
            "CPU times: user 12.8 ms, sys: 0 ns, total: 12.8 ms\n",
            "Wall time: 12.2 ms\n"
          ]
        }
      ]
    },
    {
      "cell_type": "code",
      "metadata": {
        "colab": {
          "base_uri": "https://localhost:8080/"
        },
        "id": "246001b5",
        "outputId": "d432af62-99e5-4280-ecf5-1e5b43cc13e6"
      },
      "source": [
        "%%time\n",
        "trans = Normalizer()\n",
        "X_train_downs=trans.fit_transform(data['downs'].values.reshape(-1,1))\n",
        "#X_test_downs=trans.transform(X_test['downs'].values.reshape(-1,1))"
      ],
      "id": "246001b5",
      "execution_count": 30,
      "outputs": [
        {
          "output_type": "stream",
          "name": "stdout",
          "text": [
            "CPU times: user 12.6 ms, sys: 0 ns, total: 12.6 ms\n",
            "Wall time: 11.8 ms\n"
          ]
        }
      ]
    },
    {
      "cell_type": "code",
      "metadata": {
        "colab": {
          "base_uri": "https://localhost:8080/"
        },
        "id": "8fSL8b95-U6W",
        "outputId": "00045cd8-d666-48a0-dadc-a96c096db285"
      },
      "source": [
        "%%time\n",
        "trans = Normalizer()\n",
        "X_train_comp=trans.fit_transform(data['compound'].values.reshape(-1,1))\n",
        "#X_test_comp=trans.transform(X_test['compound'].values.reshape(-1,1))"
      ],
      "id": "8fSL8b95-U6W",
      "execution_count": 31,
      "outputs": [
        {
          "output_type": "stream",
          "name": "stdout",
          "text": [
            "CPU times: user 18.7 ms, sys: 3 µs, total: 18.7 ms\n",
            "Wall time: 18 ms\n"
          ]
        }
      ]
    },
    {
      "cell_type": "code",
      "metadata": {
        "colab": {
          "base_uri": "https://localhost:8080/"
        },
        "id": "2PrLRZ9-_VrM",
        "outputId": "e37e0d36-cd96-4b0b-f893-df0c6f73990b"
      },
      "source": [
        "%%time\n",
        "trans = Normalizer()\n",
        "X_train_neg=trans.fit_transform(data['negative'].values.reshape(-1,1))\n",
        "#X_test_neg=trans.transform(X_test['negative'].values.reshape(-1,1))"
      ],
      "id": "2PrLRZ9-_VrM",
      "execution_count": 32,
      "outputs": [
        {
          "output_type": "stream",
          "name": "stdout",
          "text": [
            "CPU times: user 19.2 ms, sys: 1e+03 ns, total: 19.2 ms\n",
            "Wall time: 18.4 ms\n"
          ]
        }
      ]
    },
    {
      "cell_type": "code",
      "metadata": {
        "colab": {
          "base_uri": "https://localhost:8080/"
        },
        "id": "Vno_GyMh_qf3",
        "outputId": "1e481aeb-1213-4381-d3f3-6cc21c54fe67"
      },
      "source": [
        "%%time\n",
        "trans = Normalizer()\n",
        "X_train_pos=trans.fit_transform(data['positive'].values.reshape(-1,1))\n",
        "#X_test_pos=trans.transform(X_test['positive'].values.reshape(-1,1))"
      ],
      "id": "Vno_GyMh_qf3",
      "execution_count": 33,
      "outputs": [
        {
          "output_type": "stream",
          "name": "stdout",
          "text": [
            "CPU times: user 19.1 ms, sys: 1e+03 ns, total: 19.1 ms\n",
            "Wall time: 18.6 ms\n"
          ]
        }
      ]
    },
    {
      "cell_type": "code",
      "metadata": {
        "colab": {
          "base_uri": "https://localhost:8080/"
        },
        "id": "N-8eYj14_x-5",
        "outputId": "c5d7d3c5-8045-494d-c8bc-066d60fc7ee1"
      },
      "source": [
        "%%time\n",
        "trans = Normalizer()\n",
        "X_train_neu=trans.fit_transform(data['neutral'].values.reshape(-1,1))\n",
        "#X_test_neu=trans.transform(X_test['neutral'].values.reshape(-1,1))"
      ],
      "id": "N-8eYj14_x-5",
      "execution_count": 34,
      "outputs": [
        {
          "output_type": "stream",
          "name": "stdout",
          "text": [
            "CPU times: user 13.2 ms, sys: 0 ns, total: 13.2 ms\n",
            "Wall time: 12.7 ms\n"
          ]
        }
      ]
    },
    {
      "cell_type": "code",
      "metadata": {
        "colab": {
          "base_uri": "https://localhost:8080/"
        },
        "id": "JIohW6CN_6v_",
        "outputId": "d47e0ece-3a77-4cbf-d6d6-823fd1355979"
      },
      "source": [
        "%%time\n",
        "trans = Normalizer()\n",
        "X_train_com_len=trans.fit_transform(data['com_len'].values.reshape(-1,1))\n",
        "#X_test_com_len=trans.transform(X_test['com_len'].values.reshape(-1,1))"
      ],
      "id": "JIohW6CN_6v_",
      "execution_count": 35,
      "outputs": [
        {
          "output_type": "stream",
          "name": "stdout",
          "text": [
            "CPU times: user 12.1 ms, sys: 0 ns, total: 12.1 ms\n",
            "Wall time: 11.3 ms\n"
          ]
        }
      ]
    },
    {
      "cell_type": "code",
      "metadata": {
        "colab": {
          "base_uri": "https://localhost:8080/"
        },
        "id": "GgcrfJxWAKqk",
        "outputId": "845b60e9-5cb8-4f5a-efc3-8fe207c11dab"
      },
      "source": [
        "%%time\n",
        "trans = Normalizer()\n",
        "X_train_parent_com_len=trans.fit_transform(data['parent_com_len'].values.reshape(-1,1))\n",
        "#X_test_parent_com_len=trans.transform(X_test['parent_com_len'].values.reshape(-1,1))"
      ],
      "id": "GgcrfJxWAKqk",
      "execution_count": 36,
      "outputs": [
        {
          "output_type": "stream",
          "name": "stdout",
          "text": [
            "CPU times: user 12.2 ms, sys: 1e+03 µs, total: 13.2 ms\n",
            "Wall time: 12.4 ms\n"
          ]
        }
      ]
    },
    {
      "cell_type": "code",
      "metadata": {
        "id": "pNNlqFNBJT7p"
      },
      "source": [
        "from scipy.sparse import hstack\n",
        "from tensorflow.keras.layers import concatenate\n",
        "train_s=np.concatenate([wordvec_df,X_train_score,X_train_ups,X_train_downs,X_train_comp,X_train_neg,X_train_pos,X_train_neu,X_train_com_len,X_train_parent_com_len],axis=-1)"
      ],
      "id": "pNNlqFNBJT7p",
      "execution_count": 37,
      "outputs": []
    },
    {
      "cell_type": "code",
      "metadata": {
        "colab": {
          "base_uri": "https://localhost:8080/"
        },
        "id": "Ocwuou6Xd13z",
        "outputId": "2940c8c0-fc97-4360-be42-24b2b7d2cd71"
      },
      "source": [
        "train_s.shape"
      ],
      "id": "Ocwuou6Xd13z",
      "execution_count": 38,
      "outputs": [
        {
          "output_type": "execute_result",
          "data": {
            "text/plain": [
              "(1010826, 109)"
            ]
          },
          "metadata": {},
          "execution_count": 38
        }
      ]
    },
    {
      "cell_type": "code",
      "metadata": {
        "id": "kGwSFJtztoTD"
      },
      "source": [
        "x_train,x_test,y_train,y_test=train_test_split(train_s,labels,test_size=0.25)"
      ],
      "id": "kGwSFJtztoTD",
      "execution_count": 39,
      "outputs": []
    },
    {
      "cell_type": "code",
      "metadata": {
        "id": "4a560f86",
        "colab": {
          "base_uri": "https://localhost:8080/"
        },
        "outputId": "7b29d77e-2f58-4461-98a1-31318587e41c"
      },
      "source": [
        "print(x_train.shape,y_train.shape)\n",
        "print(x_test.shape,y_test.shape)"
      ],
      "id": "4a560f86",
      "execution_count": 40,
      "outputs": [
        {
          "output_type": "stream",
          "name": "stdout",
          "text": [
            "(758119, 109) (758119, 2)\n",
            "(252707, 109) (252707, 2)\n"
          ]
        }
      ]
    },
    {
      "cell_type": "code",
      "metadata": {
        "id": "TaF7_bKX03p3"
      },
      "source": [
        "del data\n",
        "del labels\n",
        "del wordvec_df"
      ],
      "id": "TaF7_bKX03p3",
      "execution_count": 42,
      "outputs": []
    },
    {
      "cell_type": "markdown",
      "metadata": {
        "id": "Acz1UwQ5VNKF"
      },
      "source": [
        "# Model:-1"
      ],
      "id": "Acz1UwQ5VNKF"
    },
    {
      "cell_type": "code",
      "metadata": {
        "id": "XD49Pcb5aTpP"
      },
      "source": [
        "from tensorflow.keras import regularizers\n",
        "def simple_mlp_model2(input_shape):   \n",
        "    model_in = Input(shape=(input_shape,), dtype='float32')\n",
        "    out = Dense(192,activation='relu',kernel_regularizer=regularizers.l2(0.001))(model_in)\n",
        "    out = BatchNormalization()(out)\n",
        "    out = Dropout(0.60)(out)\n",
        "    out = Dense(128,activation='relu',kernel_regularizer=regularizers.l2(0.001))(out)\n",
        "    out = BatchNormalization()(out)\n",
        "    out = Dropout(0.60)(out)\n",
        "    out = Dense(64, activation='relu',kernel_regularizer=regularizers.l2(0.001))(out)\n",
        "    out = BatchNormalization()(out)\n",
        "    out = Dropout(0.60)(out)\n",
        "    out = Dense(2,activation='softmax')(out)\n",
        "    model = Model(model_in, out)\n",
        "    return model"
      ],
      "id": "XD49Pcb5aTpP",
      "execution_count": 43,
      "outputs": []
    },
    {
      "cell_type": "code",
      "metadata": {
        "id": "dYUZ0ecNe7NX"
      },
      "source": [
        "model=simple_mlp_model2(train_s.shape[1])"
      ],
      "id": "dYUZ0ecNe7NX",
      "execution_count": 44,
      "outputs": []
    },
    {
      "cell_type": "code",
      "metadata": {
        "colab": {
          "base_uri": "https://localhost:8080/"
        },
        "id": "zdmLYOLvqJwu",
        "outputId": "aac7aa50-9b38-48fe-a585-0bb83df4eebf"
      },
      "source": [
        "model.summary()"
      ],
      "id": "zdmLYOLvqJwu",
      "execution_count": 45,
      "outputs": [
        {
          "output_type": "stream",
          "name": "stdout",
          "text": [
            "Model: \"model\"\n",
            "_________________________________________________________________\n",
            "Layer (type)                 Output Shape              Param #   \n",
            "=================================================================\n",
            "input_1 (InputLayer)         [(None, 109)]             0         \n",
            "_________________________________________________________________\n",
            "dense (Dense)                (None, 192)               21120     \n",
            "_________________________________________________________________\n",
            "batch_normalization (BatchNo (None, 192)               768       \n",
            "_________________________________________________________________\n",
            "dropout (Dropout)            (None, 192)               0         \n",
            "_________________________________________________________________\n",
            "dense_1 (Dense)              (None, 128)               24704     \n",
            "_________________________________________________________________\n",
            "batch_normalization_1 (Batch (None, 128)               512       \n",
            "_________________________________________________________________\n",
            "dropout_1 (Dropout)          (None, 128)               0         \n",
            "_________________________________________________________________\n",
            "dense_2 (Dense)              (None, 64)                8256      \n",
            "_________________________________________________________________\n",
            "batch_normalization_2 (Batch (None, 64)                256       \n",
            "_________________________________________________________________\n",
            "dropout_2 (Dropout)          (None, 64)                0         \n",
            "_________________________________________________________________\n",
            "dense_3 (Dense)              (None, 2)                 130       \n",
            "=================================================================\n",
            "Total params: 55,746\n",
            "Trainable params: 54,978\n",
            "Non-trainable params: 768\n",
            "_________________________________________________________________\n"
          ]
        }
      ]
    },
    {
      "cell_type": "code",
      "metadata": {
        "id": "wOprt7s27Ahi",
        "colab": {
          "base_uri": "https://localhost:8080/",
          "height": 1000
        },
        "outputId": "d7641633-6250-4f2b-bbd7-1518a5c0066a"
      },
      "source": [
        "tf.keras.utils.plot_model(\n",
        "    model, to_file='model.png', show_shapes=True, show_layer_names=True,\n",
        "    rankdir='TB')"
      ],
      "id": "wOprt7s27Ahi",
      "execution_count": 46,
      "outputs": [
        {
          "output_type": "execute_result",
          "data": {
            "image/png": "[encoded data removed]",
            "text/plain": [
              "<IPython.core.display.Image object>"
            ]
          },
          "metadata": {},
          "execution_count": 46
        }
      ]
    },
    {
      "cell_type": "code",
      "metadata": {
        "id": "kQ7RCL1Ypx1K"
      },
      "source": [
        "import tensorflow as tf\n",
        "adam = tf.keras.optimizers.Adam(lr=0.0001)\n",
        "model.compile(optimizer=adam, loss='categorical_crossentropy',metrics=['accuracy'])"
      ],
      "id": "kQ7RCL1Ypx1K",
      "execution_count": 47,
      "outputs": []
    },
    {
      "cell_type": "code",
      "metadata": {
        "id": "XMwHELMGyf7v"
      },
      "source": [
        "from tensorflow.keras.callbacks import *\n",
        "import os\n",
        "filepath=\"weights_1.best.hdf1\"\n",
        "checkpoint = ModelCheckpoint(filepath, monitor='val_accuracy', verbose=1, mode='max')\n",
        "earlystop = EarlyStopping(monitor = 'val_accuracy',  mode=\"max\",min_delta = 0, patience = 8,verbose = 1)\n",
        "reduce_lr = ReduceLROnPlateau(monitor = 'val_accuracy', factor = 0.25, patience = 2, verbose = 1)\n",
        "%reload_ext tensorboard\n",
        "import datetime\n",
        "logdir = os.path.join(\"logs_1\", datetime.datetime.now().strftime(\"%Y%m%d-%H%M%S\"))\n",
        "#tensorboard = tf.keras.callbacks.TensorBoard(logdir, histogram_freq=1)\n",
        "tensorboard = TensorBoard(log_dir=logdir, histogram_freq=0, write_graph=True, write_grads=False, write_images=False)\n",
        "callbacks = [checkpoint,reduce_lr,tensorboard,earlystop]"
      ],
      "id": "XMwHELMGyf7v",
      "execution_count": 48,
      "outputs": []
    },
    {
      "cell_type": "code",
      "metadata": {
        "colab": {
          "base_uri": "https://localhost:8080/"
        },
        "id": "HgQhACK3hXfs",
        "outputId": "2454931f-16f2-4331-ffec-a9c23e379580"
      },
      "source": [
        "hitory=model.fit(x=x_train,y=y_train,epochs=50,batch_size=512,validation_data=(x_test, y_test),callbacks=callbacks)"
      ],
      "id": "HgQhACK3hXfs",
      "execution_count": 50,
      "outputs": [
        {
          "output_type": "stream",
          "name": "stdout",
          "text": [
            "Epoch 1/50\n",
            "1481/1481 [==============================] - 10s 5ms/step - loss: 1.3504 - accuracy: 0.5084 - val_loss: 0.9883 - val_accuracy: 0.5364\n",
            "\n",
            "Epoch 00001: saving model to weights_1.best.hdf1\n",
            "INFO:tensorflow:Assets written to: weights_1.best.hdf1/assets\n",
            "Epoch 2/50\n",
            "1481/1481 [==============================] - 7s 5ms/step - loss: 1.0028 - accuracy: 0.5155 - val_loss: 0.9040 - val_accuracy: 0.5524\n",
            "\n",
            "Epoch 00002: saving model to weights_1.best.hdf1\n",
            "INFO:tensorflow:Assets written to: weights_1.best.hdf1/assets\n",
            "Epoch 3/50\n",
            "1481/1481 [==============================] - 7s 5ms/step - loss: 0.8765 - accuracy: 0.5306 - val_loss: 0.8303 - val_accuracy: 0.5536\n",
            "\n",
            "Epoch 00003: saving model to weights_1.best.hdf1\n",
            "INFO:tensorflow:Assets written to: weights_1.best.hdf1/assets\n",
            "Epoch 4/50\n",
            "1481/1481 [==============================] - 7s 5ms/step - loss: 0.7980 - accuracy: 0.5484 - val_loss: 0.7642 - val_accuracy: 0.5536\n",
            "\n",
            "Epoch 00004: saving model to weights_1.best.hdf1\n",
            "INFO:tensorflow:Assets written to: weights_1.best.hdf1/assets\n",
            "Epoch 5/50\n",
            "1481/1481 [==============================] - 7s 5ms/step - loss: 0.7403 - accuracy: 0.5516 - val_loss: 0.7179 - val_accuracy: 0.5539\n",
            "\n",
            "Epoch 00005: saving model to weights_1.best.hdf1\n",
            "INFO:tensorflow:Assets written to: weights_1.best.hdf1/assets\n",
            "Epoch 6/50\n",
            "1481/1481 [==============================] - 7s 5ms/step - loss: 0.7067 - accuracy: 0.5530 - val_loss: 0.6962 - val_accuracy: 0.5554\n",
            "\n",
            "Epoch 00006: saving model to weights_1.best.hdf1\n",
            "INFO:tensorflow:Assets written to: weights_1.best.hdf1/assets\n",
            "Epoch 7/50\n",
            "1481/1481 [==============================] - 7s 5ms/step - loss: 0.6923 - accuracy: 0.5561 - val_loss: 0.6870 - val_accuracy: 0.5630\n",
            "\n",
            "Epoch 00007: saving model to weights_1.best.hdf1\n",
            "INFO:tensorflow:Assets written to: weights_1.best.hdf1/assets\n",
            "Epoch 8/50\n",
            "1481/1481 [==============================] - 7s 5ms/step - loss: 0.6874 - accuracy: 0.5604 - val_loss: 0.6844 - val_accuracy: 0.5663\n",
            "\n",
            "Epoch 00008: saving model to weights_1.best.hdf1\n",
            "INFO:tensorflow:Assets written to: weights_1.best.hdf1/assets\n",
            "Epoch 9/50\n",
            "1481/1481 [==============================] - 7s 5ms/step - loss: 0.6849 - accuracy: 0.5622 - val_loss: 0.6821 - val_accuracy: 0.5656\n",
            "\n",
            "Epoch 00009: saving model to weights_1.best.hdf1\n",
            "INFO:tensorflow:Assets written to: weights_1.best.hdf1/assets\n",
            "Epoch 10/50\n",
            "1481/1481 [==============================] - 7s 5ms/step - loss: 0.6835 - accuracy: 0.5639 - val_loss: 0.6821 - val_accuracy: 0.5645\n",
            "\n",
            "Epoch 00010: saving model to weights_1.best.hdf1\n",
            "INFO:tensorflow:Assets written to: weights_1.best.hdf1/assets\n",
            "\n",
            "Epoch 00010: ReduceLROnPlateau reducing learning rate to 2.499999936844688e-05.\n",
            "Epoch 11/50\n",
            "1481/1481 [==============================] - 7s 5ms/step - loss: 0.6825 - accuracy: 0.5655 - val_loss: 0.6799 - val_accuracy: 0.5704\n",
            "\n",
            "Epoch 00011: saving model to weights_1.best.hdf1\n",
            "INFO:tensorflow:Assets written to: weights_1.best.hdf1/assets\n",
            "Epoch 12/50\n",
            "1481/1481 [==============================] - 7s 5ms/step - loss: 0.6819 - accuracy: 0.5663 - val_loss: 0.6796 - val_accuracy: 0.5713\n",
            "\n",
            "Epoch 00012: saving model to weights_1.best.hdf1\n",
            "INFO:tensorflow:Assets written to: weights_1.best.hdf1/assets\n",
            "Epoch 13/50\n",
            "1481/1481 [==============================] - 7s 5ms/step - loss: 0.6815 - accuracy: 0.5672 - val_loss: 0.6791 - val_accuracy: 0.5717\n",
            "\n",
            "Epoch 00013: saving model to weights_1.best.hdf1\n",
            "INFO:tensorflow:Assets written to: weights_1.best.hdf1/assets\n",
            "Epoch 14/50\n",
            "1481/1481 [==============================] - 7s 5ms/step - loss: 0.6811 - accuracy: 0.5680 - val_loss: 0.6788 - val_accuracy: 0.5723\n",
            "\n",
            "Epoch 00014: saving model to weights_1.best.hdf1\n",
            "INFO:tensorflow:Assets written to: weights_1.best.hdf1/assets\n",
            "Epoch 15/50\n",
            "1481/1481 [==============================] - 7s 5ms/step - loss: 0.6808 - accuracy: 0.5682 - val_loss: 0.6786 - val_accuracy: 0.5724\n",
            "\n",
            "Epoch 00015: saving model to weights_1.best.hdf1\n",
            "INFO:tensorflow:Assets written to: weights_1.best.hdf1/assets\n",
            "Epoch 16/50\n",
            "1481/1481 [==============================] - 7s 5ms/step - loss: 0.6807 - accuracy: 0.5682 - val_loss: 0.6785 - val_accuracy: 0.5727\n",
            "\n",
            "Epoch 00016: saving model to weights_1.best.hdf1\n",
            "INFO:tensorflow:Assets written to: weights_1.best.hdf1/assets\n",
            "Epoch 17/50\n",
            "1481/1481 [==============================] - 7s 5ms/step - loss: 0.6804 - accuracy: 0.5691 - val_loss: 0.6781 - val_accuracy: 0.5732\n",
            "\n",
            "Epoch 00017: saving model to weights_1.best.hdf1\n",
            "INFO:tensorflow:Assets written to: weights_1.best.hdf1/assets\n",
            "Epoch 18/50\n",
            "1481/1481 [==============================] - 7s 5ms/step - loss: 0.6802 - accuracy: 0.5694 - val_loss: 0.6779 - val_accuracy: 0.5737\n",
            "\n",
            "Epoch 00018: saving model to weights_1.best.hdf1\n",
            "INFO:tensorflow:Assets written to: weights_1.best.hdf1/assets\n",
            "Epoch 19/50\n",
            "1481/1481 [==============================] - 7s 5ms/step - loss: 0.6799 - accuracy: 0.5700 - val_loss: 0.6777 - val_accuracy: 0.5748\n",
            "\n",
            "Epoch 00019: saving model to weights_1.best.hdf1\n",
            "INFO:tensorflow:Assets written to: weights_1.best.hdf1/assets\n",
            "Epoch 20/50\n",
            "1481/1481 [==============================] - 7s 5ms/step - loss: 0.6797 - accuracy: 0.5701 - val_loss: 0.6776 - val_accuracy: 0.5730\n",
            "\n",
            "Epoch 00020: saving model to weights_1.best.hdf1\n",
            "INFO:tensorflow:Assets written to: weights_1.best.hdf1/assets\n",
            "Epoch 21/50\n",
            "1481/1481 [==============================] - 7s 5ms/step - loss: 0.6794 - accuracy: 0.5711 - val_loss: 0.6777 - val_accuracy: 0.5726\n",
            "\n",
            "Epoch 00021: saving model to weights_1.best.hdf1\n",
            "INFO:tensorflow:Assets written to: weights_1.best.hdf1/assets\n",
            "\n",
            "Epoch 00021: ReduceLROnPlateau reducing learning rate to 6.24999984211172e-06.\n",
            "Epoch 22/50\n",
            "1481/1481 [==============================] - 7s 5ms/step - loss: 0.6792 - accuracy: 0.5711 - val_loss: 0.6768 - val_accuracy: 0.5754\n",
            "\n",
            "Epoch 00022: saving model to weights_1.best.hdf1\n",
            "INFO:tensorflow:Assets written to: weights_1.best.hdf1/assets\n",
            "Epoch 23/50\n",
            "1481/1481 [==============================] - 7s 5ms/step - loss: 0.6791 - accuracy: 0.5718 - val_loss: 0.6767 - val_accuracy: 0.5754\n",
            "\n",
            "Epoch 00023: saving model to weights_1.best.hdf1\n",
            "INFO:tensorflow:Assets written to: weights_1.best.hdf1/assets\n",
            "Epoch 24/50\n",
            "1481/1481 [==============================] - 7s 5ms/step - loss: 0.6789 - accuracy: 0.5723 - val_loss: 0.6767 - val_accuracy: 0.5750\n",
            "\n",
            "Epoch 00024: saving model to weights_1.best.hdf1\n",
            "INFO:tensorflow:Assets written to: weights_1.best.hdf1/assets\n",
            "\n",
            "Epoch 00024: ReduceLROnPlateau reducing learning rate to 1.56249996052793e-06.\n",
            "Epoch 25/50\n",
            "1481/1481 [==============================] - 7s 5ms/step - loss: 0.6788 - accuracy: 0.5725 - val_loss: 0.6766 - val_accuracy: 0.5756\n",
            "\n",
            "Epoch 00025: saving model to weights_1.best.hdf1\n",
            "INFO:tensorflow:Assets written to: weights_1.best.hdf1/assets\n",
            "Epoch 26/50\n",
            "1481/1481 [==============================] - 7s 5ms/step - loss: 0.6788 - accuracy: 0.5724 - val_loss: 0.6766 - val_accuracy: 0.5757\n",
            "\n",
            "Epoch 00026: saving model to weights_1.best.hdf1\n",
            "INFO:tensorflow:Assets written to: weights_1.best.hdf1/assets\n",
            "Epoch 27/50\n",
            "1481/1481 [==============================] - 7s 5ms/step - loss: 0.6788 - accuracy: 0.5723 - val_loss: 0.6766 - val_accuracy: 0.5757\n",
            "\n",
            "Epoch 00027: saving model to weights_1.best.hdf1\n",
            "INFO:tensorflow:Assets written to: weights_1.best.hdf1/assets\n",
            "Epoch 28/50\n",
            "1481/1481 [==============================] - 7s 5ms/step - loss: 0.6788 - accuracy: 0.5726 - val_loss: 0.6765 - val_accuracy: 0.5758\n",
            "\n",
            "Epoch 00028: saving model to weights_1.best.hdf1\n",
            "INFO:tensorflow:Assets written to: weights_1.best.hdf1/assets\n",
            "\n",
            "Epoch 00028: ReduceLROnPlateau reducing learning rate to 3.906249901319825e-07.\n",
            "Epoch 29/50\n",
            "1481/1481 [==============================] - 7s 5ms/step - loss: 0.6787 - accuracy: 0.5727 - val_loss: 0.6765 - val_accuracy: 0.5757\n",
            "\n",
            "Epoch 00029: saving model to weights_1.best.hdf1\n",
            "INFO:tensorflow:Assets written to: weights_1.best.hdf1/assets\n",
            "Epoch 30/50\n",
            "1481/1481 [==============================] - 7s 5ms/step - loss: 0.6788 - accuracy: 0.5723 - val_loss: 0.6765 - val_accuracy: 0.5758\n",
            "\n",
            "Epoch 00030: saving model to weights_1.best.hdf1\n",
            "INFO:tensorflow:Assets written to: weights_1.best.hdf1/assets\n",
            "\n",
            "Epoch 00030: ReduceLROnPlateau reducing learning rate to 9.765624753299562e-08.\n",
            "Epoch 31/50\n",
            "1481/1481 [==============================] - 7s 5ms/step - loss: 0.6789 - accuracy: 0.5725 - val_loss: 0.6765 - val_accuracy: 0.5758\n",
            "\n",
            "Epoch 00031: saving model to weights_1.best.hdf1\n",
            "INFO:tensorflow:Assets written to: weights_1.best.hdf1/assets\n",
            "Epoch 32/50\n",
            "1481/1481 [==============================] - 7s 5ms/step - loss: 0.6787 - accuracy: 0.5724 - val_loss: 0.6765 - val_accuracy: 0.5758\n",
            "\n",
            "Epoch 00032: saving model to weights_1.best.hdf1\n",
            "INFO:tensorflow:Assets written to: weights_1.best.hdf1/assets\n",
            "\n",
            "Epoch 00032: ReduceLROnPlateau reducing learning rate to 2.4414061883248905e-08.\n",
            "Epoch 33/50\n",
            "1481/1481 [==============================] - 7s 5ms/step - loss: 0.6788 - accuracy: 0.5724 - val_loss: 0.6765 - val_accuracy: 0.5758\n",
            "\n",
            "Epoch 00033: saving model to weights_1.best.hdf1\n",
            "INFO:tensorflow:Assets written to: weights_1.best.hdf1/assets\n",
            "Epoch 34/50\n",
            "1481/1481 [==============================] - 7s 5ms/step - loss: 0.6788 - accuracy: 0.5724 - val_loss: 0.6765 - val_accuracy: 0.5758\n",
            "\n",
            "Epoch 00034: saving model to weights_1.best.hdf1\n",
            "INFO:tensorflow:Assets written to: weights_1.best.hdf1/assets\n",
            "\n",
            "Epoch 00034: ReduceLROnPlateau reducing learning rate to 6.103515470812226e-09.\n",
            "Epoch 35/50\n",
            "1481/1481 [==============================] - 7s 5ms/step - loss: 0.6787 - accuracy: 0.5728 - val_loss: 0.6765 - val_accuracy: 0.5759\n",
            "\n",
            "Epoch 00035: saving model to weights_1.best.hdf1\n",
            "INFO:tensorflow:Assets written to: weights_1.best.hdf1/assets\n",
            "Epoch 36/50\n",
            "1481/1481 [==============================] - 7s 5ms/step - loss: 0.6787 - accuracy: 0.5724 - val_loss: 0.6765 - val_accuracy: 0.5757\n",
            "\n",
            "Epoch 00036: saving model to weights_1.best.hdf1\n",
            "INFO:tensorflow:Assets written to: weights_1.best.hdf1/assets\n",
            "Epoch 37/50\n",
            "1481/1481 [==============================] - 7s 5ms/step - loss: 0.6786 - accuracy: 0.5725 - val_loss: 0.6765 - val_accuracy: 0.5757\n",
            "\n",
            "Epoch 00037: saving model to weights_1.best.hdf1\n",
            "INFO:tensorflow:Assets written to: weights_1.best.hdf1/assets\n",
            "\n",
            "Epoch 00037: ReduceLROnPlateau reducing learning rate to 1.5258788677030566e-09.\n",
            "Epoch 38/50\n",
            "1481/1481 [==============================] - 7s 5ms/step - loss: 0.6787 - accuracy: 0.5724 - val_loss: 0.6765 - val_accuracy: 0.5759\n",
            "\n",
            "Epoch 00038: saving model to weights_1.best.hdf1\n",
            "INFO:tensorflow:Assets written to: weights_1.best.hdf1/assets\n",
            "Epoch 39/50\n",
            "1481/1481 [==============================] - 7s 5ms/step - loss: 0.6789 - accuracy: 0.5723 - val_loss: 0.6765 - val_accuracy: 0.5758\n",
            "\n",
            "Epoch 00039: saving model to weights_1.best.hdf1\n",
            "INFO:tensorflow:Assets written to: weights_1.best.hdf1/assets\n",
            "\n",
            "Epoch 00039: ReduceLROnPlateau reducing learning rate to 3.8146971692576415e-10.\n",
            "Epoch 40/50\n",
            "1481/1481 [==============================] - 7s 5ms/step - loss: 0.6788 - accuracy: 0.5723 - val_loss: 0.6765 - val_accuracy: 0.5757\n",
            "\n",
            "Epoch 00040: saving model to weights_1.best.hdf1\n",
            "INFO:tensorflow:Assets written to: weights_1.best.hdf1/assets\n",
            "Epoch 41/50\n",
            "1481/1481 [==============================] - 7s 5ms/step - loss: 0.6787 - accuracy: 0.5726 - val_loss: 0.6765 - val_accuracy: 0.5757\n",
            "\n",
            "Epoch 00041: saving model to weights_1.best.hdf1\n",
            "INFO:tensorflow:Assets written to: weights_1.best.hdf1/assets\n",
            "\n",
            "Epoch 00041: ReduceLROnPlateau reducing learning rate to 9.536742923144104e-11.\n",
            "Epoch 42/50\n",
            "1481/1481 [==============================] - 7s 5ms/step - loss: 0.6788 - accuracy: 0.5725 - val_loss: 0.6765 - val_accuracy: 0.5758\n",
            "\n",
            "Epoch 00042: saving model to weights_1.best.hdf1\n",
            "INFO:tensorflow:Assets written to: weights_1.best.hdf1/assets\n",
            "Epoch 43/50\n",
            "1481/1481 [==============================] - 7s 5ms/step - loss: 0.6788 - accuracy: 0.5722 - val_loss: 0.6765 - val_accuracy: 0.5758\n",
            "\n",
            "Epoch 00043: saving model to weights_1.best.hdf1\n",
            "INFO:tensorflow:Assets written to: weights_1.best.hdf1/assets\n",
            "\n",
            "Epoch 00043: ReduceLROnPlateau reducing learning rate to 2.384185730786026e-11.\n",
            "Epoch 44/50\n",
            "1481/1481 [==============================] - 7s 5ms/step - loss: 0.6786 - accuracy: 0.5726 - val_loss: 0.6765 - val_accuracy: 0.5757\n",
            "\n",
            "Epoch 00044: saving model to weights_1.best.hdf1\n",
            "INFO:tensorflow:Assets written to: weights_1.best.hdf1/assets\n",
            "Epoch 45/50\n",
            "1481/1481 [==============================] - 7s 5ms/step - loss: 0.6787 - accuracy: 0.5727 - val_loss: 0.6765 - val_accuracy: 0.5757\n",
            "\n",
            "Epoch 00045: saving model to weights_1.best.hdf1\n",
            "INFO:tensorflow:Assets written to: weights_1.best.hdf1/assets\n",
            "\n",
            "Epoch 00045: ReduceLROnPlateau reducing learning rate to 5.960464326965065e-12.\n",
            "Epoch 46/50\n",
            "1481/1481 [==============================] - 7s 5ms/step - loss: 0.6789 - accuracy: 0.5724 - val_loss: 0.6765 - val_accuracy: 0.5758\n",
            "\n",
            "Epoch 00046: saving model to weights_1.best.hdf1\n",
            "INFO:tensorflow:Assets written to: weights_1.best.hdf1/assets\n",
            "Epoch 00046: early stopping\n"
          ]
        }
      ]
    },
    {
      "cell_type": "code",
      "metadata": {
        "id": "ze231YD3V-D9",
        "colab": {
          "base_uri": "https://localhost:8080/",
          "height": 286
        },
        "outputId": "ea4331ec-c42e-450b-ac38-ca77e4eb94a1"
      },
      "source": [
        "import matplotlib.pyplot as plt\n",
        "plt.figure(figsize=(30, 5))\n",
        "plt.subplot(121)\n",
        "plt.plot(hitory.history['loss'])\n",
        "plt.plot(hitory.history['val_loss'])\n",
        "plt.title('Model Loss')\n",
        "plt.ylabel('loss')\n",
        "plt.xlabel('Epoch')\n",
        "plt.legend(['Train', 'Test'], loc='upper left')\n",
        "\n",
        "# Plot training & validation f1_score\n",
        "plt.subplot(122)\n",
        "plt.plot(hitory.history['accuracy'])\n",
        "plt.plot(hitory.history['val_accuracy'])\n",
        "plt.title('Model Accuracy')\n",
        "plt.ylabel('accuracy')\n",
        "plt.xlabel('Epoch')\n",
        "plt.legend(['Train', 'Test'], loc='upper left')\n",
        "plt.show()"
      ],
      "id": "ze231YD3V-D9",
      "execution_count": 52,
      "outputs": [
        {
          "output_type": "display_data",
          "data": {
            "image/png": "[encoded data removed]",
            "text/plain": [
              "<Figure size 2160x360 with 2 Axes>"
            ]
          },
          "metadata": {
            "needs_background": "light"
          }
        }
      ]
    },
    {
      "cell_type": "markdown",
      "metadata": {
        "id": "-6XHHsnngi37"
      },
      "source": [
        "# Model:-2"
      ],
      "id": "-6XHHsnngi37"
    },
    {
      "cell_type": "code",
      "metadata": {
        "id": "r_PkXUp_Gcqk"
      },
      "source": [
        "tf.keras.backend.clear_session()"
      ],
      "id": "r_PkXUp_Gcqk",
      "execution_count": 53,
      "outputs": []
    },
    {
      "cell_type": "code",
      "metadata": {
        "id": "ILOt-Qb5Q-0W"
      },
      "source": [
        "from tensorflow.keras import regularizers\n",
        "def simple_mlp_model(input_shape):   \n",
        "    model_in = Input(shape=(input_shape,), dtype='float32')\n",
        "    out = Dense(512,activation='relu',kernel_regularizer=regularizers.l2(0.001))(model_in)\n",
        "    out = BatchNormalization()(out)\n",
        "    out = Dropout(0.40)(out)\n",
        "    out = Dense(256,activation='relu',kernel_regularizer=regularizers.l2(0.001))(out)\n",
        "    out = BatchNormalization()(out)\n",
        "    out = Dropout(0.30)(out)\n",
        "    out = Dense(128, activation='relu',kernel_regularizer=regularizers.l2(0.001))(out)\n",
        "    out = BatchNormalization()(out)\n",
        "    out = Dropout(0.60)(out)\n",
        "    out = Dense(64, activation='relu',kernel_regularizer=regularizers.l2(0.001))(out)\n",
        "    out = BatchNormalization()(out)\n",
        "    out = Dropout(0.30)(out)\n",
        "    out = Dense(16, activation='relu',kernel_regularizer=regularizers.l2(0.001))(out)\n",
        "    out = BatchNormalization()(out)\n",
        "    out = Dropout(0.15)(out)\n",
        "    out = Dense(2,activation='softmax')(out)\n",
        "    model = Model(model_in, out)\n",
        "    return model"
      ],
      "id": "ILOt-Qb5Q-0W",
      "execution_count": 54,
      "outputs": []
    },
    {
      "cell_type": "code",
      "metadata": {
        "id": "WUMKovg-TMpm"
      },
      "source": [
        "model1=simple_mlp_model(train_s.shape[1])"
      ],
      "id": "WUMKovg-TMpm",
      "execution_count": 55,
      "outputs": []
    },
    {
      "cell_type": "code",
      "metadata": {
        "id": "X6k50cp2Wp54",
        "colab": {
          "base_uri": "https://localhost:8080/"
        },
        "outputId": "8c48e5db-ec75-462f-db87-6e9df9e6ee5a"
      },
      "source": [
        "model1.summary()"
      ],
      "id": "X6k50cp2Wp54",
      "execution_count": 56,
      "outputs": [
        {
          "output_type": "stream",
          "name": "stdout",
          "text": [
            "Model: \"model\"\n",
            "_________________________________________________________________\n",
            "Layer (type)                 Output Shape              Param #   \n",
            "=================================================================\n",
            "input_1 (InputLayer)         [(None, 109)]             0         \n",
            "_________________________________________________________________\n",
            "dense (Dense)                (None, 512)               56320     \n",
            "_________________________________________________________________\n",
            "batch_normalization (BatchNo (None, 512)               2048      \n",
            "_________________________________________________________________\n",
            "dropout (Dropout)            (None, 512)               0         \n",
            "_________________________________________________________________\n",
            "dense_1 (Dense)              (None, 256)               131328    \n",
            "_________________________________________________________________\n",
            "batch_normalization_1 (Batch (None, 256)               1024      \n",
            "_________________________________________________________________\n",
            "dropout_1 (Dropout)          (None, 256)               0         \n",
            "_________________________________________________________________\n",
            "dense_2 (Dense)              (None, 128)               32896     \n",
            "_________________________________________________________________\n",
            "batch_normalization_2 (Batch (None, 128)               512       \n",
            "_________________________________________________________________\n",
            "dropout_2 (Dropout)          (None, 128)               0         \n",
            "_________________________________________________________________\n",
            "dense_3 (Dense)              (None, 64)                8256      \n",
            "_________________________________________________________________\n",
            "batch_normalization_3 (Batch (None, 64)                256       \n",
            "_________________________________________________________________\n",
            "dropout_3 (Dropout)          (None, 64)                0         \n",
            "_________________________________________________________________\n",
            "dense_4 (Dense)              (None, 16)                1040      \n",
            "_________________________________________________________________\n",
            "batch_normalization_4 (Batch (None, 16)                64        \n",
            "_________________________________________________________________\n",
            "dropout_4 (Dropout)          (None, 16)                0         \n",
            "_________________________________________________________________\n",
            "dense_5 (Dense)              (None, 2)                 34        \n",
            "=================================================================\n",
            "Total params: 233,778\n",
            "Trainable params: 231,826\n",
            "Non-trainable params: 1,952\n",
            "_________________________________________________________________\n"
          ]
        }
      ]
    },
    {
      "cell_type": "code",
      "metadata": {
        "id": "j8QADfcH_VM2",
        "colab": {
          "base_uri": "https://localhost:8080/",
          "height": 1000
        },
        "outputId": "a058225b-4fa5-49c2-e2ac-fa3cde7648ba"
      },
      "source": [
        "tf.keras.utils.plot_model(\n",
        "    model1, to_file='model.png', show_shapes=True, show_layer_names=True,\n",
        "    rankdir='TB')"
      ],
      "id": "j8QADfcH_VM2",
      "execution_count": 57,
      "outputs": [
        {
          "output_type": "execute_result",
          "data": {
            "image/png": "[encoded data removed]",
            "text/plain": [
              "<IPython.core.display.Image object>"
            ]
          },
          "metadata": {},
          "execution_count": 57
        }
      ]
    },
    {
      "cell_type": "code",
      "metadata": {
        "id": "GVsrW-d2TSkR"
      },
      "source": [
        "import tensorflow as tf\n",
        "adam = tf.keras.optimizers.Adam(lr=0.01)\n",
        "model1.compile(optimizer=adam, loss='categorical_crossentropy',metrics=['accuracy'])"
      ],
      "id": "GVsrW-d2TSkR",
      "execution_count": 58,
      "outputs": []
    },
    {
      "cell_type": "code",
      "metadata": {
        "id": "PpzVQMy8UC9x"
      },
      "source": [
        "from tensorflow.keras.callbacks import *\n",
        "import os\n",
        "filepath=\"weights_1.best.hdf1\"\n",
        "checkpoint = ModelCheckpoint(filepath, monitor='val_accuracy', verbose=1, mode='max')\n",
        "earlystop = EarlyStopping(monitor = 'val_accuracy',  mode=\"max\",min_delta = 0, patience = 8,verbose = 1)\n",
        "reduce_lr = ReduceLROnPlateau(monitor = 'val_accuracy', factor = 0.25, patience = 2, verbose = 1)\n",
        "%reload_ext tensorboard\n",
        "import datetime\n",
        "logdir = os.path.join(\"logs_2\", datetime.datetime.now().strftime(\"%Y%m%d-%H%M%S\"))\n",
        "#tensorboard = tf.keras.callbacks.TensorBoard(logdir, histogram_freq=1)\n",
        "tensorboard = TensorBoard(log_dir=logdir, histogram_freq=0, write_graph=True, write_grads=False, write_images=False)\n",
        "callbacks = [checkpoint,reduce_lr,tensorboard,earlystop]"
      ],
      "id": "PpzVQMy8UC9x",
      "execution_count": 59,
      "outputs": []
    },
    {
      "cell_type": "code",
      "metadata": {
        "id": "voSS4qdDTWiF",
        "colab": {
          "base_uri": "https://localhost:8080/"
        },
        "outputId": "d29941a2-d400-43d1-a5e2-e115f32a365d"
      },
      "source": [
        "hitory1=model1.fit(x=x_train,y=y_train,epochs=50,batch_size=1024,validation_data=(x_test, y_test),callbacks=callbacks)"
      ],
      "id": "voSS4qdDTWiF",
      "execution_count": 61,
      "outputs": [
        {
          "output_type": "stream",
          "name": "stdout",
          "text": [
            "Epoch 1/50\n",
            "741/741 [==============================] - 7s 7ms/step - loss: 0.7658 - accuracy: 0.5473 - val_loss: 0.7047 - val_accuracy: 0.5416\n",
            "\n",
            "Epoch 00001: saving model to weights_1.best.hdf1\n",
            "INFO:tensorflow:Assets written to: weights_1.best.hdf1/assets\n",
            "Epoch 2/50\n",
            "741/741 [==============================] - 5s 6ms/step - loss: 0.7037 - accuracy: 0.5496 - val_loss: 0.7002 - val_accuracy: 0.5554\n",
            "\n",
            "Epoch 00002: saving model to weights_1.best.hdf1\n",
            "INFO:tensorflow:Assets written to: weights_1.best.hdf1/assets\n",
            "Epoch 3/50\n",
            "741/741 [==============================] - 5s 6ms/step - loss: 0.7040 - accuracy: 0.5493 - val_loss: 0.7025 - val_accuracy: 0.5457\n",
            "\n",
            "Epoch 00003: saving model to weights_1.best.hdf1\n",
            "INFO:tensorflow:Assets written to: weights_1.best.hdf1/assets\n",
            "Epoch 4/50\n",
            "741/741 [==============================] - 5s 6ms/step - loss: 0.7034 - accuracy: 0.5495 - val_loss: 0.6998 - val_accuracy: 0.5439\n",
            "\n",
            "Epoch 00004: saving model to weights_1.best.hdf1\n",
            "INFO:tensorflow:Assets written to: weights_1.best.hdf1/assets\n",
            "\n",
            "Epoch 00004: ReduceLROnPlateau reducing learning rate to 0.0024999999441206455.\n",
            "Epoch 5/50\n",
            "741/741 [==============================] - 5s 6ms/step - loss: 0.6897 - accuracy: 0.5557 - val_loss: 0.6890 - val_accuracy: 0.5557\n",
            "\n",
            "Epoch 00005: saving model to weights_1.best.hdf1\n",
            "INFO:tensorflow:Assets written to: weights_1.best.hdf1/assets\n",
            "Epoch 6/50\n",
            "741/741 [==============================] - 5s 6ms/step - loss: 0.6887 - accuracy: 0.5575 - val_loss: 0.6992 - val_accuracy: 0.5313\n",
            "\n",
            "Epoch 00006: saving model to weights_1.best.hdf1\n",
            "INFO:tensorflow:Assets written to: weights_1.best.hdf1/assets\n",
            "Epoch 7/50\n",
            "741/741 [==============================] - 5s 7ms/step - loss: 0.6881 - accuracy: 0.5587 - val_loss: 0.6906 - val_accuracy: 0.5390\n",
            "\n",
            "Epoch 00007: saving model to weights_1.best.hdf1\n",
            "INFO:tensorflow:Assets written to: weights_1.best.hdf1/assets\n",
            "\n",
            "Epoch 00007: ReduceLROnPlateau reducing learning rate to 0.0006249999860301614.\n",
            "Epoch 8/50\n",
            "741/741 [==============================] - 5s 6ms/step - loss: 0.6838 - accuracy: 0.5634 - val_loss: 0.6810 - val_accuracy: 0.5735\n",
            "\n",
            "Epoch 00008: saving model to weights_1.best.hdf1\n",
            "INFO:tensorflow:Assets written to: weights_1.best.hdf1/assets\n",
            "Epoch 9/50\n",
            "741/741 [==============================] - 5s 6ms/step - loss: 0.6827 - accuracy: 0.5664 - val_loss: 0.6874 - val_accuracy: 0.5517\n",
            "\n",
            "Epoch 00009: saving model to weights_1.best.hdf1\n",
            "INFO:tensorflow:Assets written to: weights_1.best.hdf1/assets\n",
            "Epoch 10/50\n",
            "741/741 [==============================] - 5s 6ms/step - loss: 0.6821 - accuracy: 0.5681 - val_loss: 0.6832 - val_accuracy: 0.5648\n",
            "\n",
            "Epoch 00010: saving model to weights_1.best.hdf1\n",
            "INFO:tensorflow:Assets written to: weights_1.best.hdf1/assets\n",
            "\n",
            "Epoch 00010: ReduceLROnPlateau reducing learning rate to 0.00015624999650754035.\n",
            "Epoch 11/50\n",
            "741/741 [==============================] - 5s 6ms/step - loss: 0.6796 - accuracy: 0.5717 - val_loss: 0.6809 - val_accuracy: 0.5632\n",
            "\n",
            "Epoch 00011: saving model to weights_1.best.hdf1\n",
            "INFO:tensorflow:Assets written to: weights_1.best.hdf1/assets\n",
            "Epoch 12/50\n",
            "741/741 [==============================] - 5s 6ms/step - loss: 0.6788 - accuracy: 0.5728 - val_loss: 0.6767 - val_accuracy: 0.5765\n",
            "\n",
            "Epoch 00012: saving model to weights_1.best.hdf1\n",
            "INFO:tensorflow:Assets written to: weights_1.best.hdf1/assets\n",
            "Epoch 13/50\n",
            "741/741 [==============================] - 5s 6ms/step - loss: 0.6785 - accuracy: 0.5726 - val_loss: 0.6789 - val_accuracy: 0.5670\n",
            "\n",
            "Epoch 00013: saving model to weights_1.best.hdf1\n",
            "INFO:tensorflow:Assets written to: weights_1.best.hdf1/assets\n",
            "Epoch 14/50\n",
            "741/741 [==============================] - 5s 6ms/step - loss: 0.6783 - accuracy: 0.5735 - val_loss: 0.6770 - val_accuracy: 0.5731\n",
            "\n",
            "Epoch 00014: saving model to weights_1.best.hdf1\n",
            "INFO:tensorflow:Assets written to: weights_1.best.hdf1/assets\n",
            "\n",
            "Epoch 00014: ReduceLROnPlateau reducing learning rate to 3.9062499126885086e-05.\n",
            "Epoch 15/50\n",
            "741/741 [==============================] - 5s 6ms/step - loss: 0.6777 - accuracy: 0.5740 - val_loss: 0.6756 - val_accuracy: 0.5775\n",
            "\n",
            "Epoch 00015: saving model to weights_1.best.hdf1\n",
            "INFO:tensorflow:Assets written to: weights_1.best.hdf1/assets\n",
            "Epoch 16/50\n",
            "741/741 [==============================] - 5s 6ms/step - loss: 0.6773 - accuracy: 0.5742 - val_loss: 0.6752 - val_accuracy: 0.5774\n",
            "\n",
            "Epoch 00016: saving model to weights_1.best.hdf1\n",
            "INFO:tensorflow:Assets written to: weights_1.best.hdf1/assets\n",
            "Epoch 17/50\n",
            "741/741 [==============================] - 5s 6ms/step - loss: 0.6773 - accuracy: 0.5743 - val_loss: 0.6753 - val_accuracy: 0.5778\n",
            "\n",
            "Epoch 00017: saving model to weights_1.best.hdf1\n",
            "INFO:tensorflow:Assets written to: weights_1.best.hdf1/assets\n",
            "Epoch 18/50\n",
            "741/741 [==============================] - 5s 6ms/step - loss: 0.6773 - accuracy: 0.5745 - val_loss: 0.6751 - val_accuracy: 0.5777\n",
            "\n",
            "Epoch 00018: saving model to weights_1.best.hdf1\n",
            "INFO:tensorflow:Assets written to: weights_1.best.hdf1/assets\n",
            "Epoch 19/50\n",
            "741/741 [==============================] - 5s 6ms/step - loss: 0.6772 - accuracy: 0.5744 - val_loss: 0.6749 - val_accuracy: 0.5782\n",
            "\n",
            "Epoch 00019: saving model to weights_1.best.hdf1\n",
            "INFO:tensorflow:Assets written to: weights_1.best.hdf1/assets\n",
            "Epoch 20/50\n",
            "741/741 [==============================] - 5s 6ms/step - loss: 0.6772 - accuracy: 0.5746 - val_loss: 0.6752 - val_accuracy: 0.5768\n",
            "\n",
            "Epoch 00020: saving model to weights_1.best.hdf1\n",
            "INFO:tensorflow:Assets written to: weights_1.best.hdf1/assets\n",
            "Epoch 21/50\n",
            "741/741 [==============================] - 5s 6ms/step - loss: 0.6769 - accuracy: 0.5746 - val_loss: 0.6752 - val_accuracy: 0.5772\n",
            "\n",
            "Epoch 00021: saving model to weights_1.best.hdf1\n",
            "INFO:tensorflow:Assets written to: weights_1.best.hdf1/assets\n",
            "\n",
            "Epoch 00021: ReduceLROnPlateau reducing learning rate to 9.765624781721272e-06.\n",
            "Epoch 22/50\n",
            "741/741 [==============================] - 5s 6ms/step - loss: 0.6769 - accuracy: 0.5752 - val_loss: 0.6748 - val_accuracy: 0.5779\n",
            "\n",
            "Epoch 00022: saving model to weights_1.best.hdf1\n",
            "INFO:tensorflow:Assets written to: weights_1.best.hdf1/assets\n",
            "Epoch 23/50\n",
            "741/741 [==============================] - 5s 6ms/step - loss: 0.6767 - accuracy: 0.5753 - val_loss: 0.6746 - val_accuracy: 0.5781\n",
            "\n",
            "Epoch 00023: saving model to weights_1.best.hdf1\n",
            "INFO:tensorflow:Assets written to: weights_1.best.hdf1/assets\n",
            "\n",
            "Epoch 00023: ReduceLROnPlateau reducing learning rate to 2.441406195430318e-06.\n",
            "Epoch 24/50\n",
            "741/741 [==============================] - 5s 6ms/step - loss: 0.6766 - accuracy: 0.5755 - val_loss: 0.6746 - val_accuracy: 0.5783\n",
            "\n",
            "Epoch 00024: saving model to weights_1.best.hdf1\n",
            "INFO:tensorflow:Assets written to: weights_1.best.hdf1/assets\n",
            "Epoch 25/50\n",
            "741/741 [==============================] - 5s 6ms/step - loss: 0.6766 - accuracy: 0.5756 - val_loss: 0.6746 - val_accuracy: 0.5781\n",
            "\n",
            "Epoch 00025: saving model to weights_1.best.hdf1\n",
            "INFO:tensorflow:Assets written to: weights_1.best.hdf1/assets\n",
            "\n",
            "Epoch 00025: ReduceLROnPlateau reducing learning rate to 6.103515488575795e-07.\n",
            "Epoch 26/50\n",
            "741/741 [==============================] - 5s 6ms/step - loss: 0.6767 - accuracy: 0.5755 - val_loss: 0.6746 - val_accuracy: 0.5783\n",
            "\n",
            "Epoch 00026: saving model to weights_1.best.hdf1\n",
            "INFO:tensorflow:Assets written to: weights_1.best.hdf1/assets\n",
            "Epoch 27/50\n",
            "741/741 [==============================] - 5s 6ms/step - loss: 0.6766 - accuracy: 0.5753 - val_loss: 0.6746 - val_accuracy: 0.5782\n",
            "\n",
            "Epoch 00027: saving model to weights_1.best.hdf1\n",
            "INFO:tensorflow:Assets written to: weights_1.best.hdf1/assets\n",
            "\n",
            "Epoch 00027: ReduceLROnPlateau reducing learning rate to 1.5258788721439487e-07.\n",
            "Epoch 28/50\n",
            "741/741 [==============================] - 5s 6ms/step - loss: 0.6767 - accuracy: 0.5751 - val_loss: 0.6746 - val_accuracy: 0.5782\n",
            "\n",
            "Epoch 00028: saving model to weights_1.best.hdf1\n",
            "INFO:tensorflow:Assets written to: weights_1.best.hdf1/assets\n",
            "Epoch 29/50\n",
            "741/741 [==============================] - 5s 6ms/step - loss: 0.6766 - accuracy: 0.5751 - val_loss: 0.6746 - val_accuracy: 0.5781\n",
            "\n",
            "Epoch 00029: saving model to weights_1.best.hdf1\n",
            "INFO:tensorflow:Assets written to: weights_1.best.hdf1/assets\n",
            "\n",
            "Epoch 00029: ReduceLROnPlateau reducing learning rate to 3.814697180359872e-08.\n",
            "Epoch 30/50\n",
            "741/741 [==============================] - 5s 6ms/step - loss: 0.6766 - accuracy: 0.5757 - val_loss: 0.6746 - val_accuracy: 0.5782\n",
            "\n",
            "Epoch 00030: saving model to weights_1.best.hdf1\n",
            "INFO:tensorflow:Assets written to: weights_1.best.hdf1/assets\n",
            "Epoch 31/50\n",
            "741/741 [==============================] - 5s 6ms/step - loss: 0.6766 - accuracy: 0.5751 - val_loss: 0.6746 - val_accuracy: 0.5782\n",
            "\n",
            "Epoch 00031: saving model to weights_1.best.hdf1\n",
            "INFO:tensorflow:Assets written to: weights_1.best.hdf1/assets\n",
            "\n",
            "Epoch 00031: ReduceLROnPlateau reducing learning rate to 9.53674295089968e-09.\n",
            "Epoch 32/50\n",
            "741/741 [==============================] - 5s 6ms/step - loss: 0.6767 - accuracy: 0.5750 - val_loss: 0.6746 - val_accuracy: 0.5782\n",
            "\n",
            "Epoch 00032: saving model to weights_1.best.hdf1\n",
            "INFO:tensorflow:Assets written to: weights_1.best.hdf1/assets\n",
            "Epoch 33/50\n",
            "741/741 [==============================] - 5s 6ms/step - loss: 0.6766 - accuracy: 0.5755 - val_loss: 0.6746 - val_accuracy: 0.5783\n",
            "\n",
            "Epoch 00033: saving model to weights_1.best.hdf1\n",
            "INFO:tensorflow:Assets written to: weights_1.best.hdf1/assets\n",
            "\n",
            "Epoch 00033: ReduceLROnPlateau reducing learning rate to 2.38418573772492e-09.\n",
            "Epoch 34/50\n",
            "741/741 [==============================] - 5s 7ms/step - loss: 0.6766 - accuracy: 0.5756 - val_loss: 0.6746 - val_accuracy: 0.5782\n",
            "\n",
            "Epoch 00034: saving model to weights_1.best.hdf1\n",
            "INFO:tensorflow:Assets written to: weights_1.best.hdf1/assets\n",
            "Epoch 35/50\n",
            "741/741 [==============================] - 5s 6ms/step - loss: 0.6766 - accuracy: 0.5756 - val_loss: 0.6746 - val_accuracy: 0.5781\n",
            "\n",
            "Epoch 00035: saving model to weights_1.best.hdf1\n",
            "INFO:tensorflow:Assets written to: weights_1.best.hdf1/assets\n",
            "\n",
            "Epoch 00035: ReduceLROnPlateau reducing learning rate to 5.9604643443123e-10.\n",
            "Epoch 36/50\n",
            "741/741 [==============================] - 5s 6ms/step - loss: 0.6768 - accuracy: 0.5752 - val_loss: 0.6746 - val_accuracy: 0.5782\n",
            "\n",
            "Epoch 00036: saving model to weights_1.best.hdf1\n",
            "INFO:tensorflow:Assets written to: weights_1.best.hdf1/assets\n",
            "Epoch 37/50\n",
            "741/741 [==============================] - 5s 6ms/step - loss: 0.6766 - accuracy: 0.5754 - val_loss: 0.6746 - val_accuracy: 0.5782\n",
            "\n",
            "Epoch 00037: saving model to weights_1.best.hdf1\n",
            "INFO:tensorflow:Assets written to: weights_1.best.hdf1/assets\n",
            "\n",
            "Epoch 00037: ReduceLROnPlateau reducing learning rate to 1.490116086078075e-10.\n",
            "Epoch 38/50\n",
            "741/741 [==============================] - 5s 6ms/step - loss: 0.6767 - accuracy: 0.5754 - val_loss: 0.6746 - val_accuracy: 0.5783\n",
            "\n",
            "Epoch 00038: saving model to weights_1.best.hdf1\n",
            "INFO:tensorflow:Assets written to: weights_1.best.hdf1/assets\n",
            "Epoch 39/50\n",
            "741/741 [==============================] - 5s 6ms/step - loss: 0.6766 - accuracy: 0.5755 - val_loss: 0.6746 - val_accuracy: 0.5781\n",
            "\n",
            "Epoch 00039: saving model to weights_1.best.hdf1\n",
            "INFO:tensorflow:Assets written to: weights_1.best.hdf1/assets\n",
            "\n",
            "Epoch 00039: ReduceLROnPlateau reducing learning rate to 3.725290215195187e-11.\n",
            "Epoch 40/50\n",
            "741/741 [==============================] - 5s 6ms/step - loss: 0.6767 - accuracy: 0.5753 - val_loss: 0.6746 - val_accuracy: 0.5781\n",
            "\n",
            "Epoch 00040: saving model to weights_1.best.hdf1\n",
            "INFO:tensorflow:Assets written to: weights_1.best.hdf1/assets\n",
            "Epoch 41/50\n",
            "741/741 [==============================] - 5s 6ms/step - loss: 0.6766 - accuracy: 0.5753 - val_loss: 0.6746 - val_accuracy: 0.5781\n",
            "\n",
            "Epoch 00041: saving model to weights_1.best.hdf1\n",
            "INFO:tensorflow:Assets written to: weights_1.best.hdf1/assets\n",
            "\n",
            "Epoch 00041: ReduceLROnPlateau reducing learning rate to 9.313225537987968e-12.\n",
            "Epoch 00041: early stopping\n"
          ]
        }
      ]
    },
    {
      "cell_type": "code",
      "metadata": {
        "id": "he3um1t5TciV",
        "colab": {
          "base_uri": "https://localhost:8080/",
          "height": 285
        },
        "outputId": "31eab7af-8ab4-486e-e51c-cbb8c787ab52"
      },
      "source": [
        "import matplotlib.pyplot as plt\n",
        "plt.figure(figsize=(30, 5))\n",
        "plt.subplot(121)\n",
        "plt.plot(hitory1.history['loss'])\n",
        "plt.plot(hitory1.history['val_loss'])\n",
        "plt.title('Model Loss')\n",
        "plt.ylabel('loss')\n",
        "plt.xlabel('Epoch')\n",
        "plt.legend(['Train', 'Test'], loc='upper left')\n",
        "\n",
        "# Plot training & validation f1_score\n",
        "plt.subplot(122)\n",
        "plt.plot(hitory1.history['accuracy'])\n",
        "plt.plot(hitory1.history['val_accuracy'])\n",
        "plt.title('Model Accuracy')\n",
        "plt.ylabel('accuracy')\n",
        "plt.xlabel('Epoch')\n",
        "plt.legend(['Train', 'Test'], loc='upper left')\n",
        "plt.show()"
      ],
      "id": "he3um1t5TciV",
      "execution_count": 62,
      "outputs": [
        {
          "output_type": "display_data",
          "data": {
            "image/png": "[encoded data removed]",
            "text/plain": [
              "<Figure size 2160x360 with 2 Axes>"
            ]
          },
          "metadata": {
            "needs_background": "light"
          }
        }
      ]
    },
    {
      "cell_type": "code",
      "metadata": {
        "id": "Bd3UXDJVIpkj"
      },
      "source": [
        ""
      ],
      "id": "Bd3UXDJVIpkj",
      "execution_count": null,
      "outputs": []
    }
  ]
}