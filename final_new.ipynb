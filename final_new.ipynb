{
 "cells": [
  {
   "cell_type": "code",
   "execution_count": 1,
   "metadata": {
    "colab": {
     "base_uri": "https://localhost:8080/"
    },
    "id": "FRjBQRZh8YNX",
    "outputId": "fd091526-5ea6-4d15-d716-89cdc1acc704"
   },
   "outputs": [
    {
     "name": "stdout",
     "output_type": "stream",
     "text": [
      "Mounted at /content/gdrive\n"
     ]
    }
   ],
   "source": [
    "from google.colab import drive\n",
    "drive.mount('/content/gdrive')"
   ]
  },
  {
   "cell_type": "code",
   "execution_count": 2,
   "metadata": {
    "id": "lHlfxzMl9t-5"
   },
   "outputs": [],
   "source": [
    "import os; os.environ['OMP_NUM_THREADS'] = '1'\n",
    "from contextlib import contextmanager\n",
    "from functools import partial\n",
    "from operator import itemgetter\n",
    "from multiprocessing.pool import ThreadPool\n",
    "import time\n",
    "from typing import List, Dict\n",
    "\n",
    "import keras as ks\n",
    "import pandas as pd\n",
    "import numpy as np\n",
    "import tensorflow as tf\n",
    "from sklearn.feature_extraction import DictVectorizer\n",
    "from sklearn.feature_extraction.text import TfidfVectorizer as Tfidf\n",
    "from sklearn.pipeline import make_pipeline, make_union, Pipeline\n",
    "from sklearn.preprocessing import FunctionTransformer, StandardScaler\n",
    "from sklearn.metrics import mean_squared_log_error\n",
    "from sklearn.model_selection import KFold\n",
    "%matplotlib inline\n",
    "import warnings\n",
    "warnings.filterwarnings('ignore')\n",
    "import sqlite3\n",
    "import pandas as pd\n",
    "import numpy as np\n",
    "import nltk\n",
    "import string\n",
    "import matplotlib.pyplot as plt\n",
    "import seaborn as sns\n",
    "from sklearn.feature_extraction.text import TfidfTransformer\n",
    "from sklearn.feature_extraction.text import TfidfVectorizer\n",
    "\n",
    "from sklearn.feature_extraction.text import CountVectorizer\n",
    "from sklearn.metrics import confusion_matrix\n",
    "from sklearn import metrics\n",
    "from sklearn.metrics import roc_curve, auc\n",
    "from nltk.stem.porter import PorterStemmer\n",
    "import re\n",
    "from nltk.corpus import stopwords\n",
    "from nltk.stem import PorterStemmer\n",
    "from nltk.stem.wordnet import WordNetLemmatizer\n",
    "from gensim.models import Word2Vec\n",
    "from gensim.models import KeyedVectors\n",
    "import pickle\n",
    "from sklearn.metrics import roc_auc_score\n",
    "from tqdm import tqdm\n",
    "import os\n",
    "#from plotly import plotly\n",
    "#import plotly.offline as offline\n",
    "#import plotly.graph_objs as go\n",
    "#offline.init_notebook_mode()\n",
    "from collections import Counter\n",
    "from sklearn.preprocessing import StandardScaler\n",
    "from sklearn.preprocessing import MinMaxScaler\n",
    "import tensorflow as tf\n",
    "from tensorflow.keras.preprocessing import sequence\n",
    "from tensorflow.keras.models import Sequential\n",
    "from tensorflow.keras.layers import Dense, Activation,Flatten,Reshape\n",
    "from tensorflow.keras.layers import Embedding\n",
    "from tensorflow.keras.layers import LSTM\n",
    "from tensorflow.keras.preprocessing.text import Tokenizer\n",
    "import csv\n",
    "from tensorflow.keras.models import Model\n",
    "#import keras\n",
    "from tensorflow.keras import backend as k\n",
    "from tensorflow.keras.layers import Input,Concatenate,Dropout,Dense,BatchNormalization,Conv1D\n",
    "from tensorflow.keras.layers import Input\n",
    "from sklearn.preprocessing import LabelEncoder,OneHotEncoder\n",
    "#from tensorflow.keras.merge import concatenate\n",
    "#import tensorflow as tf\n",
    "from tensorflow.keras.preprocessing.sequence import pad_sequences\n",
    "import scipy\n",
    "from tensorflow.keras.initializers import he_normal,glorot_normal\n",
    "from tensorflow.keras.regularizers import l1,l2\n",
    "from tensorflow.python.keras.callbacks import TensorBoard\n",
    "from tensorflow.keras.callbacks import Callback, EarlyStopping, ModelCheckpoint,LearningRateScheduler,ReduceLROnPlateau\n",
    "from time import time\n",
    "from tensorflow.keras.utils import plot_model\n",
    "from tensorflow.keras.preprocessing.text import Tokenizer"
   ]
  },
  {
   "cell_type": "code",
   "execution_count": 3,
   "metadata": {
    "id": "vCwdatI-Yp_q"
   },
   "outputs": [],
   "source": [
    "def make_confusion_matrix(y_pred,y_actual,labels=[1, 0]):\n",
    "    '''\n",
    "    model : classifier to predict values of X\n",
    "    y_actual : ground truth  \n",
    "    \n",
    "    '''\n",
    "    cm=metrics.confusion_matrix( y_actual, y_pred, labels=[0, 1])\n",
    "    df_cm = pd.DataFrame(cm, index = [i for i in [\"Actual - No\",\"Actual - Yes\"]],\n",
    "                  columns = [i for i in ['Predicted - No','Predicted - Yes']])\n",
    "    group_counts = [\"{0:0.0f}\".format(value) for value in\n",
    "                cm.flatten()]\n",
    "    group_percentages = [\"{0:.2%}\".format(value) for value in\n",
    "                         cm.flatten()/np.sum(cm)]\n",
    "    labels = [f\"{v1}\\n{v2}\" for v1, v2 in\n",
    "              zip(group_counts,group_percentages)]\n",
    "    labels = np.asarray(labels).reshape(2,2)\n",
    "    plt.figure(figsize = (10,7))\n",
    "    sns.heatmap(df_cm, annot=labels,fmt='')\n",
    "    plt.ylabel('True label')\n",
    "    plt.xlabel('Predicted label')"
   ]
  },
  {
   "cell_type": "code",
   "execution_count": 4,
   "metadata": {
    "colab": {
     "base_uri": "https://localhost:8080/"
    },
    "id": "_oqBAdKY9q5s",
    "outputId": "7a35e22d-bbb2-4f52-e68e-cfbf7c2a20e5"
   },
   "outputs": [
    {
     "name": "stdout",
     "output_type": "stream",
     "text": [
      "[nltk_data] Downloading package stopwords to /root/nltk_data...\n",
      "[nltk_data]   Unzipping corpora/stopwords.zip.\n"
     ]
    }
   ],
   "source": [
    "def deEmojify(text):\n",
    "    regrex_pattern = re.compile(pattern = \"[\"\n",
    "        u\"\\U0001F600-\\U0001F64F\"  # emoticons\n",
    "        u\"\\U0001F300-\\U0001F5FF\"  # symbols & pictographs\n",
    "        u\"\\U0001F680-\\U0001F6FF\"  # transport & map symbols\n",
    "        u\"\\U0001F1E0-\\U0001F1FF\"  # flags (iOS)\n",
    "                           \"]+\", flags = re.UNICODE)\n",
    "    return regrex_pattern.sub(r'',text)\n",
    "def decontractions(phrase):\n",
    "    \"\"\"decontracted takes text and convert contractions into natural form.\n",
    "     ref: https://stackoverflow.com/questions/19790188/expanding-english-language-contractions-in-python/47091490#47091490\"\"\"\n",
    "    # specific\n",
    "    phrase = re.sub(r\"won\\'t\", \"will not\", phrase)\n",
    "    phrase = re.sub(r\"can\\'t\", \"can not\", phrase)\n",
    "    phrase = re.sub(r\"won\\’t\", \"will not\", phrase)\n",
    "    phrase = re.sub(r\"can\\’t\", \"can not\", phrase)\n",
    "\n",
    "    # general\n",
    "    phrase = re.sub(r\"n\\'t\", \" not\", phrase)\n",
    "    phrase = re.sub(r\"\\'re\", \" are\", phrase)\n",
    "    phrase = re.sub(r\"\\'s\", \" is\", phrase)\n",
    "    phrase = re.sub(r\"\\'d\", \" would\", phrase)\n",
    "    phrase = re.sub(r\"\\'ll\", \" will\", phrase)\n",
    "    phrase = re.sub(r\"\\'t\", \" not\", phrase)\n",
    "    phrase = re.sub(r\"\\'ve\", \" have\", phrase)\n",
    "    phrase = re.sub(r\"\\'m\", \" am\", phrase)\n",
    "\n",
    "    phrase = re.sub(r\"n\\’t\", \" not\", phrase)\n",
    "    phrase = re.sub(r\"\\’re\", \" are\", phrase)\n",
    "    phrase = re.sub(r\"\\’s\", \" is\", phrase)\n",
    "    phrase = re.sub(r\"\\’d\", \" would\", phrase)\n",
    "    phrase = re.sub(r\"\\’ll\", \" will\", phrase)\n",
    "    phrase = re.sub(r\"\\’t\", \" not\", phrase)\n",
    "    phrase = re.sub(r\"\\’ve\", \" have\", phrase)\n",
    "    phrase = re.sub(r\"\\’m\", \" am\", phrase)\n",
    "    return phrase\n",
    "import nltk\n",
    "nltk.download('stopwords')\n",
    "from nltk.corpus import stopwords\n",
    "from tqdm import tqdm\n",
    "import re\n",
    "stopwords = stopwords.words('english')\n"
   ]
  },
  {
   "cell_type": "code",
   "execution_count": 5,
   "metadata": {
    "id": "3B-xJNMAtgYp"
   },
   "outputs": [],
   "source": [
    "def preprocess(text_col,stopword):\n",
    "    preprocessed = []\n",
    "    for sentence in tqdm(text_col.values):\n",
    "        # Replace \"carriage return\" with \"space\".\n",
    "        sentence=str(sentence)\n",
    "        sent = sentence.replace('\\\\r', ' ')\n",
    "        # Replace \"quotes\" with \"space\".\n",
    "        sent = sent.replace('\\\\\"', ' ')\n",
    "        # Replace \"line feed\" with \"space\".\n",
    "        sent = sent.replace('\\\\n', ' ')\n",
    "        # Replace characters between words with \"space\".\n",
    "        sent = re.sub('[^A-Za-z0-9]+', ' ', sent)\n",
    "        #remove stop words\n",
    "        #decontraction\n",
    "        sent=decontractions(sent)\n",
    "        #Remove emoji\n",
    "        sent=deEmojify(sent)\n",
    "        if stopword:\n",
    "            sent = ' '.join(e for e in sent.split() if e not in stopwords)\n",
    "        else:\n",
    "           sent = ' '.join(e for e in sent.split())\n",
    "        # to lowercase\n",
    "        preprocessed.append(sent.lower().strip())\n",
    "    return preprocessed"
   ]
  },
  {
   "cell_type": "code",
   "execution_count": 6,
   "metadata": {
    "colab": {
     "base_uri": "https://localhost:8080/"
    },
    "id": "cL1vBhJl-Ay7",
    "outputId": "ac430417-5dbd-4aa2-a119-d8f114ee905e"
   },
   "outputs": [
    {
     "name": "stdout",
     "output_type": "stream",
     "text": [
      "[nltk_data] Downloading package vader_lexicon to /root/nltk_data...\n"
     ]
    }
   ],
   "source": [
    "import nltk\n",
    "nltk.download('vader_lexicon')\n",
    "from tqdm import tqdm\n",
    "from nltk.sentiment.vader import SentimentIntensityAnalyzer\n",
    "def generate_sentiment_scores(data):\n",
    "    sid = SentimentIntensityAnalyzer()\n",
    "    neg=[]\n",
    "    pos=[]\n",
    "    neu=[]\n",
    "    comp=[]\n",
    "    for sentence in tqdm(data['parent_comment'].values): \n",
    "        sentence_sentiment_score = sid.polarity_scores(sentence)\n",
    "        comp.append(sentence_sentiment_score['compound'])\n",
    "        neg.append(sentence_sentiment_score['neg'])\n",
    "        pos.append(sentence_sentiment_score['pos'])\n",
    "        neu.append(sentence_sentiment_score['neu'])\n",
    "    return comp,neg,pos,neu"
   ]
  },
  {
   "cell_type": "code",
   "execution_count": 7,
   "metadata": {
    "id": "J7JMOjhRuD1O"
   },
   "outputs": [],
   "source": [
    "def pad_text(text,tokenizer,max_len):\n",
    "    return pad_sequences(tokenizer.texts_to_sequences(text),maxlen=max_len,padding='post')"
   ]
  },
  {
   "cell_type": "code",
   "execution_count": 8,
   "metadata": {
    "id": "hDOdek70uGJZ"
   },
   "outputs": [],
   "source": [
    "from tensorflow.keras.preprocessing.text import Tokenizer\n",
    "def text_padding(train,test,max_len):\n",
    "    vocab=5000\n",
    "    token=Tokenizer()\n",
    "    token.fit_on_texts(train)\n",
    "    padded_train_text=pad_text(train,token,max_len)\n",
    "    padded_test_text=pad_text(test,token,max_len)\n",
    "    return padded_train_text,padded_test_text,token"
   ]
  },
  {
   "cell_type": "code",
   "execution_count": 9,
   "metadata": {
    "id": "NIdLCOFZuTHl"
   },
   "outputs": [],
   "source": [
    "def generate_embedding_matrix(token):\n",
    "    embedding_path='/content/gdrive/MyDrive/crawl-300d-2M.vec'\n",
    "    embedding_size=300\n",
    "    vocab_size=5000\n",
    "    embedding_index={}\n",
    "    with open(embedding_path, 'r') as f:\n",
    "         for line in f:\n",
    "             values = line.rstrip().rsplit(' ')\n",
    "             word = values[0]\n",
    "             coefs = np.asarray(values[1:], dtype='float32')\n",
    "             embedding_index[word] = coefs\n",
    "    num_words = len(token.word_index) + 1\n",
    "    embedding_matrix = np.zeros((num_words, embedding_size))\n",
    "    for word, i in token.word_index.items():\n",
    "       embedding_vector = embedding_index.get(word)\n",
    "       if embedding_vector is not None:\n",
    "          embedding_matrix[i] = embedding_vector\n",
    "    return embedding_matrix"
   ]
  },
  {
   "cell_type": "code",
   "execution_count": 10,
   "metadata": {
    "id": "Z8wgtVhpqq_S"
   },
   "outputs": [],
   "source": [
    "from tensorflow.keras.layers import concatenate\n",
    "def LSTM_Model1(comm_len,token_com,par_comm_len,token_par,embedding_comm,embedding_P_comm):\n",
    "    drop_lstm = 0.25\n",
    "    drop_dense = 0.25\n",
    "    num_lstm=150\n",
    "  \n",
    "    input_text_1=Input(shape=(comm_len,), name='Comment', dtype='float32')\n",
    "    sequence_input_1=Embedding(len(token_com.word_index) + 1,300,weights=[embedding_comm],input_length=comm_len,trainable=False,dtype=tf.float32)(input_text_1)\n",
    "    sequence_input_1=LSTM(num_lstm,dropout=drop_lstm,return_sequences=True,dtype=tf.float32)(sequence_input_1)\n",
    "    sequence_input_1=Flatten()(sequence_input_1)\n",
    "    \n",
    "    input_text_2=Input(shape=(par_comm_len,),name='parent_comment', dtype='float32')\n",
    "    sequence_input_2=Embedding(len(token_par.word_index) + 1,300,weights=[embedding_P_comm],input_length=par_comm_len,trainable=False,dtype=tf.float32)(input_text_2)\n",
    "    sequence_input_2=LSTM(num_lstm,dropout=drop_lstm,return_sequences=True,dtype=tf.float32)(sequence_input_2)\n",
    "    sequence_input_2=Flatten()(sequence_input_2)\n",
    "    \n",
    "    \n",
    "    input5 = Input(shape=(9,),name='Numerical', dtype='float32')\n",
    "    flatten_6 = Dense(32,activation='relu',kernel_initializer=he_normal(),kernel_regularizer=l2(0.0001),dtype=tf.float32)(input5)\n",
    "    flatten_6 = Dense(16,activation='relu',kernel_initializer=he_normal(),kernel_regularizer=l2(0.0001),dtype=tf.float32)(flatten_6)\n",
    "    concat=concatenate([sequence_input_1,sequence_input_2,flatten_6],dtype=tf.float32)\n",
    "  \n",
    "    y = Dense(128,activation='relu',kernel_initializer=he_normal(),kernel_regularizer=l2(0.01))(concat)\n",
    "    y = BatchNormalization()(y)\n",
    "    y = Dense(64,activation='relu',kernel_initializer=he_normal(),kernel_regularizer=l2(0.01))(y)\n",
    "    y = BatchNormalization()(y)\n",
    "    y = Dense(32,activation='relu',kernel_initializer=he_normal(),kernel_regularizer=l2(0.01))(y)\n",
    "  \n",
    "    final_output=Dense(2,activation='softmax')(y)\n",
    "  \n",
    "    model= Model(inputs=[input_text_1,input_text_2,input5],outputs=final_output)\n",
    "    return model"
   ]
  },
  {
   "cell_type": "code",
   "execution_count": 11,
   "metadata": {
    "id": "zLb_n8imvFCb"
   },
   "outputs": [],
   "source": [
    "from sklearn.preprocessing import Normalizer\n",
    "def Normalizer_data(train,test):\n",
    "  trans = Normalizer()\n",
    "  X_train=trans.fit_transform(train.reshape(-1,1))  \n",
    "  X_test=trans.transform(test.reshape(-1,1))\n",
    "  return X_train,X_test"
   ]
  },
  {
   "cell_type": "code",
   "execution_count": 12,
   "metadata": {
    "colab": {
     "base_uri": "https://localhost:8080/",
     "height": 691
    },
    "id": "fECNE2fi8OaI",
    "outputId": "d20cbbf6-9a3d-4ff4-dd0c-993fbc9616e2"
   },
   "outputs": [
    {
     "name": "stderr",
     "output_type": "stream",
     "text": [
      "100%|██████████| 1010826/1010826 [00:27<00:00, 36389.35it/s]\n",
      "100%|██████████| 1010826/1010826 [00:35<00:00, 28815.44it/s]\n",
      "100%|██████████| 1010826/1010826 [04:51<00:00, 3463.05it/s]\n"
     ]
    },
    {
     "name": "stdout",
     "output_type": "stream",
     "text": [
      "1___\n",
      "(707578, 200) (303248, 200)\n",
      "2___\n",
      "(707578, 200) (303248, 200)\n",
      "(137185, 300) (189737, 300)\n",
      "3____\n",
      "(707578, 9) (303248, 9)\n",
      "4____\n",
      "Model training start\n",
      "Valid Accuracy:- 0.7435729172162718\n",
      "Total time:- 869.4467616081238\n"
     ]
    },
    {
     "data": {
      "image/png": "[encoded data removed]",
      "text/plain": [
       "<Figure size 720x504 with 2 Axes>"
      ]
     },
     "metadata": {
      "needs_background": "light"
     },
     "output_type": "display_data"
    }
   ],
   "source": [
    "import time\n",
    "import os\n",
    "import datetime\n",
    "from tensorflow.keras.callbacks import * \n",
    "from sklearn.model_selection import train_test_split\n",
    "from sklearn.metrics import accuracy_score\n",
    "def LSTM_Model1(comm_len,token_com,par_comm_len,token_par,embedding_comm,embedding_P_comm):\n",
    "    drop_lstm = 0.25\n",
    "    drop_dense = 0.25\n",
    "    num_lstm=150\n",
    "  \n",
    "    input_text_1=Input(shape=(comm_len,), name='Comment', dtype='float32')\n",
    "    sequence_input_1=Embedding(len(token_com.word_index) + 1,300,weights=[embedding_comm],input_length=comm_len,trainable=False,dtype=tf.float32)(input_text_1)\n",
    "    sequence_input_1=LSTM(num_lstm,dropout=drop_lstm,return_sequences=True,dtype=tf.float32)(sequence_input_1)\n",
    "    sequence_input_1=Flatten()(sequence_input_1)\n",
    "    \n",
    "    input_text_2=Input(shape=(par_comm_len,),name='parent_comment', dtype='float32')\n",
    "    sequence_input_2=Embedding(len(token_par.word_index) + 1,300,weights=[embedding_P_comm],input_length=par_comm_len,trainable=False,dtype=tf.float32)(input_text_2)\n",
    "    sequence_input_2=LSTM(num_lstm,dropout=drop_lstm,return_sequences=True,dtype=tf.float32)(sequence_input_2)\n",
    "    sequence_input_2=Flatten()(sequence_input_2)\n",
    "    \n",
    "    \n",
    "    input5 = Input(shape=(9,),name='Numerical', dtype='float32')\n",
    "    flatten_6 = Dense(32,activation='relu',kernel_initializer=he_normal(),kernel_regularizer=l2(0.0001),dtype=tf.float32)(input5)\n",
    "    flatten_6 = Dense(16,activation='relu',kernel_initializer=he_normal(),kernel_regularizer=l2(0.0001),dtype=tf.float32)(flatten_6)\n",
    "    concat=concatenate([sequence_input_1,sequence_input_2,flatten_6],dtype=tf.float32)\n",
    "  \n",
    "    y = Dense(128,activation='relu',kernel_initializer=he_normal(),kernel_regularizer=l2(0.01))(concat)\n",
    "    y = BatchNormalization()(y)\n",
    "    y = Dense(64,activation='relu',kernel_initializer=he_normal(),kernel_regularizer=l2(0.01))(y)\n",
    "    y = BatchNormalization()(y)\n",
    "    y = Dense(32,activation='relu',kernel_initializer=he_normal(),kernel_regularizer=l2(0.01))(y)\n",
    "  \n",
    "    final_output=Dense(2,activation='softmax')(y)\n",
    "  \n",
    "    model= Model(inputs=[input_text_1,input_text_2,input5],outputs=final_output)\n",
    "    return model\n",
    "def preproces(data: pd.DataFrame) -> pd.DataFrame:\n",
    "    data['comment'] = data['comment'].fillna('No Comment')\n",
    "    data['comment']=preprocess(data['comment'],stopword=False)\n",
    "    data['parent_comment']=preprocess(data['parent_comment'],stopword=False)\n",
    "    data['compound'],data['negative'],data['positive'],data['neutral']=generate_sentiment_scores(data)\n",
    "    data['com_len']=data['comment'].apply(lambda x:len(x.split()))\n",
    "    data['parent_com_len']=data['parent_comment'].apply(lambda x:len(x.split()))\n",
    "    return data\n",
    "\n",
    "def fit_predict(comm_len,token_com,par_comm_len,token_par,embedding_comm,embedding_P_comm,X_train,X_test,y_train,y_test) -> np.ndarray:\n",
    "    model4=LSTM_Model1(comm_len,token_com,par_comm_len,token_par,embedding_comm,embedding_P_comm)\n",
    "    filepath=\"/content/gdrive/MyDrive/weights_4.best.hdf1\"\n",
    "    model4.load_weights(filepath)\n",
    "    return model4.predict(X_test)\n",
    "\n",
    "def main(): \n",
    "    t0 = time.time()\n",
    "    train = pd.read_csv('/content/gdrive/MyDrive/train-balanced-sarcasm.csv')\n",
    "    data=preproces(train)\n",
    "    labels=tf.keras.utils.to_categorical(data['label'].values,num_classes=2)\n",
    "    X=data.drop(['label','date','created_utc'],axis=1)\n",
    "    X_train,X_test,y_train,y_test=train_test_split(X,labels,test_size=0.3,random_state=42,stratify=labels)\n",
    "    print(\"1___\")\n",
    "    comm_len=200\n",
    "    train_com_pad,test_com_pad,token_comm= text_padding(X_train['comment'].values,X_test['comment'].values,comm_len)\n",
    "    print(train_com_pad.shape,test_com_pad.shape)\n",
    "    par_comm_len=200\n",
    "    print('2___')\n",
    "    train_par_com_pad,test_par_com_pad,token_par= text_padding(X_train['parent_comment'],X_test['parent_comment'],par_comm_len)\n",
    "    print(train_par_com_pad.shape,test_par_com_pad.shape)\n",
    "    embedding_comm = generate_embedding_matrix(token_comm)\n",
    "    embedding_P_comm = generate_embedding_matrix(token_par)\n",
    "    print(embedding_comm.shape,embedding_P_comm.shape)\n",
    "    print('3____')\n",
    "    X_train_score,X_test_score=Normalizer_data(X_train['score'].values,X_test['score'].values)\n",
    "    X_train_ups,X_test_ups=Normalizer_data(X_train['ups'].values,X_test['ups'].values)\n",
    "    X_train_downs,X_test_downs=Normalizer_data(X_train['downs'].values,X_test['downs'].values)\n",
    "    X_train_comp,X_test_comp=Normalizer_data(X_train['compound'].values,X_test['compound'].values)\n",
    "    X_train_neg,X_test_neg=Normalizer_data(X_train['negative'].values,X_test['negative'].values)\n",
    "    X_train_pos,X_test_pos=Normalizer_data(X_train['positive'].values,X_test['positive'].values)\n",
    "    X_train_neu,X_test_neu=Normalizer_data(X_train['neutral'].values,X_test['neutral'].values)\n",
    "    X_train_com_len,X_test_com_len=Normalizer_data(X_train['com_len'].values,X_test['com_len'].values)\n",
    "    X_train_parent_com_len,X_test_parent_com_len=Normalizer_data(X_train['parent_com_len'].values,X_test['parent_com_len'].values)\n",
    "    numerical_train=np.concatenate((X_train_score,X_train_ups,X_train_downs,X_train_comp,X_train_neu,X_train_neg,X_train_pos,X_train_com_len,X_train_parent_com_len),axis=1)\n",
    "    numerical_test=np.concatenate((X_test_score,X_test_ups,X_test_downs,X_test_comp,X_test_neu,X_test_neg,X_test_pos,X_test_com_len,X_test_parent_com_len),axis=1)\n",
    "    print(numerical_train.shape,numerical_test.shape)\n",
    "    print('4____')\n",
    "    X_train=[train_com_pad,train_par_com_pad,numerical_train]\n",
    "    X_test=[test_com_pad,test_par_com_pad,numerical_test]\n",
    "    print('Model training start')\n",
    "    del train\n",
    "    y_pred=fit_predict(comm_len,token_comm,par_comm_len,token_par,embedding_comm,embedding_P_comm,X_train,X_test,y_train,y_test)\n",
    "    y_test_=np.argmax(y_test, axis=-1)\n",
    "    y_pred_=np.argmax(y_pred, axis=-1)\n",
    "    print('Valid Accuracy:-',accuracy_score(y_test_,y_pred_))\n",
    "    make_confusion_matrix(y_pred_,y_test_)\n",
    "    t1 = time.time()\n",
    "    print('Total time:-',t1-t0)\n",
    "if __name__ == '__main__':\n",
    "    main()"
   ]
  },
  {
   "cell_type": "code",
   "execution_count": null,
   "metadata": {
    "id": "OfOk1A7LsxDO"
   },
   "outputs": [],
   "source": []
  }
 ],
 "metadata": {
  "accelerator": "GPU",
  "colab": {
   "name": "final.ipynb",
   "provenance": []
  },
  "kernelspec": {
   "display_name": "Python 3",
   "language": "python",
   "name": "python3"
  },
  "language_info": {
   "codemirror_mode": {
    "name": "ipython",
    "version": 3
   },
   "file_extension": ".py",
   "mimetype": "text/x-python",
   "name": "python",
   "nbconvert_exporter": "python",
   "pygments_lexer": "ipython3",
   "version": "3.8.10"
  }
 },
 "nbformat": 4,
 "nbformat_minor": 1
}
