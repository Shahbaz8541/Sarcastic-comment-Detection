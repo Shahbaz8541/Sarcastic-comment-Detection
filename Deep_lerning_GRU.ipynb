{
 "cells": [
  {
   "cell_type": "markdown",
   "id": "f021b67e",
   "metadata": {
    "id": "f021b67e"
   },
   "source": [
    "## Deep Learning"
   ]
  },
  {
   "cell_type": "code",
   "execution_count": 1,
   "id": "4cebb9e8",
   "metadata": {
    "id": "4cebb9e8"
   },
   "outputs": [],
   "source": [
    "%matplotlib inline\n",
    "import warnings\n",
    "warnings.filterwarnings('ignore')\n",
    "import sqlite3\n",
    "import pandas as pd\n",
    "import numpy as np\n",
    "import nltk\n",
    "import string\n",
    "import matplotlib.pyplot as plt\n",
    "import seaborn as sns\n",
    "from sklearn.feature_extraction.text import TfidfTransformer\n",
    "from sklearn.feature_extraction.text import TfidfVectorizer\n",
    "\n",
    "from sklearn.feature_extraction.text import CountVectorizer\n",
    "from sklearn.metrics import confusion_matrix\n",
    "from sklearn import metrics\n",
    "from sklearn.metrics import roc_curve, auc\n",
    "from nltk.stem.porter import PorterStemmer\n",
    "import re\n",
    "from nltk.corpus import stopwords\n",
    "from nltk.stem import PorterStemmer\n",
    "from nltk.stem.wordnet import WordNetLemmatizer\n",
    "from gensim.models import Word2Vec\n",
    "from gensim.models import KeyedVectors\n",
    "import pickle\n",
    "from sklearn.metrics import roc_auc_score\n",
    "from tqdm import tqdm\n",
    "import os\n",
    "#from plotly import plotly\n",
    "#import plotly.offline as offline\n",
    "#import plotly.graph_objs as go\n",
    "#offline.init_notebook_mode()\n",
    "from collections import Counter\n",
    "from sklearn.preprocessing import StandardScaler\n",
    "from sklearn.preprocessing import MinMaxScaler\n",
    "import tensorflow as tf\n",
    "from tensorflow.keras.preprocessing import sequence\n",
    "from tensorflow.keras.models import Sequential\n",
    "from tensorflow.keras.layers import Dense, Activation,Flatten,Reshape\n",
    "from tensorflow.keras.layers import Embedding\n",
    "from tensorflow.keras.layers import LSTM\n",
    "from tensorflow.keras.preprocessing.text import Tokenizer\n",
    "import csv\n",
    "from tensorflow.keras.models import Model\n",
    "#import keras\n",
    "from tensorflow.keras import backend as k\n",
    "from tensorflow.keras.layers import Input,Concatenate,Dropout,Dense,BatchNormalization,Conv1D\n",
    "from tensorflow.keras.layers import Input\n",
    "from sklearn.preprocessing import LabelEncoder,OneHotEncoder\n",
    "#from tensorflow.keras.merge import concatenate\n",
    "#import tensorflow as tf\n",
    "from tensorflow.keras.preprocessing.sequence import pad_sequences\n",
    "import scipy\n",
    "from tensorflow.keras.initializers import he_normal,glorot_normal\n",
    "from tensorflow.keras.regularizers import l1,l2\n",
    "from tensorflow.python.keras.callbacks import TensorBoard\n",
    "from tensorflow.keras.callbacks import Callback, EarlyStopping, ModelCheckpoint,LearningRateScheduler,ReduceLROnPlateau\n",
    "from time import time\n",
    "from tensorflow.keras.utils import plot_model"
   ]
  },
  {
   "cell_type": "code",
   "execution_count": 2,
   "id": "oMppRTPvX9EZ",
   "metadata": {
    "colab": {
     "base_uri": "https://localhost:8080/"
    },
    "id": "oMppRTPvX9EZ",
    "outputId": "e6a9b647-6648-4498-b27d-8343a3059057"
   },
   "outputs": [
    {
     "name": "stdout",
     "output_type": "stream",
     "text": [
      "Mounted at /content/gdrive\n"
     ]
    }
   ],
   "source": [
    "from google.colab import drive\n",
    "drive.mount('/content/gdrive')"
   ]
  },
  {
   "cell_type": "code",
   "execution_count": 3,
   "id": "d4517a18",
   "metadata": {
    "colab": {
     "base_uri": "https://localhost:8080/",
     "height": 285
    },
    "id": "d4517a18",
    "outputId": "ae62a415-7912-42e2-84b4-0d8ca7e3ad28"
   },
   "outputs": [
    {
     "data": {
      "text/html": [
       "<div>\n",
       "<style scoped>\n",
       "    .dataframe tbody tr th:only-of-type {\n",
       "        vertical-align: middle;\n",
       "    }\n",
       "\n",
       "    .dataframe tbody tr th {\n",
       "        vertical-align: top;\n",
       "    }\n",
       "\n",
       "    .dataframe thead th {\n",
       "        text-align: right;\n",
       "    }\n",
       "</style>\n",
       "<table border=\"1\" class=\"dataframe\">\n",
       "  <thead>\n",
       "    <tr style=\"text-align: right;\">\n",
       "      <th></th>\n",
       "      <th>label</th>\n",
       "      <th>comment</th>\n",
       "      <th>author</th>\n",
       "      <th>subreddit</th>\n",
       "      <th>score</th>\n",
       "      <th>ups</th>\n",
       "      <th>downs</th>\n",
       "      <th>date</th>\n",
       "      <th>created_utc</th>\n",
       "      <th>parent_comment</th>\n",
       "    </tr>\n",
       "  </thead>\n",
       "  <tbody>\n",
       "    <tr>\n",
       "      <th>0</th>\n",
       "      <td>0</td>\n",
       "      <td>NC and NH.</td>\n",
       "      <td>Trumpbart</td>\n",
       "      <td>politics</td>\n",
       "      <td>2</td>\n",
       "      <td>-1</td>\n",
       "      <td>-1</td>\n",
       "      <td>2016-10</td>\n",
       "      <td>2016-10-16 23:55:23</td>\n",
       "      <td>Yeah, I get that argument. At this point, I'd ...</td>\n",
       "    </tr>\n",
       "    <tr>\n",
       "      <th>1</th>\n",
       "      <td>0</td>\n",
       "      <td>You do know west teams play against west teams...</td>\n",
       "      <td>Shbshb906</td>\n",
       "      <td>nba</td>\n",
       "      <td>-4</td>\n",
       "      <td>-1</td>\n",
       "      <td>-1</td>\n",
       "      <td>2016-11</td>\n",
       "      <td>2016-11-01 00:24:10</td>\n",
       "      <td>The blazers and Mavericks (The wests 5 and 6 s...</td>\n",
       "    </tr>\n",
       "    <tr>\n",
       "      <th>2</th>\n",
       "      <td>0</td>\n",
       "      <td>They were underdogs earlier today, but since G...</td>\n",
       "      <td>Creepeth</td>\n",
       "      <td>nfl</td>\n",
       "      <td>3</td>\n",
       "      <td>3</td>\n",
       "      <td>0</td>\n",
       "      <td>2016-09</td>\n",
       "      <td>2016-09-22 21:45:37</td>\n",
       "      <td>They're favored to win.</td>\n",
       "    </tr>\n",
       "    <tr>\n",
       "      <th>3</th>\n",
       "      <td>0</td>\n",
       "      <td>This meme isn't funny none of the \"new york ni...</td>\n",
       "      <td>icebrotha</td>\n",
       "      <td>BlackPeopleTwitter</td>\n",
       "      <td>-8</td>\n",
       "      <td>-1</td>\n",
       "      <td>-1</td>\n",
       "      <td>2016-10</td>\n",
       "      <td>2016-10-18 21:03:47</td>\n",
       "      <td>deadass don't kill my buzz</td>\n",
       "    </tr>\n",
       "    <tr>\n",
       "      <th>4</th>\n",
       "      <td>0</td>\n",
       "      <td>I could use one of those tools.</td>\n",
       "      <td>cush2push</td>\n",
       "      <td>MaddenUltimateTeam</td>\n",
       "      <td>6</td>\n",
       "      <td>-1</td>\n",
       "      <td>-1</td>\n",
       "      <td>2016-12</td>\n",
       "      <td>2016-12-30 17:00:13</td>\n",
       "      <td>Yep can confirm I saw the tool they use for th...</td>\n",
       "    </tr>\n",
       "  </tbody>\n",
       "</table>\n",
       "</div>"
      ],
      "text/plain": [
       "   label  ...                                     parent_comment\n",
       "0      0  ...  Yeah, I get that argument. At this point, I'd ...\n",
       "1      0  ...  The blazers and Mavericks (The wests 5 and 6 s...\n",
       "2      0  ...                            They're favored to win.\n",
       "3      0  ...                         deadass don't kill my buzz\n",
       "4      0  ...  Yep can confirm I saw the tool they use for th...\n",
       "\n",
       "[5 rows x 10 columns]"
      ]
     },
     "execution_count": 3,
     "metadata": {},
     "output_type": "execute_result"
    }
   ],
   "source": [
    "import pandas as pd\n",
    "data=pd.read_csv('/content/gdrive/MyDrive/train-balanced-sarcasm.csv')\n",
    "data.head()"
   ]
  },
  {
   "cell_type": "code",
   "execution_count": 4,
   "id": "92cf57b9",
   "metadata": {
    "colab": {
     "base_uri": "https://localhost:8080/"
    },
    "id": "92cf57b9",
    "outputId": "bbc94b42-15a8-4690-c592-4300a3d8ca31"
   },
   "outputs": [
    {
     "data": {
      "text/plain": [
       "label              0\n",
       "comment           53\n",
       "author             0\n",
       "subreddit          0\n",
       "score              0\n",
       "ups                0\n",
       "downs              0\n",
       "date               0\n",
       "created_utc        0\n",
       "parent_comment     0\n",
       "dtype: int64"
      ]
     },
     "execution_count": 4,
     "metadata": {},
     "output_type": "execute_result"
    }
   ],
   "source": [
    "data.isnull().sum()"
   ]
  },
  {
   "cell_type": "code",
   "execution_count": 5,
   "id": "93f31ddc",
   "metadata": {
    "id": "93f31ddc"
   },
   "outputs": [],
   "source": [
    "data['comment']=data['comment'].fillna('No Comment')"
   ]
  },
  {
   "cell_type": "code",
   "execution_count": 6,
   "id": "79af9648",
   "metadata": {
    "id": "79af9648"
   },
   "outputs": [],
   "source": [
    "# Remove Emoji\n",
    "def deEmojify(text):\n",
    "    regrex_pattern = re.compile(pattern = \"[\"\n",
    "        u\"\\U0001F600-\\U0001F64F\"  # emoticons\n",
    "        u\"\\U0001F300-\\U0001F5FF\"  # symbols & pictographs\n",
    "        u\"\\U0001F680-\\U0001F6FF\"  # transport & map symbols\n",
    "        u\"\\U0001F1E0-\\U0001F1FF\"  # flags (iOS)\n",
    "                           \"]+\", flags = re.UNICODE)\n",
    "    return regrex_pattern.sub(r'',text)"
   ]
  },
  {
   "cell_type": "code",
   "execution_count": 7,
   "id": "6ff6919c",
   "metadata": {
    "id": "6ff6919c"
   },
   "outputs": [],
   "source": [
    "def decontractions(phrase):\n",
    "    \"\"\"decontracted takes text and convert contractions into natural form.\n",
    "     ref: https://stackoverflow.com/questions/19790188/expanding-english-language-contractions-in-python/47091490#47091490\"\"\"\n",
    "    # specific\n",
    "    phrase = re.sub(r\"won\\'t\", \"will not\", phrase)\n",
    "    phrase = re.sub(r\"can\\'t\", \"can not\", phrase)\n",
    "    phrase = re.sub(r\"won\\’t\", \"will not\", phrase)\n",
    "    phrase = re.sub(r\"can\\’t\", \"can not\", phrase)\n",
    "\n",
    "    # general\n",
    "    phrase = re.sub(r\"n\\'t\", \" not\", phrase)\n",
    "    phrase = re.sub(r\"\\'re\", \" are\", phrase)\n",
    "    phrase = re.sub(r\"\\'s\", \" is\", phrase)\n",
    "    phrase = re.sub(r\"\\'d\", \" would\", phrase)\n",
    "    phrase = re.sub(r\"\\'ll\", \" will\", phrase)\n",
    "    phrase = re.sub(r\"\\'t\", \" not\", phrase)\n",
    "    phrase = re.sub(r\"\\'ve\", \" have\", phrase)\n",
    "    phrase = re.sub(r\"\\'m\", \" am\", phrase)\n",
    "\n",
    "    phrase = re.sub(r\"n\\’t\", \" not\", phrase)\n",
    "    phrase = re.sub(r\"\\’re\", \" are\", phrase)\n",
    "    phrase = re.sub(r\"\\’s\", \" is\", phrase)\n",
    "    phrase = re.sub(r\"\\’d\", \" would\", phrase)\n",
    "    phrase = re.sub(r\"\\’ll\", \" will\", phrase)\n",
    "    phrase = re.sub(r\"\\’t\", \" not\", phrase)\n",
    "    phrase = re.sub(r\"\\’ve\", \" have\", phrase)\n",
    "    phrase = re.sub(r\"\\’m\", \" am\", phrase)\n",
    "\n",
    "    return phrase"
   ]
  },
  {
   "cell_type": "code",
   "execution_count": 8,
   "id": "Zk8aWj1KYb8L",
   "metadata": {
    "colab": {
     "base_uri": "https://localhost:8080/"
    },
    "id": "Zk8aWj1KYb8L",
    "outputId": "1b88ac64-8cd6-4b41-f597-d1cc28e7de34"
   },
   "outputs": [
    {
     "name": "stdout",
     "output_type": "stream",
     "text": [
      "[nltk_data] Downloading package stopwords to /root/nltk_data...\n",
      "[nltk_data]   Unzipping corpora/stopwords.zip.\n"
     ]
    },
    {
     "data": {
      "text/plain": [
       "True"
      ]
     },
     "execution_count": 8,
     "metadata": {},
     "output_type": "execute_result"
    }
   ],
   "source": [
    "import nltk\n",
    "nltk.download('stopwords')"
   ]
  },
  {
   "cell_type": "code",
   "execution_count": 9,
   "id": "d1832119",
   "metadata": {
    "id": "d1832119"
   },
   "outputs": [],
   "source": [
    "from nltk.corpus import stopwords\n",
    "from tqdm import tqdm\n",
    "import re\n",
    "stopwords = stopwords.words('english')\n",
    "def preprocess(text_col,stopword):\n",
    "    preprocessed = []\n",
    "    for sentence in tqdm(text_col.values):\n",
    "        # Replace \"carriage return\" with \"space\".\n",
    "        sentence=str(sentence)\n",
    "        sent = sentence.replace('\\\\r', ' ')\n",
    "        # Replace \"quotes\" with \"space\".\n",
    "        sent = sent.replace('\\\\\"', ' ')\n",
    "        # Replace \"line feed\" with \"space\".\n",
    "        sent = sent.replace('\\\\n', ' ')\n",
    "        # Replace characters between words with \"space\".\n",
    "        sent = re.sub('[^A-Za-z0-9]+', ' ', sent)\n",
    "        #remove stop words\n",
    "        #decontraction\n",
    "        sent=decontractions(sent)\n",
    "        #Remove emoji\n",
    "        sent=deEmojify(sent)\n",
    "        if stopword:\n",
    "            sent = ' '.join(e for e in sent.split() if e not in stopwords)\n",
    "        else:\n",
    "           sent = ' '.join(e for e in sent.split())\n",
    "        # to lowercase\n",
    "        preprocessed.append(sent.lower().strip())\n",
    "    return preprocessed"
   ]
  },
  {
   "cell_type": "code",
   "execution_count": 10,
   "id": "7c7a5327",
   "metadata": {
    "colab": {
     "base_uri": "https://localhost:8080/"
    },
    "id": "7c7a5327",
    "outputId": "42740900-4d05-4e58-a0e2-708a0363a195"
   },
   "outputs": [
    {
     "name": "stderr",
     "output_type": "stream",
     "text": [
      "100%|██████████| 1010826/1010826 [00:33<00:00, 30369.83it/s]\n"
     ]
    }
   ],
   "source": [
    "data['comment']=preprocess(data['comment'],stopword=False)"
   ]
  },
  {
   "cell_type": "code",
   "execution_count": 11,
   "id": "317c0268",
   "metadata": {
    "colab": {
     "base_uri": "https://localhost:8080/"
    },
    "id": "317c0268",
    "outputId": "78707ce5-caff-4a9f-b59b-f255f7013ed1"
   },
   "outputs": [
    {
     "name": "stderr",
     "output_type": "stream",
     "text": [
      "100%|██████████| 1010826/1010826 [00:41<00:00, 24348.62it/s]\n"
     ]
    }
   ],
   "source": [
    "data['parent_comment']=preprocess(data['parent_comment'],stopword=False)"
   ]
  },
  {
   "cell_type": "code",
   "execution_count": 12,
   "id": "2eba4c80",
   "metadata": {
    "colab": {
     "base_uri": "https://localhost:8080/"
    },
    "id": "2eba4c80",
    "outputId": "952cf015-beec-4f6b-dbd4-26d716c8be7a"
   },
   "outputs": [
    {
     "data": {
      "text/plain": [
       "label             0\n",
       "comment           0\n",
       "author            0\n",
       "subreddit         0\n",
       "score             0\n",
       "ups               0\n",
       "downs             0\n",
       "date              0\n",
       "created_utc       0\n",
       "parent_comment    0\n",
       "dtype: int64"
      ]
     },
     "execution_count": 12,
     "metadata": {},
     "output_type": "execute_result"
    }
   ],
   "source": [
    "data.isnull().sum()"
   ]
  },
  {
   "cell_type": "code",
   "execution_count": 13,
   "id": "bfgb3ize9dyl",
   "metadata": {
    "colab": {
     "base_uri": "https://localhost:8080/"
    },
    "id": "bfgb3ize9dyl",
    "outputId": "7b3bfd8d-e9df-4888-81a2-a704658a879a"
   },
   "outputs": [
    {
     "name": "stdout",
     "output_type": "stream",
     "text": [
      "[nltk_data] Downloading package vader_lexicon to /root/nltk_data...\n"
     ]
    },
    {
     "data": {
      "text/plain": [
       "True"
      ]
     },
     "execution_count": 13,
     "metadata": {},
     "output_type": "execute_result"
    }
   ],
   "source": [
    "import nltk\n",
    "nltk.download('vader_lexicon')"
   ]
  },
  {
   "cell_type": "markdown",
   "id": "uUr78WCH97Vi",
   "metadata": {
    "id": "uUr78WCH97Vi"
   },
   "source": [
    "Polarity Score"
   ]
  },
  {
   "cell_type": "code",
   "execution_count": 14,
   "id": "xdXUDWG08mt2",
   "metadata": {
    "id": "xdXUDWG08mt2"
   },
   "outputs": [],
   "source": [
    "import nltk\n",
    "from tqdm import tqdm\n",
    "from nltk.sentiment.vader import SentimentIntensityAnalyzer\n",
    "def generate_sentiment_scores(data):\n",
    "    sid = SentimentIntensityAnalyzer()\n",
    "    neg=[]\n",
    "    pos=[]\n",
    "    neu=[]\n",
    "    comp=[]\n",
    "    for sentence in tqdm(data['parent_comment'].values): \n",
    "        sentence_sentiment_score = sid.polarity_scores(sentence)\n",
    "        comp.append(sentence_sentiment_score['compound'])\n",
    "        neg.append(sentence_sentiment_score['neg'])\n",
    "        pos.append(sentence_sentiment_score['pos'])\n",
    "        neu.append(sentence_sentiment_score['neu'])\n",
    "    return comp,neg,pos,neu"
   ]
  },
  {
   "cell_type": "code",
   "execution_count": 15,
   "id": "0YNG6kBJ9Lt3",
   "metadata": {
    "colab": {
     "base_uri": "https://localhost:8080/"
    },
    "id": "0YNG6kBJ9Lt3",
    "outputId": "c88b6477-5b54-46f9-ea92-82c2098206e0"
   },
   "outputs": [
    {
     "name": "stderr",
     "output_type": "stream",
     "text": [
      "100%|██████████| 1010826/1010826 [05:37<00:00, 2992.79it/s]\n"
     ]
    }
   ],
   "source": [
    "data['compound'],data['negative'],data['positive'],data['neutral']=generate_sentiment_scores(data)"
   ]
  },
  {
   "cell_type": "code",
   "execution_count": 16,
   "id": "xytZ-DUM9ng5",
   "metadata": {
    "id": "xytZ-DUM9ng5"
   },
   "outputs": [],
   "source": [
    "data['com_len']=data['comment'].apply(lambda x:len(x.split()))"
   ]
  },
  {
   "cell_type": "code",
   "execution_count": 17,
   "id": "pQH7iiAd90XH",
   "metadata": {
    "id": "pQH7iiAd90XH"
   },
   "outputs": [],
   "source": [
    "data['parent_com_len']=data['parent_comment'].apply(lambda x:len(x.split()))"
   ]
  },
  {
   "cell_type": "code",
   "execution_count": 18,
   "id": "1Lp2_GVmTUyf",
   "metadata": {
    "id": "1Lp2_GVmTUyf"
   },
   "outputs": [],
   "source": [
    "data['comment']=data['comment']+\" \"+data['author']+\" \"+data['subreddit']"
   ]
  },
  {
   "cell_type": "markdown",
   "id": "f5agCqVRYcvM",
   "metadata": {
    "id": "f5agCqVRYcvM"
   },
   "source": []
  },
  {
   "cell_type": "code",
   "execution_count": 19,
   "id": "uGptC5k7YYkq",
   "metadata": {
    "colab": {
     "base_uri": "https://localhost:8080/"
    },
    "id": "uGptC5k7YYkq",
    "outputId": "55a0a4e6-1d4b-44f9-f5fb-e4211c4b357d"
   },
   "outputs": [
    {
     "data": {
      "text/plain": [
       "(1010826, 2)"
      ]
     },
     "execution_count": 19,
     "metadata": {},
     "output_type": "execute_result"
    }
   ],
   "source": [
    "labels=tf.keras.utils.to_categorical(data['label'].values,num_classes=2)\n",
    "labels.shape"
   ]
  },
  {
   "cell_type": "code",
   "execution_count": 20,
   "id": "0e968b68",
   "metadata": {
    "id": "0e968b68"
   },
   "outputs": [],
   "source": [
    "y=data['label']\n",
    "X=data.drop(['label','date','created_utc'],axis=1)"
   ]
  },
  {
   "cell_type": "code",
   "execution_count": 21,
   "id": "2477ed82",
   "metadata": {
    "id": "2477ed82"
   },
   "outputs": [],
   "source": [
    "from sklearn.model_selection import train_test_split\n",
    "X_train,X_test,y_train,y_test=train_test_split(X,labels,test_size=0.3,random_state=42,stratify=labels)"
   ]
  },
  {
   "cell_type": "code",
   "execution_count": 22,
   "id": "_Yr8Sp6QTljG",
   "metadata": {
    "id": "_Yr8Sp6QTljG"
   },
   "outputs": [],
   "source": [
    "def pad_text(text,tokenizer,max_len):\n",
    "    return pad_sequences(tokenizer.texts_to_sequences(text),maxlen=max_len,padding='post')"
   ]
  },
  {
   "cell_type": "code",
   "execution_count": 23,
   "id": "GSqTXmvhTsnw",
   "metadata": {
    "id": "GSqTXmvhTsnw"
   },
   "outputs": [],
   "source": [
    "from tensorflow.keras.preprocessing.text import Tokenizer\n",
    "def text_padding(train,test,max_len):\n",
    "    vocab=5000\n",
    "    token=Tokenizer(num_words = vocab,oov_token='OOS')\n",
    "    token.fit_on_texts(train)\n",
    "    padded_train_text=pad_text(train,token,max_len)\n",
    "    padded_test_text=pad_text(test,token,max_len)\n",
    "    return padded_train_text,padded_test_text,token"
   ]
  },
  {
   "cell_type": "code",
   "execution_count": 24,
   "id": "kHEDlj7BTw59",
   "metadata": {
    "id": "kHEDlj7BTw59"
   },
   "outputs": [],
   "source": [
    "comm_len=200\n",
    "train_com_pad,test_com_pad,token_com= text_padding(X_train['comment'],X_test['comment'],comm_len)"
   ]
  },
  {
   "cell_type": "code",
   "execution_count": 25,
   "id": "cm6FNbSTUEkr",
   "metadata": {
    "colab": {
     "base_uri": "https://localhost:8080/"
    },
    "id": "cm6FNbSTUEkr",
    "outputId": "d73c4c5f-bb21-4c82-be2f-4765708e3762"
   },
   "outputs": [
    {
     "name": "stdout",
     "output_type": "stream",
     "text": [
      "(707578, 200) (303248, 200)\n"
     ]
    }
   ],
   "source": [
    "print(train_com_pad.shape,test_com_pad.shape)"
   ]
  },
  {
   "cell_type": "code",
   "execution_count": 26,
   "id": "LOzZ1pFbUQ4x",
   "metadata": {
    "id": "LOzZ1pFbUQ4x"
   },
   "outputs": [],
   "source": [
    "par_comm_len=200\n",
    "train_par_com_pad,test_par_com_pad,token_par= text_padding(X_train['parent_comment'],X_test['parent_comment'],par_comm_len)"
   ]
  },
  {
   "cell_type": "code",
   "execution_count": 27,
   "id": "fhuS_ELwUfXr",
   "metadata": {
    "colab": {
     "base_uri": "https://localhost:8080/"
    },
    "id": "fhuS_ELwUfXr",
    "outputId": "9f88e71f-2ec9-42c8-b53d-2e111eccbe9a"
   },
   "outputs": [
    {
     "name": "stdout",
     "output_type": "stream",
     "text": [
      "(707578, 200) (303248, 200)\n"
     ]
    }
   ],
   "source": [
    "print(train_par_com_pad.shape,test_par_com_pad.shape)"
   ]
  },
  {
   "cell_type": "code",
   "execution_count": 28,
   "id": "3hAcicV2E85v",
   "metadata": {
    "id": "3hAcicV2E85v"
   },
   "outputs": [],
   "source": [
    "def generate_embedding_matrix(token):\n",
    "    embedding_path='/content/gdrive/MyDrive/crawl-300d-2M.vec'\n",
    "    embedding_size=300\n",
    "    vocab_size=5000\n",
    "    embedding_index={}\n",
    "    with open(embedding_path, 'r') as f:\n",
    "         for line in f:\n",
    "             values = line.rstrip().rsplit(' ')\n",
    "             word = values[0]\n",
    "             coefs = np.asarray(values[1:], dtype='float32')\n",
    "             embedding_index[word] = coefs\n",
    "    num_words = len(token.word_index) + 1\n",
    "    embedding_matrix = np.zeros((num_words, embedding_size))\n",
    "    for word, i in token.word_index.items():\n",
    "       embedding_vector = embedding_index.get(word)\n",
    "       if embedding_vector is not None:\n",
    "        # words not found in embedding index will be all-zeros.\n",
    "          embedding_matrix[i] = embedding_vector\n",
    "    return embedding_matrix"
   ]
  },
  {
   "cell_type": "code",
   "execution_count": 29,
   "id": "S4SMjwZ0FYho",
   "metadata": {
    "colab": {
     "base_uri": "https://localhost:8080/"
    },
    "id": "S4SMjwZ0FYho",
    "outputId": "de89e082-f5bb-4179-eb5a-c24e4edfa7ec"
   },
   "outputs": [
    {
     "name": "stdout",
     "output_type": "stream",
     "text": [
      "(362501, 300) (189738, 300)\n"
     ]
    }
   ],
   "source": [
    "embedding_comm_fast = generate_embedding_matrix(token_com)\n",
    "embedding_P_comm_fast = generate_embedding_matrix(token_par)\n",
    "print(embedding_comm_fast.shape,embedding_P_comm_fast.shape)"
   ]
  },
  {
   "cell_type": "code",
   "execution_count": 30,
   "id": "PSrEO7qFHqEw",
   "metadata": {
    "id": "PSrEO7qFHqEw"
   },
   "outputs": [],
   "source": [
    "def generate_embedding_matrix(token):\n",
    "    embedding_path='/content/gdrive/MyDrive/glove.42B.300d.txt'\n",
    "    embedding_dimension=300\n",
    "    embedding_index={}\n",
    "    with open(embedding_path) as f:\n",
    "         for line in f:\n",
    "             values=line.split()\n",
    "             word=values[0]\n",
    "             coefs=np.asarray(values[1:],dtype='float32')\n",
    "             embedding_index[word]=coefs\n",
    "    f.close()        \n",
    "    embedding_matrix=np.zeros((len(token.word_index)+1,embedding_dimension))\n",
    "    num_words_in_embedding = 0\n",
    "    for word, i in token.word_index.items():\n",
    "        embedding_vector = embedding_index.get(word)\n",
    "        if embedding_vector is not None:\n",
    "           embedding_matrix[i] = embedding_vector\n",
    "        #print(\"embedding matrix shape\",embedding_matrix.shape)\n",
    "    return embedding_matrix"
   ]
  },
  {
   "cell_type": "code",
   "execution_count": 31,
   "id": "iaRaFXnqIPXN",
   "metadata": {
    "colab": {
     "base_uri": "https://localhost:8080/"
    },
    "id": "iaRaFXnqIPXN",
    "outputId": "ff8e0079-711c-4b1b-86b7-fe4b1d251143"
   },
   "outputs": [
    {
     "name": "stdout",
     "output_type": "stream",
     "text": [
      "(362501, 300) (189738, 300)\n"
     ]
    }
   ],
   "source": [
    "embedding_comm = generate_embedding_matrix(token_com)\n",
    "embedding_P_comm = generate_embedding_matrix(token_par)\n",
    "print(embedding_comm.shape,embedding_P_comm.shape)"
   ]
  },
  {
   "cell_type": "code",
   "execution_count": 32,
   "id": "567f61bd",
   "metadata": {
    "colab": {
     "base_uri": "https://localhost:8080/"
    },
    "id": "567f61bd",
    "outputId": "321d0ecd-f6ae-4c70-a2d7-a61d347e7b2d"
   },
   "outputs": [
    {
     "name": "stdout",
     "output_type": "stream",
     "text": [
      "CPU times: user 17.9 ms, sys: 994 µs, total: 18.9 ms\n",
      "Wall time: 16.6 ms\n"
     ]
    }
   ],
   "source": [
    "%%time\n",
    "from sklearn.preprocessing import Normalizer\n",
    "trans = Normalizer()\n",
    "X_train_score=trans.fit_transform(X_train['score'].values.reshape(-1,1))\n",
    "X_test_score=trans.transform(X_test['score'].values.reshape(-1,1))"
   ]
  },
  {
   "cell_type": "code",
   "execution_count": 33,
   "id": "3bf9e765",
   "metadata": {
    "colab": {
     "base_uri": "https://localhost:8080/"
    },
    "id": "3bf9e765",
    "outputId": "9d822680-7707-4908-9c1e-2edb10214abd"
   },
   "outputs": [
    {
     "name": "stdout",
     "output_type": "stream",
     "text": [
      "CPU times: user 15 ms, sys: 0 ns, total: 15 ms\n",
      "Wall time: 14.1 ms\n"
     ]
    }
   ],
   "source": [
    "%%time\n",
    "trans = Normalizer()\n",
    "X_train_ups=trans.fit_transform(X_train['ups'].values.reshape(-1,1))\n",
    "X_test_ups=trans.transform(X_test['ups'].values.reshape(-1,1))"
   ]
  },
  {
   "cell_type": "code",
   "execution_count": 34,
   "id": "246001b5",
   "metadata": {
    "colab": {
     "base_uri": "https://localhost:8080/"
    },
    "id": "246001b5",
    "outputId": "3ff74ac8-5f55-40a1-fa0b-ee9023a6b873"
   },
   "outputs": [
    {
     "name": "stdout",
     "output_type": "stream",
     "text": [
      "CPU times: user 15.9 ms, sys: 38 µs, total: 15.9 ms\n",
      "Wall time: 14.7 ms\n"
     ]
    }
   ],
   "source": [
    "%%time\n",
    "trans = Normalizer()\n",
    "X_train_downs=trans.fit_transform(X_train['downs'].values.reshape(-1,1))\n",
    "X_test_downs=trans.transform(X_test['downs'].values.reshape(-1,1))"
   ]
  },
  {
   "cell_type": "code",
   "execution_count": 35,
   "id": "8fSL8b95-U6W",
   "metadata": {
    "colab": {
     "base_uri": "https://localhost:8080/"
    },
    "id": "8fSL8b95-U6W",
    "outputId": "0a48f8e1-7883-421d-a23a-1072139331c9"
   },
   "outputs": [
    {
     "name": "stdout",
     "output_type": "stream",
     "text": [
      "CPU times: user 24.1 ms, sys: 1.05 ms, total: 25.1 ms\n",
      "Wall time: 23.1 ms\n"
     ]
    }
   ],
   "source": [
    "%%time\n",
    "trans = Normalizer()\n",
    "X_train_comp=trans.fit_transform(X_train['compound'].values.reshape(-1,1))\n",
    "X_test_comp=trans.transform(X_test['compound'].values.reshape(-1,1))"
   ]
  },
  {
   "cell_type": "code",
   "execution_count": 36,
   "id": "2PrLRZ9-_VrM",
   "metadata": {
    "colab": {
     "base_uri": "https://localhost:8080/"
    },
    "id": "2PrLRZ9-_VrM",
    "outputId": "515700d2-c5a1-4fe6-8cb1-235860373686"
   },
   "outputs": [
    {
     "name": "stdout",
     "output_type": "stream",
     "text": [
      "CPU times: user 21.9 ms, sys: 2 ms, total: 23.9 ms\n",
      "Wall time: 22.7 ms\n"
     ]
    }
   ],
   "source": [
    "%%time\n",
    "trans = Normalizer()\n",
    "X_train_neg=trans.fit_transform(X_train['negative'].values.reshape(-1,1))\n",
    "X_test_neg=trans.transform(X_test['negative'].values.reshape(-1,1))"
   ]
  },
  {
   "cell_type": "code",
   "execution_count": 37,
   "id": "Vno_GyMh_qf3",
   "metadata": {
    "colab": {
     "base_uri": "https://localhost:8080/"
    },
    "id": "Vno_GyMh_qf3",
    "outputId": "4507e646-5b1b-4121-9cab-716f5d8fd837"
   },
   "outputs": [
    {
     "name": "stdout",
     "output_type": "stream",
     "text": [
      "CPU times: user 20.8 ms, sys: 3.02 ms, total: 23.8 ms\n",
      "Wall time: 23.2 ms\n"
     ]
    }
   ],
   "source": [
    "%%time\n",
    "trans = Normalizer()\n",
    "X_train_pos=trans.fit_transform(X_train['positive'].values.reshape(-1,1))\n",
    "X_test_pos=trans.transform(X_test['positive'].values.reshape(-1,1))"
   ]
  },
  {
   "cell_type": "code",
   "execution_count": 38,
   "id": "N-8eYj14_x-5",
   "metadata": {
    "colab": {
     "base_uri": "https://localhost:8080/"
    },
    "id": "N-8eYj14_x-5",
    "outputId": "20ac338a-b499-457e-96f1-a09d66f7a15e"
   },
   "outputs": [
    {
     "name": "stdout",
     "output_type": "stream",
     "text": [
      "CPU times: user 18.4 ms, sys: 0 ns, total: 18.4 ms\n",
      "Wall time: 17 ms\n"
     ]
    }
   ],
   "source": [
    "%%time\n",
    "trans = Normalizer()\n",
    "X_train_neu=trans.fit_transform(X_train['neutral'].values.reshape(-1,1))\n",
    "X_test_neu=trans.transform(X_test['neutral'].values.reshape(-1,1))"
   ]
  },
  {
   "cell_type": "code",
   "execution_count": 39,
   "id": "JIohW6CN_6v_",
   "metadata": {
    "colab": {
     "base_uri": "https://localhost:8080/"
    },
    "id": "JIohW6CN_6v_",
    "outputId": "1da1599e-73f0-472c-cfbd-b3e47fe33e5c"
   },
   "outputs": [
    {
     "name": "stdout",
     "output_type": "stream",
     "text": [
      "CPU times: user 15.9 ms, sys: 997 µs, total: 16.9 ms\n",
      "Wall time: 16 ms\n"
     ]
    }
   ],
   "source": [
    "%%time\n",
    "trans = Normalizer()\n",
    "X_train_com_len=trans.fit_transform(X_train['com_len'].values.reshape(-1,1))\n",
    "X_test_com_len=trans.transform(X_test['com_len'].values.reshape(-1,1))"
   ]
  },
  {
   "cell_type": "code",
   "execution_count": 40,
   "id": "GgcrfJxWAKqk",
   "metadata": {
    "colab": {
     "base_uri": "https://localhost:8080/"
    },
    "id": "GgcrfJxWAKqk",
    "outputId": "fac836a2-e718-4f34-ac26-f1d968a0f0d8"
   },
   "outputs": [
    {
     "name": "stdout",
     "output_type": "stream",
     "text": [
      "CPU times: user 15.7 ms, sys: 27 µs, total: 15.7 ms\n",
      "Wall time: 14.7 ms\n"
     ]
    }
   ],
   "source": [
    "%%time\n",
    "trans = Normalizer()\n",
    "X_train_parent_com_len=trans.fit_transform(X_train['parent_com_len'].values.reshape(-1,1))\n",
    "X_test_parent_com_len=trans.transform(X_test['parent_com_len'].values.reshape(-1,1))"
   ]
  },
  {
   "cell_type": "code",
   "execution_count": 41,
   "id": "hF3XgpXYBtOw",
   "metadata": {
    "id": "hF3XgpXYBtOw"
   },
   "outputs": [],
   "source": [
    "numerical_train=np.concatenate((X_train_score,X_train_ups,X_train_downs,X_train_comp,X_train_neu,X_train_neg,X_train_pos,X_train_com_len,X_train_parent_com_len),axis=1)\n",
    "numerical_test=np.concatenate((X_test_score,X_test_ups,X_test_downs,X_test_comp,X_test_neu,X_test_neg,X_test_pos,X_test_com_len,X_test_parent_com_len),axis=1)"
   ]
  },
  {
   "cell_type": "code",
   "execution_count": 42,
   "id": "9Qo1odbhV53U",
   "metadata": {
    "colab": {
     "base_uri": "https://localhost:8080/"
    },
    "id": "9Qo1odbhV53U",
    "outputId": "7d24bc3b-4df7-487a-c9c2-bde901d08144"
   },
   "outputs": [
    {
     "name": "stdout",
     "output_type": "stream",
     "text": [
      "(707578, 9) (303248, 9)\n"
     ]
    }
   ],
   "source": [
    "print(numerical_train.shape,numerical_test.shape)"
   ]
  },
  {
   "cell_type": "code",
   "execution_count": 43,
   "id": "b27cl84CWK2O",
   "metadata": {
    "id": "b27cl84CWK2O"
   },
   "outputs": [],
   "source": [
    "X_train=[train_com_pad,train_par_com_pad,numerical_train]\n",
    "X_test=[test_com_pad,test_par_com_pad,numerical_test]"
   ]
  },
  {
   "cell_type": "markdown",
   "id": "bi5jARX1I7c7",
   "metadata": {
    "id": "bi5jARX1I7c7"
   },
   "source": [
    "# **Model:-1**"
   ]
  },
  {
   "cell_type": "markdown",
   "id": "8Eu2stPyJNnh",
   "metadata": {
    "id": "8Eu2stPyJNnh"
   },
   "source": [
    "(a) GRU layer with Embedding without weight"
   ]
  },
  {
   "cell_type": "code",
   "execution_count": 60,
   "id": "q1T0L5z3H4I4",
   "metadata": {
    "id": "q1T0L5z3H4I4"
   },
   "outputs": [],
   "source": [
    "tf.keras.backend.clear_session()"
   ]
  },
  {
   "cell_type": "code",
   "execution_count": 61,
   "id": "ypclrHwDmqZp",
   "metadata": {
    "id": "ypclrHwDmqZp"
   },
   "outputs": [],
   "source": [
    "from tensorflow.keras.layers import concatenate,GRU\n",
    "def GRU_Model(comm_len,token_com,par_comm_len,token_par):\n",
    "    drop_lstm = 0.25\n",
    "    drop_dense = 0.25\n",
    "    num_lstm=150\n",
    "  \n",
    "    input_text_1=Input(shape=(comm_len,), name='Comment', dtype='float32')\n",
    "    sequence_input_1=Embedding(len(token_com.word_index) + 1,300,input_length=comm_len,trainable=False,dtype=tf.float32)(input_text_1)\n",
    "    sequence_input_1=GRU(units=250, return_sequences=True,activation='tanh')(sequence_input_1)\n",
    "    sequence_input_1=GRU(units=250, return_sequences=True,activation='tanh')(sequence_input_1)\n",
    "    sequence_input_1=Flatten()(sequence_input_1)\n",
    "    \n",
    "    input_text_2=Input(shape=(par_comm_len,),name='parent_comment', dtype='float32')\n",
    "    sequence_input_2=Embedding(len(token_par.word_index) + 1,300,input_length=par_comm_len,trainable=False,dtype=tf.float32)(input_text_2)\n",
    "    sequence_input_2=GRU(units=250, return_sequences=True,activation='tanh')(sequence_input_2)\n",
    "    sequence_input_2=GRU(units=250, return_sequences=True,activation='tanh')(sequence_input_2)\n",
    "    sequence_input_2=Flatten()(sequence_input_2)\n",
    "    \n",
    "    \n",
    "    input5 = Input(shape=(9,),name='Numerical', dtype='float32')\n",
    "    flatten_6 = Dense(32,activation='relu',kernel_initializer=he_normal(),kernel_regularizer=l2(0.0001),dtype=tf.float32)(input5)\n",
    "    flatten_6 = Dense(16,activation='relu',kernel_initializer=he_normal(),kernel_regularizer=l2(0.0001),dtype=tf.float32)(flatten_6)\n",
    "    concat=concatenate([sequence_input_1,sequence_input_2,flatten_6],dtype=tf.float32)\n",
    "  \n",
    "    y = Dense(128,activation='relu',kernel_initializer=he_normal(),kernel_regularizer=l2(0.01))(concat)\n",
    "    y = BatchNormalization()(y)\n",
    "    y = Dense(64,activation='relu',kernel_initializer=he_normal(),kernel_regularizer=l2(0.01))(y)\n",
    "    y = BatchNormalization()(y)\n",
    "    y = Dense(32,activation='relu',kernel_initializer=he_normal(),kernel_regularizer=l2(0.01))(y)\n",
    "  \n",
    "    final_output=Dense(2,activation='softmax')(y)\n",
    "  \n",
    "    model= Model(inputs=[input_text_1,input_text_2,input5],outputs=final_output)\n",
    "    return model"
   ]
  },
  {
   "cell_type": "code",
   "execution_count": 62,
   "id": "5IbjMDE6pbno",
   "metadata": {
    "colab": {
     "base_uri": "https://localhost:8080/"
    },
    "id": "5IbjMDE6pbno",
    "outputId": "1361778b-28e4-47ef-9e0a-3276aa0dc1c9"
   },
   "outputs": [
    {
     "name": "stdout",
     "output_type": "stream",
     "text": [
      "Model: \"model\"\n",
      "__________________________________________________________________________________________________\n",
      "Layer (type)                    Output Shape         Param #     Connected to                     \n",
      "==================================================================================================\n",
      "Comment (InputLayer)            [(None, 200)]        0                                            \n",
      "__________________________________________________________________________________________________\n",
      "parent_comment (InputLayer)     [(None, 200)]        0                                            \n",
      "__________________________________________________________________________________________________\n",
      "embedding (Embedding)           (None, 200, 300)     108750300   Comment[0][0]                    \n",
      "__________________________________________________________________________________________________\n",
      "embedding_1 (Embedding)         (None, 200, 300)     56921400    parent_comment[0][0]             \n",
      "__________________________________________________________________________________________________\n",
      "gru (GRU)                       (None, 200, 250)     414000      embedding[0][0]                  \n",
      "__________________________________________________________________________________________________\n",
      "gru_2 (GRU)                     (None, 200, 250)     414000      embedding_1[0][0]                \n",
      "__________________________________________________________________________________________________\n",
      "Numerical (InputLayer)          [(None, 9)]          0                                            \n",
      "__________________________________________________________________________________________________\n",
      "gru_1 (GRU)                     (None, 200, 250)     376500      gru[0][0]                        \n",
      "__________________________________________________________________________________________________\n",
      "gru_3 (GRU)                     (None, 200, 250)     376500      gru_2[0][0]                      \n",
      "__________________________________________________________________________________________________\n",
      "dense (Dense)                   (None, 32)           320         Numerical[0][0]                  \n",
      "__________________________________________________________________________________________________\n",
      "flatten (Flatten)               (None, 50000)        0           gru_1[0][0]                      \n",
      "__________________________________________________________________________________________________\n",
      "flatten_1 (Flatten)             (None, 50000)        0           gru_3[0][0]                      \n",
      "__________________________________________________________________________________________________\n",
      "dense_1 (Dense)                 (None, 16)           528         dense[0][0]                      \n",
      "__________________________________________________________________________________________________\n",
      "concatenate (Concatenate)       (None, 100016)       0           flatten[0][0]                    \n",
      "                                                                 flatten_1[0][0]                  \n",
      "                                                                 dense_1[0][0]                    \n",
      "__________________________________________________________________________________________________\n",
      "dense_2 (Dense)                 (None, 128)          12802176    concatenate[0][0]                \n",
      "__________________________________________________________________________________________________\n",
      "batch_normalization (BatchNorma (None, 128)          512         dense_2[0][0]                    \n",
      "__________________________________________________________________________________________________\n",
      "dense_3 (Dense)                 (None, 64)           8256        batch_normalization[0][0]        \n",
      "__________________________________________________________________________________________________\n",
      "batch_normalization_1 (BatchNor (None, 64)           256         dense_3[0][0]                    \n",
      "__________________________________________________________________________________________________\n",
      "dense_4 (Dense)                 (None, 32)           2080        batch_normalization_1[0][0]      \n",
      "__________________________________________________________________________________________________\n",
      "dense_5 (Dense)                 (None, 2)            66          dense_4[0][0]                    \n",
      "==================================================================================================\n",
      "Total params: 180,066,894\n",
      "Trainable params: 14,394,810\n",
      "Non-trainable params: 165,672,084\n",
      "__________________________________________________________________________________________________\n"
     ]
    }
   ],
   "source": [
    "model1=GRU_Model(comm_len,token_com,par_comm_len,token_par)\n",
    "model1.summary()"
   ]
  },
  {
   "cell_type": "code",
   "execution_count": 63,
   "id": "IpG0dw_GplHe",
   "metadata": {
    "colab": {
     "base_uri": "https://localhost:8080/",
     "height": 1000
    },
    "id": "IpG0dw_GplHe",
    "outputId": "91b3f244-dc61-4015-84f6-76639d0475e5"
   },
   "outputs": [
    {
     "data": {
      "image/png": "[encoded data removed]",
      "text/plain": [
       "<IPython.core.display.Image object>"
      ]
     },
     "execution_count": 63,
     "metadata": {},
     "output_type": "execute_result"
    }
   ],
   "source": [
    "tf.keras.utils.plot_model(\n",
    "    model1, to_file='model.png', show_shapes=True, show_layer_names=True,\n",
    "    rankdir='TB')"
   ]
  },
  {
   "cell_type": "code",
   "execution_count": 64,
   "id": "4N_dQtNapv2A",
   "metadata": {
    "id": "4N_dQtNapv2A"
   },
   "outputs": [],
   "source": [
    "import tensorflow as tf\n",
    "adam = tf.keras.optimizers.Adam(lr=0.0001)\n",
    "model1.compile(optimizer=adam, loss='categorical_crossentropy',metrics=['accuracy'])"
   ]
  },
  {
   "cell_type": "code",
   "execution_count": 65,
   "id": "qtC-W5Irp0Nc",
   "metadata": {
    "id": "qtC-W5Irp0Nc"
   },
   "outputs": [],
   "source": [
    "from tensorflow.keras.callbacks import *\n",
    "import os\n",
    "filepath=\"weights_2.best.hdf1\"\n",
    "checkpoint = ModelCheckpoint(filepath, monitor='val_accuracy', verbose=1, mode='max')\n",
    "earlystop = EarlyStopping(monitor = 'val_accuracy',  mode=\"max\",min_delta = 0, patience = 3,verbose = 1)\n",
    "reduce_lr = ReduceLROnPlateau(monitor = 'val_accuracy', factor = 0.25, patience = 2, verbose = 1)\n",
    "%reload_ext tensorboard\n",
    "import datetime\n",
    "logdir = os.path.join(\"logs_2\", datetime.datetime.now().strftime(\"%Y%m%d-%H%M%S\"))\n",
    "#tensorboard = tf.keras.callbacks.TensorBoard(logdir, histogram_freq=1)\n",
    "tensorboard = TensorBoard(log_dir=logdir, histogram_freq=0, write_graph=True, write_grads=False, write_images=False)\n",
    "callbacks = [checkpoint,reduce_lr,tensorboard,earlystop]"
   ]
  },
  {
   "cell_type": "code",
   "execution_count": 66,
   "id": "AlAkMLWzp5YS",
   "metadata": {
    "colab": {
     "base_uri": "https://localhost:8080/"
    },
    "id": "AlAkMLWzp5YS",
    "outputId": "f3277a05-0e8a-471c-9493-ab8642c2a58c"
   },
   "outputs": [
    {
     "metadata": {
      "tags": null
     },
     "name": "stdout",
     "output_type": "stream",
     "text": [
      "Epoch 1/50\n",
      "1382/1382 [==============================] - 476s 340ms/step - loss: 2.0379 - accuracy: 0.6512 - val_loss: 2.8335 - val_accuracy: 0.5012\n",
      "\n",
      "Epoch 00001: saving model to weights_2.best.hdf1\n"
     ]
    },
    {
     "metadata": {
      "tags": null
     },
     "name": "stderr",
     "output_type": "stream",
     "text": [
      "WARNING:absl:Function `_wrapped_model` contains input name(s) Comment, Numerical with unsupported characters which will be renamed to comment, numerical in the SavedModel.\n",
      "WARNING:absl:Found untraced functions such as gru_cell_layer_call_and_return_conditional_losses, gru_cell_layer_call_fn, gru_cell_2_layer_call_and_return_conditional_losses, gru_cell_2_layer_call_fn, gru_cell_1_layer_call_and_return_conditional_losses while saving (showing 5 of 20). These functions will not be directly callable after loading.\n"
     ]
    },
    {
     "metadata": {
      "tags": null
     },
     "name": "stdout",
     "output_type": "stream",
     "text": [
      "INFO:tensorflow:Assets written to: weights_2.best.hdf1/assets\n"
     ]
    },
    {
     "metadata": {
      "tags": null
     },
     "name": "stderr",
     "output_type": "stream",
     "text": [
      "INFO:tensorflow:Assets written to: weights_2.best.hdf1/assets\n"
     ]
    },
    {
     "metadata": {
      "tags": null
     },
     "name": "stdout",
     "output_type": "stream",
     "text": [
      "Epoch 2/50\n",
      "1382/1382 [==============================] - 468s 339ms/step - loss: 0.9800 - accuracy: 0.6722 - val_loss: 0.9817 - val_accuracy: 0.6251\n",
      "\n",
      "Epoch 00002: saving model to weights_2.best.hdf1\n"
     ]
    },
    {
     "metadata": {
      "tags": null
     },
     "name": "stderr",
     "output_type": "stream",
     "text": [
      "WARNING:absl:Function `_wrapped_model` contains input name(s) Comment, Numerical with unsupported characters which will be renamed to comment, numerical in the SavedModel.\n",
      "WARNING:absl:Found untraced functions such as gru_cell_layer_call_and_return_conditional_losses, gru_cell_layer_call_fn, gru_cell_2_layer_call_and_return_conditional_losses, gru_cell_2_layer_call_fn, gru_cell_1_layer_call_and_return_conditional_losses while saving (showing 5 of 20). These functions will not be directly callable after loading.\n"
     ]
    },
    {
     "metadata": {
      "tags": null
     },
     "name": "stdout",
     "output_type": "stream",
     "text": [
      "INFO:tensorflow:Assets written to: weights_2.best.hdf1/assets\n"
     ]
    },
    {
     "metadata": {
      "tags": null
     },
     "name": "stderr",
     "output_type": "stream",
     "text": [
      "INFO:tensorflow:Assets written to: weights_2.best.hdf1/assets\n"
     ]
    },
    {
     "metadata": {
      "tags": null
     },
     "name": "stdout",
     "output_type": "stream",
     "text": [
      "Epoch 3/50\n",
      "1382/1382 [==============================] - 466s 337ms/step - loss: 0.7230 - accuracy: 0.6802 - val_loss: 4.0350 - val_accuracy: 0.5000\n",
      "\n",
      "Epoch 00003: saving model to weights_2.best.hdf1\n"
     ]
    },
    {
     "metadata": {
      "tags": null
     },
     "name": "stderr",
     "output_type": "stream",
     "text": [
      "WARNING:absl:Function `_wrapped_model` contains input name(s) Comment, Numerical with unsupported characters which will be renamed to comment, numerical in the SavedModel.\n",
      "WARNING:absl:Found untraced functions such as gru_cell_layer_call_and_return_conditional_losses, gru_cell_layer_call_fn, gru_cell_2_layer_call_and_return_conditional_losses, gru_cell_2_layer_call_fn, gru_cell_1_layer_call_and_return_conditional_losses while saving (showing 5 of 20). These functions will not be directly callable after loading.\n"
     ]
    },
    {
     "metadata": {
      "tags": null
     },
     "name": "stdout",
     "output_type": "stream",
     "text": [
      "INFO:tensorflow:Assets written to: weights_2.best.hdf1/assets\n"
     ]
    },
    {
     "metadata": {
      "tags": null
     },
     "name": "stderr",
     "output_type": "stream",
     "text": [
      "INFO:tensorflow:Assets written to: weights_2.best.hdf1/assets\n"
     ]
    },
    {
     "metadata": {
      "tags": null
     },
     "name": "stdout",
     "output_type": "stream",
     "text": [
      "Epoch 4/50\n",
      "1382/1382 [==============================] - 468s 339ms/step - loss: 0.6388 - accuracy: 0.6850 - val_loss: 5.6281 - val_accuracy: 0.5000\n",
      "\n",
      "Epoch 00004: saving model to weights_2.best.hdf1\n"
     ]
    },
    {
     "metadata": {
      "tags": null
     },
     "name": "stderr",
     "output_type": "stream",
     "text": [
      "WARNING:absl:Function `_wrapped_model` contains input name(s) Comment, Numerical with unsupported characters which will be renamed to comment, numerical in the SavedModel.\n",
      "WARNING:absl:Found untraced functions such as gru_cell_layer_call_and_return_conditional_losses, gru_cell_layer_call_fn, gru_cell_2_layer_call_and_return_conditional_losses, gru_cell_2_layer_call_fn, gru_cell_1_layer_call_and_return_conditional_losses while saving (showing 5 of 20). These functions will not be directly callable after loading.\n"
     ]
    },
    {
     "metadata": {
      "tags": null
     },
     "name": "stdout",
     "output_type": "stream",
     "text": [
      "INFO:tensorflow:Assets written to: weights_2.best.hdf1/assets\n"
     ]
    },
    {
     "metadata": {
      "tags": null
     },
     "name": "stderr",
     "output_type": "stream",
     "text": [
      "INFO:tensorflow:Assets written to: weights_2.best.hdf1/assets\n"
     ]
    },
    {
     "name": "stdout",
     "output_type": "stream",
     "text": [
      "\n",
      "Epoch 00004: ReduceLROnPlateau reducing learning rate to 2.499999936844688e-05.\n",
      "Epoch 5/50\n",
      "1382/1382 [==============================] - 467s 338ms/step - loss: 0.6052 - accuracy: 0.6923 - val_loss: 0.7721 - val_accuracy: 0.5225\n",
      "\n",
      "Epoch 00005: saving model to weights_2.best.hdf1\n"
     ]
    },
    {
     "name": "stderr",
     "output_type": "stream",
     "text": [
      "WARNING:absl:Function `_wrapped_model` contains input name(s) Comment, Numerical with unsupported characters which will be renamed to comment, numerical in the SavedModel.\n",
      "WARNING:absl:Found untraced functions such as gru_cell_layer_call_and_return_conditional_losses, gru_cell_layer_call_fn, gru_cell_2_layer_call_and_return_conditional_losses, gru_cell_2_layer_call_fn, gru_cell_1_layer_call_and_return_conditional_losses while saving (showing 5 of 20). These functions will not be directly callable after loading.\n"
     ]
    },
    {
     "name": "stdout",
     "output_type": "stream",
     "text": [
      "INFO:tensorflow:Assets written to: weights_2.best.hdf1/assets\n"
     ]
    },
    {
     "name": "stderr",
     "output_type": "stream",
     "text": [
      "INFO:tensorflow:Assets written to: weights_2.best.hdf1/assets\n"
     ]
    },
    {
     "name": "stdout",
     "output_type": "stream",
     "text": [
      "Epoch 00005: early stopping\n"
     ]
    }
   ],
   "source": [
    "hitory1=model1.fit(x=X_train,y=y_train,epochs=50,batch_size=512,validation_data=(X_test, y_test),callbacks=callbacks)"
   ]
  },
  {
   "cell_type": "code",
   "execution_count": 67,
   "id": "FE2FA4ni5IND",
   "metadata": {
    "colab": {
     "base_uri": "https://localhost:8080/",
     "height": 230
    },
    "id": "FE2FA4ni5IND",
    "outputId": "667d9d05-b5b2-4a3e-8f0a-9ba0f9c47656"
   },
   "outputs": [
    {
     "data": {
      "image/png": "[encoded data removed]",
      "text/plain": [
       "<Figure size 2160x360 with 2 Axes>"
      ]
     },
     "metadata": {
      "needs_background": "light"
     },
     "output_type": "display_data"
    }
   ],
   "source": [
    "import matplotlib.pyplot as plt\n",
    "plt.figure(figsize=(30, 5))\n",
    "plt.subplot(121)\n",
    "plt.plot(hitory1.history['loss'])\n",
    "plt.plot(hitory1.history['val_loss'])\n",
    "plt.title('Model LOSS')\n",
    "plt.ylabel('Loss')\n",
    "plt.xlabel('Epoch')\n",
    "plt.legend(['Train', 'Test'], loc='upper left')\n",
    "\n",
    "# Plot training & validation f1_score\n",
    "plt.subplot(122)\n",
    "plt.plot(hitory1.history['accuracy'])\n",
    "plt.plot(hitory1.history['val_accuracy'])\n",
    "plt.title('Model Accuracy')\n",
    "plt.ylabel('accuracy')\n",
    "plt.xlabel('Epoch')\n",
    "plt.legend(['Train', 'Test'], loc='upper left')\n",
    "plt.show()"
   ]
  },
  {
   "cell_type": "markdown",
   "id": "9ff8ca5b",
   "metadata": {
    "id": "cpZDehskR5OF"
   },
   "source": [
    "# Model:-2"
   ]
  },
  {
   "cell_type": "markdown",
   "id": "jnAxL8nCIzlI",
   "metadata": {
    "id": "jnAxL8nCIzlI"
   },
   "source": [
    "(b ) GRU layer with Embedding with glove weight"
   ]
  },
  {
   "cell_type": "code",
   "execution_count": 68,
   "id": "ZSPnj5phIpfT",
   "metadata": {
    "id": "ZSPnj5phIpfT"
   },
   "outputs": [],
   "source": [
    "from tensorflow.keras.layers import concatenate,GRU\n",
    "def GRU_Model_glove(comm_len,token_com,par_comm_len,token_par):\n",
    "    drop_lstm = 0.25\n",
    "    drop_dense = 0.25\n",
    "    num_lstm=150\n",
    "  \n",
    "    input_text_1=Input(shape=(comm_len,), name='Comment', dtype='float32')\n",
    "    sequence_input_1=Embedding(len(token_com.word_index) + 1,300,weights=[embedding_comm],input_length=comm_len,trainable=False,dtype=tf.float32)(input_text_1)\n",
    "    sequence_input_1=GRU(units=250, return_sequences=True,activation='tanh')(sequence_input_1)\n",
    "    sequence_input_1=GRU(units=250, return_sequences=True,activation='tanh')(sequence_input_1)\n",
    "    sequence_input_1=Flatten()(sequence_input_1)\n",
    "    \n",
    "    input_text_2=Input(shape=(par_comm_len,),name='parent_comment', dtype='float32')\n",
    "    sequence_input_2=Embedding(len(token_par.word_index) + 1,300,weights=[embedding_P_comm],input_length=par_comm_len,trainable=False,dtype=tf.float32)(input_text_2)\n",
    "    sequence_input_2=GRU(units=250, return_sequences=True,activation='tanh')(sequence_input_2)\n",
    "    sequence_input_2=GRU(units=250, return_sequences=True,activation='tanh')(sequence_input_2)\n",
    "    sequence_input_2=Flatten()(sequence_input_2)\n",
    "    \n",
    "    \n",
    "    input5 = Input(shape=(9,),name='Numerical', dtype='float32')\n",
    "    flatten_6 = Dense(32,activation='relu',kernel_initializer=he_normal(),kernel_regularizer=l2(0.0001),dtype=tf.float32)(input5)\n",
    "    flatten_6 = Dense(16,activation='relu',kernel_initializer=he_normal(),kernel_regularizer=l2(0.0001),dtype=tf.float32)(flatten_6)\n",
    "    concat=concatenate([sequence_input_1,sequence_input_2,flatten_6],dtype=tf.float32)\n",
    "  \n",
    "    y = Dense(128,activation='relu',kernel_initializer=he_normal(),kernel_regularizer=l2(0.01))(concat)\n",
    "    y = BatchNormalization()(y)\n",
    "    y = Dense(64,activation='relu',kernel_initializer=he_normal(),kernel_regularizer=l2(0.01))(y)\n",
    "    y = BatchNormalization()(y)\n",
    "    y = Dense(32,activation='relu',kernel_initializer=he_normal(),kernel_regularizer=l2(0.01))(y)\n",
    "  \n",
    "    final_output=Dense(2,activation='softmax')(y)\n",
    "  \n",
    "    model= Model(inputs=[input_text_1,input_text_2,input5],outputs=final_output)\n",
    "    return model"
   ]
  },
  {
   "cell_type": "code",
   "execution_count": 69,
   "id": "xeJuCRLTK0R1",
   "metadata": {
    "colab": {
     "base_uri": "https://localhost:8080/"
    },
    "id": "xeJuCRLTK0R1",
    "outputId": "22e56498-1ce2-4dc1-9c8e-0d70e1f17eaa"
   },
   "outputs": [
    {
     "name": "stdout",
     "output_type": "stream",
     "text": [
      "Model: \"model_1\"\n",
      "__________________________________________________________________________________________________\n",
      "Layer (type)                    Output Shape         Param #     Connected to                     \n",
      "==================================================================================================\n",
      "Comment (InputLayer)            [(None, 200)]        0                                            \n",
      "__________________________________________________________________________________________________\n",
      "parent_comment (InputLayer)     [(None, 200)]        0                                            \n",
      "__________________________________________________________________________________________________\n",
      "embedding_2 (Embedding)         (None, 200, 300)     108750300   Comment[0][0]                    \n",
      "__________________________________________________________________________________________________\n",
      "embedding_3 (Embedding)         (None, 200, 300)     56921400    parent_comment[0][0]             \n",
      "__________________________________________________________________________________________________\n",
      "gru_4 (GRU)                     (None, 200, 250)     414000      embedding_2[0][0]                \n",
      "__________________________________________________________________________________________________\n",
      "gru_6 (GRU)                     (None, 200, 250)     414000      embedding_3[0][0]                \n",
      "__________________________________________________________________________________________________\n",
      "Numerical (InputLayer)          [(None, 9)]          0                                            \n",
      "__________________________________________________________________________________________________\n",
      "gru_5 (GRU)                     (None, 200, 250)     376500      gru_4[0][0]                      \n",
      "__________________________________________________________________________________________________\n",
      "gru_7 (GRU)                     (None, 200, 250)     376500      gru_6[0][0]                      \n",
      "__________________________________________________________________________________________________\n",
      "dense_6 (Dense)                 (None, 32)           320         Numerical[0][0]                  \n",
      "__________________________________________________________________________________________________\n",
      "flatten_2 (Flatten)             (None, 50000)        0           gru_5[0][0]                      \n",
      "__________________________________________________________________________________________________\n",
      "flatten_3 (Flatten)             (None, 50000)        0           gru_7[0][0]                      \n",
      "__________________________________________________________________________________________________\n",
      "dense_7 (Dense)                 (None, 16)           528         dense_6[0][0]                    \n",
      "__________________________________________________________________________________________________\n",
      "concatenate_1 (Concatenate)     (None, 100016)       0           flatten_2[0][0]                  \n",
      "                                                                 flatten_3[0][0]                  \n",
      "                                                                 dense_7[0][0]                    \n",
      "__________________________________________________________________________________________________\n",
      "dense_8 (Dense)                 (None, 128)          12802176    concatenate_1[0][0]              \n",
      "__________________________________________________________________________________________________\n",
      "batch_normalization_2 (BatchNor (None, 128)          512         dense_8[0][0]                    \n",
      "__________________________________________________________________________________________________\n",
      "dense_9 (Dense)                 (None, 64)           8256        batch_normalization_2[0][0]      \n",
      "__________________________________________________________________________________________________\n",
      "batch_normalization_3 (BatchNor (None, 64)           256         dense_9[0][0]                    \n",
      "__________________________________________________________________________________________________\n",
      "dense_10 (Dense)                (None, 32)           2080        batch_normalization_3[0][0]      \n",
      "__________________________________________________________________________________________________\n",
      "dense_11 (Dense)                (None, 2)            66          dense_10[0][0]                   \n",
      "==================================================================================================\n",
      "Total params: 180,066,894\n",
      "Trainable params: 14,394,810\n",
      "Non-trainable params: 165,672,084\n",
      "__________________________________________________________________________________________________\n"
     ]
    }
   ],
   "source": [
    "model=GRU_Model_glove(comm_len,token_com,par_comm_len,token_par)\n",
    "model.summary()"
   ]
  },
  {
   "cell_type": "code",
   "execution_count": 70,
   "id": "jMqv0PifRx9f",
   "metadata": {
    "id": "jMqv0PifRx9f"
   },
   "outputs": [],
   "source": [
    "import tensorflow as tf\n",
    "adam = tf.keras.optimizers.Adam(lr=0.0001)\n",
    "model.compile(optimizer=adam, loss='categorical_crossentropy',metrics=['accuracy'])"
   ]
  },
  {
   "cell_type": "code",
   "execution_count": 71,
   "id": "MLD2FDmvTZGZ",
   "metadata": {
    "id": "MLD2FDmvTZGZ"
   },
   "outputs": [],
   "source": [
    "from tensorflow.keras.callbacks import *\n",
    "import os\n",
    "filepath=\"weights_2.best.hdf1\"\n",
    "checkpoint = ModelCheckpoint(filepath, monitor='val_accuracy', verbose=1, mode='max')\n",
    "earlystop = EarlyStopping(monitor = 'val_accuracy',  mode=\"max\",min_delta = 0, patience = 3,verbose = 1)\n",
    "reduce_lr = ReduceLROnPlateau(monitor = 'val_accuracy', factor = 0.25, patience = 2, verbose = 1)\n",
    "%reload_ext tensorboard\n",
    "import datetime\n",
    "logdir = os.path.join(\"logs_2\", datetime.datetime.now().strftime(\"%Y%m%d-%H%M%S\"))\n",
    "#tensorboard = tf.keras.callbacks.TensorBoard(logdir, histogram_freq=1)\n",
    "tensorboard = TensorBoard(log_dir=logdir, histogram_freq=0, write_graph=True, write_grads=False, write_images=False)\n",
    "callbacks = [checkpoint,reduce_lr,tensorboard,earlystop]"
   ]
  },
  {
   "cell_type": "code",
   "execution_count": 74,
   "id": "h4fFX-xOTcsu",
   "metadata": {
    "colab": {
     "base_uri": "https://localhost:8080/"
    },
    "id": "h4fFX-xOTcsu",
    "outputId": "4a9d9ab3-391a-4a7e-8a0c-bcb7d59d9333"
   },
   "outputs": [
    {
     "metadata": {
      "tags": null
     },
     "name": "stdout",
     "output_type": "stream",
     "text": [
      "Epoch 1/50\n",
      "691/691 [==============================] - 383s 555ms/step - loss: 0.6004 - accuracy: 0.6934 - val_loss: 4.8519 - val_accuracy: 0.5000\n",
      "\n",
      "Epoch 00001: saving model to weights_2.best.hdf1\n"
     ]
    },
    {
     "metadata": {
      "tags": null
     },
     "name": "stderr",
     "output_type": "stream",
     "text": [
      "WARNING:absl:Function `_wrapped_model` contains input name(s) Comment, Numerical with unsupported characters which will be renamed to comment, numerical in the SavedModel.\n",
      "WARNING:absl:Found untraced functions such as gru_cell_layer_call_and_return_conditional_losses, gru_cell_layer_call_fn, gru_cell_2_layer_call_and_return_conditional_losses, gru_cell_2_layer_call_fn, gru_cell_1_layer_call_and_return_conditional_losses while saving (showing 5 of 20). These functions will not be directly callable after loading.\n"
     ]
    },
    {
     "metadata": {
      "tags": null
     },
     "name": "stdout",
     "output_type": "stream",
     "text": [
      "INFO:tensorflow:Assets written to: weights_2.best.hdf1/assets\n"
     ]
    },
    {
     "metadata": {
      "tags": null
     },
     "name": "stderr",
     "output_type": "stream",
     "text": [
      "INFO:tensorflow:Assets written to: weights_2.best.hdf1/assets\n"
     ]
    },
    {
     "metadata": {
      "tags": null
     },
     "name": "stdout",
     "output_type": "stream",
     "text": [
      "Epoch 2/50\n",
      "691/691 [==============================] - 381s 551ms/step - loss: 0.5964 - accuracy: 0.6948 - val_loss: 1.0569 - val_accuracy: 0.5010\n",
      "\n",
      "Epoch 00002: saving model to weights_2.best.hdf1\n"
     ]
    },
    {
     "metadata": {
      "tags": null
     },
     "name": "stderr",
     "output_type": "stream",
     "text": [
      "WARNING:absl:Function `_wrapped_model` contains input name(s) Comment, Numerical with unsupported characters which will be renamed to comment, numerical in the SavedModel.\n",
      "WARNING:absl:Found untraced functions such as gru_cell_layer_call_and_return_conditional_losses, gru_cell_layer_call_fn, gru_cell_2_layer_call_and_return_conditional_losses, gru_cell_2_layer_call_fn, gru_cell_1_layer_call_and_return_conditional_losses while saving (showing 5 of 20). These functions will not be directly callable after loading.\n"
     ]
    },
    {
     "metadata": {
      "tags": null
     },
     "name": "stdout",
     "output_type": "stream",
     "text": [
      "INFO:tensorflow:Assets written to: weights_2.best.hdf1/assets\n"
     ]
    },
    {
     "metadata": {
      "tags": null
     },
     "name": "stderr",
     "output_type": "stream",
     "text": [
      "INFO:tensorflow:Assets written to: weights_2.best.hdf1/assets\n"
     ]
    },
    {
     "metadata": {
      "tags": null
     },
     "name": "stdout",
     "output_type": "stream",
     "text": [
      "Epoch 3/50\n",
      "691/691 [==============================] - 379s 549ms/step - loss: 0.5930 - accuracy: 0.6966 - val_loss: 4.2874 - val_accuracy: 0.5000\n",
      "\n",
      "Epoch 00003: saving model to weights_2.best.hdf1\n"
     ]
    },
    {
     "metadata": {
      "tags": null
     },
     "name": "stderr",
     "output_type": "stream",
     "text": [
      "WARNING:absl:Function `_wrapped_model` contains input name(s) Comment, Numerical with unsupported characters which will be renamed to comment, numerical in the SavedModel.\n",
      "WARNING:absl:Found untraced functions such as gru_cell_layer_call_and_return_conditional_losses, gru_cell_layer_call_fn, gru_cell_2_layer_call_and_return_conditional_losses, gru_cell_2_layer_call_fn, gru_cell_1_layer_call_and_return_conditional_losses while saving (showing 5 of 20). These functions will not be directly callable after loading.\n"
     ]
    },
    {
     "metadata": {
      "tags": null
     },
     "name": "stdout",
     "output_type": "stream",
     "text": [
      "INFO:tensorflow:Assets written to: weights_2.best.hdf1/assets\n"
     ]
    },
    {
     "metadata": {
      "tags": null
     },
     "name": "stderr",
     "output_type": "stream",
     "text": [
      "INFO:tensorflow:Assets written to: weights_2.best.hdf1/assets\n"
     ]
    },
    {
     "metadata": {
      "tags": null
     },
     "name": "stdout",
     "output_type": "stream",
     "text": [
      "Epoch 4/50\n",
      "691/691 [==============================] - 380s 549ms/step - loss: 0.5904 - accuracy: 0.6977 - val_loss: 2.1142 - val_accuracy: 0.5000\n",
      "\n",
      "Epoch 00004: saving model to weights_2.best.hdf1\n"
     ]
    },
    {
     "metadata": {
      "tags": null
     },
     "name": "stderr",
     "output_type": "stream",
     "text": [
      "WARNING:absl:Function `_wrapped_model` contains input name(s) Comment, Numerical with unsupported characters which will be renamed to comment, numerical in the SavedModel.\n",
      "WARNING:absl:Found untraced functions such as gru_cell_layer_call_and_return_conditional_losses, gru_cell_layer_call_fn, gru_cell_2_layer_call_and_return_conditional_losses, gru_cell_2_layer_call_fn, gru_cell_1_layer_call_and_return_conditional_losses while saving (showing 5 of 20). These functions will not be directly callable after loading.\n"
     ]
    },
    {
     "metadata": {
      "tags": null
     },
     "name": "stdout",
     "output_type": "stream",
     "text": [
      "INFO:tensorflow:Assets written to: weights_2.best.hdf1/assets\n"
     ]
    },
    {
     "metadata": {
      "tags": null
     },
     "name": "stderr",
     "output_type": "stream",
     "text": [
      "INFO:tensorflow:Assets written to: weights_2.best.hdf1/assets\n"
     ]
    },
    {
     "metadata": {
      "tags": null
     },
     "name": "stdout",
     "output_type": "stream",
     "text": [
      "\n",
      "Epoch 00004: ReduceLROnPlateau reducing learning rate to 6.24999984211172e-06.\n",
      "Epoch 5/50\n",
      "691/691 [==============================] - 381s 552ms/step - loss: 0.5857 - accuracy: 0.7009 - val_loss: 1.4415 - val_accuracy: 0.5108\n",
      "\n",
      "Epoch 00005: saving model to weights_2.best.hdf1\n"
     ]
    },
    {
     "metadata": {
      "tags": null
     },
     "name": "stderr",
     "output_type": "stream",
     "text": [
      "WARNING:absl:Function `_wrapped_model` contains input name(s) Comment, Numerical with unsupported characters which will be renamed to comment, numerical in the SavedModel.\n",
      "WARNING:absl:Found untraced functions such as gru_cell_layer_call_and_return_conditional_losses, gru_cell_layer_call_fn, gru_cell_2_layer_call_and_return_conditional_losses, gru_cell_2_layer_call_fn, gru_cell_1_layer_call_and_return_conditional_losses while saving (showing 5 of 20). These functions will not be directly callable after loading.\n"
     ]
    },
    {
     "metadata": {
      "tags": null
     },
     "name": "stdout",
     "output_type": "stream",
     "text": [
      "INFO:tensorflow:Assets written to: weights_2.best.hdf1/assets\n"
     ]
    },
    {
     "metadata": {
      "tags": null
     },
     "name": "stderr",
     "output_type": "stream",
     "text": [
      "INFO:tensorflow:Assets written to: weights_2.best.hdf1/assets\n"
     ]
    },
    {
     "metadata": {
      "tags": null
     },
     "name": "stdout",
     "output_type": "stream",
     "text": [
      "Epoch 6/50\n",
      "691/691 [==============================] - 380s 550ms/step - loss: 0.5843 - accuracy: 0.7016 - val_loss: 0.8167 - val_accuracy: 0.5867\n",
      "\n",
      "Epoch 00006: saving model to weights_2.best.hdf1\n"
     ]
    },
    {
     "metadata": {
      "tags": null
     },
     "name": "stderr",
     "output_type": "stream",
     "text": [
      "WARNING:absl:Function `_wrapped_model` contains input name(s) Comment, Numerical with unsupported characters which will be renamed to comment, numerical in the SavedModel.\n",
      "WARNING:absl:Found untraced functions such as gru_cell_layer_call_and_return_conditional_losses, gru_cell_layer_call_fn, gru_cell_2_layer_call_and_return_conditional_losses, gru_cell_2_layer_call_fn, gru_cell_1_layer_call_and_return_conditional_losses while saving (showing 5 of 20). These functions will not be directly callable after loading.\n"
     ]
    },
    {
     "metadata": {
      "tags": null
     },
     "name": "stdout",
     "output_type": "stream",
     "text": [
      "INFO:tensorflow:Assets written to: weights_2.best.hdf1/assets\n"
     ]
    },
    {
     "metadata": {
      "tags": null
     },
     "name": "stderr",
     "output_type": "stream",
     "text": [
      "INFO:tensorflow:Assets written to: weights_2.best.hdf1/assets\n"
     ]
    },
    {
     "metadata": {
      "tags": null
     },
     "name": "stdout",
     "output_type": "stream",
     "text": [
      "Epoch 7/50\n",
      "691/691 [==============================] - 382s 552ms/step - loss: 0.5834 - accuracy: 0.7020 - val_loss: 0.7901 - val_accuracy: 0.5448\n",
      "\n",
      "Epoch 00007: saving model to weights_2.best.hdf1\n"
     ]
    },
    {
     "metadata": {
      "tags": null
     },
     "name": "stderr",
     "output_type": "stream",
     "text": [
      "WARNING:absl:Function `_wrapped_model` contains input name(s) Comment, Numerical with unsupported characters which will be renamed to comment, numerical in the SavedModel.\n",
      "WARNING:absl:Found untraced functions such as gru_cell_layer_call_and_return_conditional_losses, gru_cell_layer_call_fn, gru_cell_2_layer_call_and_return_conditional_losses, gru_cell_2_layer_call_fn, gru_cell_1_layer_call_and_return_conditional_losses while saving (showing 5 of 20). These functions will not be directly callable after loading.\n"
     ]
    },
    {
     "metadata": {
      "tags": null
     },
     "name": "stdout",
     "output_type": "stream",
     "text": [
      "INFO:tensorflow:Assets written to: weights_2.best.hdf1/assets\n"
     ]
    },
    {
     "metadata": {
      "tags": null
     },
     "name": "stderr",
     "output_type": "stream",
     "text": [
      "INFO:tensorflow:Assets written to: weights_2.best.hdf1/assets\n"
     ]
    },
    {
     "metadata": {
      "tags": null
     },
     "name": "stdout",
     "output_type": "stream",
     "text": [
      "Epoch 8/50\n",
      "691/691 [==============================] - 381s 551ms/step - loss: 0.5823 - accuracy: 0.7029 - val_loss: 0.8357 - val_accuracy: 0.5471\n",
      "\n",
      "Epoch 00008: saving model to weights_2.best.hdf1\n"
     ]
    },
    {
     "metadata": {
      "tags": null
     },
     "name": "stderr",
     "output_type": "stream",
     "text": [
      "WARNING:absl:Function `_wrapped_model` contains input name(s) Comment, Numerical with unsupported characters which will be renamed to comment, numerical in the SavedModel.\n",
      "WARNING:absl:Found untraced functions such as gru_cell_layer_call_and_return_conditional_losses, gru_cell_layer_call_fn, gru_cell_2_layer_call_and_return_conditional_losses, gru_cell_2_layer_call_fn, gru_cell_1_layer_call_and_return_conditional_losses while saving (showing 5 of 20). These functions will not be directly callable after loading.\n"
     ]
    },
    {
     "metadata": {
      "tags": null
     },
     "name": "stdout",
     "output_type": "stream",
     "text": [
      "INFO:tensorflow:Assets written to: weights_2.best.hdf1/assets\n"
     ]
    },
    {
     "metadata": {
      "tags": null
     },
     "name": "stderr",
     "output_type": "stream",
     "text": [
      "INFO:tensorflow:Assets written to: weights_2.best.hdf1/assets\n"
     ]
    },
    {
     "metadata": {
      "tags": null
     },
     "name": "stdout",
     "output_type": "stream",
     "text": [
      "\n",
      "Epoch 00008: ReduceLROnPlateau reducing learning rate to 1.56249996052793e-06.\n",
      "Epoch 9/50\n",
      "691/691 [==============================] - 381s 551ms/step - loss: 0.5804 - accuracy: 0.7044 - val_loss: 0.6231 - val_accuracy: 0.6677\n",
      "\n",
      "Epoch 00009: saving model to weights_2.best.hdf1\n"
     ]
    },
    {
     "metadata": {
      "tags": null
     },
     "name": "stderr",
     "output_type": "stream",
     "text": [
      "WARNING:absl:Function `_wrapped_model` contains input name(s) Comment, Numerical with unsupported characters which will be renamed to comment, numerical in the SavedModel.\n",
      "WARNING:absl:Found untraced functions such as gru_cell_layer_call_and_return_conditional_losses, gru_cell_layer_call_fn, gru_cell_2_layer_call_and_return_conditional_losses, gru_cell_2_layer_call_fn, gru_cell_1_layer_call_and_return_conditional_losses while saving (showing 5 of 20). These functions will not be directly callable after loading.\n"
     ]
    },
    {
     "metadata": {
      "tags": null
     },
     "name": "stdout",
     "output_type": "stream",
     "text": [
      "INFO:tensorflow:Assets written to: weights_2.best.hdf1/assets\n"
     ]
    },
    {
     "metadata": {
      "tags": null
     },
     "name": "stderr",
     "output_type": "stream",
     "text": [
      "INFO:tensorflow:Assets written to: weights_2.best.hdf1/assets\n"
     ]
    },
    {
     "metadata": {
      "tags": null
     },
     "name": "stdout",
     "output_type": "stream",
     "text": [
      "Epoch 10/50\n",
      "691/691 [==============================] - 381s 551ms/step - loss: 0.5800 - accuracy: 0.7047 - val_loss: 0.7387 - val_accuracy: 0.5610\n",
      "\n",
      "Epoch 00010: saving model to weights_2.best.hdf1\n"
     ]
    },
    {
     "metadata": {
      "tags": null
     },
     "name": "stderr",
     "output_type": "stream",
     "text": [
      "WARNING:absl:Function `_wrapped_model` contains input name(s) Comment, Numerical with unsupported characters which will be renamed to comment, numerical in the SavedModel.\n",
      "WARNING:absl:Found untraced functions such as gru_cell_layer_call_and_return_conditional_losses, gru_cell_layer_call_fn, gru_cell_2_layer_call_and_return_conditional_losses, gru_cell_2_layer_call_fn, gru_cell_1_layer_call_and_return_conditional_losses while saving (showing 5 of 20). These functions will not be directly callable after loading.\n"
     ]
    },
    {
     "metadata": {
      "tags": null
     },
     "name": "stdout",
     "output_type": "stream",
     "text": [
      "INFO:tensorflow:Assets written to: weights_2.best.hdf1/assets\n"
     ]
    },
    {
     "metadata": {
      "tags": null
     },
     "name": "stderr",
     "output_type": "stream",
     "text": [
      "INFO:tensorflow:Assets written to: weights_2.best.hdf1/assets\n"
     ]
    },
    {
     "metadata": {
      "tags": null
     },
     "name": "stdout",
     "output_type": "stream",
     "text": [
      "Epoch 11/50\n",
      "691/691 [==============================] - 416s 603ms/step - loss: 0.5798 - accuracy: 0.7047 - val_loss: 0.6904 - val_accuracy: 0.6284\n",
      "\n",
      "Epoch 00011: saving model to weights_2.best.hdf1\n"
     ]
    },
    {
     "metadata": {
      "tags": null
     },
     "name": "stderr",
     "output_type": "stream",
     "text": [
      "WARNING:absl:Function `_wrapped_model` contains input name(s) Comment, Numerical with unsupported characters which will be renamed to comment, numerical in the SavedModel.\n",
      "WARNING:absl:Found untraced functions such as gru_cell_layer_call_and_return_conditional_losses, gru_cell_layer_call_fn, gru_cell_2_layer_call_and_return_conditional_losses, gru_cell_2_layer_call_fn, gru_cell_1_layer_call_and_return_conditional_losses while saving (showing 5 of 20). These functions will not be directly callable after loading.\n"
     ]
    },
    {
     "metadata": {
      "tags": null
     },
     "name": "stdout",
     "output_type": "stream",
     "text": [
      "INFO:tensorflow:Assets written to: weights_2.best.hdf1/assets\n"
     ]
    },
    {
     "metadata": {
      "tags": null
     },
     "name": "stderr",
     "output_type": "stream",
     "text": [
      "INFO:tensorflow:Assets written to: weights_2.best.hdf1/assets\n"
     ]
    },
    {
     "metadata": {
      "tags": null
     },
     "name": "stdout",
     "output_type": "stream",
     "text": [
      "\n",
      "Epoch 00011: ReduceLROnPlateau reducing learning rate to 3.906249901319825e-07.\n",
      "Epoch 12/50\n",
      "691/691 [==============================] - 381s 551ms/step - loss: 0.5793 - accuracy: 0.7056 - val_loss: 0.5980 - val_accuracy: 0.6900\n",
      "\n",
      "Epoch 00012: saving model to weights_2.best.hdf1\n"
     ]
    },
    {
     "metadata": {
      "tags": null
     },
     "name": "stderr",
     "output_type": "stream",
     "text": [
      "WARNING:absl:Function `_wrapped_model` contains input name(s) Comment, Numerical with unsupported characters which will be renamed to comment, numerical in the SavedModel.\n",
      "WARNING:absl:Found untraced functions such as gru_cell_layer_call_and_return_conditional_losses, gru_cell_layer_call_fn, gru_cell_2_layer_call_and_return_conditional_losses, gru_cell_2_layer_call_fn, gru_cell_1_layer_call_and_return_conditional_losses while saving (showing 5 of 20). These functions will not be directly callable after loading.\n"
     ]
    },
    {
     "metadata": {
      "tags": null
     },
     "name": "stdout",
     "output_type": "stream",
     "text": [
      "INFO:tensorflow:Assets written to: weights_2.best.hdf1/assets\n"
     ]
    },
    {
     "metadata": {
      "tags": null
     },
     "name": "stderr",
     "output_type": "stream",
     "text": [
      "INFO:tensorflow:Assets written to: weights_2.best.hdf1/assets\n"
     ]
    },
    {
     "metadata": {
      "tags": null
     },
     "name": "stdout",
     "output_type": "stream",
     "text": [
      "Epoch 13/50\n",
      "691/691 [==============================] - 381s 551ms/step - loss: 0.5792 - accuracy: 0.7056 - val_loss: 0.6237 - val_accuracy: 0.6736\n",
      "\n",
      "Epoch 00013: saving model to weights_2.best.hdf1\n"
     ]
    },
    {
     "metadata": {
      "tags": null
     },
     "name": "stderr",
     "output_type": "stream",
     "text": [
      "WARNING:absl:Function `_wrapped_model` contains input name(s) Comment, Numerical with unsupported characters which will be renamed to comment, numerical in the SavedModel.\n",
      "WARNING:absl:Found untraced functions such as gru_cell_layer_call_and_return_conditional_losses, gru_cell_layer_call_fn, gru_cell_2_layer_call_and_return_conditional_losses, gru_cell_2_layer_call_fn, gru_cell_1_layer_call_and_return_conditional_losses while saving (showing 5 of 20). These functions will not be directly callable after loading.\n"
     ]
    },
    {
     "metadata": {
      "tags": null
     },
     "name": "stdout",
     "output_type": "stream",
     "text": [
      "INFO:tensorflow:Assets written to: weights_2.best.hdf1/assets\n"
     ]
    },
    {
     "metadata": {
      "tags": null
     },
     "name": "stderr",
     "output_type": "stream",
     "text": [
      "INFO:tensorflow:Assets written to: weights_2.best.hdf1/assets\n"
     ]
    },
    {
     "metadata": {
      "tags": null
     },
     "name": "stdout",
     "output_type": "stream",
     "text": [
      "Epoch 14/50\n",
      "691/691 [==============================] - 379s 549ms/step - loss: 0.5791 - accuracy: 0.7055 - val_loss: 0.6052 - val_accuracy: 0.6844\n",
      "\n",
      "Epoch 00014: saving model to weights_2.best.hdf1\n"
     ]
    },
    {
     "metadata": {
      "tags": null
     },
     "name": "stderr",
     "output_type": "stream",
     "text": [
      "WARNING:absl:Function `_wrapped_model` contains input name(s) Comment, Numerical with unsupported characters which will be renamed to comment, numerical in the SavedModel.\n",
      "WARNING:absl:Found untraced functions such as gru_cell_layer_call_and_return_conditional_losses, gru_cell_layer_call_fn, gru_cell_2_layer_call_and_return_conditional_losses, gru_cell_2_layer_call_fn, gru_cell_1_layer_call_and_return_conditional_losses while saving (showing 5 of 20). These functions will not be directly callable after loading.\n"
     ]
    },
    {
     "metadata": {
      "tags": null
     },
     "name": "stdout",
     "output_type": "stream",
     "text": [
      "INFO:tensorflow:Assets written to: weights_2.best.hdf1/assets\n"
     ]
    },
    {
     "metadata": {
      "tags": null
     },
     "name": "stderr",
     "output_type": "stream",
     "text": [
      "INFO:tensorflow:Assets written to: weights_2.best.hdf1/assets\n"
     ]
    },
    {
     "metadata": {
      "tags": null
     },
     "name": "stdout",
     "output_type": "stream",
     "text": [
      "\n",
      "Epoch 00014: ReduceLROnPlateau reducing learning rate to 9.765624753299562e-08.\n",
      "Epoch 15/50\n",
      "691/691 [==============================] - 381s 552ms/step - loss: 0.5789 - accuracy: 0.7055 - val_loss: 0.5957 - val_accuracy: 0.6917\n",
      "\n",
      "Epoch 00015: saving model to weights_2.best.hdf1\n"
     ]
    },
    {
     "metadata": {
      "tags": null
     },
     "name": "stderr",
     "output_type": "stream",
     "text": [
      "WARNING:absl:Function `_wrapped_model` contains input name(s) Comment, Numerical with unsupported characters which will be renamed to comment, numerical in the SavedModel.\n",
      "WARNING:absl:Found untraced functions such as gru_cell_layer_call_and_return_conditional_losses, gru_cell_layer_call_fn, gru_cell_2_layer_call_and_return_conditional_losses, gru_cell_2_layer_call_fn, gru_cell_1_layer_call_and_return_conditional_losses while saving (showing 5 of 20). These functions will not be directly callable after loading.\n"
     ]
    },
    {
     "metadata": {
      "tags": null
     },
     "name": "stdout",
     "output_type": "stream",
     "text": [
      "INFO:tensorflow:Assets written to: weights_2.best.hdf1/assets\n"
     ]
    },
    {
     "metadata": {
      "tags": null
     },
     "name": "stderr",
     "output_type": "stream",
     "text": [
      "INFO:tensorflow:Assets written to: weights_2.best.hdf1/assets\n"
     ]
    },
    {
     "metadata": {
      "tags": null
     },
     "name": "stdout",
     "output_type": "stream",
     "text": [
      "Epoch 16/50\n",
      "691/691 [==============================] - 380s 550ms/step - loss: 0.5789 - accuracy: 0.7055 - val_loss: 0.5959 - val_accuracy: 0.6914\n",
      "\n",
      "Epoch 00016: saving model to weights_2.best.hdf1\n"
     ]
    },
    {
     "metadata": {
      "tags": null
     },
     "name": "stderr",
     "output_type": "stream",
     "text": [
      "WARNING:absl:Function `_wrapped_model` contains input name(s) Comment, Numerical with unsupported characters which will be renamed to comment, numerical in the SavedModel.\n",
      "WARNING:absl:Found untraced functions such as gru_cell_layer_call_and_return_conditional_losses, gru_cell_layer_call_fn, gru_cell_2_layer_call_and_return_conditional_losses, gru_cell_2_layer_call_fn, gru_cell_1_layer_call_and_return_conditional_losses while saving (showing 5 of 20). These functions will not be directly callable after loading.\n"
     ]
    },
    {
     "metadata": {
      "tags": null
     },
     "name": "stdout",
     "output_type": "stream",
     "text": [
      "INFO:tensorflow:Assets written to: weights_2.best.hdf1/assets\n"
     ]
    },
    {
     "metadata": {
      "tags": null
     },
     "name": "stderr",
     "output_type": "stream",
     "text": [
      "INFO:tensorflow:Assets written to: weights_2.best.hdf1/assets\n"
     ]
    },
    {
     "name": "stdout",
     "output_type": "stream",
     "text": [
      "Epoch 17/50\n",
      "691/691 [==============================] - 380s 551ms/step - loss: 0.5788 - accuracy: 0.7056 - val_loss: 0.5957 - val_accuracy: 0.6913\n",
      "\n",
      "Epoch 00017: saving model to weights_2.best.hdf1\n"
     ]
    },
    {
     "name": "stderr",
     "output_type": "stream",
     "text": [
      "WARNING:absl:Function `_wrapped_model` contains input name(s) Comment, Numerical with unsupported characters which will be renamed to comment, numerical in the SavedModel.\n",
      "WARNING:absl:Found untraced functions such as gru_cell_layer_call_and_return_conditional_losses, gru_cell_layer_call_fn, gru_cell_2_layer_call_and_return_conditional_losses, gru_cell_2_layer_call_fn, gru_cell_1_layer_call_and_return_conditional_losses while saving (showing 5 of 20). These functions will not be directly callable after loading.\n"
     ]
    },
    {
     "name": "stdout",
     "output_type": "stream",
     "text": [
      "INFO:tensorflow:Assets written to: weights_2.best.hdf1/assets\n"
     ]
    },
    {
     "name": "stderr",
     "output_type": "stream",
     "text": [
      "INFO:tensorflow:Assets written to: weights_2.best.hdf1/assets\n"
     ]
    },
    {
     "name": "stdout",
     "output_type": "stream",
     "text": [
      "\n",
      "Epoch 00017: ReduceLROnPlateau reducing learning rate to 2.4414061883248905e-08.\n",
      "Epoch 18/50\n",
      "691/691 [==============================] - 379s 549ms/step - loss: 0.5788 - accuracy: 0.7056 - val_loss: 0.5956 - val_accuracy: 0.6915\n",
      "\n",
      "Epoch 00018: saving model to weights_2.best.hdf1\n"
     ]
    },
    {
     "name": "stderr",
     "output_type": "stream",
     "text": [
      "WARNING:absl:Function `_wrapped_model` contains input name(s) Comment, Numerical with unsupported characters which will be renamed to comment, numerical in the SavedModel.\n",
      "WARNING:absl:Found untraced functions such as gru_cell_layer_call_and_return_conditional_losses, gru_cell_layer_call_fn, gru_cell_2_layer_call_and_return_conditional_losses, gru_cell_2_layer_call_fn, gru_cell_1_layer_call_and_return_conditional_losses while saving (showing 5 of 20). These functions will not be directly callable after loading.\n"
     ]
    },
    {
     "name": "stdout",
     "output_type": "stream",
     "text": [
      "INFO:tensorflow:Assets written to: weights_2.best.hdf1/assets\n"
     ]
    },
    {
     "name": "stderr",
     "output_type": "stream",
     "text": [
      "INFO:tensorflow:Assets written to: weights_2.best.hdf1/assets\n"
     ]
    },
    {
     "name": "stdout",
     "output_type": "stream",
     "text": [
      "Epoch 00018: early stopping\n"
     ]
    }
   ],
   "source": [
    "hitory1=model1.fit(x=X_train,y=y_train,epochs=50,batch_size=1024,validation_data=(X_test, y_test),callbacks=callbacks)"
   ]
  },
  {
   "cell_type": "code",
   "execution_count": 75,
   "id": "PvcQLTKnaURE",
   "metadata": {
    "colab": {
     "base_uri": "https://localhost:8080/",
     "height": 230
    },
    "id": "PvcQLTKnaURE",
    "outputId": "75361189-8b1b-4365-9a9e-ed3d58bb6caf"
   },
   "outputs": [
    {
     "data": {
      "image/png": "[encoded data removed]",
      "text/plain": [
       "<Figure size 2160x360 with 2 Axes>"
      ]
     },
     "metadata": {
      "needs_background": "light"
     },
     "output_type": "display_data"
    }
   ],
   "source": [
    "import matplotlib.pyplot as plt\n",
    "plt.figure(figsize=(30, 5))\n",
    "plt.subplot(121)\n",
    "plt.plot(hitory1.history['loss'])\n",
    "plt.plot(hitory1.history['val_loss'])\n",
    "plt.title('Model LOSS')\n",
    "plt.ylabel('Loss')\n",
    "plt.xlabel('Epoch')\n",
    "plt.legend(['Train', 'Test'], loc='upper left')\n",
    "\n",
    "# Plot training & validation f1_score\n",
    "plt.subplot(122)\n",
    "plt.plot(hitory1.history['accuracy'])\n",
    "plt.plot(hitory1.history['val_accuracy'])\n",
    "plt.title('Model Accuracy')\n",
    "plt.ylabel('accuracy')\n",
    "plt.xlabel('Epoch')\n",
    "plt.legend(['Train', 'Test'], loc='upper left')\n",
    "plt.show()"
   ]
  },
  {
   "cell_type": "markdown",
   "id": "d9e97383",
   "metadata": {},
   "source": [
    "# Model:-3"
   ]
  },
  {
   "cell_type": "markdown",
   "id": "a1f4c151",
   "metadata": {},
   "source": [
    "(c) GRU layer with Embedding with Fasttext weight"
   ]
  },
  {
   "cell_type": "code",
   "execution_count": 76,
   "id": "WkREpbKVefYL",
   "metadata": {
    "id": "WkREpbKVefYL"
   },
   "outputs": [],
   "source": [
    "from tensorflow.keras.layers import concatenate,GRU\n",
    "def GRU_Model_fast(comm_len,token_com,par_comm_len,token_par):\n",
    "    drop_lstm = 0.25\n",
    "    drop_dense = 0.25\n",
    "    num_lstm=150\n",
    "  \n",
    "    input_text_1=Input(shape=(comm_len,), name='Comment', dtype='float32')\n",
    "    sequence_input_1=Embedding(len(token_com.word_index) + 1,300,weights=[embedding_comm_fast],input_length=comm_len,trainable=False,dtype=tf.float32)(input_text_1)\n",
    "    sequence_input_1=GRU(units=250, return_sequences=True,activation='tanh')(sequence_input_1)\n",
    "    sequence_input_1=GRU(units=250, return_sequences=True,activation='tanh')(sequence_input_1)\n",
    "    sequence_input_1=Flatten()(sequence_input_1)\n",
    "    \n",
    "    input_text_2=Input(shape=(par_comm_len,),name='parent_comment', dtype='float32')\n",
    "    sequence_input_2=Embedding(len(token_par.word_index) + 1,300,weights=[embedding_P_comm_fast],input_length=par_comm_len,trainable=False,dtype=tf.float32)(input_text_2)\n",
    "    sequence_input_2=GRU(units=250, return_sequences=True,activation='tanh')(sequence_input_2)\n",
    "    sequence_input_2=GRU(units=250, return_sequences=True,activation='tanh')(sequence_input_2)\n",
    "    sequence_input_2=Flatten()(sequence_input_2)\n",
    "    \n",
    "    \n",
    "    input5 = Input(shape=(9,),name='Numerical', dtype='float32')\n",
    "    flatten_6 = Dense(32,activation='relu',kernel_initializer=he_normal(),kernel_regularizer=l2(0.0001),dtype=tf.float32)(input5)\n",
    "    flatten_6 = Dense(16,activation='relu',kernel_initializer=he_normal(),kernel_regularizer=l2(0.0001),dtype=tf.float32)(flatten_6)\n",
    "    concat=concatenate([sequence_input_1,sequence_input_2,flatten_6],dtype=tf.float32)\n",
    "  \n",
    "    y = Dense(128,activation='relu',kernel_initializer=he_normal(),kernel_regularizer=l2(0.01))(concat)\n",
    "    y = BatchNormalization()(y)\n",
    "    y = Dense(64,activation='relu',kernel_initializer=he_normal(),kernel_regularizer=l2(0.01))(y)\n",
    "    y = BatchNormalization()(y)\n",
    "    y = Dense(32,activation='relu',kernel_initializer=he_normal(),kernel_regularizer=l2(0.01))(y)\n",
    "  \n",
    "    final_output=Dense(2,activation='softmax')(y)\n",
    "  \n",
    "    model= Model(inputs=[input_text_1,input_text_2,input5],outputs=final_output)\n",
    "    return model"
   ]
  },
  {
   "cell_type": "code",
   "execution_count": 77,
   "id": "RhBPVQwDefS0",
   "metadata": {
    "colab": {
     "base_uri": "https://localhost:8080/"
    },
    "id": "RhBPVQwDefS0",
    "outputId": "41171eda-f48c-4755-bd0a-0d5643272231"
   },
   "outputs": [
    {
     "name": "stdout",
     "output_type": "stream",
     "text": [
      "Model: \"model_2\"\n",
      "__________________________________________________________________________________________________\n",
      "Layer (type)                    Output Shape         Param #     Connected to                     \n",
      "==================================================================================================\n",
      "Comment (InputLayer)            [(None, 200)]        0                                            \n",
      "__________________________________________________________________________________________________\n",
      "parent_comment (InputLayer)     [(None, 200)]        0                                            \n",
      "__________________________________________________________________________________________________\n",
      "embedding_4 (Embedding)         (None, 200, 300)     108750300   Comment[0][0]                    \n",
      "__________________________________________________________________________________________________\n",
      "embedding_5 (Embedding)         (None, 200, 300)     56921400    parent_comment[0][0]             \n",
      "__________________________________________________________________________________________________\n",
      "gru_8 (GRU)                     (None, 200, 250)     414000      embedding_4[0][0]                \n",
      "__________________________________________________________________________________________________\n",
      "gru_10 (GRU)                    (None, 200, 250)     414000      embedding_5[0][0]                \n",
      "__________________________________________________________________________________________________\n",
      "Numerical (InputLayer)          [(None, 9)]          0                                            \n",
      "__________________________________________________________________________________________________\n",
      "gru_9 (GRU)                     (None, 200, 250)     376500      gru_8[0][0]                      \n",
      "__________________________________________________________________________________________________\n",
      "gru_11 (GRU)                    (None, 200, 250)     376500      gru_10[0][0]                     \n",
      "__________________________________________________________________________________________________\n",
      "dense_12 (Dense)                (None, 32)           320         Numerical[0][0]                  \n",
      "__________________________________________________________________________________________________\n",
      "flatten_4 (Flatten)             (None, 50000)        0           gru_9[0][0]                      \n",
      "__________________________________________________________________________________________________\n",
      "flatten_5 (Flatten)             (None, 50000)        0           gru_11[0][0]                     \n",
      "__________________________________________________________________________________________________\n",
      "dense_13 (Dense)                (None, 16)           528         dense_12[0][0]                   \n",
      "__________________________________________________________________________________________________\n",
      "concatenate_2 (Concatenate)     (None, 100016)       0           flatten_4[0][0]                  \n",
      "                                                                 flatten_5[0][0]                  \n",
      "                                                                 dense_13[0][0]                   \n",
      "__________________________________________________________________________________________________\n",
      "dense_14 (Dense)                (None, 128)          12802176    concatenate_2[0][0]              \n",
      "__________________________________________________________________________________________________\n",
      "batch_normalization_4 (BatchNor (None, 128)          512         dense_14[0][0]                   \n",
      "__________________________________________________________________________________________________\n",
      "dense_15 (Dense)                (None, 64)           8256        batch_normalization_4[0][0]      \n",
      "__________________________________________________________________________________________________\n",
      "batch_normalization_5 (BatchNor (None, 64)           256         dense_15[0][0]                   \n",
      "__________________________________________________________________________________________________\n",
      "dense_16 (Dense)                (None, 32)           2080        batch_normalization_5[0][0]      \n",
      "__________________________________________________________________________________________________\n",
      "dense_17 (Dense)                (None, 2)            66          dense_16[0][0]                   \n",
      "==================================================================================================\n",
      "Total params: 180,066,894\n",
      "Trainable params: 14,394,810\n",
      "Non-trainable params: 165,672,084\n",
      "__________________________________________________________________________________________________\n"
     ]
    }
   ],
   "source": [
    "model=GRU_Model_fast(comm_len,token_com,par_comm_len,token_par)\n",
    "model.summary()"
   ]
  },
  {
   "cell_type": "code",
   "execution_count": 78,
   "id": "Jju3u6gihs2P",
   "metadata": {
    "id": "Jju3u6gihs2P"
   },
   "outputs": [],
   "source": [
    "import tensorflow as tf\n",
    "adam = tf.keras.optimizers.Adam(lr=0.0001)\n",
    "model.compile(optimizer=adam, loss='categorical_crossentropy',metrics=['accuracy'])"
   ]
  },
  {
   "cell_type": "code",
   "execution_count": 79,
   "id": "D7bDH0x_hwwG",
   "metadata": {
    "id": "D7bDH0x_hwwG"
   },
   "outputs": [],
   "source": [
    "from tensorflow.keras.callbacks import *\n",
    "import os\n",
    "filepath=\"weights_2.best.hdf1\"\n",
    "checkpoint = ModelCheckpoint(filepath, monitor='val_accuracy', verbose=1, mode='max')\n",
    "earlystop = EarlyStopping(monitor = 'val_accuracy',  mode=\"max\",min_delta = 0, patience = 3,verbose = 1)\n",
    "reduce_lr = ReduceLROnPlateau(monitor = 'val_accuracy', factor = 0.25, patience = 2, verbose = 1)\n",
    "%reload_ext tensorboard\n",
    "import datetime\n",
    "logdir = os.path.join(\"logs_2\", datetime.datetime.now().strftime(\"%Y%m%d-%H%M%S\"))\n",
    "#tensorboard = tf.keras.callbacks.TensorBoard(logdir, histogram_freq=1)\n",
    "tensorboard = TensorBoard(log_dir=logdir, histogram_freq=0, write_graph=True, write_grads=False, write_images=False)\n",
    "callbacks = [checkpoint,reduce_lr,tensorboard,earlystop]"
   ]
  },
  {
   "cell_type": "code",
   "execution_count": 80,
   "id": "ExUmXY4sh1mA",
   "metadata": {
    "colab": {
     "base_uri": "https://localhost:8080/"
    },
    "id": "ExUmXY4sh1mA",
    "outputId": "02e3e04c-a682-40ee-b6ff-c7b1f4444242"
   },
   "outputs": [
    {
     "name": "stdout",
     "output_type": "stream",
     "text": [
      "Epoch 1/50\n",
      "691/691 [==============================] - 381s 551ms/step - loss: 0.5788 - accuracy: 0.7058 - val_loss: 0.5957 - val_accuracy: 0.6917\n",
      "\n",
      "Epoch 00001: saving model to weights_2.best.hdf1\n"
     ]
    },
    {
     "name": "stderr",
     "output_type": "stream",
     "text": [
      "WARNING:absl:Function `_wrapped_model` contains input name(s) Comment, Numerical with unsupported characters which will be renamed to comment, numerical in the SavedModel.\n",
      "WARNING:absl:Found untraced functions such as gru_cell_layer_call_and_return_conditional_losses, gru_cell_layer_call_fn, gru_cell_2_layer_call_and_return_conditional_losses, gru_cell_2_layer_call_fn, gru_cell_1_layer_call_and_return_conditional_losses while saving (showing 5 of 20). These functions will not be directly callable after loading.\n"
     ]
    },
    {
     "name": "stdout",
     "output_type": "stream",
     "text": [
      "INFO:tensorflow:Assets written to: weights_2.best.hdf1/assets\n"
     ]
    },
    {
     "name": "stderr",
     "output_type": "stream",
     "text": [
      "INFO:tensorflow:Assets written to: weights_2.best.hdf1/assets\n"
     ]
    },
    {
     "name": "stdout",
     "output_type": "stream",
     "text": [
      "Epoch 2/50\n",
      "691/691 [==============================] - 379s 548ms/step - loss: 0.5788 - accuracy: 0.7058 - val_loss: 0.5956 - val_accuracy: 0.6914\n",
      "\n",
      "Epoch 00002: saving model to weights_2.best.hdf1\n"
     ]
    },
    {
     "name": "stderr",
     "output_type": "stream",
     "text": [
      "WARNING:absl:Function `_wrapped_model` contains input name(s) Comment, Numerical with unsupported characters which will be renamed to comment, numerical in the SavedModel.\n",
      "WARNING:absl:Found untraced functions such as gru_cell_layer_call_and_return_conditional_losses, gru_cell_layer_call_fn, gru_cell_2_layer_call_and_return_conditional_losses, gru_cell_2_layer_call_fn, gru_cell_1_layer_call_and_return_conditional_losses while saving (showing 5 of 20). These functions will not be directly callable after loading.\n"
     ]
    },
    {
     "name": "stdout",
     "output_type": "stream",
     "text": [
      "INFO:tensorflow:Assets written to: weights_2.best.hdf1/assets\n"
     ]
    },
    {
     "name": "stderr",
     "output_type": "stream",
     "text": [
      "INFO:tensorflow:Assets written to: weights_2.best.hdf1/assets\n"
     ]
    },
    {
     "name": "stdout",
     "output_type": "stream",
     "text": [
      "Epoch 3/50\n",
      "691/691 [==============================] - 379s 549ms/step - loss: 0.5788 - accuracy: 0.7057 - val_loss: 0.5956 - val_accuracy: 0.6915\n",
      "\n",
      "Epoch 00003: saving model to weights_2.best.hdf1\n"
     ]
    },
    {
     "name": "stderr",
     "output_type": "stream",
     "text": [
      "WARNING:absl:Function `_wrapped_model` contains input name(s) Comment, Numerical with unsupported characters which will be renamed to comment, numerical in the SavedModel.\n",
      "WARNING:absl:Found untraced functions such as gru_cell_layer_call_and_return_conditional_losses, gru_cell_layer_call_fn, gru_cell_2_layer_call_and_return_conditional_losses, gru_cell_2_layer_call_fn, gru_cell_1_layer_call_and_return_conditional_losses while saving (showing 5 of 20). These functions will not be directly callable after loading.\n"
     ]
    },
    {
     "name": "stdout",
     "output_type": "stream",
     "text": [
      "INFO:tensorflow:Assets written to: weights_2.best.hdf1/assets\n"
     ]
    },
    {
     "name": "stderr",
     "output_type": "stream",
     "text": [
      "INFO:tensorflow:Assets written to: weights_2.best.hdf1/assets\n"
     ]
    },
    {
     "name": "stdout",
     "output_type": "stream",
     "text": [
      "\n",
      "Epoch 00003: ReduceLROnPlateau reducing learning rate to 6.103515470812226e-09.\n",
      "Epoch 4/50\n",
      "691/691 [==============================] - 380s 550ms/step - loss: 0.5788 - accuracy: 0.7056 - val_loss: 0.5956 - val_accuracy: 0.6916\n",
      "\n",
      "Epoch 00004: saving model to weights_2.best.hdf1\n"
     ]
    },
    {
     "name": "stderr",
     "output_type": "stream",
     "text": [
      "WARNING:absl:Function `_wrapped_model` contains input name(s) Comment, Numerical with unsupported characters which will be renamed to comment, numerical in the SavedModel.\n",
      "WARNING:absl:Found untraced functions such as gru_cell_layer_call_and_return_conditional_losses, gru_cell_layer_call_fn, gru_cell_2_layer_call_and_return_conditional_losses, gru_cell_2_layer_call_fn, gru_cell_1_layer_call_and_return_conditional_losses while saving (showing 5 of 20). These functions will not be directly callable after loading.\n"
     ]
    },
    {
     "name": "stdout",
     "output_type": "stream",
     "text": [
      "INFO:tensorflow:Assets written to: weights_2.best.hdf1/assets\n"
     ]
    },
    {
     "name": "stderr",
     "output_type": "stream",
     "text": [
      "INFO:tensorflow:Assets written to: weights_2.best.hdf1/assets\n"
     ]
    },
    {
     "name": "stdout",
     "output_type": "stream",
     "text": [
      "Epoch 00004: early stopping\n"
     ]
    }
   ],
   "source": [
    "hitory1=model1.fit(x=X_train,y=y_train,epochs=50,batch_size=1024,validation_data=(X_test, y_test),callbacks=callbacks)"
   ]
  },
  {
   "cell_type": "code",
   "execution_count": 82,
   "id": "RvUSnpYAh8z-",
   "metadata": {
    "colab": {
     "base_uri": "https://localhost:8080/",
     "height": 435
    },
    "id": "RvUSnpYAh8z-",
    "outputId": "40603e14-b827-4e72-f118-b6ac62ccadc8"
   },
   "outputs": [
    {
     "data": {
      "image/png": "[encoded data removed]",
      "text/plain": [
       "<Figure size 2160x360 with 2 Axes>"
      ]
     },
     "metadata": {
      "needs_background": "light"
     },
     "output_type": "display_data"
    },
    {
     "data": {
      "image/png": "[encoded data removed]",
      "text/plain": [
       "<Figure size 2160x360 with 2 Axes>"
      ]
     },
     "metadata": {
      "needs_background": "light"
     },
     "output_type": "display_data"
    }
   ],
   "source": [
    "import matplotlib.pyplot as plt\n",
    "plt.figure(figsize=(30, 5))\n",
    "plt.subplot(121)\n",
    "plt.plot(hitory1.history['loss'])\n",
    "plt.plot(hitory1.history['val_loss'])\n",
    "plt.title('Model LOSS')\n",
    "plt.ylabel('Loss')\n",
    "plt.xlabel('Epoch')\n",
    "plt.legend(['Train', 'Test'], loc='upper left')\n",
    "\n",
    "# Plot training & validation f1_score\n",
    "plt.subplot(122)\n",
    "plt.plot(hitory1.history['accuracy'])\n",
    "plt.plot(hitory1.history['val_accuracy'])\n",
    "plt.title('Model Accuracy')\n",
    "plt.ylabel('accuracy')\n",
    "plt.xlabel('Epoch')\n",
    "plt.legend(['Train', 'Test'], loc='upper left')\n",
    "plt.show()"
   ]
  },
  {
   "cell_type": "markdown",
   "id": "3g4ZnzjJ5NDt",
   "metadata": {
    "id": "3g4ZnzjJ5NDt"
   },
   "source": [
    "# **Model:-4**"
   ]
  },
  {
   "cell_type": "markdown",
   "id": "3ganuuuFJSYE",
   "metadata": {
    "id": "3ganuuuFJSYE"
   },
   "source": [
    "Bidirectional LSTM layer with Embedding without weight"
   ]
  },
  {
   "cell_type": "code",
   "execution_count": null,
   "id": "Os6kqnON50j7",
   "metadata": {
    "id": "Os6kqnON50j7"
   },
   "outputs": [],
   "source": [
    "from tensorflow.keras.layers import Bidirectional, GlobalMaxPool1D"
   ]
  },
  {
   "cell_type": "code",
   "execution_count": null,
   "id": "XYAOeVng5LRR",
   "metadata": {
    "id": "XYAOeVng5LRR"
   },
   "outputs": [],
   "source": [
    "from tensorflow.keras.layers import concatenate\n",
    "def Bi_LSTM_Model(comm_len,token_com,par_comm_len,token_par):\n",
    "    drop_lstm = 0.25\n",
    "    drop_dense = 0.25\n",
    "    num_lstm=150\n",
    "  \n",
    "    input_text_1=Input(shape=(comm_len,), name='Comment', dtype='float32')\n",
    "    sequence_input_1=Embedding(len(token_com.word_index) + 1,100,input_length=comm_len,trainable=False,dtype=tf.float32)(input_text_1)\n",
    "    sequence_input_1=Bidirectional(LSTM(num_lstm,dropout=drop_lstm,return_sequences=True,dtype=tf.float32))(sequence_input_1)\n",
    "    sequence_input_1=Flatten()(sequence_input_1)\n",
    "    \n",
    "    input_text_2=Input(shape=(par_comm_len,),name='parent_comment', dtype='float32')\n",
    "    sequence_input_2=Embedding(len(token_par.word_index) + 1,100,input_length=par_comm_len,trainable=False,dtype=tf.float32)(input_text_2)\n",
    "    sequence_input_2=Bidirectional(LSTM(num_lstm,dropout=drop_lstm,return_sequences=True,dtype=tf.float32))(sequence_input_2)\n",
    "    sequence_input_2=Flatten()(sequence_input_2)\n",
    "    \n",
    "    \n",
    "    input5 = Input(shape=(9,),name='Numerical', dtype='float32')\n",
    "    flatten_6 = Dense(32,activation='relu',kernel_initializer=he_normal(),kernel_regularizer=l2(0.0001),dtype=tf.float32)(input5)\n",
    "    flatten_6 = Dense(16,activation='relu',kernel_initializer=he_normal(),kernel_regularizer=l2(0.0001),dtype=tf.float32)(flatten_6)\n",
    "    concat=concatenate([sequence_input_1,sequence_input_2,flatten_6],dtype=tf.float32)\n",
    "  \n",
    "    y = Dense(128,activation='relu',kernel_initializer=he_normal(),kernel_regularizer=l2(0.01))(concat)\n",
    "    y = BatchNormalization()(y)\n",
    "    y = Dense(64,activation='relu',kernel_initializer=he_normal(),kernel_regularizer=l2(0.01))(y)\n",
    "    y = BatchNormalization()(y)\n",
    "    y = Dense(32,activation='relu',kernel_initializer=he_normal(),kernel_regularizer=l2(0.01))(y)\n",
    "  \n",
    "    final_output=Dense(2,activation='softmax')(y)\n",
    "  \n",
    "    model= Model(inputs=[input_text_1,input_text_2,input5],outputs=final_output)\n",
    "    return model"
   ]
  },
  {
   "cell_type": "code",
   "execution_count": null,
   "id": "2wkiKe_-5oqQ",
   "metadata": {
    "colab": {
     "base_uri": "https://localhost:8080/"
    },
    "id": "2wkiKe_-5oqQ",
    "outputId": "6e61cdb2-c8b6-4bec-cd16-fc6a3489b4d1"
   },
   "outputs": [
    {
     "name": "stdout",
     "output_type": "stream",
     "text": [
      "Model: \"model_2\"\n",
      "__________________________________________________________________________________________________\n",
      "Layer (type)                    Output Shape         Param #     Connected to                     \n",
      "==================================================================================================\n",
      "Comment (InputLayer)            [(None, 200)]        0                                            \n",
      "__________________________________________________________________________________________________\n",
      "parent_comment (InputLayer)     [(None, 200)]        0                                            \n",
      "__________________________________________________________________________________________________\n",
      "embedding_5 (Embedding)         (None, 200, 100)     36250100    Comment[0][0]                    \n",
      "__________________________________________________________________________________________________\n",
      "embedding_6 (Embedding)         (None, 200, 100)     18973800    parent_comment[0][0]             \n",
      "__________________________________________________________________________________________________\n",
      "Numerical (InputLayer)          [(None, 9)]          0                                            \n",
      "__________________________________________________________________________________________________\n",
      "bidirectional (Bidirectional)   (None, 200, 300)     301200      embedding_5[0][0]                \n",
      "__________________________________________________________________________________________________\n",
      "bidirectional_1 (Bidirectional) (None, 200, 300)     301200      embedding_6[0][0]                \n",
      "__________________________________________________________________________________________________\n",
      "dense_12 (Dense)                (None, 32)           320         Numerical[0][0]                  \n",
      "__________________________________________________________________________________________________\n",
      "flatten_4 (Flatten)             (None, 60000)        0           bidirectional[0][0]              \n",
      "__________________________________________________________________________________________________\n",
      "flatten_5 (Flatten)             (None, 60000)        0           bidirectional_1[0][0]            \n",
      "__________________________________________________________________________________________________\n",
      "dense_13 (Dense)                (None, 16)           528         dense_12[0][0]                   \n",
      "__________________________________________________________________________________________________\n",
      "concatenate_2 (Concatenate)     (None, 120016)       0           flatten_4[0][0]                  \n",
      "                                                                 flatten_5[0][0]                  \n",
      "                                                                 dense_13[0][0]                   \n",
      "__________________________________________________________________________________________________\n",
      "dense_14 (Dense)                (None, 128)          15362176    concatenate_2[0][0]              \n",
      "__________________________________________________________________________________________________\n",
      "batch_normalization_4 (BatchNor (None, 128)          512         dense_14[0][0]                   \n",
      "__________________________________________________________________________________________________\n",
      "dense_15 (Dense)                (None, 64)           8256        batch_normalization_4[0][0]      \n",
      "__________________________________________________________________________________________________\n",
      "batch_normalization_5 (BatchNor (None, 64)           256         dense_15[0][0]                   \n",
      "__________________________________________________________________________________________________\n",
      "dense_16 (Dense)                (None, 32)           2080        batch_normalization_5[0][0]      \n",
      "__________________________________________________________________________________________________\n",
      "dense_17 (Dense)                (None, 2)            66          dense_16[0][0]                   \n",
      "==================================================================================================\n",
      "Total params: 71,200,494\n",
      "Trainable params: 15,976,210\n",
      "Non-trainable params: 55,224,284\n",
      "__________________________________________________________________________________________________\n"
     ]
    }
   ],
   "source": [
    "model2=Bi_LSTM_Model(comm_len,token_com,par_comm_len,token_par)\n",
    "model2.summary()"
   ]
  },
  {
   "cell_type": "code",
   "execution_count": null,
   "id": "K_iAIAK75ufb",
   "metadata": {
    "colab": {
     "base_uri": "https://localhost:8080/",
     "height": 1000
    },
    "id": "K_iAIAK75ufb",
    "outputId": "0b2d2776-9c7e-4643-b5aa-a0ec5a446f5f"
   },
   "outputs": [
    {
     "data": {
      "image/png": "[encoded data removed]",
      "text/plain": [
       "<IPython.core.display.Image object>"
      ]
     },
     "execution_count": 70,
     "metadata": {},
     "output_type": "execute_result"
    }
   ],
   "source": [
    "tf.keras.utils.plot_model(\n",
    "    model2, to_file='model.png', show_shapes=True, show_layer_names=True,\n",
    "    rankdir='TB')"
   ]
  },
  {
   "cell_type": "code",
   "execution_count": null,
   "id": "-AF4e0Gw586m",
   "metadata": {
    "id": "-AF4e0Gw586m"
   },
   "outputs": [],
   "source": [
    "from tensorflow.keras.callbacks import *\n",
    "import os\n",
    "filepath=\"weights_3.best.hdf1\"\n",
    "checkpoint = ModelCheckpoint(filepath, monitor='val_accuracy', verbose=1, mode='max')\n",
    "earlystop = EarlyStopping(monitor = 'val_accuracy',  mode=\"max\",min_delta = 0, patience = 3,verbose = 1)\n",
    "reduce_lr = ReduceLROnPlateau(monitor = 'val_accuracy', factor = 0.25, patience = 2, verbose = 1)\n",
    "%reload_ext tensorboard\n",
    "import datetime\n",
    "logdir = os.path.join(\"logs_3\", datetime.datetime.now().strftime(\"%Y%m%d-%H%M%S\"))\n",
    "#tensorboard = tf.keras.callbacks.TensorBoard(logdir, histogram_freq=1)\n",
    "tensorboard = TensorBoard(log_dir=logdir, histogram_freq=0, write_graph=True, write_grads=False, write_images=False)\n",
    "callbacks = [checkpoint,reduce_lr,tensorboard,earlystop]"
   ]
  },
  {
   "cell_type": "code",
   "execution_count": null,
   "id": "1KBky6gd6MEj",
   "metadata": {
    "id": "1KBky6gd6MEj"
   },
   "outputs": [],
   "source": [
    "import tensorflow as tf\n",
    "adam = tf.keras.optimizers.Adam(lr=0.0001)\n",
    "model2.compile(optimizer=adam, loss='categorical_crossentropy',metrics=['accuracy'])"
   ]
  },
  {
   "cell_type": "code",
   "execution_count": null,
   "id": "3s3u2A-p6BXU",
   "metadata": {
    "colab": {
     "background_save": true,
     "base_uri": "https://localhost:8080/"
    },
    "id": "3s3u2A-p6BXU",
    "outputId": "d532345a-40b3-498c-b431-622b7407963c"
   },
   "outputs": [
    {
     "name": "stdout",
     "output_type": "stream",
     "text": [
      "Epoch 1/50\n",
      "1382/1382 [==============================] - 391s 278ms/step - loss: 2.2136 - accuracy: 0.6164 - val_loss: 2.9130 - val_accuracy: 0.5009\n",
      "\n",
      "Epoch 00001: saving model to weights_3.best.hdf1\n"
     ]
    },
    {
     "name": "stderr",
     "output_type": "stream",
     "text": [
      "WARNING:absl:Function `_wrapped_model` contains input name(s) Comment, Numerical with unsupported characters which will be renamed to comment, numerical in the SavedModel.\n",
      "WARNING:absl:Found untraced functions such as lstm_cell_3_layer_call_and_return_conditional_losses, lstm_cell_3_layer_call_fn, lstm_cell_4_layer_call_and_return_conditional_losses, lstm_cell_4_layer_call_fn, lstm_cell_6_layer_call_and_return_conditional_losses while saving (showing 5 of 20). These functions will not be directly callable after loading.\n"
     ]
    },
    {
     "name": "stdout",
     "output_type": "stream",
     "text": [
      "INFO:tensorflow:Assets written to: weights_3.best.hdf1/assets\n"
     ]
    },
    {
     "name": "stderr",
     "output_type": "stream",
     "text": [
      "INFO:tensorflow:Assets written to: weights_3.best.hdf1/assets\n"
     ]
    },
    {
     "name": "stdout",
     "output_type": "stream",
     "text": [
      "Epoch 2/50\n",
      "1382/1382 [==============================] - 395s 286ms/step - loss: 1.0992 - accuracy: 0.6328 - val_loss: 10.2789 - val_accuracy: 0.5000\n",
      "\n",
      "Epoch 00002: saving model to weights_3.best.hdf1\n"
     ]
    },
    {
     "name": "stderr",
     "output_type": "stream",
     "text": [
      "WARNING:absl:Function `_wrapped_model` contains input name(s) Comment, Numerical with unsupported characters which will be renamed to comment, numerical in the SavedModel.\n",
      "WARNING:absl:Found untraced functions such as lstm_cell_3_layer_call_and_return_conditional_losses, lstm_cell_3_layer_call_fn, lstm_cell_4_layer_call_and_return_conditional_losses, lstm_cell_4_layer_call_fn, lstm_cell_6_layer_call_and_return_conditional_losses while saving (showing 5 of 20). These functions will not be directly callable after loading.\n"
     ]
    },
    {
     "name": "stdout",
     "output_type": "stream",
     "text": [
      "INFO:tensorflow:Assets written to: weights_3.best.hdf1/assets\n"
     ]
    },
    {
     "name": "stderr",
     "output_type": "stream",
     "text": [
      "INFO:tensorflow:Assets written to: weights_3.best.hdf1/assets\n"
     ]
    },
    {
     "name": "stdout",
     "output_type": "stream",
     "text": [
      "Epoch 3/50\n",
      "1382/1382 [==============================] - 395s 285ms/step - loss: 0.8273 - accuracy: 0.6403 - val_loss: 13.8332 - val_accuracy: 0.5000\n",
      "\n",
      "Epoch 00003: saving model to weights_3.best.hdf1\n"
     ]
    },
    {
     "name": "stderr",
     "output_type": "stream",
     "text": [
      "WARNING:absl:Function `_wrapped_model` contains input name(s) Comment, Numerical with unsupported characters which will be renamed to comment, numerical in the SavedModel.\n",
      "WARNING:absl:Found untraced functions such as lstm_cell_3_layer_call_and_return_conditional_losses, lstm_cell_3_layer_call_fn, lstm_cell_4_layer_call_and_return_conditional_losses, lstm_cell_4_layer_call_fn, lstm_cell_6_layer_call_and_return_conditional_losses while saving (showing 5 of 20). These functions will not be directly callable after loading.\n"
     ]
    },
    {
     "name": "stdout",
     "output_type": "stream",
     "text": [
      "INFO:tensorflow:Assets written to: weights_3.best.hdf1/assets\n"
     ]
    },
    {
     "name": "stderr",
     "output_type": "stream",
     "text": [
      "INFO:tensorflow:Assets written to: weights_3.best.hdf1/assets\n"
     ]
    },
    {
     "name": "stdout",
     "output_type": "stream",
     "text": [
      "\n",
      "Epoch 00003: ReduceLROnPlateau reducing learning rate to 2.499999936844688e-05.\n",
      "Epoch 4/50\n",
      "1382/1382 [==============================] - 395s 286ms/step - loss: 0.7270 - accuracy: 0.6487 - val_loss: 1.4450 - val_accuracy: 0.5005\n",
      "\n",
      "Epoch 00004: saving model to weights_3.best.hdf1\n"
     ]
    },
    {
     "name": "stderr",
     "output_type": "stream",
     "text": [
      "WARNING:absl:Function `_wrapped_model` contains input name(s) Comment, Numerical with unsupported characters which will be renamed to comment, numerical in the SavedModel.\n",
      "WARNING:absl:Found untraced functions such as lstm_cell_3_layer_call_and_return_conditional_losses, lstm_cell_3_layer_call_fn, lstm_cell_4_layer_call_and_return_conditional_losses, lstm_cell_4_layer_call_fn, lstm_cell_6_layer_call_and_return_conditional_losses while saving (showing 5 of 20). These functions will not be directly callable after loading.\n"
     ]
    },
    {
     "name": "stdout",
     "output_type": "stream",
     "text": [
      "INFO:tensorflow:Assets written to: weights_3.best.hdf1/assets\n"
     ]
    },
    {
     "name": "stderr",
     "output_type": "stream",
     "text": [
      "INFO:tensorflow:Assets written to: weights_3.best.hdf1/assets\n"
     ]
    },
    {
     "name": "stdout",
     "output_type": "stream",
     "text": [
      "Epoch 00004: early stopping\n"
     ]
    }
   ],
   "source": [
    "hitory2=model2.fit(x=X_train,y=y_train,epochs=50,batch_size=512,validation_data=(X_test, y_test),callbacks=callbacks)"
   ]
  },
  {
   "cell_type": "markdown",
   "id": "McEgPS3kEuSm",
   "metadata": {
    "id": "McEgPS3kEuSm"
   },
   "source": [
    "# **Model:-5**"
   ]
  },
  {
   "cell_type": "markdown",
   "id": "ZYMJO-ZJJaX8",
   "metadata": {
    "id": "ZYMJO-ZJJaX8"
   },
   "source": [
    "LSTM layer with Embedding with weight"
   ]
  },
  {
   "cell_type": "code",
   "execution_count": null,
   "id": "knuvFe-76II0",
   "metadata": {
    "id": "knuvFe-76II0"
   },
   "outputs": [],
   "source": [
    "from tensorflow.keras.layers import concatenate\n",
    "def LSTM_Model1(comm_len,token_com,par_comm_len,token_par,embedding_comm,embedding_P_comm):\n",
    "    drop_lstm = 0.25\n",
    "    drop_dense = 0.25\n",
    "    num_lstm=150\n",
    "  \n",
    "    input_text_1=Input(shape=(comm_len,), name='Comment', dtype='float32')\n",
    "    sequence_input_1=Embedding(len(token_com.word_index) + 1,100,weights=[embedding_comm],input_length=comm_len,trainable=False,dtype=tf.float32)(input_text_1)\n",
    "    sequence_input_1=LSTM(num_lstm,dropout=drop_lstm,return_sequences=True,dtype=tf.float32)(sequence_input_1)\n",
    "    sequence_input_1=Flatten()(sequence_input_1)\n",
    "    \n",
    "    input_text_2=Input(shape=(par_comm_len,),name='parent_comment', dtype='float32')\n",
    "    sequence_input_2=Embedding(len(token_par.word_index) + 1,100,weights=[embedding_P_comm],input_length=par_comm_len,trainable=False,dtype=tf.float32)(input_text_2)\n",
    "    sequence_input_2=LSTM(num_lstm,dropout=drop_lstm,return_sequences=True,dtype=tf.float32)(sequence_input_2)\n",
    "    sequence_input_2=Flatten()(sequence_input_2)\n",
    "    \n",
    "    \n",
    "    input5 = Input(shape=(9,),name='Numerical', dtype='float32')\n",
    "    flatten_6 = Dense(32,activation='relu',kernel_initializer=he_normal(),kernel_regularizer=l2(0.0001),dtype=tf.float32)(input5)\n",
    "    flatten_6 = Dense(16,activation='relu',kernel_initializer=he_normal(),kernel_regularizer=l2(0.0001),dtype=tf.float32)(flatten_6)\n",
    "    concat=concatenate([sequence_input_1,sequence_input_2,flatten_6],dtype=tf.float32)\n",
    "  \n",
    "    y = Dense(128,activation='relu',kernel_initializer=he_normal(),kernel_regularizer=l2(0.01))(concat)\n",
    "    y = BatchNormalization()(y)\n",
    "    y = Dense(64,activation='relu',kernel_initializer=he_normal(),kernel_regularizer=l2(0.01))(y)\n",
    "    y = BatchNormalization()(y)\n",
    "    y = Dense(32,activation='relu',kernel_initializer=he_normal(),kernel_regularizer=l2(0.01))(y)\n",
    "  \n",
    "    final_output=Dense(2,activation='softmax')(y)\n",
    "  \n",
    "    model= Model(inputs=[input_text_1,input_text_2,input5],outputs=final_output)\n",
    "    return model"
   ]
  },
  {
   "cell_type": "code",
   "execution_count": null,
   "id": "oWl-pfaOEG83",
   "metadata": {
    "colab": {
     "base_uri": "https://localhost:8080/"
    },
    "id": "oWl-pfaOEG83",
    "outputId": "bd8fb3a5-1740-4308-ae7a-58f2b6cde904"
   },
   "outputs": [
    {
     "name": "stdout",
     "output_type": "stream",
     "text": [
      "Model: \"model\"\n",
      "__________________________________________________________________________________________________\n",
      "Layer (type)                    Output Shape         Param #     Connected to                     \n",
      "==================================================================================================\n",
      "Comment (InputLayer)            [(None, 200)]        0                                            \n",
      "__________________________________________________________________________________________________\n",
      "parent_comment (InputLayer)     [(None, 200)]        0                                            \n",
      "__________________________________________________________________________________________________\n",
      "embedding (Embedding)           (None, 200, 100)     36250100    Comment[0][0]                    \n",
      "__________________________________________________________________________________________________\n",
      "embedding_1 (Embedding)         (None, 200, 100)     18973800    parent_comment[0][0]             \n",
      "__________________________________________________________________________________________________\n",
      "Numerical (InputLayer)          [(None, 9)]          0                                            \n",
      "__________________________________________________________________________________________________\n",
      "lstm (LSTM)                     (None, 200, 150)     150600      embedding[0][0]                  \n",
      "__________________________________________________________________________________________________\n",
      "lstm_1 (LSTM)                   (None, 200, 150)     150600      embedding_1[0][0]                \n",
      "__________________________________________________________________________________________________\n",
      "dense (Dense)                   (None, 32)           320         Numerical[0][0]                  \n",
      "__________________________________________________________________________________________________\n",
      "flatten (Flatten)               (None, 30000)        0           lstm[0][0]                       \n",
      "__________________________________________________________________________________________________\n",
      "flatten_1 (Flatten)             (None, 30000)        0           lstm_1[0][0]                     \n",
      "__________________________________________________________________________________________________\n",
      "dense_1 (Dense)                 (None, 16)           528         dense[0][0]                      \n",
      "__________________________________________________________________________________________________\n",
      "concatenate (Concatenate)       (None, 60016)        0           flatten[0][0]                    \n",
      "                                                                 flatten_1[0][0]                  \n",
      "                                                                 dense_1[0][0]                    \n",
      "__________________________________________________________________________________________________\n",
      "dense_2 (Dense)                 (None, 128)          7682176     concatenate[0][0]                \n",
      "__________________________________________________________________________________________________\n",
      "batch_normalization (BatchNorma (None, 128)          512         dense_2[0][0]                    \n",
      "__________________________________________________________________________________________________\n",
      "dense_3 (Dense)                 (None, 64)           8256        batch_normalization[0][0]        \n",
      "__________________________________________________________________________________________________\n",
      "batch_normalization_1 (BatchNor (None, 64)           256         dense_3[0][0]                    \n",
      "__________________________________________________________________________________________________\n",
      "dense_4 (Dense)                 (None, 32)           2080        batch_normalization_1[0][0]      \n",
      "__________________________________________________________________________________________________\n",
      "dense_5 (Dense)                 (None, 2)            66          dense_4[0][0]                    \n",
      "==================================================================================================\n",
      "Total params: 63,219,294\n",
      "Trainable params: 7,995,010\n",
      "Non-trainable params: 55,224,284\n",
      "__________________________________________________________________________________________________\n"
     ]
    }
   ],
   "source": [
    "model4=LSTM_Model1(comm_len,token_com,par_comm_len,token_par,embedding_comm,embedding_P_comm)\n",
    "model4.summary()"
   ]
  },
  {
   "cell_type": "code",
   "execution_count": null,
   "id": "Mk9mvjFhEL70",
   "metadata": {
    "colab": {
     "base_uri": "https://localhost:8080/",
     "height": 1000
    },
    "id": "Mk9mvjFhEL70",
    "outputId": "9458b611-f05e-44e4-a61a-087c2f86300f"
   },
   "outputs": [
    {
     "data": {
      "image/png": "[encoded data removed]",
      "text/plain": [
       "<IPython.core.display.Image object>"
      ]
     },
     "execution_count": 45,
     "metadata": {},
     "output_type": "execute_result"
    }
   ],
   "source": [
    "tf.keras.utils.plot_model(\n",
    "    model4, to_file='model.png', show_shapes=True, show_layer_names=True,\n",
    "    rankdir='TB')"
   ]
  },
  {
   "cell_type": "code",
   "execution_count": null,
   "id": "Qr2M6KNZERmX",
   "metadata": {
    "id": "Qr2M6KNZERmX"
   },
   "outputs": [],
   "source": [
    "from tensorflow.keras.callbacks import *\n",
    "import os\n",
    "filepath=\"weights_4.best.hdf1\"\n",
    "checkpoint = ModelCheckpoint(filepath, monitor='val_accuracy', verbose=1, mode='max')\n",
    "earlystop = EarlyStopping(monitor = 'val_accuracy',  mode=\"max\",min_delta = 0, patience = 3,verbose = 1)\n",
    "reduce_lr = ReduceLROnPlateau(monitor = 'val_accuracy', factor = 0.25, patience = 2, verbose = 1)\n",
    "%reload_ext tensorboard\n",
    "import datetime\n",
    "logdir = os.path.join(\"logs_4\", datetime.datetime.now().strftime(\"%Y%m%d-%H%M%S\"))\n",
    "#tensorboard = tf.keras.callbacks.TensorBoard(logdir, histogram_freq=1)\n",
    "tensorboard = TensorBoard(log_dir=logdir, histogram_freq=0, write_graph=True, write_grads=False, write_images=False)\n",
    "callbacks = [checkpoint,reduce_lr,tensorboard,earlystop]"
   ]
  },
  {
   "cell_type": "code",
   "execution_count": null,
   "id": "Sds1vcpvEedh",
   "metadata": {
    "id": "Sds1vcpvEedh"
   },
   "outputs": [],
   "source": [
    "import tensorflow as tf\n",
    "adam = tf.keras.optimizers.Adam(lr=0.01)\n",
    "model4.compile(optimizer=adam, loss='categorical_crossentropy',metrics=['accuracy'])"
   ]
  },
  {
   "cell_type": "code",
   "execution_count": null,
   "id": "sVRMMGHuEgTz",
   "metadata": {
    "colab": {
     "base_uri": "https://localhost:8080/"
    },
    "id": "sVRMMGHuEgTz",
    "outputId": "e6959d48-9fe3-41c9-f2f6-04c41893dbce"
   },
   "outputs": [
    {
     "name": "stdout",
     "output_type": "stream",
     "text": [
      "Epoch 1/50\n",
      "1382/1382 [==============================] - 147s 103ms/step - loss: nan - accuracy: 0.5000 - val_loss: nan - val_accuracy: 0.5000\n",
      "\n",
      "Epoch 00001: saving model to weights_4.best.hdf1\n"
     ]
    },
    {
     "name": "stderr",
     "output_type": "stream",
     "text": [
      "WARNING:absl:Function `_wrapped_model` contains input name(s) Comment, Numerical with unsupported characters which will be renamed to comment, numerical in the SavedModel.\n",
      "WARNING:absl:Found untraced functions such as lstm_cell_layer_call_and_return_conditional_losses, lstm_cell_layer_call_fn, lstm_cell_1_layer_call_and_return_conditional_losses, lstm_cell_1_layer_call_fn, lstm_cell_layer_call_fn while saving (showing 5 of 10). These functions will not be directly callable after loading.\n"
     ]
    },
    {
     "name": "stdout",
     "output_type": "stream",
     "text": [
      "INFO:tensorflow:Assets written to: weights_4.best.hdf1/assets\n"
     ]
    },
    {
     "name": "stderr",
     "output_type": "stream",
     "text": [
      "INFO:tensorflow:Assets written to: weights_4.best.hdf1/assets\n"
     ]
    },
    {
     "name": "stdout",
     "output_type": "stream",
     "text": [
      "Epoch 2/50\n",
      "1382/1382 [==============================] - 140s 101ms/step - loss: nan - accuracy: 0.5000 - val_loss: nan - val_accuracy: 0.5000\n",
      "\n",
      "Epoch 00002: saving model to weights_4.best.hdf1\n"
     ]
    },
    {
     "name": "stderr",
     "output_type": "stream",
     "text": [
      "WARNING:absl:Function `_wrapped_model` contains input name(s) Comment, Numerical with unsupported characters which will be renamed to comment, numerical in the SavedModel.\n",
      "WARNING:absl:Found untraced functions such as lstm_cell_layer_call_and_return_conditional_losses, lstm_cell_layer_call_fn, lstm_cell_1_layer_call_and_return_conditional_losses, lstm_cell_1_layer_call_fn, lstm_cell_layer_call_fn while saving (showing 5 of 10). These functions will not be directly callable after loading.\n"
     ]
    },
    {
     "name": "stdout",
     "output_type": "stream",
     "text": [
      "INFO:tensorflow:Assets written to: weights_4.best.hdf1/assets\n"
     ]
    },
    {
     "name": "stderr",
     "output_type": "stream",
     "text": [
      "INFO:tensorflow:Assets written to: weights_4.best.hdf1/assets\n"
     ]
    },
    {
     "name": "stdout",
     "output_type": "stream",
     "text": [
      "Epoch 3/50\n",
      "1382/1382 [==============================] - 140s 102ms/step - loss: nan - accuracy: 0.5000 - val_loss: nan - val_accuracy: 0.5000\n",
      "\n",
      "Epoch 00003: saving model to weights_4.best.hdf1\n"
     ]
    },
    {
     "name": "stderr",
     "output_type": "stream",
     "text": [
      "WARNING:absl:Function `_wrapped_model` contains input name(s) Comment, Numerical with unsupported characters which will be renamed to comment, numerical in the SavedModel.\n",
      "WARNING:absl:Found untraced functions such as lstm_cell_layer_call_and_return_conditional_losses, lstm_cell_layer_call_fn, lstm_cell_1_layer_call_and_return_conditional_losses, lstm_cell_1_layer_call_fn, lstm_cell_layer_call_fn while saving (showing 5 of 10). These functions will not be directly callable after loading.\n"
     ]
    },
    {
     "name": "stdout",
     "output_type": "stream",
     "text": [
      "INFO:tensorflow:Assets written to: weights_4.best.hdf1/assets\n"
     ]
    },
    {
     "name": "stderr",
     "output_type": "stream",
     "text": [
      "INFO:tensorflow:Assets written to: weights_4.best.hdf1/assets\n"
     ]
    },
    {
     "name": "stdout",
     "output_type": "stream",
     "text": [
      "\n",
      "Epoch 00003: ReduceLROnPlateau reducing learning rate to 0.0024999999441206455.\n",
      "Epoch 4/50\n",
      "1382/1382 [==============================] - 140s 102ms/step - loss: nan - accuracy: 0.5000 - val_loss: nan - val_accuracy: 0.5000\n",
      "\n",
      "Epoch 00004: saving model to weights_4.best.hdf1\n"
     ]
    },
    {
     "name": "stderr",
     "output_type": "stream",
     "text": [
      "WARNING:absl:Function `_wrapped_model` contains input name(s) Comment, Numerical with unsupported characters which will be renamed to comment, numerical in the SavedModel.\n",
      "WARNING:absl:Found untraced functions such as lstm_cell_layer_call_and_return_conditional_losses, lstm_cell_layer_call_fn, lstm_cell_1_layer_call_and_return_conditional_losses, lstm_cell_1_layer_call_fn, lstm_cell_layer_call_fn while saving (showing 5 of 10). These functions will not be directly callable after loading.\n"
     ]
    },
    {
     "name": "stdout",
     "output_type": "stream",
     "text": [
      "INFO:tensorflow:Assets written to: weights_4.best.hdf1/assets\n"
     ]
    },
    {
     "name": "stderr",
     "output_type": "stream",
     "text": [
      "INFO:tensorflow:Assets written to: weights_4.best.hdf1/assets\n"
     ]
    },
    {
     "name": "stdout",
     "output_type": "stream",
     "text": [
      "Epoch 00004: early stopping\n"
     ]
    }
   ],
   "source": [
    "hitory4=model4.fit(x=X_train,y=y_train,epochs=50,batch_size=512,validation_data=(X_test, y_test),callbacks=callbacks)"
   ]
  },
  {
   "cell_type": "code",
   "execution_count": null,
   "id": "OudaSlJNElQI",
   "metadata": {
    "id": "OudaSlJNElQI"
   },
   "outputs": [],
   "source": []
  }
 ],
 "metadata": {
  "accelerator": "GPU",
  "colab": {
   "machine_shape": "hm",
   "name": "Deep_lerning_LSTM.ipynb",
   "provenance": []
  },
  "kernelspec": {
   "display_name": "Python 3.8 (tensorflow)",
   "language": "python",
   "name": "tensorflow"
  },
  "language_info": {
   "codemirror_mode": {
    "name": "ipython",
    "version": 3
   },
   "file_extension": ".py",
   "mimetype": "text/x-python",
   "name": "python",
   "nbconvert_exporter": "python",
   "pygments_lexer": "ipython3",
   "version": "3.8.10"
  }
 },
 "nbformat": 4,
 "nbformat_minor": 5
}
