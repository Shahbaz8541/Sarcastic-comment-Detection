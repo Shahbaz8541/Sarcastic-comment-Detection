{
 "cells": [
  {
   "cell_type": "markdown",
   "id": "f021b67e",
   "metadata": {
    "id": "f021b67e"
   },
   "source": [
    "## Deep Learning LSTM"
   ]
  },
  {
   "cell_type": "code",
   "execution_count": 1,
   "id": "4cebb9e8",
   "metadata": {
    "id": "4cebb9e8"
   },
   "outputs": [],
   "source": [
    "%matplotlib inline\n",
    "import warnings\n",
    "warnings.filterwarnings('ignore')\n",
    "import sqlite3\n",
    "import pandas as pd\n",
    "import numpy as np\n",
    "import nltk\n",
    "import string\n",
    "import matplotlib.pyplot as plt\n",
    "import seaborn as sns\n",
    "from sklearn.feature_extraction.text import TfidfTransformer\n",
    "from sklearn.feature_extraction.text import TfidfVectorizer\n",
    "\n",
    "from sklearn.feature_extraction.text import CountVectorizer\n",
    "from sklearn.metrics import confusion_matrix\n",
    "from sklearn import metrics\n",
    "from sklearn.metrics import roc_curve, auc\n",
    "from nltk.stem.porter import PorterStemmer\n",
    "import re\n",
    "from nltk.corpus import stopwords\n",
    "from nltk.stem import PorterStemmer\n",
    "from nltk.stem.wordnet import WordNetLemmatizer\n",
    "from gensim.models import Word2Vec\n",
    "from gensim.models import KeyedVectors\n",
    "import pickle\n",
    "from sklearn.metrics import roc_auc_score\n",
    "from tqdm import tqdm\n",
    "import os\n",
    "#from plotly import plotly\n",
    "#import plotly.offline as offline\n",
    "#import plotly.graph_objs as go\n",
    "#offline.init_notebook_mode()\n",
    "from collections import Counter\n",
    "from sklearn.preprocessing import StandardScaler\n",
    "from sklearn.preprocessing import MinMaxScaler\n",
    "import tensorflow as tf\n",
    "from tensorflow.keras.preprocessing import sequence\n",
    "from tensorflow.keras.models import Sequential\n",
    "from tensorflow.keras.layers import Dense, Activation,Flatten,Reshape\n",
    "from tensorflow.keras.layers import Embedding\n",
    "from tensorflow.keras.layers import LSTM\n",
    "from tensorflow.keras.preprocessing.text import Tokenizer\n",
    "import csv\n",
    "from tensorflow.keras.models import Model\n",
    "#import keras\n",
    "from tensorflow.keras import backend as k\n",
    "from tensorflow.keras.layers import Input,Concatenate,Dropout,Dense,BatchNormalization,Conv1D\n",
    "from tensorflow.keras.layers import Input\n",
    "from sklearn.preprocessing import LabelEncoder,OneHotEncoder\n",
    "#from tensorflow.keras.merge import concatenate\n",
    "#import tensorflow as tf\n",
    "from tensorflow.keras.preprocessing.sequence import pad_sequences\n",
    "import scipy\n",
    "from tensorflow.keras.initializers import he_normal,glorot_normal\n",
    "from tensorflow.keras.regularizers import l1,l2\n",
    "from tensorflow.python.keras.callbacks import TensorBoard\n",
    "from tensorflow.keras.callbacks import Callback, EarlyStopping, ModelCheckpoint,LearningRateScheduler,ReduceLROnPlateau\n",
    "from time import time\n",
    "from tensorflow.keras.utils import plot_model"
   ]
  },
  {
   "cell_type": "code",
   "execution_count": 2,
   "id": "oMppRTPvX9EZ",
   "metadata": {
    "colab": {
     "base_uri": "https://localhost:8080/"
    },
    "id": "oMppRTPvX9EZ",
    "outputId": "e6a9b647-6648-4498-b27d-8343a3059057"
   },
   "outputs": [
    {
     "name": "stdout",
     "output_type": "stream",
     "text": [
      "Mounted at /content/gdrive\n"
     ]
    }
   ],
   "source": [
    "from google.colab import drive\n",
    "drive.mount('/content/gdrive')"
   ]
  },
  {
   "cell_type": "code",
   "execution_count": 3,
   "id": "d4517a18",
   "metadata": {
    "colab": {
     "base_uri": "https://localhost:8080/",
     "height": 285
    },
    "id": "d4517a18",
    "outputId": "ae62a415-7912-42e2-84b4-0d8ca7e3ad28"
   },
   "outputs": [
    {
     "data": {
      "text/html": [
       "<div>\n",
       "<style scoped>\n",
       "    .dataframe tbody tr th:only-of-type {\n",
       "        vertical-align: middle;\n",
       "    }\n",
       "\n",
       "    .dataframe tbody tr th {\n",
       "        vertical-align: top;\n",
       "    }\n",
       "\n",
       "    .dataframe thead th {\n",
       "        text-align: right;\n",
       "    }\n",
       "</style>\n",
       "<table border=\"1\" class=\"dataframe\">\n",
       "  <thead>\n",
       "    <tr style=\"text-align: right;\">\n",
       "      <th></th>\n",
       "      <th>label</th>\n",
       "      <th>comment</th>\n",
       "      <th>author</th>\n",
       "      <th>subreddit</th>\n",
       "      <th>score</th>\n",
       "      <th>ups</th>\n",
       "      <th>downs</th>\n",
       "      <th>date</th>\n",
       "      <th>created_utc</th>\n",
       "      <th>parent_comment</th>\n",
       "    </tr>\n",
       "  </thead>\n",
       "  <tbody>\n",
       "    <tr>\n",
       "      <th>0</th>\n",
       "      <td>0</td>\n",
       "      <td>NC and NH.</td>\n",
       "      <td>Trumpbart</td>\n",
       "      <td>politics</td>\n",
       "      <td>2</td>\n",
       "      <td>-1</td>\n",
       "      <td>-1</td>\n",
       "      <td>2016-10</td>\n",
       "      <td>2016-10-16 23:55:23</td>\n",
       "      <td>Yeah, I get that argument. At this point, I'd ...</td>\n",
       "    </tr>\n",
       "    <tr>\n",
       "      <th>1</th>\n",
       "      <td>0</td>\n",
       "      <td>You do know west teams play against west teams...</td>\n",
       "      <td>Shbshb906</td>\n",
       "      <td>nba</td>\n",
       "      <td>-4</td>\n",
       "      <td>-1</td>\n",
       "      <td>-1</td>\n",
       "      <td>2016-11</td>\n",
       "      <td>2016-11-01 00:24:10</td>\n",
       "      <td>The blazers and Mavericks (The wests 5 and 6 s...</td>\n",
       "    </tr>\n",
       "    <tr>\n",
       "      <th>2</th>\n",
       "      <td>0</td>\n",
       "      <td>They were underdogs earlier today, but since G...</td>\n",
       "      <td>Creepeth</td>\n",
       "      <td>nfl</td>\n",
       "      <td>3</td>\n",
       "      <td>3</td>\n",
       "      <td>0</td>\n",
       "      <td>2016-09</td>\n",
       "      <td>2016-09-22 21:45:37</td>\n",
       "      <td>They're favored to win.</td>\n",
       "    </tr>\n",
       "    <tr>\n",
       "      <th>3</th>\n",
       "      <td>0</td>\n",
       "      <td>This meme isn't funny none of the \"new york ni...</td>\n",
       "      <td>icebrotha</td>\n",
       "      <td>BlackPeopleTwitter</td>\n",
       "      <td>-8</td>\n",
       "      <td>-1</td>\n",
       "      <td>-1</td>\n",
       "      <td>2016-10</td>\n",
       "      <td>2016-10-18 21:03:47</td>\n",
       "      <td>deadass don't kill my buzz</td>\n",
       "    </tr>\n",
       "    <tr>\n",
       "      <th>4</th>\n",
       "      <td>0</td>\n",
       "      <td>I could use one of those tools.</td>\n",
       "      <td>cush2push</td>\n",
       "      <td>MaddenUltimateTeam</td>\n",
       "      <td>6</td>\n",
       "      <td>-1</td>\n",
       "      <td>-1</td>\n",
       "      <td>2016-12</td>\n",
       "      <td>2016-12-30 17:00:13</td>\n",
       "      <td>Yep can confirm I saw the tool they use for th...</td>\n",
       "    </tr>\n",
       "  </tbody>\n",
       "</table>\n",
       "</div>"
      ],
      "text/plain": [
       "   label  ...                                     parent_comment\n",
       "0      0  ...  Yeah, I get that argument. At this point, I'd ...\n",
       "1      0  ...  The blazers and Mavericks (The wests 5 and 6 s...\n",
       "2      0  ...                            They're favored to win.\n",
       "3      0  ...                         deadass don't kill my buzz\n",
       "4      0  ...  Yep can confirm I saw the tool they use for th...\n",
       "\n",
       "[5 rows x 10 columns]"
      ]
     },
     "execution_count": 3,
     "metadata": {},
     "output_type": "execute_result"
    }
   ],
   "source": [
    "import pandas as pd\n",
    "data=pd.read_csv('/content/gdrive/MyDrive/train-balanced-sarcasm.csv')\n",
    "data.head()"
   ]
  },
  {
   "cell_type": "code",
   "execution_count": 4,
   "id": "92cf57b9",
   "metadata": {
    "colab": {
     "base_uri": "https://localhost:8080/"
    },
    "id": "92cf57b9",
    "outputId": "bbc94b42-15a8-4690-c592-4300a3d8ca31"
   },
   "outputs": [
    {
     "data": {
      "text/plain": [
       "label              0\n",
       "comment           53\n",
       "author             0\n",
       "subreddit          0\n",
       "score              0\n",
       "ups                0\n",
       "downs              0\n",
       "date               0\n",
       "created_utc        0\n",
       "parent_comment     0\n",
       "dtype: int64"
      ]
     },
     "execution_count": 4,
     "metadata": {},
     "output_type": "execute_result"
    }
   ],
   "source": [
    "data.isnull().sum()"
   ]
  },
  {
   "cell_type": "code",
   "execution_count": 5,
   "id": "93f31ddc",
   "metadata": {
    "id": "93f31ddc"
   },
   "outputs": [],
   "source": [
    "data['comment']=data['comment'].fillna('No Comment')"
   ]
  },
  {
   "cell_type": "code",
   "execution_count": 6,
   "id": "79af9648",
   "metadata": {
    "id": "79af9648"
   },
   "outputs": [],
   "source": [
    "# Remove Emoji\n",
    "def deEmojify(text):\n",
    "    regrex_pattern = re.compile(pattern = \"[\"\n",
    "        u\"\\U0001F600-\\U0001F64F\"  # emoticons\n",
    "        u\"\\U0001F300-\\U0001F5FF\"  # symbols & pictographs\n",
    "        u\"\\U0001F680-\\U0001F6FF\"  # transport & map symbols\n",
    "        u\"\\U0001F1E0-\\U0001F1FF\"  # flags (iOS)\n",
    "                           \"]+\", flags = re.UNICODE)\n",
    "    return regrex_pattern.sub(r'',text)"
   ]
  },
  {
   "cell_type": "code",
   "execution_count": 7,
   "id": "6ff6919c",
   "metadata": {
    "id": "6ff6919c"
   },
   "outputs": [],
   "source": [
    "def decontractions(phrase):\n",
    "    \"\"\"decontracted takes text and convert contractions into natural form.\n",
    "     ref: https://stackoverflow.com/questions/19790188/expanding-english-language-contractions-in-python/47091490#47091490\"\"\"\n",
    "    # specific\n",
    "    phrase = re.sub(r\"won\\'t\", \"will not\", phrase)\n",
    "    phrase = re.sub(r\"can\\'t\", \"can not\", phrase)\n",
    "    phrase = re.sub(r\"won\\’t\", \"will not\", phrase)\n",
    "    phrase = re.sub(r\"can\\’t\", \"can not\", phrase)\n",
    "\n",
    "    # general\n",
    "    phrase = re.sub(r\"n\\'t\", \" not\", phrase)\n",
    "    phrase = re.sub(r\"\\'re\", \" are\", phrase)\n",
    "    phrase = re.sub(r\"\\'s\", \" is\", phrase)\n",
    "    phrase = re.sub(r\"\\'d\", \" would\", phrase)\n",
    "    phrase = re.sub(r\"\\'ll\", \" will\", phrase)\n",
    "    phrase = re.sub(r\"\\'t\", \" not\", phrase)\n",
    "    phrase = re.sub(r\"\\'ve\", \" have\", phrase)\n",
    "    phrase = re.sub(r\"\\'m\", \" am\", phrase)\n",
    "\n",
    "    phrase = re.sub(r\"n\\’t\", \" not\", phrase)\n",
    "    phrase = re.sub(r\"\\’re\", \" are\", phrase)\n",
    "    phrase = re.sub(r\"\\’s\", \" is\", phrase)\n",
    "    phrase = re.sub(r\"\\’d\", \" would\", phrase)\n",
    "    phrase = re.sub(r\"\\’ll\", \" will\", phrase)\n",
    "    phrase = re.sub(r\"\\’t\", \" not\", phrase)\n",
    "    phrase = re.sub(r\"\\’ve\", \" have\", phrase)\n",
    "    phrase = re.sub(r\"\\’m\", \" am\", phrase)\n",
    "\n",
    "    return phrase"
   ]
  },
  {
   "cell_type": "code",
   "execution_count": 8,
   "id": "Zk8aWj1KYb8L",
   "metadata": {
    "colab": {
     "base_uri": "https://localhost:8080/"
    },
    "id": "Zk8aWj1KYb8L",
    "outputId": "1b88ac64-8cd6-4b41-f597-d1cc28e7de34"
   },
   "outputs": [
    {
     "name": "stdout",
     "output_type": "stream",
     "text": [
      "[nltk_data] Downloading package stopwords to /root/nltk_data...\n",
      "[nltk_data]   Unzipping corpora/stopwords.zip.\n"
     ]
    },
    {
     "data": {
      "text/plain": [
       "True"
      ]
     },
     "execution_count": 8,
     "metadata": {},
     "output_type": "execute_result"
    }
   ],
   "source": [
    "import nltk\n",
    "nltk.download('stopwords')"
   ]
  },
  {
   "cell_type": "code",
   "execution_count": 9,
   "id": "d1832119",
   "metadata": {
    "id": "d1832119"
   },
   "outputs": [],
   "source": [
    "from nltk.corpus import stopwords\n",
    "from tqdm import tqdm\n",
    "import re\n",
    "stopwords = stopwords.words('english')\n",
    "def preprocess(text_col,stopword):\n",
    "    preprocessed = []\n",
    "    for sentence in tqdm(text_col.values):\n",
    "        # Replace \"carriage return\" with \"space\".\n",
    "        sentence=str(sentence)\n",
    "        sent = sentence.replace('\\\\r', ' ')\n",
    "        # Replace \"quotes\" with \"space\".\n",
    "        sent = sent.replace('\\\\\"', ' ')\n",
    "        # Replace \"line feed\" with \"space\".\n",
    "        sent = sent.replace('\\\\n', ' ')\n",
    "        # Replace characters between words with \"space\".\n",
    "        sent = re.sub('[^A-Za-z0-9]+', ' ', sent)\n",
    "        #remove stop words\n",
    "        #decontraction\n",
    "        sent=decontractions(sent)\n",
    "        #Remove emoji\n",
    "        sent=deEmojify(sent)\n",
    "        if stopword:\n",
    "            sent = ' '.join(e for e in sent.split() if e not in stopwords)\n",
    "        else:\n",
    "           sent = ' '.join(e for e in sent.split())\n",
    "        # to lowercase\n",
    "        preprocessed.append(sent.lower().strip())\n",
    "    return preprocessed"
   ]
  },
  {
   "cell_type": "code",
   "execution_count": 10,
   "id": "7c7a5327",
   "metadata": {
    "colab": {
     "base_uri": "https://localhost:8080/"
    },
    "id": "7c7a5327",
    "outputId": "42740900-4d05-4e58-a0e2-708a0363a195"
   },
   "outputs": [
    {
     "name": "stderr",
     "output_type": "stream",
     "text": [
      "100%|██████████| 1010826/1010826 [00:33<00:00, 30369.83it/s]\n"
     ]
    }
   ],
   "source": [
    "data['comment']=preprocess(data['comment'],stopword=False)"
   ]
  },
  {
   "cell_type": "code",
   "execution_count": 11,
   "id": "317c0268",
   "metadata": {
    "colab": {
     "base_uri": "https://localhost:8080/"
    },
    "id": "317c0268",
    "outputId": "78707ce5-caff-4a9f-b59b-f255f7013ed1"
   },
   "outputs": [
    {
     "name": "stderr",
     "output_type": "stream",
     "text": [
      "100%|██████████| 1010826/1010826 [00:41<00:00, 24348.62it/s]\n"
     ]
    }
   ],
   "source": [
    "data['parent_comment']=preprocess(data['parent_comment'],stopword=False)"
   ]
  },
  {
   "cell_type": "code",
   "execution_count": 12,
   "id": "2eba4c80",
   "metadata": {
    "colab": {
     "base_uri": "https://localhost:8080/"
    },
    "id": "2eba4c80",
    "outputId": "952cf015-beec-4f6b-dbd4-26d716c8be7a"
   },
   "outputs": [
    {
     "data": {
      "text/plain": [
       "label             0\n",
       "comment           0\n",
       "author            0\n",
       "subreddit         0\n",
       "score             0\n",
       "ups               0\n",
       "downs             0\n",
       "date              0\n",
       "created_utc       0\n",
       "parent_comment    0\n",
       "dtype: int64"
      ]
     },
     "execution_count": 12,
     "metadata": {},
     "output_type": "execute_result"
    }
   ],
   "source": [
    "data.isnull().sum()"
   ]
  },
  {
   "cell_type": "code",
   "execution_count": 13,
   "id": "bfgb3ize9dyl",
   "metadata": {
    "colab": {
     "base_uri": "https://localhost:8080/"
    },
    "id": "bfgb3ize9dyl",
    "outputId": "7b3bfd8d-e9df-4888-81a2-a704658a879a"
   },
   "outputs": [
    {
     "name": "stdout",
     "output_type": "stream",
     "text": [
      "[nltk_data] Downloading package vader_lexicon to /root/nltk_data...\n"
     ]
    },
    {
     "data": {
      "text/plain": [
       "True"
      ]
     },
     "execution_count": 13,
     "metadata": {},
     "output_type": "execute_result"
    }
   ],
   "source": [
    "import nltk\n",
    "nltk.download('vader_lexicon')"
   ]
  },
  {
   "cell_type": "markdown",
   "id": "uUr78WCH97Vi",
   "metadata": {
    "id": "uUr78WCH97Vi"
   },
   "source": [
    "Polarity Score"
   ]
  },
  {
   "cell_type": "code",
   "execution_count": 14,
   "id": "xdXUDWG08mt2",
   "metadata": {
    "id": "xdXUDWG08mt2"
   },
   "outputs": [],
   "source": [
    "import nltk\n",
    "from tqdm import tqdm\n",
    "from nltk.sentiment.vader import SentimentIntensityAnalyzer\n",
    "def generate_sentiment_scores(data):\n",
    "    sid = SentimentIntensityAnalyzer()\n",
    "    neg=[]\n",
    "    pos=[]\n",
    "    neu=[]\n",
    "    comp=[]\n",
    "    for sentence in tqdm(data['parent_comment'].values): \n",
    "        sentence_sentiment_score = sid.polarity_scores(sentence)\n",
    "        comp.append(sentence_sentiment_score['compound'])\n",
    "        neg.append(sentence_sentiment_score['neg'])\n",
    "        pos.append(sentence_sentiment_score['pos'])\n",
    "        neu.append(sentence_sentiment_score['neu'])\n",
    "    return comp,neg,pos,neu"
   ]
  },
  {
   "cell_type": "code",
   "execution_count": 15,
   "id": "0YNG6kBJ9Lt3",
   "metadata": {
    "colab": {
     "base_uri": "https://localhost:8080/"
    },
    "id": "0YNG6kBJ9Lt3",
    "outputId": "c88b6477-5b54-46f9-ea92-82c2098206e0"
   },
   "outputs": [
    {
     "name": "stderr",
     "output_type": "stream",
     "text": [
      "100%|██████████| 1010826/1010826 [05:37<00:00, 2992.79it/s]\n"
     ]
    }
   ],
   "source": [
    "data['compound'],data['negative'],data['positive'],data['neutral']=generate_sentiment_scores(data)"
   ]
  },
  {
   "cell_type": "code",
   "execution_count": 16,
   "id": "xytZ-DUM9ng5",
   "metadata": {
    "id": "xytZ-DUM9ng5"
   },
   "outputs": [],
   "source": [
    "data['com_len']=data['comment'].apply(lambda x:len(x.split()))"
   ]
  },
  {
   "cell_type": "code",
   "execution_count": 17,
   "id": "pQH7iiAd90XH",
   "metadata": {
    "id": "pQH7iiAd90XH"
   },
   "outputs": [],
   "source": [
    "data['parent_com_len']=data['parent_comment'].apply(lambda x:len(x.split()))"
   ]
  },
  {
   "cell_type": "code",
   "execution_count": 18,
   "id": "1Lp2_GVmTUyf",
   "metadata": {
    "id": "1Lp2_GVmTUyf"
   },
   "outputs": [],
   "source": [
    "data['comment']=data['comment']+\" \"+data['author']+\" \"+data['subreddit']"
   ]
  },
  {
   "cell_type": "markdown",
   "id": "f5agCqVRYcvM",
   "metadata": {
    "id": "f5agCqVRYcvM"
   },
   "source": []
  },
  {
   "cell_type": "code",
   "execution_count": 19,
   "id": "uGptC5k7YYkq",
   "metadata": {
    "colab": {
     "base_uri": "https://localhost:8080/"
    },
    "id": "uGptC5k7YYkq",
    "outputId": "55a0a4e6-1d4b-44f9-f5fb-e4211c4b357d"
   },
   "outputs": [
    {
     "data": {
      "text/plain": [
       "(1010826, 2)"
      ]
     },
     "execution_count": 19,
     "metadata": {},
     "output_type": "execute_result"
    }
   ],
   "source": [
    "labels=tf.keras.utils.to_categorical(data['label'].values,num_classes=2)\n",
    "labels.shape"
   ]
  },
  {
   "cell_type": "code",
   "execution_count": 20,
   "id": "0e968b68",
   "metadata": {
    "id": "0e968b68"
   },
   "outputs": [],
   "source": [
    "y=data['label']\n",
    "X=data.drop(['label','date','created_utc'],axis=1)"
   ]
  },
  {
   "cell_type": "code",
   "execution_count": 21,
   "id": "2477ed82",
   "metadata": {
    "id": "2477ed82"
   },
   "outputs": [],
   "source": [
    "from sklearn.model_selection import train_test_split\n",
    "X_train,X_test,y_train,y_test=train_test_split(X,labels,test_size=0.3,random_state=42,stratify=labels)"
   ]
  },
  {
   "cell_type": "code",
   "execution_count": 22,
   "id": "_Yr8Sp6QTljG",
   "metadata": {
    "id": "_Yr8Sp6QTljG"
   },
   "outputs": [],
   "source": [
    "def pad_text(text,tokenizer,max_len):\n",
    "    return pad_sequences(tokenizer.texts_to_sequences(text),maxlen=max_len,padding='post')"
   ]
  },
  {
   "cell_type": "code",
   "execution_count": 23,
   "id": "GSqTXmvhTsnw",
   "metadata": {
    "id": "GSqTXmvhTsnw"
   },
   "outputs": [],
   "source": [
    "from tensorflow.keras.preprocessing.text import Tokenizer\n",
    "def text_padding(train,test,max_len):\n",
    "    vocab=5000\n",
    "    token=Tokenizer(num_words = vocab,oov_token='OOS')\n",
    "    token.fit_on_texts(train)\n",
    "    padded_train_text=pad_text(train,token,max_len)\n",
    "    padded_test_text=pad_text(test,token,max_len)\n",
    "    return padded_train_text,padded_test_text,token"
   ]
  },
  {
   "cell_type": "code",
   "execution_count": 24,
   "id": "kHEDlj7BTw59",
   "metadata": {
    "id": "kHEDlj7BTw59"
   },
   "outputs": [],
   "source": [
    "comm_len=200\n",
    "train_com_pad,test_com_pad,token_com= text_padding(X_train['comment'],X_test['comment'],comm_len)"
   ]
  },
  {
   "cell_type": "code",
   "execution_count": 25,
   "id": "cm6FNbSTUEkr",
   "metadata": {
    "colab": {
     "base_uri": "https://localhost:8080/"
    },
    "id": "cm6FNbSTUEkr",
    "outputId": "d73c4c5f-bb21-4c82-be2f-4765708e3762"
   },
   "outputs": [
    {
     "name": "stdout",
     "output_type": "stream",
     "text": [
      "(707578, 200) (303248, 200)\n"
     ]
    }
   ],
   "source": [
    "print(train_com_pad.shape,test_com_pad.shape)"
   ]
  },
  {
   "cell_type": "code",
   "execution_count": 26,
   "id": "LOzZ1pFbUQ4x",
   "metadata": {
    "id": "LOzZ1pFbUQ4x"
   },
   "outputs": [],
   "source": [
    "par_comm_len=200\n",
    "train_par_com_pad,test_par_com_pad,token_par= text_padding(X_train['parent_comment'],X_test['parent_comment'],par_comm_len)"
   ]
  },
  {
   "cell_type": "code",
   "execution_count": 27,
   "id": "fhuS_ELwUfXr",
   "metadata": {
    "colab": {
     "base_uri": "https://localhost:8080/"
    },
    "id": "fhuS_ELwUfXr",
    "outputId": "9f88e71f-2ec9-42c8-b53d-2e111eccbe9a"
   },
   "outputs": [
    {
     "name": "stdout",
     "output_type": "stream",
     "text": [
      "(707578, 200) (303248, 200)\n"
     ]
    }
   ],
   "source": [
    "print(train_par_com_pad.shape,test_par_com_pad.shape)"
   ]
  },
  {
   "cell_type": "code",
   "execution_count": 28,
   "id": "3hAcicV2E85v",
   "metadata": {
    "id": "3hAcicV2E85v"
   },
   "outputs": [],
   "source": [
    "def generate_embedding_matrix(token):\n",
    "    embedding_path='/content/gdrive/MyDrive/crawl-300d-2M.vec'\n",
    "    embedding_size=300\n",
    "    vocab_size=5000\n",
    "    embedding_index={}\n",
    "    with open(embedding_path, 'r') as f:\n",
    "         for line in f:\n",
    "             values = line.rstrip().rsplit(' ')\n",
    "             word = values[0]\n",
    "             coefs = np.asarray(values[1:], dtype='float32')\n",
    "             embedding_index[word] = coefs\n",
    "    num_words = len(token.word_index) + 1\n",
    "    embedding_matrix = np.zeros((num_words, embedding_size))\n",
    "    for word, i in token.word_index.items():\n",
    "       embedding_vector = embedding_index.get(word)\n",
    "       if embedding_vector is not None:\n",
    "        # words not found in embedding index will be all-zeros.\n",
    "          embedding_matrix[i] = embedding_vector\n",
    "    return embedding_matrix"
   ]
  },
  {
   "cell_type": "code",
   "execution_count": 29,
   "id": "S4SMjwZ0FYho",
   "metadata": {
    "colab": {
     "base_uri": "https://localhost:8080/"
    },
    "id": "S4SMjwZ0FYho",
    "outputId": "de89e082-f5bb-4179-eb5a-c24e4edfa7ec"
   },
   "outputs": [
    {
     "name": "stdout",
     "output_type": "stream",
     "text": [
      "(362501, 300) (189738, 300)\n"
     ]
    }
   ],
   "source": [
    "embedding_comm_fast = generate_embedding_matrix(token_com)\n",
    "embedding_P_comm_fast = generate_embedding_matrix(token_par)\n",
    "print(embedding_comm_fast.shape,embedding_P_comm_fast.shape)"
   ]
  },
  {
   "cell_type": "code",
   "execution_count": 30,
   "id": "PSrEO7qFHqEw",
   "metadata": {
    "id": "PSrEO7qFHqEw"
   },
   "outputs": [],
   "source": [
    "def generate_embedding_matrix(token):\n",
    "    embedding_path='/content/gdrive/MyDrive/glove.42B.300d.txt'\n",
    "    embedding_dimension=300\n",
    "    embedding_index={}\n",
    "    with open(embedding_path) as f:\n",
    "         for line in f:\n",
    "             values=line.split()\n",
    "             word=values[0]\n",
    "             coefs=np.asarray(values[1:],dtype='float32')\n",
    "             embedding_index[word]=coefs\n",
    "    f.close()        \n",
    "    embedding_matrix=np.zeros((len(token.word_index)+1,embedding_dimension))\n",
    "    num_words_in_embedding = 0\n",
    "    for word, i in token.word_index.items():\n",
    "        embedding_vector = embedding_index.get(word)\n",
    "        if embedding_vector is not None:\n",
    "           embedding_matrix[i] = embedding_vector\n",
    "        #print(\"embedding matrix shape\",embedding_matrix.shape)\n",
    "    return embedding_matrix"
   ]
  },
  {
   "cell_type": "code",
   "execution_count": 31,
   "id": "iaRaFXnqIPXN",
   "metadata": {
    "colab": {
     "base_uri": "https://localhost:8080/"
    },
    "id": "iaRaFXnqIPXN",
    "outputId": "ff8e0079-711c-4b1b-86b7-fe4b1d251143"
   },
   "outputs": [
    {
     "name": "stdout",
     "output_type": "stream",
     "text": [
      "(362501, 300) (189738, 300)\n"
     ]
    }
   ],
   "source": [
    "embedding_comm = generate_embedding_matrix(token_com)\n",
    "embedding_P_comm = generate_embedding_matrix(token_par)\n",
    "print(embedding_comm.shape,embedding_P_comm.shape)"
   ]
  },
  {
   "cell_type": "code",
   "execution_count": 32,
   "id": "567f61bd",
   "metadata": {
    "colab": {
     "base_uri": "https://localhost:8080/"
    },
    "id": "567f61bd",
    "outputId": "321d0ecd-f6ae-4c70-a2d7-a61d347e7b2d"
   },
   "outputs": [
    {
     "name": "stdout",
     "output_type": "stream",
     "text": [
      "CPU times: user 17.9 ms, sys: 994 µs, total: 18.9 ms\n",
      "Wall time: 16.6 ms\n"
     ]
    }
   ],
   "source": [
    "%%time\n",
    "from sklearn.preprocessing import Normalizer\n",
    "trans = Normalizer()\n",
    "X_train_score=trans.fit_transform(X_train['score'].values.reshape(-1,1))\n",
    "X_test_score=trans.transform(X_test['score'].values.reshape(-1,1))"
   ]
  },
  {
   "cell_type": "code",
   "execution_count": 33,
   "id": "3bf9e765",
   "metadata": {
    "colab": {
     "base_uri": "https://localhost:8080/"
    },
    "id": "3bf9e765",
    "outputId": "9d822680-7707-4908-9c1e-2edb10214abd"
   },
   "outputs": [
    {
     "name": "stdout",
     "output_type": "stream",
     "text": [
      "CPU times: user 15 ms, sys: 0 ns, total: 15 ms\n",
      "Wall time: 14.1 ms\n"
     ]
    }
   ],
   "source": [
    "%%time\n",
    "trans = Normalizer()\n",
    "X_train_ups=trans.fit_transform(X_train['ups'].values.reshape(-1,1))\n",
    "X_test_ups=trans.transform(X_test['ups'].values.reshape(-1,1))"
   ]
  },
  {
   "cell_type": "code",
   "execution_count": 34,
   "id": "246001b5",
   "metadata": {
    "colab": {
     "base_uri": "https://localhost:8080/"
    },
    "id": "246001b5",
    "outputId": "3ff74ac8-5f55-40a1-fa0b-ee9023a6b873"
   },
   "outputs": [
    {
     "name": "stdout",
     "output_type": "stream",
     "text": [
      "CPU times: user 15.9 ms, sys: 38 µs, total: 15.9 ms\n",
      "Wall time: 14.7 ms\n"
     ]
    }
   ],
   "source": [
    "%%time\n",
    "trans = Normalizer()\n",
    "X_train_downs=trans.fit_transform(X_train['downs'].values.reshape(-1,1))\n",
    "X_test_downs=trans.transform(X_test['downs'].values.reshape(-1,1))"
   ]
  },
  {
   "cell_type": "code",
   "execution_count": 35,
   "id": "8fSL8b95-U6W",
   "metadata": {
    "colab": {
     "base_uri": "https://localhost:8080/"
    },
    "id": "8fSL8b95-U6W",
    "outputId": "0a48f8e1-7883-421d-a23a-1072139331c9"
   },
   "outputs": [
    {
     "name": "stdout",
     "output_type": "stream",
     "text": [
      "CPU times: user 24.1 ms, sys: 1.05 ms, total: 25.1 ms\n",
      "Wall time: 23.1 ms\n"
     ]
    }
   ],
   "source": [
    "%%time\n",
    "trans = Normalizer()\n",
    "X_train_comp=trans.fit_transform(X_train['compound'].values.reshape(-1,1))\n",
    "X_test_comp=trans.transform(X_test['compound'].values.reshape(-1,1))"
   ]
  },
  {
   "cell_type": "code",
   "execution_count": 36,
   "id": "2PrLRZ9-_VrM",
   "metadata": {
    "colab": {
     "base_uri": "https://localhost:8080/"
    },
    "id": "2PrLRZ9-_VrM",
    "outputId": "515700d2-c5a1-4fe6-8cb1-235860373686"
   },
   "outputs": [
    {
     "name": "stdout",
     "output_type": "stream",
     "text": [
      "CPU times: user 21.9 ms, sys: 2 ms, total: 23.9 ms\n",
      "Wall time: 22.7 ms\n"
     ]
    }
   ],
   "source": [
    "%%time\n",
    "trans = Normalizer()\n",
    "X_train_neg=trans.fit_transform(X_train['negative'].values.reshape(-1,1))\n",
    "X_test_neg=trans.transform(X_test['negative'].values.reshape(-1,1))"
   ]
  },
  {
   "cell_type": "code",
   "execution_count": 37,
   "id": "Vno_GyMh_qf3",
   "metadata": {
    "colab": {
     "base_uri": "https://localhost:8080/"
    },
    "id": "Vno_GyMh_qf3",
    "outputId": "4507e646-5b1b-4121-9cab-716f5d8fd837"
   },
   "outputs": [
    {
     "name": "stdout",
     "output_type": "stream",
     "text": [
      "CPU times: user 20.8 ms, sys: 3.02 ms, total: 23.8 ms\n",
      "Wall time: 23.2 ms\n"
     ]
    }
   ],
   "source": [
    "%%time\n",
    "trans = Normalizer()\n",
    "X_train_pos=trans.fit_transform(X_train['positive'].values.reshape(-1,1))\n",
    "X_test_pos=trans.transform(X_test['positive'].values.reshape(-1,1))"
   ]
  },
  {
   "cell_type": "code",
   "execution_count": 38,
   "id": "N-8eYj14_x-5",
   "metadata": {
    "colab": {
     "base_uri": "https://localhost:8080/"
    },
    "id": "N-8eYj14_x-5",
    "outputId": "20ac338a-b499-457e-96f1-a09d66f7a15e"
   },
   "outputs": [
    {
     "name": "stdout",
     "output_type": "stream",
     "text": [
      "CPU times: user 18.4 ms, sys: 0 ns, total: 18.4 ms\n",
      "Wall time: 17 ms\n"
     ]
    }
   ],
   "source": [
    "%%time\n",
    "trans = Normalizer()\n",
    "X_train_neu=trans.fit_transform(X_train['neutral'].values.reshape(-1,1))\n",
    "X_test_neu=trans.transform(X_test['neutral'].values.reshape(-1,1))"
   ]
  },
  {
   "cell_type": "code",
   "execution_count": 39,
   "id": "JIohW6CN_6v_",
   "metadata": {
    "colab": {
     "base_uri": "https://localhost:8080/"
    },
    "id": "JIohW6CN_6v_",
    "outputId": "1da1599e-73f0-472c-cfbd-b3e47fe33e5c"
   },
   "outputs": [
    {
     "name": "stdout",
     "output_type": "stream",
     "text": [
      "CPU times: user 15.9 ms, sys: 997 µs, total: 16.9 ms\n",
      "Wall time: 16 ms\n"
     ]
    }
   ],
   "source": [
    "%%time\n",
    "trans = Normalizer()\n",
    "X_train_com_len=trans.fit_transform(X_train['com_len'].values.reshape(-1,1))\n",
    "X_test_com_len=trans.transform(X_test['com_len'].values.reshape(-1,1))"
   ]
  },
  {
   "cell_type": "code",
   "execution_count": 40,
   "id": "GgcrfJxWAKqk",
   "metadata": {
    "colab": {
     "base_uri": "https://localhost:8080/"
    },
    "id": "GgcrfJxWAKqk",
    "outputId": "fac836a2-e718-4f34-ac26-f1d968a0f0d8"
   },
   "outputs": [
    {
     "name": "stdout",
     "output_type": "stream",
     "text": [
      "CPU times: user 15.7 ms, sys: 27 µs, total: 15.7 ms\n",
      "Wall time: 14.7 ms\n"
     ]
    }
   ],
   "source": [
    "%%time\n",
    "trans = Normalizer()\n",
    "X_train_parent_com_len=trans.fit_transform(X_train['parent_com_len'].values.reshape(-1,1))\n",
    "X_test_parent_com_len=trans.transform(X_test['parent_com_len'].values.reshape(-1,1))"
   ]
  },
  {
   "cell_type": "code",
   "execution_count": 41,
   "id": "hF3XgpXYBtOw",
   "metadata": {
    "id": "hF3XgpXYBtOw"
   },
   "outputs": [],
   "source": [
    "numerical_train=np.concatenate((X_train_score,X_train_ups,X_train_downs,X_train_comp,X_train_neu,X_train_neg,X_train_pos,X_train_com_len,X_train_parent_com_len),axis=1)\n",
    "numerical_test=np.concatenate((X_test_score,X_test_ups,X_test_downs,X_test_comp,X_test_neu,X_test_neg,X_test_pos,X_test_com_len,X_test_parent_com_len),axis=1)"
   ]
  },
  {
   "cell_type": "code",
   "execution_count": 42,
   "id": "9Qo1odbhV53U",
   "metadata": {
    "colab": {
     "base_uri": "https://localhost:8080/"
    },
    "id": "9Qo1odbhV53U",
    "outputId": "7d24bc3b-4df7-487a-c9c2-bde901d08144"
   },
   "outputs": [
    {
     "name": "stdout",
     "output_type": "stream",
     "text": [
      "(707578, 9) (303248, 9)\n"
     ]
    }
   ],
   "source": [
    "print(numerical_train.shape,numerical_test.shape)"
   ]
  },
  {
   "cell_type": "code",
   "execution_count": 43,
   "id": "b27cl84CWK2O",
   "metadata": {
    "id": "b27cl84CWK2O"
   },
   "outputs": [],
   "source": [
    "X_train=[train_com_pad,train_par_com_pad,numerical_train]\n",
    "X_test=[test_com_pad,test_par_com_pad,numerical_test]"
   ]
  },
  {
   "cell_type": "markdown",
   "id": "bi5jARX1I7c7",
   "metadata": {
    "id": "bi5jARX1I7c7"
   },
   "source": [
    "# **Model:-1**"
   ]
  },
  {
   "cell_type": "markdown",
   "id": "bGYBsIxkI_xQ",
   "metadata": {
    "id": "bGYBsIxkI_xQ"
   },
   "source": [
    "(a) LSTM layer with Embedding without weight"
   ]
  },
  {
   "cell_type": "code",
   "execution_count": 45,
   "id": "Dw0d6FgHWbUJ",
   "metadata": {
    "id": "Dw0d6FgHWbUJ"
   },
   "outputs": [],
   "source": [
    "from tensorflow.keras.layers import concatenate\n",
    "def LSTM_Model(comm_len,token_com,par_comm_len,token_par):\n",
    "    drop_lstm = 0.25\n",
    "    drop_dense = 0.25\n",
    "    num_lstm=150\n",
    "  \n",
    "    input_text_1=Input(shape=(comm_len,), name='Comment', dtype='float32')\n",
    "    sequence_input_1=Embedding(len(token_com.word_index) + 1,300,input_length=comm_len,trainable=False,dtype=tf.float32)(input_text_1)\n",
    "    sequence_input_1=LSTM(num_lstm,dropout=drop_lstm,return_sequences=True,dtype=tf.float32)(sequence_input_1)\n",
    "    sequence_input_1=Flatten()(sequence_input_1)\n",
    "    \n",
    "    input_text_2=Input(shape=(par_comm_len,),name='parent_comment', dtype='float32')\n",
    "    sequence_input_2=Embedding(len(token_par.word_index) + 1,300,input_length=par_comm_len,trainable=False,dtype=tf.float32)(input_text_2)\n",
    "    sequence_input_2=LSTM(num_lstm,dropout=drop_lstm,return_sequences=True,dtype=tf.float32)(sequence_input_2)\n",
    "    sequence_input_2=Flatten()(sequence_input_2)\n",
    "    \n",
    "    \n",
    "    input5 = Input(shape=(9,),name='Numerical', dtype='float32')\n",
    "    flatten_6 = Dense(32,activation='relu',kernel_initializer=he_normal(),kernel_regularizer=l2(0.0001),dtype=tf.float32)(input5)\n",
    "    flatten_6 = Dense(16,activation='relu',kernel_initializer=he_normal(),kernel_regularizer=l2(0.0001),dtype=tf.float32)(flatten_6)\n",
    "    concat=concatenate([sequence_input_1,sequence_input_2,flatten_6],dtype=tf.float32)\n",
    "  \n",
    "    y = Dense(128,activation='relu',kernel_initializer=he_normal(),kernel_regularizer=l2(0.01))(concat)\n",
    "    y = BatchNormalization()(y)\n",
    "    y = Dense(64,activation='relu',kernel_initializer=he_normal(),kernel_regularizer=l2(0.01))(y)\n",
    "    y = BatchNormalization()(y)\n",
    "    y = Dense(32,activation='relu',kernel_initializer=he_normal(),kernel_regularizer=l2(0.01))(y)\n",
    "  \n",
    "    final_output=Dense(2,activation='softmax')(y)\n",
    "  \n",
    "    model= Model(inputs=[input_text_1,input_text_2,input5],outputs=final_output)\n",
    "    return model"
   ]
  },
  {
   "cell_type": "code",
   "execution_count": 46,
   "id": "8PFoM3x2WoFR",
   "metadata": {
    "colab": {
     "base_uri": "https://localhost:8080/"
    },
    "id": "8PFoM3x2WoFR",
    "outputId": "46dde640-15ba-4a7b-bb02-45fc8db112bd"
   },
   "outputs": [
    {
     "name": "stdout",
     "output_type": "stream",
     "text": [
      "Model: \"model\"\n",
      "__________________________________________________________________________________________________\n",
      "Layer (type)                    Output Shape         Param #     Connected to                     \n",
      "==================================================================================================\n",
      "Comment (InputLayer)            [(None, 200)]        0                                            \n",
      "__________________________________________________________________________________________________\n",
      "parent_comment (InputLayer)     [(None, 200)]        0                                            \n",
      "__________________________________________________________________________________________________\n",
      "embedding (Embedding)           (None, 200, 300)     108750300   Comment[0][0]                    \n",
      "__________________________________________________________________________________________________\n",
      "embedding_1 (Embedding)         (None, 200, 300)     56921400    parent_comment[0][0]             \n",
      "__________________________________________________________________________________________________\n",
      "Numerical (InputLayer)          [(None, 9)]          0                                            \n",
      "__________________________________________________________________________________________________\n",
      "lstm (LSTM)                     (None, 200, 150)     270600      embedding[0][0]                  \n",
      "__________________________________________________________________________________________________\n",
      "lstm_1 (LSTM)                   (None, 200, 150)     270600      embedding_1[0][0]                \n",
      "__________________________________________________________________________________________________\n",
      "dense (Dense)                   (None, 32)           320         Numerical[0][0]                  \n",
      "__________________________________________________________________________________________________\n",
      "flatten (Flatten)               (None, 30000)        0           lstm[0][0]                       \n",
      "__________________________________________________________________________________________________\n",
      "flatten_1 (Flatten)             (None, 30000)        0           lstm_1[0][0]                     \n",
      "__________________________________________________________________________________________________\n",
      "dense_1 (Dense)                 (None, 16)           528         dense[0][0]                      \n",
      "__________________________________________________________________________________________________\n",
      "concatenate (Concatenate)       (None, 60016)        0           flatten[0][0]                    \n",
      "                                                                 flatten_1[0][0]                  \n",
      "                                                                 dense_1[0][0]                    \n",
      "__________________________________________________________________________________________________\n",
      "dense_2 (Dense)                 (None, 128)          7682176     concatenate[0][0]                \n",
      "__________________________________________________________________________________________________\n",
      "batch_normalization (BatchNorma (None, 128)          512         dense_2[0][0]                    \n",
      "__________________________________________________________________________________________________\n",
      "dense_3 (Dense)                 (None, 64)           8256        batch_normalization[0][0]        \n",
      "__________________________________________________________________________________________________\n",
      "batch_normalization_1 (BatchNor (None, 64)           256         dense_3[0][0]                    \n",
      "__________________________________________________________________________________________________\n",
      "dense_4 (Dense)                 (None, 32)           2080        batch_normalization_1[0][0]      \n",
      "__________________________________________________________________________________________________\n",
      "dense_5 (Dense)                 (None, 2)            66          dense_4[0][0]                    \n",
      "==================================================================================================\n",
      "Total params: 173,907,094\n",
      "Trainable params: 8,235,010\n",
      "Non-trainable params: 165,672,084\n",
      "__________________________________________________________________________________________________\n"
     ]
    }
   ],
   "source": [
    "model=LSTM_Model(comm_len,token_com,par_comm_len,token_par)\n",
    "model.summary()"
   ]
  },
  {
   "cell_type": "code",
   "execution_count": 47,
   "id": "IJ_2D0o2z4EP",
   "metadata": {
    "colab": {
     "base_uri": "https://localhost:8080/",
     "height": 980
    },
    "id": "IJ_2D0o2z4EP",
    "outputId": "acc48734-bbe6-4387-9deb-ed2560854965"
   },
   "outputs": [
    {
     "data": {
      "image/png": "[encoded data removed]",
      "text/plain": [
       "<IPython.core.display.Image object>"
      ]
     },
     "execution_count": 47,
     "metadata": {},
     "output_type": "execute_result"
    }
   ],
   "source": [
    "\n",
    "tf.keras.utils.plot_model(\n",
    "    model, to_file='model.png', show_shapes=True, show_layer_names=True,\n",
    "    rankdir='TB')"
   ]
  },
  {
   "cell_type": "code",
   "execution_count": 48,
   "id": "BkhUeurCY1cT",
   "metadata": {
    "id": "BkhUeurCY1cT"
   },
   "outputs": [],
   "source": [
    "import tensorflow as tf\n",
    "adam = tf.keras.optimizers.Adam(lr=0.01)\n",
    "model.compile(optimizer=adam, loss='categorical_crossentropy',metrics=['accuracy'])"
   ]
  },
  {
   "cell_type": "code",
   "execution_count": 49,
   "id": "oGnKtZf0Y4Rs",
   "metadata": {
    "id": "oGnKtZf0Y4Rs"
   },
   "outputs": [],
   "source": [
    "from tensorflow.keras.callbacks import *\n",
    "import os\n",
    "filepath=\"weights_1.best.hdf1\"\n",
    "checkpoint = ModelCheckpoint(filepath, monitor='val_accuracy', verbose=1, mode='max')\n",
    "earlystop = EarlyStopping(monitor = 'val_accuracy',  mode=\"max\",min_delta = 0, patience = 8,verbose = 1)\n",
    "reduce_lr = ReduceLROnPlateau(monitor = 'val_accuracy', factor = 0.25, patience = 2, verbose = 1)\n",
    "%reload_ext tensorboard\n",
    "import datetime\n",
    "logdir = os.path.join(\"logs_1\", datetime.datetime.now().strftime(\"%Y%m%d-%H%M%S\"))\n",
    "#tensorboard = tf.keras.callbacks.TensorBoard(logdir, histogram_freq=1)\n",
    "tensorboard = TensorBoard(log_dir=logdir, histogram_freq=0, write_graph=True, write_grads=False, write_images=False)\n",
    "callbacks = [checkpoint,reduce_lr,tensorboard,earlystop]"
   ]
  },
  {
   "cell_type": "code",
   "execution_count": 50,
   "id": "2s3L_UrrY7MD",
   "metadata": {
    "colab": {
     "base_uri": "https://localhost:8080/"
    },
    "id": "2s3L_UrrY7MD",
    "outputId": "057628ab-08c7-40ac-d6dd-ac3b335d1e28"
   },
   "outputs": [
    {
     "name": "stdout",
     "output_type": "stream",
     "text": [
      "Epoch 1/50\n",
      "1382/1382 [==============================] - 260s 183ms/step - loss: 1.8344 - accuracy: 0.6518 - val_loss: 3.9281 - val_accuracy: 0.5000\n",
      "\n",
      "Epoch 00001: saving model to weights_1.best.hdf1\n"
     ]
    },
    {
     "name": "stderr",
     "output_type": "stream",
     "text": [
      "WARNING:absl:Function `_wrapped_model` contains input name(s) Comment, Numerical with unsupported characters which will be renamed to comment, numerical in the SavedModel.\n",
      "WARNING:absl:Found untraced functions such as lstm_cell_layer_call_fn, lstm_cell_layer_call_and_return_conditional_losses, lstm_cell_1_layer_call_fn, lstm_cell_1_layer_call_and_return_conditional_losses, lstm_cell_layer_call_fn while saving (showing 5 of 10). These functions will not be directly callable after loading.\n"
     ]
    },
    {
     "name": "stdout",
     "output_type": "stream",
     "text": [
      "INFO:tensorflow:Assets written to: weights_1.best.hdf1/assets\n"
     ]
    },
    {
     "name": "stderr",
     "output_type": "stream",
     "text": [
      "INFO:tensorflow:Assets written to: weights_1.best.hdf1/assets\n"
     ]
    },
    {
     "name": "stdout",
     "output_type": "stream",
     "text": [
      "Epoch 2/50\n",
      "1382/1382 [==============================] - 255s 184ms/step - loss: 1.1634 - accuracy: 0.6954 - val_loss: 1.6174 - val_accuracy: 0.5000\n",
      "\n",
      "Epoch 00002: saving model to weights_1.best.hdf1\n"
     ]
    },
    {
     "name": "stderr",
     "output_type": "stream",
     "text": [
      "WARNING:absl:Function `_wrapped_model` contains input name(s) Comment, Numerical with unsupported characters which will be renamed to comment, numerical in the SavedModel.\n",
      "WARNING:absl:Found untraced functions such as lstm_cell_layer_call_fn, lstm_cell_layer_call_and_return_conditional_losses, lstm_cell_1_layer_call_fn, lstm_cell_1_layer_call_and_return_conditional_losses, lstm_cell_layer_call_fn while saving (showing 5 of 10). These functions will not be directly callable after loading.\n"
     ]
    },
    {
     "name": "stdout",
     "output_type": "stream",
     "text": [
      "INFO:tensorflow:Assets written to: weights_1.best.hdf1/assets\n"
     ]
    },
    {
     "name": "stderr",
     "output_type": "stream",
     "text": [
      "INFO:tensorflow:Assets written to: weights_1.best.hdf1/assets\n"
     ]
    },
    {
     "name": "stdout",
     "output_type": "stream",
     "text": [
      "Epoch 3/50\n",
      "1382/1382 [==============================] - 255s 184ms/step - loss: 0.9326 - accuracy: 0.7102 - val_loss: 0.8923 - val_accuracy: 0.5260\n",
      "\n",
      "Epoch 00003: saving model to weights_1.best.hdf1\n"
     ]
    },
    {
     "name": "stderr",
     "output_type": "stream",
     "text": [
      "WARNING:absl:Function `_wrapped_model` contains input name(s) Comment, Numerical with unsupported characters which will be renamed to comment, numerical in the SavedModel.\n",
      "WARNING:absl:Found untraced functions such as lstm_cell_layer_call_fn, lstm_cell_layer_call_and_return_conditional_losses, lstm_cell_1_layer_call_fn, lstm_cell_1_layer_call_and_return_conditional_losses, lstm_cell_layer_call_fn while saving (showing 5 of 10). These functions will not be directly callable after loading.\n"
     ]
    },
    {
     "name": "stdout",
     "output_type": "stream",
     "text": [
      "INFO:tensorflow:Assets written to: weights_1.best.hdf1/assets\n"
     ]
    },
    {
     "name": "stderr",
     "output_type": "stream",
     "text": [
      "INFO:tensorflow:Assets written to: weights_1.best.hdf1/assets\n"
     ]
    },
    {
     "name": "stdout",
     "output_type": "stream",
     "text": [
      "Epoch 4/50\n",
      "1382/1382 [==============================] - 255s 184ms/step - loss: 0.7389 - accuracy: 0.7202 - val_loss: 1.1232 - val_accuracy: 0.6536\n",
      "\n",
      "Epoch 00004: saving model to weights_1.best.hdf1\n"
     ]
    },
    {
     "name": "stderr",
     "output_type": "stream",
     "text": [
      "WARNING:absl:Function `_wrapped_model` contains input name(s) Comment, Numerical with unsupported characters which will be renamed to comment, numerical in the SavedModel.\n",
      "WARNING:absl:Found untraced functions such as lstm_cell_layer_call_fn, lstm_cell_layer_call_and_return_conditional_losses, lstm_cell_1_layer_call_fn, lstm_cell_1_layer_call_and_return_conditional_losses, lstm_cell_layer_call_fn while saving (showing 5 of 10). These functions will not be directly callable after loading.\n"
     ]
    },
    {
     "name": "stdout",
     "output_type": "stream",
     "text": [
      "INFO:tensorflow:Assets written to: weights_1.best.hdf1/assets\n"
     ]
    },
    {
     "name": "stderr",
     "output_type": "stream",
     "text": [
      "INFO:tensorflow:Assets written to: weights_1.best.hdf1/assets\n"
     ]
    },
    {
     "name": "stdout",
     "output_type": "stream",
     "text": [
      "Epoch 5/50\n",
      "1382/1382 [==============================] - 255s 184ms/step - loss: 0.6549 - accuracy: 0.7276 - val_loss: 0.6957 - val_accuracy: 0.6697\n",
      "\n",
      "Epoch 00005: saving model to weights_1.best.hdf1\n"
     ]
    },
    {
     "name": "stderr",
     "output_type": "stream",
     "text": [
      "WARNING:absl:Function `_wrapped_model` contains input name(s) Comment, Numerical with unsupported characters which will be renamed to comment, numerical in the SavedModel.\n",
      "WARNING:absl:Found untraced functions such as lstm_cell_layer_call_fn, lstm_cell_layer_call_and_return_conditional_losses, lstm_cell_1_layer_call_fn, lstm_cell_1_layer_call_and_return_conditional_losses, lstm_cell_layer_call_fn while saving (showing 5 of 10). These functions will not be directly callable after loading.\n"
     ]
    },
    {
     "name": "stdout",
     "output_type": "stream",
     "text": [
      "INFO:tensorflow:Assets written to: weights_1.best.hdf1/assets\n"
     ]
    },
    {
     "name": "stderr",
     "output_type": "stream",
     "text": [
      "INFO:tensorflow:Assets written to: weights_1.best.hdf1/assets\n"
     ]
    },
    {
     "name": "stdout",
     "output_type": "stream",
     "text": [
      "Epoch 6/50\n",
      "1382/1382 [==============================] - 255s 184ms/step - loss: 0.6063 - accuracy: 0.7336 - val_loss: 0.9993 - val_accuracy: 0.6539\n",
      "\n",
      "Epoch 00006: saving model to weights_1.best.hdf1\n"
     ]
    },
    {
     "name": "stderr",
     "output_type": "stream",
     "text": [
      "WARNING:absl:Function `_wrapped_model` contains input name(s) Comment, Numerical with unsupported characters which will be renamed to comment, numerical in the SavedModel.\n",
      "WARNING:absl:Found untraced functions such as lstm_cell_layer_call_fn, lstm_cell_layer_call_and_return_conditional_losses, lstm_cell_1_layer_call_fn, lstm_cell_1_layer_call_and_return_conditional_losses, lstm_cell_layer_call_fn while saving (showing 5 of 10). These functions will not be directly callable after loading.\n"
     ]
    },
    {
     "name": "stdout",
     "output_type": "stream",
     "text": [
      "INFO:tensorflow:Assets written to: weights_1.best.hdf1/assets\n"
     ]
    },
    {
     "name": "stderr",
     "output_type": "stream",
     "text": [
      "INFO:tensorflow:Assets written to: weights_1.best.hdf1/assets\n"
     ]
    },
    {
     "name": "stdout",
     "output_type": "stream",
     "text": [
      "Epoch 7/50\n",
      "1382/1382 [==============================] - 255s 184ms/step - loss: 0.5765 - accuracy: 0.7396 - val_loss: 0.6100 - val_accuracy: 0.7077\n",
      "\n",
      "Epoch 00007: saving model to weights_1.best.hdf1\n"
     ]
    },
    {
     "name": "stderr",
     "output_type": "stream",
     "text": [
      "WARNING:absl:Function `_wrapped_model` contains input name(s) Comment, Numerical with unsupported characters which will be renamed to comment, numerical in the SavedModel.\n",
      "WARNING:absl:Found untraced functions such as lstm_cell_layer_call_fn, lstm_cell_layer_call_and_return_conditional_losses, lstm_cell_1_layer_call_fn, lstm_cell_1_layer_call_and_return_conditional_losses, lstm_cell_layer_call_fn while saving (showing 5 of 10). These functions will not be directly callable after loading.\n"
     ]
    },
    {
     "name": "stdout",
     "output_type": "stream",
     "text": [
      "INFO:tensorflow:Assets written to: weights_1.best.hdf1/assets\n"
     ]
    },
    {
     "name": "stderr",
     "output_type": "stream",
     "text": [
      "INFO:tensorflow:Assets written to: weights_1.best.hdf1/assets\n"
     ]
    },
    {
     "name": "stdout",
     "output_type": "stream",
     "text": [
      "Epoch 8/50\n",
      "1382/1382 [==============================] - 255s 184ms/step - loss: 0.6959 - accuracy: 0.6884 - val_loss: 0.8172 - val_accuracy: 0.5311\n",
      "\n",
      "Epoch 00008: saving model to weights_1.best.hdf1\n"
     ]
    },
    {
     "name": "stderr",
     "output_type": "stream",
     "text": [
      "WARNING:absl:Function `_wrapped_model` contains input name(s) Comment, Numerical with unsupported characters which will be renamed to comment, numerical in the SavedModel.\n",
      "WARNING:absl:Found untraced functions such as lstm_cell_layer_call_fn, lstm_cell_layer_call_and_return_conditional_losses, lstm_cell_1_layer_call_fn, lstm_cell_1_layer_call_and_return_conditional_losses, lstm_cell_layer_call_fn while saving (showing 5 of 10). These functions will not be directly callable after loading.\n"
     ]
    },
    {
     "name": "stdout",
     "output_type": "stream",
     "text": [
      "INFO:tensorflow:Assets written to: weights_1.best.hdf1/assets\n"
     ]
    },
    {
     "name": "stderr",
     "output_type": "stream",
     "text": [
      "INFO:tensorflow:Assets written to: weights_1.best.hdf1/assets\n"
     ]
    },
    {
     "name": "stdout",
     "output_type": "stream",
     "text": [
      "Epoch 9/50\n",
      "1382/1382 [==============================] - 255s 184ms/step - loss: 0.7952 - accuracy: 0.6072 - val_loss: 0.9228 - val_accuracy: 0.5353\n",
      "\n",
      "Epoch 00009: saving model to weights_1.best.hdf1\n"
     ]
    },
    {
     "name": "stderr",
     "output_type": "stream",
     "text": [
      "WARNING:absl:Function `_wrapped_model` contains input name(s) Comment, Numerical with unsupported characters which will be renamed to comment, numerical in the SavedModel.\n",
      "WARNING:absl:Found untraced functions such as lstm_cell_layer_call_fn, lstm_cell_layer_call_and_return_conditional_losses, lstm_cell_1_layer_call_fn, lstm_cell_1_layer_call_and_return_conditional_losses, lstm_cell_layer_call_fn while saving (showing 5 of 10). These functions will not be directly callable after loading.\n"
     ]
    },
    {
     "name": "stdout",
     "output_type": "stream",
     "text": [
      "INFO:tensorflow:Assets written to: weights_1.best.hdf1/assets\n"
     ]
    },
    {
     "name": "stderr",
     "output_type": "stream",
     "text": [
      "INFO:tensorflow:Assets written to: weights_1.best.hdf1/assets\n"
     ]
    },
    {
     "name": "stdout",
     "output_type": "stream",
     "text": [
      "\n",
      "Epoch 00009: ReduceLROnPlateau reducing learning rate to 0.0024999999441206455.\n",
      "Epoch 10/50\n",
      "1382/1382 [==============================] - 255s 184ms/step - loss: 0.6532 - accuracy: 0.6519 - val_loss: 0.7369 - val_accuracy: 0.6069\n",
      "\n",
      "Epoch 00010: saving model to weights_1.best.hdf1\n"
     ]
    },
    {
     "name": "stderr",
     "output_type": "stream",
     "text": [
      "WARNING:absl:Function `_wrapped_model` contains input name(s) Comment, Numerical with unsupported characters which will be renamed to comment, numerical in the SavedModel.\n",
      "WARNING:absl:Found untraced functions such as lstm_cell_layer_call_fn, lstm_cell_layer_call_and_return_conditional_losses, lstm_cell_1_layer_call_fn, lstm_cell_1_layer_call_and_return_conditional_losses, lstm_cell_layer_call_fn while saving (showing 5 of 10). These functions will not be directly callable after loading.\n"
     ]
    },
    {
     "name": "stdout",
     "output_type": "stream",
     "text": [
      "INFO:tensorflow:Assets written to: weights_1.best.hdf1/assets\n"
     ]
    },
    {
     "name": "stderr",
     "output_type": "stream",
     "text": [
      "INFO:tensorflow:Assets written to: weights_1.best.hdf1/assets\n"
     ]
    },
    {
     "name": "stdout",
     "output_type": "stream",
     "text": [
      "Epoch 11/50\n",
      "1382/1382 [==============================] - 255s 184ms/step - loss: 0.6430 - accuracy: 0.6598 - val_loss: 0.8732 - val_accuracy: 0.5225\n",
      "\n",
      "Epoch 00011: saving model to weights_1.best.hdf1\n"
     ]
    },
    {
     "name": "stderr",
     "output_type": "stream",
     "text": [
      "WARNING:absl:Function `_wrapped_model` contains input name(s) Comment, Numerical with unsupported characters which will be renamed to comment, numerical in the SavedModel.\n",
      "WARNING:absl:Found untraced functions such as lstm_cell_layer_call_fn, lstm_cell_layer_call_and_return_conditional_losses, lstm_cell_1_layer_call_fn, lstm_cell_1_layer_call_and_return_conditional_losses, lstm_cell_layer_call_fn while saving (showing 5 of 10). These functions will not be directly callable after loading.\n"
     ]
    },
    {
     "name": "stdout",
     "output_type": "stream",
     "text": [
      "INFO:tensorflow:Assets written to: weights_1.best.hdf1/assets\n"
     ]
    },
    {
     "name": "stderr",
     "output_type": "stream",
     "text": [
      "INFO:tensorflow:Assets written to: weights_1.best.hdf1/assets\n"
     ]
    },
    {
     "name": "stdout",
     "output_type": "stream",
     "text": [
      "\n",
      "Epoch 00011: ReduceLROnPlateau reducing learning rate to 0.0006249999860301614.\n",
      "Epoch 12/50\n",
      "1382/1382 [==============================] - 255s 184ms/step - loss: 0.6114 - accuracy: 0.6766 - val_loss: 0.6095 - val_accuracy: 0.6795\n",
      "\n",
      "Epoch 00012: saving model to weights_1.best.hdf1\n"
     ]
    },
    {
     "name": "stderr",
     "output_type": "stream",
     "text": [
      "WARNING:absl:Function `_wrapped_model` contains input name(s) Comment, Numerical with unsupported characters which will be renamed to comment, numerical in the SavedModel.\n",
      "WARNING:absl:Found untraced functions such as lstm_cell_layer_call_fn, lstm_cell_layer_call_and_return_conditional_losses, lstm_cell_1_layer_call_fn, lstm_cell_1_layer_call_and_return_conditional_losses, lstm_cell_layer_call_fn while saving (showing 5 of 10). These functions will not be directly callable after loading.\n"
     ]
    },
    {
     "name": "stdout",
     "output_type": "stream",
     "text": [
      "INFO:tensorflow:Assets written to: weights_1.best.hdf1/assets\n"
     ]
    },
    {
     "name": "stderr",
     "output_type": "stream",
     "text": [
      "INFO:tensorflow:Assets written to: weights_1.best.hdf1/assets\n"
     ]
    },
    {
     "name": "stdout",
     "output_type": "stream",
     "text": [
      "Epoch 13/50\n",
      "1382/1382 [==============================] - 255s 184ms/step - loss: 0.6060 - accuracy: 0.6801 - val_loss: 0.6228 - val_accuracy: 0.6664\n",
      "\n",
      "Epoch 00013: saving model to weights_1.best.hdf1\n"
     ]
    },
    {
     "name": "stderr",
     "output_type": "stream",
     "text": [
      "WARNING:absl:Function `_wrapped_model` contains input name(s) Comment, Numerical with unsupported characters which will be renamed to comment, numerical in the SavedModel.\n",
      "WARNING:absl:Found untraced functions such as lstm_cell_layer_call_fn, lstm_cell_layer_call_and_return_conditional_losses, lstm_cell_1_layer_call_fn, lstm_cell_1_layer_call_and_return_conditional_losses, lstm_cell_layer_call_fn while saving (showing 5 of 10). These functions will not be directly callable after loading.\n"
     ]
    },
    {
     "name": "stdout",
     "output_type": "stream",
     "text": [
      "INFO:tensorflow:Assets written to: weights_1.best.hdf1/assets\n"
     ]
    },
    {
     "name": "stderr",
     "output_type": "stream",
     "text": [
      "INFO:tensorflow:Assets written to: weights_1.best.hdf1/assets\n"
     ]
    },
    {
     "name": "stdout",
     "output_type": "stream",
     "text": [
      "\n",
      "Epoch 00013: ReduceLROnPlateau reducing learning rate to 0.00015624999650754035.\n",
      "Epoch 14/50\n",
      "1382/1382 [==============================] - 255s 185ms/step - loss: 0.5911 - accuracy: 0.6890 - val_loss: 0.6308 - val_accuracy: 0.6295\n",
      "\n",
      "Epoch 00014: saving model to weights_1.best.hdf1\n"
     ]
    },
    {
     "name": "stderr",
     "output_type": "stream",
     "text": [
      "WARNING:absl:Function `_wrapped_model` contains input name(s) Comment, Numerical with unsupported characters which will be renamed to comment, numerical in the SavedModel.\n",
      "WARNING:absl:Found untraced functions such as lstm_cell_layer_call_fn, lstm_cell_layer_call_and_return_conditional_losses, lstm_cell_1_layer_call_fn, lstm_cell_1_layer_call_and_return_conditional_losses, lstm_cell_layer_call_fn while saving (showing 5 of 10). These functions will not be directly callable after loading.\n"
     ]
    },
    {
     "name": "stdout",
     "output_type": "stream",
     "text": [
      "INFO:tensorflow:Assets written to: weights_1.best.hdf1/assets\n"
     ]
    },
    {
     "name": "stderr",
     "output_type": "stream",
     "text": [
      "INFO:tensorflow:Assets written to: weights_1.best.hdf1/assets\n"
     ]
    },
    {
     "name": "stdout",
     "output_type": "stream",
     "text": [
      "Epoch 15/50\n",
      "1382/1382 [==============================] - 255s 184ms/step - loss: 0.5874 - accuracy: 0.6914 - val_loss: 0.6110 - val_accuracy: 0.6705\n",
      "\n",
      "Epoch 00015: saving model to weights_1.best.hdf1\n"
     ]
    },
    {
     "name": "stderr",
     "output_type": "stream",
     "text": [
      "WARNING:absl:Function `_wrapped_model` contains input name(s) Comment, Numerical with unsupported characters which will be renamed to comment, numerical in the SavedModel.\n",
      "WARNING:absl:Found untraced functions such as lstm_cell_layer_call_fn, lstm_cell_layer_call_and_return_conditional_losses, lstm_cell_1_layer_call_fn, lstm_cell_1_layer_call_and_return_conditional_losses, lstm_cell_layer_call_fn while saving (showing 5 of 10). These functions will not be directly callable after loading.\n"
     ]
    },
    {
     "name": "stdout",
     "output_type": "stream",
     "text": [
      "INFO:tensorflow:Assets written to: weights_1.best.hdf1/assets\n"
     ]
    },
    {
     "name": "stderr",
     "output_type": "stream",
     "text": [
      "INFO:tensorflow:Assets written to: weights_1.best.hdf1/assets\n"
     ]
    },
    {
     "name": "stdout",
     "output_type": "stream",
     "text": [
      "\n",
      "Epoch 00015: ReduceLROnPlateau reducing learning rate to 3.9062499126885086e-05.\n",
      "Epoch 00015: early stopping\n"
     ]
    }
   ],
   "source": [
    "hitory=model.fit(x=X_train,y=y_train,epochs=50,batch_size=512,validation_data=(X_test, y_test),callbacks=callbacks)"
   ]
  },
  {
   "cell_type": "code",
   "execution_count": 51,
   "id": "mxZ_i2Ihdh4l",
   "metadata": {
    "colab": {
     "base_uri": "https://localhost:8080/",
     "height": 228
    },
    "id": "mxZ_i2Ihdh4l",
    "outputId": "a215282e-acf0-46d7-d953-539aca31e6c9"
   },
   "outputs": [
    {
     "data": {
      "image/png": "[encoded data removed]",
      "text/plain": [
       "<Figure size 2160x360 with 2 Axes>"
      ]
     },
     "metadata": {
      "needs_background": "light"
     },
     "output_type": "display_data"
    }
   ],
   "source": [
    "import matplotlib.pyplot as plt\n",
    "plt.figure(figsize=(30, 5))\n",
    "plt.subplot(121)\n",
    "plt.plot(hitory.history['loss'])\n",
    "plt.plot(hitory.history['val_loss'])\n",
    "plt.title('Model LOSS')\n",
    "plt.ylabel('Loss')\n",
    "plt.xlabel('Epoch')\n",
    "plt.legend(['Train', 'Test'], loc='upper left')\n",
    "\n",
    "# Plot training & validation f1_score\n",
    "plt.subplot(122)\n",
    "plt.plot(hitory.history['accuracy'])\n",
    "plt.plot(hitory.history['val_accuracy'])\n",
    "plt.title('Model Accuracy')\n",
    "plt.ylabel('accuracy')\n",
    "plt.xlabel('Epoch')\n",
    "plt.legend(['Train', 'Test'], loc='upper left')\n",
    "plt.show()"
   ]
  },
  {
   "cell_type": "markdown",
   "id": "68dbfdd0",
   "metadata": {},
   "source": [
    "# Model:-2"
   ]
  },
  {
   "cell_type": "markdown",
   "id": "tNgQTncfK8x1",
   "metadata": {
    "id": "tNgQTncfK8x1"
   },
   "source": [
    "(b)  LSTM layer with Embedding with glove weight"
   ]
  },
  {
   "cell_type": "code",
   "execution_count": 46,
   "id": "P_AwiknuLAzD",
   "metadata": {
    "id": "P_AwiknuLAzD"
   },
   "outputs": [],
   "source": [
    "tf.keras.backend.clear_session()"
   ]
  },
  {
   "cell_type": "code",
   "execution_count": 49,
   "id": "D8GXOJIYLAq7",
   "metadata": {
    "id": "D8GXOJIYLAq7"
   },
   "outputs": [],
   "source": [
    "from tensorflow.keras.layers import concatenate\n",
    "def LSTM_Model_glove(comm_len,token_com,par_comm_len,token_par):\n",
    "    drop_lstm = 0.25\n",
    "    drop_dense = 0.25\n",
    "    num_lstm=150\n",
    "  \n",
    "    input_text_1=Input(shape=(comm_len,), name='Comment', dtype='float32')\n",
    "    sequence_input_1=Embedding(len(token_com.word_index) + 1,300,weights=[embedding_comm],input_length=comm_len,trainable=False,dtype=tf.float32)(input_text_1)\n",
    "    sequence_input_1=LSTM(num_lstm,dropout=drop_lstm,return_sequences=True,dtype=tf.float32)(sequence_input_1)\n",
    "    sequence_input_1=Flatten()(sequence_input_1)\n",
    "    \n",
    "    input_text_2=Input(shape=(par_comm_len,),name='parent_comment', dtype='float32')\n",
    "    sequence_input_2=Embedding(len(token_par.word_index) + 1,300,weights=[embedding_P_comm],input_length=par_comm_len,trainable=False,dtype=tf.float32)(input_text_2)\n",
    "    sequence_input_2=LSTM(num_lstm,dropout=drop_lstm,return_sequences=True,dtype=tf.float32)(sequence_input_2)\n",
    "    sequence_input_2=Flatten()(sequence_input_2)\n",
    "    \n",
    "    \n",
    "    input5 = Input(shape=(9,),name='Numerical', dtype='float32')\n",
    "    flatten_6 = Dense(32,activation='relu',kernel_initializer=he_normal(),kernel_regularizer=l2(0.0001),dtype=tf.float32)(input5)\n",
    "    flatten_6 = Dense(16,activation='relu',kernel_initializer=he_normal(),kernel_regularizer=l2(0.0001),dtype=tf.float32)(flatten_6)\n",
    "    concat=concatenate([sequence_input_1,sequence_input_2,flatten_6],dtype=tf.float32)\n",
    "  \n",
    "    y = Dense(128,activation='relu',kernel_initializer=he_normal(),kernel_regularizer=l2(0.01))(concat)\n",
    "    y = BatchNormalization()(y)\n",
    "    y = Dense(64,activation='relu',kernel_initializer=he_normal(),kernel_regularizer=l2(0.01))(y)\n",
    "    y = BatchNormalization()(y)\n",
    "    y = Dense(32,activation='relu',kernel_initializer=he_normal(),kernel_regularizer=l2(0.01))(y)\n",
    "  \n",
    "    final_output=Dense(2,activation='softmax')(y)\n",
    "  \n",
    "    model= Model(inputs=[input_text_1,input_text_2,input5],outputs=final_output)\n",
    "    return model"
   ]
  },
  {
   "cell_type": "code",
   "execution_count": 50,
   "id": "NmkbEsH9LAlP",
   "metadata": {
    "colab": {
     "base_uri": "https://localhost:8080/"
    },
    "id": "NmkbEsH9LAlP",
    "outputId": "62c86617-0d0e-4b6c-bb56-d432f7be4279"
   },
   "outputs": [
    {
     "name": "stdout",
     "output_type": "stream",
     "text": [
      "Model: \"model\"\n",
      "__________________________________________________________________________________________________\n",
      "Layer (type)                    Output Shape         Param #     Connected to                     \n",
      "==================================================================================================\n",
      "Comment (InputLayer)            [(None, 200)]        0                                            \n",
      "__________________________________________________________________________________________________\n",
      "parent_comment (InputLayer)     [(None, 200)]        0                                            \n",
      "__________________________________________________________________________________________________\n",
      "embedding (Embedding)           (None, 200, 300)     108750300   Comment[0][0]                    \n",
      "__________________________________________________________________________________________________\n",
      "embedding_1 (Embedding)         (None, 200, 300)     56921400    parent_comment[0][0]             \n",
      "__________________________________________________________________________________________________\n",
      "Numerical (InputLayer)          [(None, 9)]          0                                            \n",
      "__________________________________________________________________________________________________\n",
      "lstm (LSTM)                     (None, 200, 150)     270600      embedding[0][0]                  \n",
      "__________________________________________________________________________________________________\n",
      "lstm_1 (LSTM)                   (None, 200, 150)     270600      embedding_1[0][0]                \n",
      "__________________________________________________________________________________________________\n",
      "dense (Dense)                   (None, 32)           320         Numerical[0][0]                  \n",
      "__________________________________________________________________________________________________\n",
      "flatten (Flatten)               (None, 30000)        0           lstm[0][0]                       \n",
      "__________________________________________________________________________________________________\n",
      "flatten_1 (Flatten)             (None, 30000)        0           lstm_1[0][0]                     \n",
      "__________________________________________________________________________________________________\n",
      "dense_1 (Dense)                 (None, 16)           528         dense[0][0]                      \n",
      "__________________________________________________________________________________________________\n",
      "concatenate (Concatenate)       (None, 60016)        0           flatten[0][0]                    \n",
      "                                                                 flatten_1[0][0]                  \n",
      "                                                                 dense_1[0][0]                    \n",
      "__________________________________________________________________________________________________\n",
      "dense_2 (Dense)                 (None, 128)          7682176     concatenate[0][0]                \n",
      "__________________________________________________________________________________________________\n",
      "batch_normalization (BatchNorma (None, 128)          512         dense_2[0][0]                    \n",
      "__________________________________________________________________________________________________\n",
      "dense_3 (Dense)                 (None, 64)           8256        batch_normalization[0][0]        \n",
      "__________________________________________________________________________________________________\n",
      "batch_normalization_1 (BatchNor (None, 64)           256         dense_3[0][0]                    \n",
      "__________________________________________________________________________________________________\n",
      "dense_4 (Dense)                 (None, 32)           2080        batch_normalization_1[0][0]      \n",
      "__________________________________________________________________________________________________\n",
      "dense_5 (Dense)                 (None, 2)            66          dense_4[0][0]                    \n",
      "==================================================================================================\n",
      "Total params: 173,907,094\n",
      "Trainable params: 8,235,010\n",
      "Non-trainable params: 165,672,084\n",
      "__________________________________________________________________________________________________\n"
     ]
    }
   ],
   "source": [
    "model=LSTM_Model_glove(comm_len,token_com,par_comm_len,token_par)\n",
    "model.summary()"
   ]
  },
  {
   "cell_type": "code",
   "execution_count": 51,
   "id": "u9fuPf4XLAe1",
   "metadata": {
    "colab": {
     "base_uri": "https://localhost:8080/",
     "height": 980
    },
    "id": "u9fuPf4XLAe1",
    "outputId": "639d59d4-6b82-45cd-db06-de94291d6f17"
   },
   "outputs": [
    {
     "data": {
      "image/png": "[encoded data removed]",
      "text/plain": [
       "<IPython.core.display.Image object>"
      ]
     },
     "execution_count": 51,
     "metadata": {},
     "output_type": "execute_result"
    }
   ],
   "source": [
    "\n",
    "tf.keras.utils.plot_model(\n",
    "    model, to_file='model.png', show_shapes=True, show_layer_names=True,\n",
    "    rankdir='TB')"
   ]
  },
  {
   "cell_type": "code",
   "execution_count": 52,
   "id": "mRXIKr4tLAXg",
   "metadata": {
    "id": "mRXIKr4tLAXg"
   },
   "outputs": [],
   "source": [
    "import tensorflow as tf\n",
    "adam = tf.keras.optimizers.Adam(lr=0.01)\n",
    "model.compile(optimizer=adam, loss='categorical_crossentropy',metrics=['accuracy'])"
   ]
  },
  {
   "cell_type": "code",
   "execution_count": 53,
   "id": "LnyON2_1LAPZ",
   "metadata": {
    "id": "LnyON2_1LAPZ"
   },
   "outputs": [],
   "source": [
    "from tensorflow.keras.callbacks import *\n",
    "import os\n",
    "filepath=\"weights_1.best.hdf1\"\n",
    "checkpoint = ModelCheckpoint(filepath, monitor='val_accuracy', verbose=1, mode='max')\n",
    "earlystop = EarlyStopping(monitor = 'val_accuracy',  mode=\"max\",min_delta = 0, patience = 8,verbose = 1)\n",
    "reduce_lr = ReduceLROnPlateau(monitor = 'val_accuracy', factor = 0.25, patience = 2, verbose = 1)\n",
    "%reload_ext tensorboard\n",
    "import datetime\n",
    "logdir = os.path.join(\"logs_1\", datetime.datetime.now().strftime(\"%Y%m%d-%H%M%S\"))\n",
    "#tensorboard = tf.keras.callbacks.TensorBoard(logdir, histogram_freq=1)\n",
    "tensorboard = TensorBoard(log_dir=logdir, histogram_freq=0, write_graph=True, write_grads=False, write_images=False)\n",
    "callbacks = [checkpoint,reduce_lr,tensorboard,earlystop]"
   ]
  },
  {
   "cell_type": "code",
   "execution_count": 54,
   "id": "kLTqi7dJ6pxn",
   "metadata": {
    "colab": {
     "base_uri": "https://localhost:8080/"
    },
    "id": "kLTqi7dJ6pxn",
    "outputId": "b7a4f475-5486-4a37-810c-ae2b741a178d"
   },
   "outputs": [
    {
     "name": "stdout",
     "output_type": "stream",
     "text": [
      "Epoch 1/50\n",
      "1382/1382 [==============================] - 182s 126ms/step - loss: 1.5345 - accuracy: 0.6864 - val_loss: 1.1756 - val_accuracy: 0.7098\n",
      "\n",
      "Epoch 00001: saving model to weights_1.best.hdf1\n"
     ]
    },
    {
     "name": "stderr",
     "output_type": "stream",
     "text": [
      "WARNING:absl:Function `_wrapped_model` contains input name(s) Comment, Numerical with unsupported characters which will be renamed to comment, numerical in the SavedModel.\n",
      "WARNING:absl:Found untraced functions such as lstm_cell_layer_call_fn, lstm_cell_layer_call_and_return_conditional_losses, lstm_cell_1_layer_call_fn, lstm_cell_1_layer_call_and_return_conditional_losses, lstm_cell_layer_call_fn while saving (showing 5 of 10). These functions will not be directly callable after loading.\n"
     ]
    },
    {
     "name": "stdout",
     "output_type": "stream",
     "text": [
      "INFO:tensorflow:Assets written to: weights_1.best.hdf1/assets\n"
     ]
    },
    {
     "name": "stderr",
     "output_type": "stream",
     "text": [
      "INFO:tensorflow:Assets written to: weights_1.best.hdf1/assets\n"
     ]
    },
    {
     "name": "stdout",
     "output_type": "stream",
     "text": [
      "Epoch 2/50\n",
      "1382/1382 [==============================] - 173s 125ms/step - loss: 1.0142 - accuracy: 0.7109 - val_loss: 6.9704 - val_accuracy: 0.5000\n",
      "\n",
      "Epoch 00002: saving model to weights_1.best.hdf1\n"
     ]
    },
    {
     "name": "stderr",
     "output_type": "stream",
     "text": [
      "WARNING:absl:Function `_wrapped_model` contains input name(s) Comment, Numerical with unsupported characters which will be renamed to comment, numerical in the SavedModel.\n",
      "WARNING:absl:Found untraced functions such as lstm_cell_layer_call_fn, lstm_cell_layer_call_and_return_conditional_losses, lstm_cell_1_layer_call_fn, lstm_cell_1_layer_call_and_return_conditional_losses, lstm_cell_layer_call_fn while saving (showing 5 of 10). These functions will not be directly callable after loading.\n"
     ]
    },
    {
     "name": "stdout",
     "output_type": "stream",
     "text": [
      "INFO:tensorflow:Assets written to: weights_1.best.hdf1/assets\n"
     ]
    },
    {
     "name": "stderr",
     "output_type": "stream",
     "text": [
      "INFO:tensorflow:Assets written to: weights_1.best.hdf1/assets\n"
     ]
    },
    {
     "name": "stdout",
     "output_type": "stream",
     "text": [
      "Epoch 3/50\n",
      "1382/1382 [==============================] - 174s 126ms/step - loss: 0.8386 - accuracy: 0.7180 - val_loss: 1.4401 - val_accuracy: 0.5000\n",
      "\n",
      "Epoch 00003: saving model to weights_1.best.hdf1\n"
     ]
    },
    {
     "name": "stderr",
     "output_type": "stream",
     "text": [
      "WARNING:absl:Function `_wrapped_model` contains input name(s) Comment, Numerical with unsupported characters which will be renamed to comment, numerical in the SavedModel.\n",
      "WARNING:absl:Found untraced functions such as lstm_cell_layer_call_fn, lstm_cell_layer_call_and_return_conditional_losses, lstm_cell_1_layer_call_fn, lstm_cell_1_layer_call_and_return_conditional_losses, lstm_cell_layer_call_fn while saving (showing 5 of 10). These functions will not be directly callable after loading.\n"
     ]
    },
    {
     "name": "stdout",
     "output_type": "stream",
     "text": [
      "INFO:tensorflow:Assets written to: weights_1.best.hdf1/assets\n"
     ]
    },
    {
     "name": "stderr",
     "output_type": "stream",
     "text": [
      "INFO:tensorflow:Assets written to: weights_1.best.hdf1/assets\n"
     ]
    },
    {
     "name": "stdout",
     "output_type": "stream",
     "text": [
      "\n",
      "Epoch 00003: ReduceLROnPlateau reducing learning rate to 0.0024999999441206455.\n",
      "Epoch 4/50\n",
      "1382/1382 [==============================] - 174s 126ms/step - loss: 0.5666 - accuracy: 0.7305 - val_loss: 0.9024 - val_accuracy: 0.5528\n",
      "\n",
      "Epoch 00004: saving model to weights_1.best.hdf1\n"
     ]
    },
    {
     "name": "stderr",
     "output_type": "stream",
     "text": [
      "WARNING:absl:Function `_wrapped_model` contains input name(s) Comment, Numerical with unsupported characters which will be renamed to comment, numerical in the SavedModel.\n",
      "WARNING:absl:Found untraced functions such as lstm_cell_layer_call_fn, lstm_cell_layer_call_and_return_conditional_losses, lstm_cell_1_layer_call_fn, lstm_cell_1_layer_call_and_return_conditional_losses, lstm_cell_layer_call_fn while saving (showing 5 of 10). These functions will not be directly callable after loading.\n"
     ]
    },
    {
     "name": "stdout",
     "output_type": "stream",
     "text": [
      "INFO:tensorflow:Assets written to: weights_1.best.hdf1/assets\n"
     ]
    },
    {
     "name": "stderr",
     "output_type": "stream",
     "text": [
      "INFO:tensorflow:Assets written to: weights_1.best.hdf1/assets\n"
     ]
    },
    {
     "name": "stdout",
     "output_type": "stream",
     "text": [
      "Epoch 5/50\n",
      "1382/1382 [==============================] - 174s 126ms/step - loss: 0.5547 - accuracy: 0.7347 - val_loss: 2.7911 - val_accuracy: 0.5000\n",
      "\n",
      "Epoch 00005: saving model to weights_1.best.hdf1\n"
     ]
    },
    {
     "name": "stderr",
     "output_type": "stream",
     "text": [
      "WARNING:absl:Function `_wrapped_model` contains input name(s) Comment, Numerical with unsupported characters which will be renamed to comment, numerical in the SavedModel.\n",
      "WARNING:absl:Found untraced functions such as lstm_cell_layer_call_fn, lstm_cell_layer_call_and_return_conditional_losses, lstm_cell_1_layer_call_fn, lstm_cell_1_layer_call_and_return_conditional_losses, lstm_cell_layer_call_fn while saving (showing 5 of 10). These functions will not be directly callable after loading.\n"
     ]
    },
    {
     "name": "stdout",
     "output_type": "stream",
     "text": [
      "INFO:tensorflow:Assets written to: weights_1.best.hdf1/assets\n"
     ]
    },
    {
     "name": "stderr",
     "output_type": "stream",
     "text": [
      "INFO:tensorflow:Assets written to: weights_1.best.hdf1/assets\n"
     ]
    },
    {
     "name": "stdout",
     "output_type": "stream",
     "text": [
      "\n",
      "Epoch 00005: ReduceLROnPlateau reducing learning rate to 0.0006249999860301614.\n",
      "Epoch 6/50\n",
      "1382/1382 [==============================] - 174s 126ms/step - loss: 0.5261 - accuracy: 0.7400 - val_loss: 0.5449 - val_accuracy: 0.7250\n",
      "\n",
      "Epoch 00006: saving model to weights_1.best.hdf1\n"
     ]
    },
    {
     "name": "stderr",
     "output_type": "stream",
     "text": [
      "WARNING:absl:Function `_wrapped_model` contains input name(s) Comment, Numerical with unsupported characters which will be renamed to comment, numerical in the SavedModel.\n",
      "WARNING:absl:Found untraced functions such as lstm_cell_layer_call_fn, lstm_cell_layer_call_and_return_conditional_losses, lstm_cell_1_layer_call_fn, lstm_cell_1_layer_call_and_return_conditional_losses, lstm_cell_layer_call_fn while saving (showing 5 of 10). These functions will not be directly callable after loading.\n"
     ]
    },
    {
     "name": "stdout",
     "output_type": "stream",
     "text": [
      "INFO:tensorflow:Assets written to: weights_1.best.hdf1/assets\n"
     ]
    },
    {
     "name": "stderr",
     "output_type": "stream",
     "text": [
      "INFO:tensorflow:Assets written to: weights_1.best.hdf1/assets\n"
     ]
    },
    {
     "name": "stdout",
     "output_type": "stream",
     "text": [
      "Epoch 7/50\n",
      "1382/1382 [==============================] - 174s 126ms/step - loss: 0.5231 - accuracy: 0.7414 - val_loss: 0.5404 - val_accuracy: 0.7318\n",
      "\n",
      "Epoch 00007: saving model to weights_1.best.hdf1\n"
     ]
    },
    {
     "name": "stderr",
     "output_type": "stream",
     "text": [
      "WARNING:absl:Function `_wrapped_model` contains input name(s) Comment, Numerical with unsupported characters which will be renamed to comment, numerical in the SavedModel.\n",
      "WARNING:absl:Found untraced functions such as lstm_cell_layer_call_fn, lstm_cell_layer_call_and_return_conditional_losses, lstm_cell_1_layer_call_fn, lstm_cell_1_layer_call_and_return_conditional_losses, lstm_cell_layer_call_fn while saving (showing 5 of 10). These functions will not be directly callable after loading.\n"
     ]
    },
    {
     "name": "stdout",
     "output_type": "stream",
     "text": [
      "INFO:tensorflow:Assets written to: weights_1.best.hdf1/assets\n"
     ]
    },
    {
     "name": "stderr",
     "output_type": "stream",
     "text": [
      "INFO:tensorflow:Assets written to: weights_1.best.hdf1/assets\n"
     ]
    },
    {
     "name": "stdout",
     "output_type": "stream",
     "text": [
      "Epoch 8/50\n",
      "1382/1382 [==============================] - 174s 126ms/step - loss: 0.5213 - accuracy: 0.7433 - val_loss: 0.5438 - val_accuracy: 0.7328\n",
      "\n",
      "Epoch 00008: saving model to weights_1.best.hdf1\n"
     ]
    },
    {
     "name": "stderr",
     "output_type": "stream",
     "text": [
      "WARNING:absl:Function `_wrapped_model` contains input name(s) Comment, Numerical with unsupported characters which will be renamed to comment, numerical in the SavedModel.\n",
      "WARNING:absl:Found untraced functions such as lstm_cell_layer_call_fn, lstm_cell_layer_call_and_return_conditional_losses, lstm_cell_1_layer_call_fn, lstm_cell_1_layer_call_and_return_conditional_losses, lstm_cell_layer_call_fn while saving (showing 5 of 10). These functions will not be directly callable after loading.\n"
     ]
    },
    {
     "name": "stdout",
     "output_type": "stream",
     "text": [
      "INFO:tensorflow:Assets written to: weights_1.best.hdf1/assets\n"
     ]
    },
    {
     "name": "stderr",
     "output_type": "stream",
     "text": [
      "INFO:tensorflow:Assets written to: weights_1.best.hdf1/assets\n"
     ]
    },
    {
     "name": "stdout",
     "output_type": "stream",
     "text": [
      "Epoch 9/50\n",
      "1382/1382 [==============================] - 174s 126ms/step - loss: 0.5198 - accuracy: 0.7442 - val_loss: 0.6269 - val_accuracy: 0.6929\n",
      "\n",
      "Epoch 00009: saving model to weights_1.best.hdf1\n"
     ]
    },
    {
     "name": "stderr",
     "output_type": "stream",
     "text": [
      "WARNING:absl:Function `_wrapped_model` contains input name(s) Comment, Numerical with unsupported characters which will be renamed to comment, numerical in the SavedModel.\n",
      "WARNING:absl:Found untraced functions such as lstm_cell_layer_call_fn, lstm_cell_layer_call_and_return_conditional_losses, lstm_cell_1_layer_call_fn, lstm_cell_1_layer_call_and_return_conditional_losses, lstm_cell_layer_call_fn while saving (showing 5 of 10). These functions will not be directly callable after loading.\n"
     ]
    },
    {
     "name": "stdout",
     "output_type": "stream",
     "text": [
      "INFO:tensorflow:Assets written to: weights_1.best.hdf1/assets\n"
     ]
    },
    {
     "name": "stderr",
     "output_type": "stream",
     "text": [
      "INFO:tensorflow:Assets written to: weights_1.best.hdf1/assets\n"
     ]
    },
    {
     "name": "stdout",
     "output_type": "stream",
     "text": [
      "Epoch 10/50\n",
      "1382/1382 [==============================] - 175s 126ms/step - loss: 0.5183 - accuracy: 0.7458 - val_loss: 0.5427 - val_accuracy: 0.7334\n",
      "\n",
      "Epoch 00010: saving model to weights_1.best.hdf1\n"
     ]
    },
    {
     "name": "stderr",
     "output_type": "stream",
     "text": [
      "WARNING:absl:Function `_wrapped_model` contains input name(s) Comment, Numerical with unsupported characters which will be renamed to comment, numerical in the SavedModel.\n",
      "WARNING:absl:Found untraced functions such as lstm_cell_layer_call_fn, lstm_cell_layer_call_and_return_conditional_losses, lstm_cell_1_layer_call_fn, lstm_cell_1_layer_call_and_return_conditional_losses, lstm_cell_layer_call_fn while saving (showing 5 of 10). These functions will not be directly callable after loading.\n"
     ]
    },
    {
     "name": "stdout",
     "output_type": "stream",
     "text": [
      "INFO:tensorflow:Assets written to: weights_1.best.hdf1/assets\n"
     ]
    },
    {
     "name": "stderr",
     "output_type": "stream",
     "text": [
      "INFO:tensorflow:Assets written to: weights_1.best.hdf1/assets\n"
     ]
    },
    {
     "name": "stdout",
     "output_type": "stream",
     "text": [
      "Epoch 11/50\n",
      "1382/1382 [==============================] - 174s 126ms/step - loss: 0.5170 - accuracy: 0.7469 - val_loss: 0.5804 - val_accuracy: 0.7101\n",
      "\n",
      "Epoch 00011: saving model to weights_1.best.hdf1\n"
     ]
    },
    {
     "name": "stderr",
     "output_type": "stream",
     "text": [
      "WARNING:absl:Function `_wrapped_model` contains input name(s) Comment, Numerical with unsupported characters which will be renamed to comment, numerical in the SavedModel.\n",
      "WARNING:absl:Found untraced functions such as lstm_cell_layer_call_fn, lstm_cell_layer_call_and_return_conditional_losses, lstm_cell_1_layer_call_fn, lstm_cell_1_layer_call_and_return_conditional_losses, lstm_cell_layer_call_fn while saving (showing 5 of 10). These functions will not be directly callable after loading.\n"
     ]
    },
    {
     "name": "stdout",
     "output_type": "stream",
     "text": [
      "INFO:tensorflow:Assets written to: weights_1.best.hdf1/assets\n"
     ]
    },
    {
     "name": "stderr",
     "output_type": "stream",
     "text": [
      "INFO:tensorflow:Assets written to: weights_1.best.hdf1/assets\n"
     ]
    },
    {
     "name": "stdout",
     "output_type": "stream",
     "text": [
      "Epoch 12/50\n",
      "1382/1382 [==============================] - 174s 126ms/step - loss: 0.5158 - accuracy: 0.7475 - val_loss: 1.2751 - val_accuracy: 0.5361\n",
      "\n",
      "Epoch 00012: saving model to weights_1.best.hdf1\n"
     ]
    },
    {
     "name": "stderr",
     "output_type": "stream",
     "text": [
      "WARNING:absl:Function `_wrapped_model` contains input name(s) Comment, Numerical with unsupported characters which will be renamed to comment, numerical in the SavedModel.\n",
      "WARNING:absl:Found untraced functions such as lstm_cell_layer_call_fn, lstm_cell_layer_call_and_return_conditional_losses, lstm_cell_1_layer_call_fn, lstm_cell_1_layer_call_and_return_conditional_losses, lstm_cell_layer_call_fn while saving (showing 5 of 10). These functions will not be directly callable after loading.\n"
     ]
    },
    {
     "name": "stdout",
     "output_type": "stream",
     "text": [
      "INFO:tensorflow:Assets written to: weights_1.best.hdf1/assets\n"
     ]
    },
    {
     "name": "stderr",
     "output_type": "stream",
     "text": [
      "INFO:tensorflow:Assets written to: weights_1.best.hdf1/assets\n"
     ]
    },
    {
     "name": "stdout",
     "output_type": "stream",
     "text": [
      "\n",
      "Epoch 00012: ReduceLROnPlateau reducing learning rate to 0.00015624999650754035.\n",
      "Epoch 13/50\n",
      "1382/1382 [==============================] - 174s 126ms/step - loss: 0.5080 - accuracy: 0.7500 - val_loss: 0.6273 - val_accuracy: 0.6936\n",
      "\n",
      "Epoch 00013: saving model to weights_1.best.hdf1\n"
     ]
    },
    {
     "name": "stderr",
     "output_type": "stream",
     "text": [
      "WARNING:absl:Function `_wrapped_model` contains input name(s) Comment, Numerical with unsupported characters which will be renamed to comment, numerical in the SavedModel.\n",
      "WARNING:absl:Found untraced functions such as lstm_cell_layer_call_fn, lstm_cell_layer_call_and_return_conditional_losses, lstm_cell_1_layer_call_fn, lstm_cell_1_layer_call_and_return_conditional_losses, lstm_cell_layer_call_fn while saving (showing 5 of 10). These functions will not be directly callable after loading.\n"
     ]
    },
    {
     "name": "stdout",
     "output_type": "stream",
     "text": [
      "INFO:tensorflow:Assets written to: weights_1.best.hdf1/assets\n"
     ]
    },
    {
     "name": "stderr",
     "output_type": "stream",
     "text": [
      "INFO:tensorflow:Assets written to: weights_1.best.hdf1/assets\n"
     ]
    },
    {
     "name": "stdout",
     "output_type": "stream",
     "text": [
      "Epoch 14/50\n",
      "1382/1382 [==============================] - 174s 126ms/step - loss: 0.5068 - accuracy: 0.7505 - val_loss: 0.5761 - val_accuracy: 0.7172\n",
      "\n",
      "Epoch 00014: saving model to weights_1.best.hdf1\n"
     ]
    },
    {
     "name": "stderr",
     "output_type": "stream",
     "text": [
      "WARNING:absl:Function `_wrapped_model` contains input name(s) Comment, Numerical with unsupported characters which will be renamed to comment, numerical in the SavedModel.\n",
      "WARNING:absl:Found untraced functions such as lstm_cell_layer_call_fn, lstm_cell_layer_call_and_return_conditional_losses, lstm_cell_1_layer_call_fn, lstm_cell_1_layer_call_and_return_conditional_losses, lstm_cell_layer_call_fn while saving (showing 5 of 10). These functions will not be directly callable after loading.\n"
     ]
    },
    {
     "name": "stdout",
     "output_type": "stream",
     "text": [
      "INFO:tensorflow:Assets written to: weights_1.best.hdf1/assets\n"
     ]
    },
    {
     "name": "stderr",
     "output_type": "stream",
     "text": [
      "INFO:tensorflow:Assets written to: weights_1.best.hdf1/assets\n"
     ]
    },
    {
     "name": "stdout",
     "output_type": "stream",
     "text": [
      "\n",
      "Epoch 00014: ReduceLROnPlateau reducing learning rate to 3.9062499126885086e-05.\n",
      "Epoch 15/50\n",
      "1382/1382 [==============================] - 174s 126ms/step - loss: 0.5043 - accuracy: 0.7519 - val_loss: 0.5433 - val_accuracy: 0.7278\n",
      "\n",
      "Epoch 00015: saving model to weights_1.best.hdf1\n"
     ]
    },
    {
     "name": "stderr",
     "output_type": "stream",
     "text": [
      "WARNING:absl:Function `_wrapped_model` contains input name(s) Comment, Numerical with unsupported characters which will be renamed to comment, numerical in the SavedModel.\n",
      "WARNING:absl:Found untraced functions such as lstm_cell_layer_call_fn, lstm_cell_layer_call_and_return_conditional_losses, lstm_cell_1_layer_call_fn, lstm_cell_1_layer_call_and_return_conditional_losses, lstm_cell_layer_call_fn while saving (showing 5 of 10). These functions will not be directly callable after loading.\n"
     ]
    },
    {
     "name": "stdout",
     "output_type": "stream",
     "text": [
      "INFO:tensorflow:Assets written to: weights_1.best.hdf1/assets\n"
     ]
    },
    {
     "name": "stderr",
     "output_type": "stream",
     "text": [
      "INFO:tensorflow:Assets written to: weights_1.best.hdf1/assets\n"
     ]
    },
    {
     "name": "stdout",
     "output_type": "stream",
     "text": [
      "Epoch 16/50\n",
      "1382/1382 [==============================] - 174s 126ms/step - loss: 0.5027 - accuracy: 0.7520 - val_loss: 0.5391 - val_accuracy: 0.7282\n",
      "\n",
      "Epoch 00016: saving model to weights_1.best.hdf1\n"
     ]
    },
    {
     "name": "stderr",
     "output_type": "stream",
     "text": [
      "WARNING:absl:Function `_wrapped_model` contains input name(s) Comment, Numerical with unsupported characters which will be renamed to comment, numerical in the SavedModel.\n",
      "WARNING:absl:Found untraced functions such as lstm_cell_layer_call_fn, lstm_cell_layer_call_and_return_conditional_losses, lstm_cell_1_layer_call_fn, lstm_cell_1_layer_call_and_return_conditional_losses, lstm_cell_layer_call_fn while saving (showing 5 of 10). These functions will not be directly callable after loading.\n"
     ]
    },
    {
     "name": "stdout",
     "output_type": "stream",
     "text": [
      "INFO:tensorflow:Assets written to: weights_1.best.hdf1/assets\n"
     ]
    },
    {
     "name": "stderr",
     "output_type": "stream",
     "text": [
      "INFO:tensorflow:Assets written to: weights_1.best.hdf1/assets\n"
     ]
    },
    {
     "name": "stdout",
     "output_type": "stream",
     "text": [
      "\n",
      "Epoch 00016: ReduceLROnPlateau reducing learning rate to 9.765624781721272e-06.\n",
      "Epoch 17/50\n",
      "1382/1382 [==============================] - 174s 126ms/step - loss: 0.5015 - accuracy: 0.7534 - val_loss: 0.5323 - val_accuracy: 0.7335\n",
      "\n",
      "Epoch 00017: saving model to weights_1.best.hdf1\n"
     ]
    },
    {
     "name": "stderr",
     "output_type": "stream",
     "text": [
      "WARNING:absl:Function `_wrapped_model` contains input name(s) Comment, Numerical with unsupported characters which will be renamed to comment, numerical in the SavedModel.\n",
      "WARNING:absl:Found untraced functions such as lstm_cell_layer_call_fn, lstm_cell_layer_call_and_return_conditional_losses, lstm_cell_1_layer_call_fn, lstm_cell_1_layer_call_and_return_conditional_losses, lstm_cell_layer_call_fn while saving (showing 5 of 10). These functions will not be directly callable after loading.\n"
     ]
    },
    {
     "name": "stdout",
     "output_type": "stream",
     "text": [
      "INFO:tensorflow:Assets written to: weights_1.best.hdf1/assets\n"
     ]
    },
    {
     "name": "stderr",
     "output_type": "stream",
     "text": [
      "INFO:tensorflow:Assets written to: weights_1.best.hdf1/assets\n"
     ]
    },
    {
     "name": "stdout",
     "output_type": "stream",
     "text": [
      "Epoch 18/50\n",
      "1382/1382 [==============================] - 174s 126ms/step - loss: 0.5013 - accuracy: 0.7536 - val_loss: 0.5319 - val_accuracy: 0.7337\n",
      "\n",
      "Epoch 00018: saving model to weights_1.best.hdf1\n"
     ]
    },
    {
     "name": "stderr",
     "output_type": "stream",
     "text": [
      "WARNING:absl:Function `_wrapped_model` contains input name(s) Comment, Numerical with unsupported characters which will be renamed to comment, numerical in the SavedModel.\n",
      "WARNING:absl:Found untraced functions such as lstm_cell_layer_call_fn, lstm_cell_layer_call_and_return_conditional_losses, lstm_cell_1_layer_call_fn, lstm_cell_1_layer_call_and_return_conditional_losses, lstm_cell_layer_call_fn while saving (showing 5 of 10). These functions will not be directly callable after loading.\n"
     ]
    },
    {
     "name": "stdout",
     "output_type": "stream",
     "text": [
      "INFO:tensorflow:Assets written to: weights_1.best.hdf1/assets\n"
     ]
    },
    {
     "name": "stderr",
     "output_type": "stream",
     "text": [
      "INFO:tensorflow:Assets written to: weights_1.best.hdf1/assets\n"
     ]
    },
    {
     "name": "stdout",
     "output_type": "stream",
     "text": [
      "Epoch 19/50\n",
      "1382/1382 [==============================] - 174s 126ms/step - loss: 0.5011 - accuracy: 0.7531 - val_loss: 0.5351 - val_accuracy: 0.7331\n",
      "\n",
      "Epoch 00019: saving model to weights_1.best.hdf1\n"
     ]
    },
    {
     "name": "stderr",
     "output_type": "stream",
     "text": [
      "WARNING:absl:Function `_wrapped_model` contains input name(s) Comment, Numerical with unsupported characters which will be renamed to comment, numerical in the SavedModel.\n",
      "WARNING:absl:Found untraced functions such as lstm_cell_layer_call_fn, lstm_cell_layer_call_and_return_conditional_losses, lstm_cell_1_layer_call_fn, lstm_cell_1_layer_call_and_return_conditional_losses, lstm_cell_layer_call_fn while saving (showing 5 of 10). These functions will not be directly callable after loading.\n"
     ]
    },
    {
     "name": "stdout",
     "output_type": "stream",
     "text": [
      "INFO:tensorflow:Assets written to: weights_1.best.hdf1/assets\n"
     ]
    },
    {
     "name": "stderr",
     "output_type": "stream",
     "text": [
      "INFO:tensorflow:Assets written to: weights_1.best.hdf1/assets\n"
     ]
    },
    {
     "name": "stdout",
     "output_type": "stream",
     "text": [
      "Epoch 20/50\n",
      "1382/1382 [==============================] - 175s 126ms/step - loss: 0.5011 - accuracy: 0.7532 - val_loss: 0.5324 - val_accuracy: 0.7335\n",
      "\n",
      "Epoch 00020: saving model to weights_1.best.hdf1\n"
     ]
    },
    {
     "name": "stderr",
     "output_type": "stream",
     "text": [
      "WARNING:absl:Function `_wrapped_model` contains input name(s) Comment, Numerical with unsupported characters which will be renamed to comment, numerical in the SavedModel.\n",
      "WARNING:absl:Found untraced functions such as lstm_cell_layer_call_fn, lstm_cell_layer_call_and_return_conditional_losses, lstm_cell_1_layer_call_fn, lstm_cell_1_layer_call_and_return_conditional_losses, lstm_cell_layer_call_fn while saving (showing 5 of 10). These functions will not be directly callable after loading.\n"
     ]
    },
    {
     "name": "stdout",
     "output_type": "stream",
     "text": [
      "INFO:tensorflow:Assets written to: weights_1.best.hdf1/assets\n"
     ]
    },
    {
     "name": "stderr",
     "output_type": "stream",
     "text": [
      "INFO:tensorflow:Assets written to: weights_1.best.hdf1/assets\n"
     ]
    },
    {
     "name": "stdout",
     "output_type": "stream",
     "text": [
      "\n",
      "Epoch 00020: ReduceLROnPlateau reducing learning rate to 2.441406195430318e-06.\n",
      "Epoch 21/50\n",
      "1382/1382 [==============================] - 174s 126ms/step - loss: 0.5004 - accuracy: 0.7541 - val_loss: 0.5337 - val_accuracy: 0.7333\n",
      "\n",
      "Epoch 00021: saving model to weights_1.best.hdf1\n"
     ]
    },
    {
     "name": "stderr",
     "output_type": "stream",
     "text": [
      "WARNING:absl:Function `_wrapped_model` contains input name(s) Comment, Numerical with unsupported characters which will be renamed to comment, numerical in the SavedModel.\n",
      "WARNING:absl:Found untraced functions such as lstm_cell_layer_call_fn, lstm_cell_layer_call_and_return_conditional_losses, lstm_cell_1_layer_call_fn, lstm_cell_1_layer_call_and_return_conditional_losses, lstm_cell_layer_call_fn while saving (showing 5 of 10). These functions will not be directly callable after loading.\n"
     ]
    },
    {
     "name": "stdout",
     "output_type": "stream",
     "text": [
      "INFO:tensorflow:Assets written to: weights_1.best.hdf1/assets\n"
     ]
    },
    {
     "name": "stderr",
     "output_type": "stream",
     "text": [
      "INFO:tensorflow:Assets written to: weights_1.best.hdf1/assets\n"
     ]
    },
    {
     "name": "stdout",
     "output_type": "stream",
     "text": [
      "Epoch 22/50\n",
      "1382/1382 [==============================] - 175s 126ms/step - loss: 0.5005 - accuracy: 0.7535 - val_loss: 0.5333 - val_accuracy: 0.7336\n",
      "\n",
      "Epoch 00022: saving model to weights_1.best.hdf1\n"
     ]
    },
    {
     "name": "stderr",
     "output_type": "stream",
     "text": [
      "WARNING:absl:Function `_wrapped_model` contains input name(s) Comment, Numerical with unsupported characters which will be renamed to comment, numerical in the SavedModel.\n",
      "WARNING:absl:Found untraced functions such as lstm_cell_layer_call_fn, lstm_cell_layer_call_and_return_conditional_losses, lstm_cell_1_layer_call_fn, lstm_cell_1_layer_call_and_return_conditional_losses, lstm_cell_layer_call_fn while saving (showing 5 of 10). These functions will not be directly callable after loading.\n"
     ]
    },
    {
     "name": "stdout",
     "output_type": "stream",
     "text": [
      "INFO:tensorflow:Assets written to: weights_1.best.hdf1/assets\n"
     ]
    },
    {
     "name": "stderr",
     "output_type": "stream",
     "text": [
      "INFO:tensorflow:Assets written to: weights_1.best.hdf1/assets\n"
     ]
    },
    {
     "name": "stdout",
     "output_type": "stream",
     "text": [
      "\n",
      "Epoch 00022: ReduceLROnPlateau reducing learning rate to 6.103515488575795e-07.\n",
      "Epoch 23/50\n",
      "1382/1382 [==============================] - 174s 126ms/step - loss: 0.4998 - accuracy: 0.7541 - val_loss: 0.5334 - val_accuracy: 0.7334\n",
      "\n",
      "Epoch 00023: saving model to weights_1.best.hdf1\n"
     ]
    },
    {
     "name": "stderr",
     "output_type": "stream",
     "text": [
      "WARNING:absl:Function `_wrapped_model` contains input name(s) Comment, Numerical with unsupported characters which will be renamed to comment, numerical in the SavedModel.\n",
      "WARNING:absl:Found untraced functions such as lstm_cell_layer_call_fn, lstm_cell_layer_call_and_return_conditional_losses, lstm_cell_1_layer_call_fn, lstm_cell_1_layer_call_and_return_conditional_losses, lstm_cell_layer_call_fn while saving (showing 5 of 10). These functions will not be directly callable after loading.\n"
     ]
    },
    {
     "name": "stdout",
     "output_type": "stream",
     "text": [
      "INFO:tensorflow:Assets written to: weights_1.best.hdf1/assets\n"
     ]
    },
    {
     "name": "stderr",
     "output_type": "stream",
     "text": [
      "INFO:tensorflow:Assets written to: weights_1.best.hdf1/assets\n"
     ]
    },
    {
     "name": "stdout",
     "output_type": "stream",
     "text": [
      "Epoch 24/50\n",
      "1382/1382 [==============================] - 175s 126ms/step - loss: 0.4995 - accuracy: 0.7547 - val_loss: 0.5338 - val_accuracy: 0.7333\n",
      "\n",
      "Epoch 00024: saving model to weights_1.best.hdf1\n"
     ]
    },
    {
     "name": "stderr",
     "output_type": "stream",
     "text": [
      "WARNING:absl:Function `_wrapped_model` contains input name(s) Comment, Numerical with unsupported characters which will be renamed to comment, numerical in the SavedModel.\n",
      "WARNING:absl:Found untraced functions such as lstm_cell_layer_call_fn, lstm_cell_layer_call_and_return_conditional_losses, lstm_cell_1_layer_call_fn, lstm_cell_1_layer_call_and_return_conditional_losses, lstm_cell_layer_call_fn while saving (showing 5 of 10). These functions will not be directly callable after loading.\n"
     ]
    },
    {
     "name": "stdout",
     "output_type": "stream",
     "text": [
      "INFO:tensorflow:Assets written to: weights_1.best.hdf1/assets\n"
     ]
    },
    {
     "name": "stderr",
     "output_type": "stream",
     "text": [
      "INFO:tensorflow:Assets written to: weights_1.best.hdf1/assets\n"
     ]
    },
    {
     "name": "stdout",
     "output_type": "stream",
     "text": [
      "\n",
      "Epoch 00024: ReduceLROnPlateau reducing learning rate to 1.5258788721439487e-07.\n",
      "Epoch 25/50\n",
      "1382/1382 [==============================] - 174s 126ms/step - loss: 0.4997 - accuracy: 0.7540 - val_loss: 0.5337 - val_accuracy: 0.7334\n",
      "\n",
      "Epoch 00025: saving model to weights_1.best.hdf1\n"
     ]
    },
    {
     "name": "stderr",
     "output_type": "stream",
     "text": [
      "WARNING:absl:Function `_wrapped_model` contains input name(s) Comment, Numerical with unsupported characters which will be renamed to comment, numerical in the SavedModel.\n",
      "WARNING:absl:Found untraced functions such as lstm_cell_layer_call_fn, lstm_cell_layer_call_and_return_conditional_losses, lstm_cell_1_layer_call_fn, lstm_cell_1_layer_call_and_return_conditional_losses, lstm_cell_layer_call_fn while saving (showing 5 of 10). These functions will not be directly callable after loading.\n"
     ]
    },
    {
     "name": "stdout",
     "output_type": "stream",
     "text": [
      "INFO:tensorflow:Assets written to: weights_1.best.hdf1/assets\n"
     ]
    },
    {
     "name": "stderr",
     "output_type": "stream",
     "text": [
      "INFO:tensorflow:Assets written to: weights_1.best.hdf1/assets\n"
     ]
    },
    {
     "name": "stdout",
     "output_type": "stream",
     "text": [
      "Epoch 26/50\n",
      "1382/1382 [==============================] - 174s 126ms/step - loss: 0.4996 - accuracy: 0.7541 - val_loss: 0.5336 - val_accuracy: 0.7334\n",
      "\n",
      "Epoch 00026: saving model to weights_1.best.hdf1\n"
     ]
    },
    {
     "name": "stderr",
     "output_type": "stream",
     "text": [
      "WARNING:absl:Function `_wrapped_model` contains input name(s) Comment, Numerical with unsupported characters which will be renamed to comment, numerical in the SavedModel.\n",
      "WARNING:absl:Found untraced functions such as lstm_cell_layer_call_fn, lstm_cell_layer_call_and_return_conditional_losses, lstm_cell_1_layer_call_fn, lstm_cell_1_layer_call_and_return_conditional_losses, lstm_cell_layer_call_fn while saving (showing 5 of 10). These functions will not be directly callable after loading.\n"
     ]
    },
    {
     "name": "stdout",
     "output_type": "stream",
     "text": [
      "INFO:tensorflow:Assets written to: weights_1.best.hdf1/assets\n"
     ]
    },
    {
     "name": "stderr",
     "output_type": "stream",
     "text": [
      "INFO:tensorflow:Assets written to: weights_1.best.hdf1/assets\n"
     ]
    },
    {
     "name": "stdout",
     "output_type": "stream",
     "text": [
      "\n",
      "Epoch 00026: ReduceLROnPlateau reducing learning rate to 3.814697180359872e-08.\n",
      "Epoch 00026: early stopping\n"
     ]
    }
   ],
   "source": [
    "hitory=model.fit(x=X_train,y=y_train,epochs=50,batch_size=512,validation_data=(X_test, y_test),callbacks=callbacks)"
   ]
  },
  {
   "cell_type": "code",
   "execution_count": 55,
   "id": "Y_qX8riq6psE",
   "metadata": {
    "colab": {
     "base_uri": "https://localhost:8080/",
     "height": 230
    },
    "id": "Y_qX8riq6psE",
    "outputId": "fbc6f34a-bd8f-49c1-9f97-b7c2149e0cb6"
   },
   "outputs": [
    {
     "data": {
      "image/png": "[encoded data removed]",
      "text/plain": [
       "<Figure size 2160x360 with 2 Axes>"
      ]
     },
     "metadata": {
      "needs_background": "light"
     },
     "output_type": "display_data"
    }
   ],
   "source": [
    "import matplotlib.pyplot as plt\n",
    "plt.figure(figsize=(30, 5))\n",
    "plt.subplot(121)\n",
    "plt.plot(hitory.history['loss'])\n",
    "plt.plot(hitory.history['val_loss'])\n",
    "plt.title('Model LOSS')\n",
    "plt.ylabel('Loss')\n",
    "plt.xlabel('Epoch')\n",
    "plt.legend(['Train', 'Test'], loc='upper left')\n",
    "\n",
    "# Plot training & validation f1_score\n",
    "plt.subplot(122)\n",
    "plt.plot(hitory.history['accuracy'])\n",
    "plt.plot(hitory.history['val_accuracy'])\n",
    "plt.title('Model Accuracy')\n",
    "plt.ylabel('accuracy')\n",
    "plt.xlabel('Epoch')\n",
    "plt.legend(['Train', 'Test'], loc='upper left')\n",
    "plt.show()"
   ]
  },
  {
   "cell_type": "markdown",
   "id": "999a0cd0",
   "metadata": {},
   "source": [
    "# Model:-3"
   ]
  },
  {
   "cell_type": "markdown",
   "id": "N0LvE-3263lB",
   "metadata": {
    "id": "N0LvE-3263lB"
   },
   "source": [
    "(c) LSTM layer with Embedding with Fast text weight"
   ]
  },
  {
   "cell_type": "code",
   "execution_count": 44,
   "id": "bBQG7t7z63Mx",
   "metadata": {
    "id": "bBQG7t7z63Mx"
   },
   "outputs": [],
   "source": [
    "tf.keras.backend.clear_session()"
   ]
  },
  {
   "cell_type": "code",
   "execution_count": 45,
   "id": "-2iUaGaf62_1",
   "metadata": {
    "id": "-2iUaGaf62_1"
   },
   "outputs": [],
   "source": [
    "from tensorflow.keras.layers import concatenate\n",
    "def LSTM_Model_fast(comm_len,token_com,par_comm_len,token_par):\n",
    "    drop_lstm = 0.25\n",
    "    drop_dense = 0.25\n",
    "    num_lstm=150\n",
    "  \n",
    "    input_text_1=Input(shape=(comm_len,), name='Comment', dtype='float32')\n",
    "    sequence_input_1=Embedding(len(token_com.word_index) + 1,300,weights=[embedding_comm_fast],input_length=comm_len,trainable=False,dtype=tf.float32)(input_text_1)\n",
    "    sequence_input_1=LSTM(num_lstm,dropout=drop_lstm,return_sequences=True,dtype=tf.float32)(sequence_input_1)\n",
    "    sequence_input_1=Flatten()(sequence_input_1)\n",
    "    \n",
    "    input_text_2=Input(shape=(par_comm_len,),name='parent_comment', dtype='float32')\n",
    "    sequence_input_2=Embedding(len(token_par.word_index) + 1,300,weights=[embedding_P_comm_fast],input_length=par_comm_len,trainable=False,dtype=tf.float32)(input_text_2)\n",
    "    sequence_input_2=LSTM(num_lstm,dropout=drop_lstm,return_sequences=True,dtype=tf.float32)(sequence_input_2)\n",
    "    sequence_input_2=Flatten()(sequence_input_2)\n",
    "    \n",
    "    \n",
    "    input5 = Input(shape=(9,),name='Numerical', dtype='float32')\n",
    "    flatten_6 = Dense(32,activation='relu',kernel_initializer=he_normal(),kernel_regularizer=l2(0.0001),dtype=tf.float32)(input5)\n",
    "    flatten_6 = Dense(16,activation='relu',kernel_initializer=he_normal(),kernel_regularizer=l2(0.0001),dtype=tf.float32)(flatten_6)\n",
    "    concat=concatenate([sequence_input_1,sequence_input_2,flatten_6],dtype=tf.float32)\n",
    "  \n",
    "    y = Dense(128,activation='relu',kernel_initializer=he_normal(),kernel_regularizer=l2(0.01))(concat)\n",
    "    y = BatchNormalization()(y)\n",
    "    y = Dense(64,activation='relu',kernel_initializer=he_normal(),kernel_regularizer=l2(0.01))(y)\n",
    "    y = BatchNormalization()(y)\n",
    "    y = Dense(32,activation='relu',kernel_initializer=he_normal(),kernel_regularizer=l2(0.01))(y)\n",
    "  \n",
    "    final_output=Dense(2,activation='softmax')(y)\n",
    "  \n",
    "    model= Model(inputs=[input_text_1,input_text_2,input5],outputs=final_output)\n",
    "    return model"
   ]
  },
  {
   "cell_type": "code",
   "execution_count": 46,
   "id": "2fh9PRSc62qf",
   "metadata": {
    "colab": {
     "base_uri": "https://localhost:8080/"
    },
    "id": "2fh9PRSc62qf",
    "outputId": "00344834-6ce7-4467-8a13-6aaa1eeb3fe2"
   },
   "outputs": [
    {
     "name": "stdout",
     "output_type": "stream",
     "text": [
      "Model: \"model\"\n",
      "__________________________________________________________________________________________________\n",
      "Layer (type)                    Output Shape         Param #     Connected to                     \n",
      "==================================================================================================\n",
      "Comment (InputLayer)            [(None, 200)]        0                                            \n",
      "__________________________________________________________________________________________________\n",
      "parent_comment (InputLayer)     [(None, 200)]        0                                            \n",
      "__________________________________________________________________________________________________\n",
      "embedding (Embedding)           (None, 200, 300)     108750300   Comment[0][0]                    \n",
      "__________________________________________________________________________________________________\n",
      "embedding_1 (Embedding)         (None, 200, 300)     56921400    parent_comment[0][0]             \n",
      "__________________________________________________________________________________________________\n",
      "Numerical (InputLayer)          [(None, 9)]          0                                            \n",
      "__________________________________________________________________________________________________\n",
      "lstm (LSTM)                     (None, 200, 150)     270600      embedding[0][0]                  \n",
      "__________________________________________________________________________________________________\n",
      "lstm_1 (LSTM)                   (None, 200, 150)     270600      embedding_1[0][0]                \n",
      "__________________________________________________________________________________________________\n",
      "dense (Dense)                   (None, 32)           320         Numerical[0][0]                  \n",
      "__________________________________________________________________________________________________\n",
      "flatten (Flatten)               (None, 30000)        0           lstm[0][0]                       \n",
      "__________________________________________________________________________________________________\n",
      "flatten_1 (Flatten)             (None, 30000)        0           lstm_1[0][0]                     \n",
      "__________________________________________________________________________________________________\n",
      "dense_1 (Dense)                 (None, 16)           528         dense[0][0]                      \n",
      "__________________________________________________________________________________________________\n",
      "concatenate (Concatenate)       (None, 60016)        0           flatten[0][0]                    \n",
      "                                                                 flatten_1[0][0]                  \n",
      "                                                                 dense_1[0][0]                    \n",
      "__________________________________________________________________________________________________\n",
      "dense_2 (Dense)                 (None, 128)          7682176     concatenate[0][0]                \n",
      "__________________________________________________________________________________________________\n",
      "batch_normalization (BatchNorma (None, 128)          512         dense_2[0][0]                    \n",
      "__________________________________________________________________________________________________\n",
      "dense_3 (Dense)                 (None, 64)           8256        batch_normalization[0][0]        \n",
      "__________________________________________________________________________________________________\n",
      "batch_normalization_1 (BatchNor (None, 64)           256         dense_3[0][0]                    \n",
      "__________________________________________________________________________________________________\n",
      "dense_4 (Dense)                 (None, 32)           2080        batch_normalization_1[0][0]      \n",
      "__________________________________________________________________________________________________\n",
      "dense_5 (Dense)                 (None, 2)            66          dense_4[0][0]                    \n",
      "==================================================================================================\n",
      "Total params: 173,907,094\n",
      "Trainable params: 8,235,010\n",
      "Non-trainable params: 165,672,084\n",
      "__________________________________________________________________________________________________\n"
     ]
    }
   ],
   "source": [
    "model=LSTM_Model_fast(comm_len,token_com,par_comm_len,token_par)\n",
    "model.summary()"
   ]
  },
  {
   "cell_type": "code",
   "execution_count": 47,
   "id": "gAcmo_FHMZqN",
   "metadata": {
    "colab": {
     "base_uri": "https://localhost:8080/",
     "height": 980
    },
    "id": "gAcmo_FHMZqN",
    "outputId": "66f7ad6b-de22-4000-a6ec-bbfb0774820e"
   },
   "outputs": [
    {
     "data": {
      "image/png": "[encoded data removed]",
      "text/plain": [
       "<IPython.core.display.Image object>"
      ]
     },
     "execution_count": 47,
     "metadata": {},
     "output_type": "execute_result"
    }
   ],
   "source": [
    "tf.keras.utils.plot_model(\n",
    "    model, to_file='model.png', show_shapes=True, show_layer_names=True,rankdir='TB')"
   ]
  },
  {
   "cell_type": "code",
   "execution_count": 48,
   "id": "FshTZQqXMdpt",
   "metadata": {
    "id": "FshTZQqXMdpt"
   },
   "outputs": [],
   "source": [
    "import tensorflow as tf\n",
    "adam = tf.keras.optimizers.Adam(lr=0.01)\n",
    "model.compile(optimizer=adam, loss='categorical_crossentropy',metrics=['accuracy'])"
   ]
  },
  {
   "cell_type": "code",
   "execution_count": 49,
   "id": "hYGpVrnkMdjB",
   "metadata": {
    "id": "hYGpVrnkMdjB"
   },
   "outputs": [],
   "source": [
    "from tensorflow.keras.callbacks import *\n",
    "import os\n",
    "filepath=\"weights_1.best.hdf1\"\n",
    "checkpoint = ModelCheckpoint(filepath, monitor='val_accuracy', verbose=1, mode='max')\n",
    "earlystop = EarlyStopping(monitor = 'val_accuracy',  mode=\"max\",min_delta = 0, patience = 5,verbose = 1)\n",
    "reduce_lr = ReduceLROnPlateau(monitor = 'val_accuracy', factor = 0.25, patience = 2, verbose = 1)\n",
    "%reload_ext tensorboard\n",
    "import datetime\n",
    "logdir = os.path.join(\"logs_1\", datetime.datetime.now().strftime(\"%Y%m%d-%H%M%S\"))\n",
    "#tensorboard = tf.keras.callbacks.TensorBoard(logdir, histogram_freq=1)\n",
    "tensorboard = TensorBoard(log_dir=logdir, histogram_freq=0, write_graph=True, write_grads=False, write_images=False)\n",
    "callbacks = [checkpoint,reduce_lr,tensorboard,earlystop]"
   ]
  },
  {
   "cell_type": "code",
   "execution_count": 50,
   "id": "V7_nv2NfMiT-",
   "metadata": {
    "colab": {
     "base_uri": "https://localhost:8080/"
    },
    "id": "V7_nv2NfMiT-",
    "outputId": "8209d2c8-c72f-4a7a-b52b-0d54c0117364"
   },
   "outputs": [
    {
     "metadata": {
      "tags": null
     },
     "name": "stdout",
     "output_type": "stream",
     "text": [
      "Epoch 1/50\n",
      "1382/1382 [==============================] - 183s 127ms/step - loss: 1.6829 - accuracy: 0.6836 - val_loss: 3.2730 - val_accuracy: 0.5001\n",
      "\n",
      "Epoch 00001: saving model to weights_1.best.hdf1\n"
     ]
    },
    {
     "metadata": {
      "tags": null
     },
     "name": "stderr",
     "output_type": "stream",
     "text": [
      "WARNING:absl:Function `_wrapped_model` contains input name(s) Comment, Numerical with unsupported characters which will be renamed to comment, numerical in the SavedModel.\n",
      "WARNING:absl:Found untraced functions such as lstm_cell_layer_call_and_return_conditional_losses, lstm_cell_layer_call_fn, lstm_cell_1_layer_call_and_return_conditional_losses, lstm_cell_1_layer_call_fn, lstm_cell_layer_call_fn while saving (showing 5 of 10). These functions will not be directly callable after loading.\n"
     ]
    },
    {
     "metadata": {
      "tags": null
     },
     "name": "stdout",
     "output_type": "stream",
     "text": [
      "INFO:tensorflow:Assets written to: weights_1.best.hdf1/assets\n"
     ]
    },
    {
     "metadata": {
      "tags": null
     },
     "name": "stderr",
     "output_type": "stream",
     "text": [
      "INFO:tensorflow:Assets written to: weights_1.best.hdf1/assets\n"
     ]
    },
    {
     "metadata": {
      "tags": null
     },
     "name": "stdout",
     "output_type": "stream",
     "text": [
      "Epoch 2/50\n",
      "1382/1382 [==============================] - 174s 126ms/step - loss: 1.0614 - accuracy: 0.7126 - val_loss: 1.2035 - val_accuracy: 0.5793\n",
      "\n",
      "Epoch 00002: saving model to weights_1.best.hdf1\n"
     ]
    },
    {
     "metadata": {
      "tags": null
     },
     "name": "stderr",
     "output_type": "stream",
     "text": [
      "WARNING:absl:Function `_wrapped_model` contains input name(s) Comment, Numerical with unsupported characters which will be renamed to comment, numerical in the SavedModel.\n",
      "WARNING:absl:Found untraced functions such as lstm_cell_layer_call_and_return_conditional_losses, lstm_cell_layer_call_fn, lstm_cell_1_layer_call_and_return_conditional_losses, lstm_cell_1_layer_call_fn, lstm_cell_layer_call_fn while saving (showing 5 of 10). These functions will not be directly callable after loading.\n"
     ]
    },
    {
     "metadata": {
      "tags": null
     },
     "name": "stdout",
     "output_type": "stream",
     "text": [
      "INFO:tensorflow:Assets written to: weights_1.best.hdf1/assets\n"
     ]
    },
    {
     "metadata": {
      "tags": null
     },
     "name": "stderr",
     "output_type": "stream",
     "text": [
      "INFO:tensorflow:Assets written to: weights_1.best.hdf1/assets\n"
     ]
    },
    {
     "metadata": {
      "tags": null
     },
     "name": "stdout",
     "output_type": "stream",
     "text": [
      "Epoch 3/50\n",
      "1382/1382 [==============================] - 175s 127ms/step - loss: 0.7823 - accuracy: 0.7233 - val_loss: 1.0533 - val_accuracy: 0.5023\n",
      "\n",
      "Epoch 00003: saving model to weights_1.best.hdf1\n"
     ]
    },
    {
     "metadata": {
      "tags": null
     },
     "name": "stderr",
     "output_type": "stream",
     "text": [
      "WARNING:absl:Function `_wrapped_model` contains input name(s) Comment, Numerical with unsupported characters which will be renamed to comment, numerical in the SavedModel.\n",
      "WARNING:absl:Found untraced functions such as lstm_cell_layer_call_and_return_conditional_losses, lstm_cell_layer_call_fn, lstm_cell_1_layer_call_and_return_conditional_losses, lstm_cell_1_layer_call_fn, lstm_cell_layer_call_fn while saving (showing 5 of 10). These functions will not be directly callable after loading.\n"
     ]
    },
    {
     "metadata": {
      "tags": null
     },
     "name": "stdout",
     "output_type": "stream",
     "text": [
      "INFO:tensorflow:Assets written to: weights_1.best.hdf1/assets\n"
     ]
    },
    {
     "metadata": {
      "tags": null
     },
     "name": "stderr",
     "output_type": "stream",
     "text": [
      "INFO:tensorflow:Assets written to: weights_1.best.hdf1/assets\n"
     ]
    },
    {
     "metadata": {
      "tags": null
     },
     "name": "stdout",
     "output_type": "stream",
     "text": [
      "Epoch 4/50\n",
      "1382/1382 [==============================] - 175s 127ms/step - loss: 0.6893 - accuracy: 0.7292 - val_loss: 2.0318 - val_accuracy: 0.5002\n",
      "\n",
      "Epoch 00004: saving model to weights_1.best.hdf1\n"
     ]
    },
    {
     "metadata": {
      "tags": null
     },
     "name": "stderr",
     "output_type": "stream",
     "text": [
      "WARNING:absl:Function `_wrapped_model` contains input name(s) Comment, Numerical with unsupported characters which will be renamed to comment, numerical in the SavedModel.\n",
      "WARNING:absl:Found untraced functions such as lstm_cell_layer_call_and_return_conditional_losses, lstm_cell_layer_call_fn, lstm_cell_1_layer_call_and_return_conditional_losses, lstm_cell_1_layer_call_fn, lstm_cell_layer_call_fn while saving (showing 5 of 10). These functions will not be directly callable after loading.\n"
     ]
    },
    {
     "metadata": {
      "tags": null
     },
     "name": "stdout",
     "output_type": "stream",
     "text": [
      "INFO:tensorflow:Assets written to: weights_1.best.hdf1/assets\n"
     ]
    },
    {
     "metadata": {
      "tags": null
     },
     "name": "stderr",
     "output_type": "stream",
     "text": [
      "INFO:tensorflow:Assets written to: weights_1.best.hdf1/assets\n"
     ]
    },
    {
     "metadata": {
      "tags": null
     },
     "name": "stdout",
     "output_type": "stream",
     "text": [
      "\n",
      "Epoch 00004: ReduceLROnPlateau reducing learning rate to 0.0024999999441206455.\n",
      "Epoch 5/50\n",
      "1382/1382 [==============================] - 175s 127ms/step - loss: 0.5396 - accuracy: 0.7413 - val_loss: 0.5534 - val_accuracy: 0.7360\n",
      "\n",
      "Epoch 00005: saving model to weights_1.best.hdf1\n"
     ]
    },
    {
     "metadata": {
      "tags": null
     },
     "name": "stderr",
     "output_type": "stream",
     "text": [
      "WARNING:absl:Function `_wrapped_model` contains input name(s) Comment, Numerical with unsupported characters which will be renamed to comment, numerical in the SavedModel.\n",
      "WARNING:absl:Found untraced functions such as lstm_cell_layer_call_and_return_conditional_losses, lstm_cell_layer_call_fn, lstm_cell_1_layer_call_and_return_conditional_losses, lstm_cell_1_layer_call_fn, lstm_cell_layer_call_fn while saving (showing 5 of 10). These functions will not be directly callable after loading.\n"
     ]
    },
    {
     "metadata": {
      "tags": null
     },
     "name": "stdout",
     "output_type": "stream",
     "text": [
      "INFO:tensorflow:Assets written to: weights_1.best.hdf1/assets\n"
     ]
    },
    {
     "metadata": {
      "tags": null
     },
     "name": "stderr",
     "output_type": "stream",
     "text": [
      "INFO:tensorflow:Assets written to: weights_1.best.hdf1/assets\n"
     ]
    },
    {
     "metadata": {
      "tags": null
     },
     "name": "stdout",
     "output_type": "stream",
     "text": [
      "Epoch 6/50\n",
      "1382/1382 [==============================] - 175s 126ms/step - loss: 0.5325 - accuracy: 0.7450 - val_loss: 0.7760 - val_accuracy: 0.6060\n",
      "\n",
      "Epoch 00006: saving model to weights_1.best.hdf1\n"
     ]
    },
    {
     "metadata": {
      "tags": null
     },
     "name": "stderr",
     "output_type": "stream",
     "text": [
      "WARNING:absl:Function `_wrapped_model` contains input name(s) Comment, Numerical with unsupported characters which will be renamed to comment, numerical in the SavedModel.\n",
      "WARNING:absl:Found untraced functions such as lstm_cell_layer_call_and_return_conditional_losses, lstm_cell_layer_call_fn, lstm_cell_1_layer_call_and_return_conditional_losses, lstm_cell_1_layer_call_fn, lstm_cell_layer_call_fn while saving (showing 5 of 10). These functions will not be directly callable after loading.\n"
     ]
    },
    {
     "metadata": {
      "tags": null
     },
     "name": "stdout",
     "output_type": "stream",
     "text": [
      "INFO:tensorflow:Assets written to: weights_1.best.hdf1/assets\n"
     ]
    },
    {
     "metadata": {
      "tags": null
     },
     "name": "stderr",
     "output_type": "stream",
     "text": [
      "INFO:tensorflow:Assets written to: weights_1.best.hdf1/assets\n"
     ]
    },
    {
     "metadata": {
      "tags": null
     },
     "name": "stdout",
     "output_type": "stream",
     "text": [
      "Epoch 7/50\n",
      "1382/1382 [==============================] - 175s 127ms/step - loss: 0.5282 - accuracy: 0.7481 - val_loss: 0.8839 - val_accuracy: 0.5648\n",
      "\n",
      "Epoch 00007: saving model to weights_1.best.hdf1\n"
     ]
    },
    {
     "metadata": {
      "tags": null
     },
     "name": "stderr",
     "output_type": "stream",
     "text": [
      "WARNING:absl:Function `_wrapped_model` contains input name(s) Comment, Numerical with unsupported characters which will be renamed to comment, numerical in the SavedModel.\n",
      "WARNING:absl:Found untraced functions such as lstm_cell_layer_call_and_return_conditional_losses, lstm_cell_layer_call_fn, lstm_cell_1_layer_call_and_return_conditional_losses, lstm_cell_1_layer_call_fn, lstm_cell_layer_call_fn while saving (showing 5 of 10). These functions will not be directly callable after loading.\n"
     ]
    },
    {
     "metadata": {
      "tags": null
     },
     "name": "stdout",
     "output_type": "stream",
     "text": [
      "INFO:tensorflow:Assets written to: weights_1.best.hdf1/assets\n"
     ]
    },
    {
     "metadata": {
      "tags": null
     },
     "name": "stderr",
     "output_type": "stream",
     "text": [
      "INFO:tensorflow:Assets written to: weights_1.best.hdf1/assets\n"
     ]
    },
    {
     "metadata": {
      "tags": null
     },
     "name": "stdout",
     "output_type": "stream",
     "text": [
      "\n",
      "Epoch 00007: ReduceLROnPlateau reducing learning rate to 0.0006249999860301614.\n",
      "Epoch 8/50\n",
      "1382/1382 [==============================] - 174s 126ms/step - loss: 0.5047 - accuracy: 0.7541 - val_loss: 0.5330 - val_accuracy: 0.7356\n",
      "\n",
      "Epoch 00008: saving model to weights_1.best.hdf1\n"
     ]
    },
    {
     "metadata": {
      "tags": null
     },
     "name": "stderr",
     "output_type": "stream",
     "text": [
      "WARNING:absl:Function `_wrapped_model` contains input name(s) Comment, Numerical with unsupported characters which will be renamed to comment, numerical in the SavedModel.\n",
      "WARNING:absl:Found untraced functions such as lstm_cell_layer_call_and_return_conditional_losses, lstm_cell_layer_call_fn, lstm_cell_1_layer_call_and_return_conditional_losses, lstm_cell_1_layer_call_fn, lstm_cell_layer_call_fn while saving (showing 5 of 10). These functions will not be directly callable after loading.\n"
     ]
    },
    {
     "metadata": {
      "tags": null
     },
     "name": "stdout",
     "output_type": "stream",
     "text": [
      "INFO:tensorflow:Assets written to: weights_1.best.hdf1/assets\n"
     ]
    },
    {
     "metadata": {
      "tags": null
     },
     "name": "stderr",
     "output_type": "stream",
     "text": [
      "INFO:tensorflow:Assets written to: weights_1.best.hdf1/assets\n"
     ]
    },
    {
     "metadata": {
      "tags": null
     },
     "name": "stdout",
     "output_type": "stream",
     "text": [
      "Epoch 9/50\n",
      "1382/1382 [==============================] - 175s 127ms/step - loss: 0.5025 - accuracy: 0.7547 - val_loss: 0.5304 - val_accuracy: 0.7369\n",
      "\n",
      "Epoch 00009: saving model to weights_1.best.hdf1\n"
     ]
    },
    {
     "metadata": {
      "tags": null
     },
     "name": "stderr",
     "output_type": "stream",
     "text": [
      "WARNING:absl:Function `_wrapped_model` contains input name(s) Comment, Numerical with unsupported characters which will be renamed to comment, numerical in the SavedModel.\n",
      "WARNING:absl:Found untraced functions such as lstm_cell_layer_call_and_return_conditional_losses, lstm_cell_layer_call_fn, lstm_cell_1_layer_call_and_return_conditional_losses, lstm_cell_1_layer_call_fn, lstm_cell_layer_call_fn while saving (showing 5 of 10). These functions will not be directly callable after loading.\n"
     ]
    },
    {
     "metadata": {
      "tags": null
     },
     "name": "stdout",
     "output_type": "stream",
     "text": [
      "INFO:tensorflow:Assets written to: weights_1.best.hdf1/assets\n"
     ]
    },
    {
     "metadata": {
      "tags": null
     },
     "name": "stderr",
     "output_type": "stream",
     "text": [
      "INFO:tensorflow:Assets written to: weights_1.best.hdf1/assets\n"
     ]
    },
    {
     "metadata": {
      "tags": null
     },
     "name": "stdout",
     "output_type": "stream",
     "text": [
      "Epoch 10/50\n",
      "1382/1382 [==============================] - 175s 126ms/step - loss: 0.5007 - accuracy: 0.7562 - val_loss: 0.5863 - val_accuracy: 0.7066\n",
      "\n",
      "Epoch 00010: saving model to weights_1.best.hdf1\n"
     ]
    },
    {
     "metadata": {
      "tags": null
     },
     "name": "stderr",
     "output_type": "stream",
     "text": [
      "WARNING:absl:Function `_wrapped_model` contains input name(s) Comment, Numerical with unsupported characters which will be renamed to comment, numerical in the SavedModel.\n",
      "WARNING:absl:Found untraced functions such as lstm_cell_layer_call_and_return_conditional_losses, lstm_cell_layer_call_fn, lstm_cell_1_layer_call_and_return_conditional_losses, lstm_cell_1_layer_call_fn, lstm_cell_layer_call_fn while saving (showing 5 of 10). These functions will not be directly callable after loading.\n"
     ]
    },
    {
     "metadata": {
      "tags": null
     },
     "name": "stdout",
     "output_type": "stream",
     "text": [
      "INFO:tensorflow:Assets written to: weights_1.best.hdf1/assets\n"
     ]
    },
    {
     "metadata": {
      "tags": null
     },
     "name": "stderr",
     "output_type": "stream",
     "text": [
      "INFO:tensorflow:Assets written to: weights_1.best.hdf1/assets\n"
     ]
    },
    {
     "metadata": {
      "tags": null
     },
     "name": "stdout",
     "output_type": "stream",
     "text": [
      "Epoch 11/50\n",
      "1382/1382 [==============================] - 175s 127ms/step - loss: 0.4988 - accuracy: 0.7569 - val_loss: 0.5264 - val_accuracy: 0.7396\n",
      "\n",
      "Epoch 00011: saving model to weights_1.best.hdf1\n"
     ]
    },
    {
     "metadata": {
      "tags": null
     },
     "name": "stderr",
     "output_type": "stream",
     "text": [
      "WARNING:absl:Function `_wrapped_model` contains input name(s) Comment, Numerical with unsupported characters which will be renamed to comment, numerical in the SavedModel.\n",
      "WARNING:absl:Found untraced functions such as lstm_cell_layer_call_and_return_conditional_losses, lstm_cell_layer_call_fn, lstm_cell_1_layer_call_and_return_conditional_losses, lstm_cell_1_layer_call_fn, lstm_cell_layer_call_fn while saving (showing 5 of 10). These functions will not be directly callable after loading.\n"
     ]
    },
    {
     "metadata": {
      "tags": null
     },
     "name": "stdout",
     "output_type": "stream",
     "text": [
      "INFO:tensorflow:Assets written to: weights_1.best.hdf1/assets\n"
     ]
    },
    {
     "metadata": {
      "tags": null
     },
     "name": "stderr",
     "output_type": "stream",
     "text": [
      "INFO:tensorflow:Assets written to: weights_1.best.hdf1/assets\n"
     ]
    },
    {
     "metadata": {
      "tags": null
     },
     "name": "stdout",
     "output_type": "stream",
     "text": [
      "Epoch 12/50\n",
      "1382/1382 [==============================] - 175s 127ms/step - loss: 0.4976 - accuracy: 0.7586 - val_loss: 0.5282 - val_accuracy: 0.7395\n",
      "\n",
      "Epoch 00012: saving model to weights_1.best.hdf1\n"
     ]
    },
    {
     "metadata": {
      "tags": null
     },
     "name": "stderr",
     "output_type": "stream",
     "text": [
      "WARNING:absl:Function `_wrapped_model` contains input name(s) Comment, Numerical with unsupported characters which will be renamed to comment, numerical in the SavedModel.\n",
      "WARNING:absl:Found untraced functions such as lstm_cell_layer_call_and_return_conditional_losses, lstm_cell_layer_call_fn, lstm_cell_1_layer_call_and_return_conditional_losses, lstm_cell_1_layer_call_fn, lstm_cell_layer_call_fn while saving (showing 5 of 10). These functions will not be directly callable after loading.\n"
     ]
    },
    {
     "metadata": {
      "tags": null
     },
     "name": "stdout",
     "output_type": "stream",
     "text": [
      "INFO:tensorflow:Assets written to: weights_1.best.hdf1/assets\n"
     ]
    },
    {
     "metadata": {
      "tags": null
     },
     "name": "stderr",
     "output_type": "stream",
     "text": [
      "INFO:tensorflow:Assets written to: weights_1.best.hdf1/assets\n"
     ]
    },
    {
     "metadata": {
      "tags": null
     },
     "name": "stdout",
     "output_type": "stream",
     "text": [
      "Epoch 13/50\n",
      "1382/1382 [==============================] - 175s 127ms/step - loss: 0.4966 - accuracy: 0.7589 - val_loss: 0.5507 - val_accuracy: 0.7331\n",
      "\n",
      "Epoch 00013: saving model to weights_1.best.hdf1\n"
     ]
    },
    {
     "metadata": {
      "tags": null
     },
     "name": "stderr",
     "output_type": "stream",
     "text": [
      "WARNING:absl:Function `_wrapped_model` contains input name(s) Comment, Numerical with unsupported characters which will be renamed to comment, numerical in the SavedModel.\n",
      "WARNING:absl:Found untraced functions such as lstm_cell_layer_call_and_return_conditional_losses, lstm_cell_layer_call_fn, lstm_cell_1_layer_call_and_return_conditional_losses, lstm_cell_1_layer_call_fn, lstm_cell_layer_call_fn while saving (showing 5 of 10). These functions will not be directly callable after loading.\n"
     ]
    },
    {
     "metadata": {
      "tags": null
     },
     "name": "stdout",
     "output_type": "stream",
     "text": [
      "INFO:tensorflow:Assets written to: weights_1.best.hdf1/assets\n"
     ]
    },
    {
     "metadata": {
      "tags": null
     },
     "name": "stderr",
     "output_type": "stream",
     "text": [
      "INFO:tensorflow:Assets written to: weights_1.best.hdf1/assets\n"
     ]
    },
    {
     "metadata": {
      "tags": null
     },
     "name": "stdout",
     "output_type": "stream",
     "text": [
      "\n",
      "Epoch 00013: ReduceLROnPlateau reducing learning rate to 0.00015624999650754035.\n",
      "Epoch 14/50\n",
      "1382/1382 [==============================] - 175s 127ms/step - loss: 0.4897 - accuracy: 0.7614 - val_loss: 0.5440 - val_accuracy: 0.7292\n",
      "\n",
      "Epoch 00014: saving model to weights_1.best.hdf1\n"
     ]
    },
    {
     "metadata": {
      "tags": null
     },
     "name": "stderr",
     "output_type": "stream",
     "text": [
      "WARNING:absl:Function `_wrapped_model` contains input name(s) Comment, Numerical with unsupported characters which will be renamed to comment, numerical in the SavedModel.\n",
      "WARNING:absl:Found untraced functions such as lstm_cell_layer_call_and_return_conditional_losses, lstm_cell_layer_call_fn, lstm_cell_1_layer_call_and_return_conditional_losses, lstm_cell_1_layer_call_fn, lstm_cell_layer_call_fn while saving (showing 5 of 10). These functions will not be directly callable after loading.\n"
     ]
    },
    {
     "metadata": {
      "tags": null
     },
     "name": "stdout",
     "output_type": "stream",
     "text": [
      "INFO:tensorflow:Assets written to: weights_1.best.hdf1/assets\n"
     ]
    },
    {
     "metadata": {
      "tags": null
     },
     "name": "stderr",
     "output_type": "stream",
     "text": [
      "INFO:tensorflow:Assets written to: weights_1.best.hdf1/assets\n"
     ]
    },
    {
     "metadata": {
      "tags": null
     },
     "name": "stdout",
     "output_type": "stream",
     "text": [
      "Epoch 15/50\n",
      "1382/1382 [==============================] - 175s 127ms/step - loss: 0.4891 - accuracy: 0.7623 - val_loss: 0.5271 - val_accuracy: 0.7389\n",
      "\n",
      "Epoch 00015: saving model to weights_1.best.hdf1\n"
     ]
    },
    {
     "metadata": {
      "tags": null
     },
     "name": "stderr",
     "output_type": "stream",
     "text": [
      "WARNING:absl:Function `_wrapped_model` contains input name(s) Comment, Numerical with unsupported characters which will be renamed to comment, numerical in the SavedModel.\n",
      "WARNING:absl:Found untraced functions such as lstm_cell_layer_call_and_return_conditional_losses, lstm_cell_layer_call_fn, lstm_cell_1_layer_call_and_return_conditional_losses, lstm_cell_1_layer_call_fn, lstm_cell_layer_call_fn while saving (showing 5 of 10). These functions will not be directly callable after loading.\n"
     ]
    },
    {
     "metadata": {
      "tags": null
     },
     "name": "stdout",
     "output_type": "stream",
     "text": [
      "INFO:tensorflow:Assets written to: weights_1.best.hdf1/assets\n"
     ]
    },
    {
     "metadata": {
      "tags": null
     },
     "name": "stderr",
     "output_type": "stream",
     "text": [
      "INFO:tensorflow:Assets written to: weights_1.best.hdf1/assets\n"
     ]
    },
    {
     "name": "stdout",
     "output_type": "stream",
     "text": [
      "\n",
      "Epoch 00015: ReduceLROnPlateau reducing learning rate to 3.9062499126885086e-05.\n",
      "Epoch 16/50\n",
      "1382/1382 [==============================] - 175s 127ms/step - loss: 0.4864 - accuracy: 0.7634 - val_loss: 0.5234 - val_accuracy: 0.7399\n",
      "\n",
      "Epoch 00016: saving model to weights_1.best.hdf1\n"
     ]
    },
    {
     "name": "stderr",
     "output_type": "stream",
     "text": [
      "WARNING:absl:Function `_wrapped_model` contains input name(s) Comment, Numerical with unsupported characters which will be renamed to comment, numerical in the SavedModel.\n",
      "WARNING:absl:Found untraced functions such as lstm_cell_layer_call_and_return_conditional_losses, lstm_cell_layer_call_fn, lstm_cell_1_layer_call_and_return_conditional_losses, lstm_cell_1_layer_call_fn, lstm_cell_layer_call_fn while saving (showing 5 of 10). These functions will not be directly callable after loading.\n"
     ]
    },
    {
     "name": "stdout",
     "output_type": "stream",
     "text": [
      "INFO:tensorflow:Assets written to: weights_1.best.hdf1/assets\n"
     ]
    },
    {
     "name": "stderr",
     "output_type": "stream",
     "text": [
      "INFO:tensorflow:Assets written to: weights_1.best.hdf1/assets\n"
     ]
    },
    {
     "name": "stdout",
     "output_type": "stream",
     "text": [
      "Epoch 17/50\n",
      "1382/1382 [==============================] - 175s 127ms/step - loss: 0.4859 - accuracy: 0.7635 - val_loss: 0.5264 - val_accuracy: 0.7388\n",
      "\n",
      "Epoch 00017: saving model to weights_1.best.hdf1\n"
     ]
    },
    {
     "name": "stderr",
     "output_type": "stream",
     "text": [
      "WARNING:absl:Function `_wrapped_model` contains input name(s) Comment, Numerical with unsupported characters which will be renamed to comment, numerical in the SavedModel.\n",
      "WARNING:absl:Found untraced functions such as lstm_cell_layer_call_and_return_conditional_losses, lstm_cell_layer_call_fn, lstm_cell_1_layer_call_and_return_conditional_losses, lstm_cell_1_layer_call_fn, lstm_cell_layer_call_fn while saving (showing 5 of 10). These functions will not be directly callable after loading.\n"
     ]
    },
    {
     "name": "stdout",
     "output_type": "stream",
     "text": [
      "INFO:tensorflow:Assets written to: weights_1.best.hdf1/assets\n"
     ]
    },
    {
     "name": "stderr",
     "output_type": "stream",
     "text": [
      "INFO:tensorflow:Assets written to: weights_1.best.hdf1/assets\n"
     ]
    },
    {
     "name": "stdout",
     "output_type": "stream",
     "text": [
      "Epoch 18/50\n",
      "1382/1382 [==============================] - 175s 126ms/step - loss: 0.4858 - accuracy: 0.7635 - val_loss: 0.5251 - val_accuracy: 0.7387\n",
      "\n",
      "Epoch 00018: saving model to weights_1.best.hdf1\n"
     ]
    },
    {
     "name": "stderr",
     "output_type": "stream",
     "text": [
      "WARNING:absl:Function `_wrapped_model` contains input name(s) Comment, Numerical with unsupported characters which will be renamed to comment, numerical in the SavedModel.\n",
      "WARNING:absl:Found untraced functions such as lstm_cell_layer_call_and_return_conditional_losses, lstm_cell_layer_call_fn, lstm_cell_1_layer_call_and_return_conditional_losses, lstm_cell_1_layer_call_fn, lstm_cell_layer_call_fn while saving (showing 5 of 10). These functions will not be directly callable after loading.\n"
     ]
    },
    {
     "name": "stdout",
     "output_type": "stream",
     "text": [
      "INFO:tensorflow:Assets written to: weights_1.best.hdf1/assets\n"
     ]
    },
    {
     "name": "stderr",
     "output_type": "stream",
     "text": [
      "INFO:tensorflow:Assets written to: weights_1.best.hdf1/assets\n"
     ]
    },
    {
     "name": "stdout",
     "output_type": "stream",
     "text": [
      "\n",
      "Epoch 00018: ReduceLROnPlateau reducing learning rate to 9.765624781721272e-06.\n",
      "Epoch 19/50\n",
      "1382/1382 [==============================] - 175s 127ms/step - loss: 0.4840 - accuracy: 0.7647 - val_loss: 0.5313 - val_accuracy: 0.7377\n",
      "\n",
      "Epoch 00019: saving model to weights_1.best.hdf1\n"
     ]
    },
    {
     "name": "stderr",
     "output_type": "stream",
     "text": [
      "WARNING:absl:Function `_wrapped_model` contains input name(s) Comment, Numerical with unsupported characters which will be renamed to comment, numerical in the SavedModel.\n",
      "WARNING:absl:Found untraced functions such as lstm_cell_layer_call_and_return_conditional_losses, lstm_cell_layer_call_fn, lstm_cell_1_layer_call_and_return_conditional_losses, lstm_cell_1_layer_call_fn, lstm_cell_layer_call_fn while saving (showing 5 of 10). These functions will not be directly callable after loading.\n"
     ]
    },
    {
     "name": "stdout",
     "output_type": "stream",
     "text": [
      "INFO:tensorflow:Assets written to: weights_1.best.hdf1/assets\n"
     ]
    },
    {
     "name": "stderr",
     "output_type": "stream",
     "text": [
      "INFO:tensorflow:Assets written to: weights_1.best.hdf1/assets\n"
     ]
    },
    {
     "name": "stdout",
     "output_type": "stream",
     "text": [
      "Epoch 20/50\n",
      "1382/1382 [==============================] - 175s 126ms/step - loss: 0.4834 - accuracy: 0.7651 - val_loss: 0.5296 - val_accuracy: 0.7374\n",
      "\n",
      "Epoch 00020: saving model to weights_1.best.hdf1\n"
     ]
    },
    {
     "name": "stderr",
     "output_type": "stream",
     "text": [
      "WARNING:absl:Function `_wrapped_model` contains input name(s) Comment, Numerical with unsupported characters which will be renamed to comment, numerical in the SavedModel.\n",
      "WARNING:absl:Found untraced functions such as lstm_cell_layer_call_and_return_conditional_losses, lstm_cell_layer_call_fn, lstm_cell_1_layer_call_and_return_conditional_losses, lstm_cell_1_layer_call_fn, lstm_cell_layer_call_fn while saving (showing 5 of 10). These functions will not be directly callable after loading.\n"
     ]
    },
    {
     "name": "stdout",
     "output_type": "stream",
     "text": [
      "INFO:tensorflow:Assets written to: weights_1.best.hdf1/assets\n"
     ]
    },
    {
     "name": "stderr",
     "output_type": "stream",
     "text": [
      "INFO:tensorflow:Assets written to: weights_1.best.hdf1/assets\n"
     ]
    },
    {
     "name": "stdout",
     "output_type": "stream",
     "text": [
      "\n",
      "Epoch 00020: ReduceLROnPlateau reducing learning rate to 2.441406195430318e-06.\n",
      "Epoch 21/50\n",
      "1382/1382 [==============================] - 175s 126ms/step - loss: 0.4830 - accuracy: 0.7649 - val_loss: 0.5286 - val_accuracy: 0.7383\n",
      "\n",
      "Epoch 00021: saving model to weights_1.best.hdf1\n"
     ]
    },
    {
     "name": "stderr",
     "output_type": "stream",
     "text": [
      "WARNING:absl:Function `_wrapped_model` contains input name(s) Comment, Numerical with unsupported characters which will be renamed to comment, numerical in the SavedModel.\n",
      "WARNING:absl:Found untraced functions such as lstm_cell_layer_call_and_return_conditional_losses, lstm_cell_layer_call_fn, lstm_cell_1_layer_call_and_return_conditional_losses, lstm_cell_1_layer_call_fn, lstm_cell_layer_call_fn while saving (showing 5 of 10). These functions will not be directly callable after loading.\n"
     ]
    },
    {
     "name": "stdout",
     "output_type": "stream",
     "text": [
      "INFO:tensorflow:Assets written to: weights_1.best.hdf1/assets\n"
     ]
    },
    {
     "name": "stderr",
     "output_type": "stream",
     "text": [
      "INFO:tensorflow:Assets written to: weights_1.best.hdf1/assets\n"
     ]
    },
    {
     "name": "stdout",
     "output_type": "stream",
     "text": [
      "Epoch 00021: early stopping\n"
     ]
    }
   ],
   "source": [
    "hitory=model.fit(x=X_train,y=y_train,epochs=50,batch_size=512,validation_data=(X_test, y_test),callbacks=callbacks)"
   ]
  },
  {
   "cell_type": "code",
   "execution_count": 51,
   "id": "sNhmycCH9oE1",
   "metadata": {
    "colab": {
     "base_uri": "https://localhost:8080/",
     "height": 228
    },
    "id": "sNhmycCH9oE1",
    "outputId": "508f7001-ce86-4191-81e6-685ca432bfb6"
   },
   "outputs": [
    {
     "data": {
      "image/png": "[encoded data removed]",
      "text/plain": [
       "<Figure size 2160x360 with 2 Axes>"
      ]
     },
     "metadata": {
      "needs_background": "light"
     },
     "output_type": "display_data"
    }
   ],
   "source": [
    "import matplotlib.pyplot as plt\n",
    "plt.figure(figsize=(30, 5))\n",
    "plt.subplot(121)\n",
    "plt.plot(hitory.history['loss'])\n",
    "plt.plot(hitory.history['val_loss'])\n",
    "plt.title('Model LOSS')\n",
    "plt.ylabel('Loss')\n",
    "plt.xlabel('Epoch')\n",
    "plt.legend(['Train', 'Test'], loc='upper left')\n",
    "\n",
    "# Plot training & validation f1_score\n",
    "plt.subplot(122)\n",
    "plt.plot(hitory.history['accuracy'])\n",
    "plt.plot(hitory.history['val_accuracy'])\n",
    "plt.title('Model Accuracy')\n",
    "plt.ylabel('accuracy')\n",
    "plt.xlabel('Epoch')\n",
    "plt.legend(['Train', 'Test'], loc='upper left')\n",
    "plt.show()"
   ]
  }
 ],
 "metadata": {
  "accelerator": "GPU",
  "colab": {
   "machine_shape": "hm",
   "name": "Deep_lerning_LSTM.ipynb",
   "provenance": []
  },
  "kernelspec": {
   "display_name": "Python 3.8 (tensorflow)",
   "language": "python",
   "name": "tensorflow"
  },
  "language_info": {
   "codemirror_mode": {
    "name": "ipython",
    "version": 3
   },
   "file_extension": ".py",
   "mimetype": "text/x-python",
   "name": "python",
   "nbconvert_exporter": "python",
   "pygments_lexer": "ipython3",
   "version": "3.8.10"
  }
 },
 "nbformat": 4,
 "nbformat_minor": 5
}
